{
  "metadata": {
    "kernelspec": {
      "name": "javascript",
      "display_name": "JavaScript (Web Worker)",
      "language": "javascript"
    },
    "language_info": {
      "codemirror_mode": {
        "name": "javascript"
      },
      "file_extension": ".js",
      "mimetype": "text/javascript",
      "name": "javascript",
      "nbconvert_exporter": "javascript",
      "pygments_lexer": "javascript",
      "version": "es2017"
    }
  },
  "nbformat_minor": 4,
  "nbformat": 4,
  "cells": [
    {
      "cell_type": "markdown",
      "source": "# 1. 자료구조와 알고리즘",
      "metadata": {}
    },
    {
      "cell_type": "markdown",
      "source": "* 자료구조(자료를 어떻게 담는가?): 어래이, 오브젝트, 맵, 셋, 싱글 링크드리스트, 더블링크드리스트, 트리, 해쉬 등\n* 알고리즘(문제를 어떻게 풀 것인가?): 에라토스테네스의 체, 그리디 알고리즘, 투 포인터, 슬라이딩 윈도우 등 \n* 자료구조 + 알고리즘 => 문제 풀이 능력을 보겠다! => 코딩테스트\n    * 왜 기업에서 이 두가지를 볼까요? 자료구조와 알고리즘이 프로그래밍을 하는데 필수적인 요소인 것도 있지만 이력서를 하나씩 보기에는 시간이 너무 많이 걸리고, 특히 알고리즘을 잘 아는 분 중 러닝커브가 긴 분이 많이 없습니다. \n* 추천 서적\n    * 학문적 접근 : The Art of Computer Programming(도널드 커누스)\n    * 코딩테스트 접근 : 파이썬 알고리즘 인터뷰(박상길), 코딩 테스트 합격자 되기 : 자바스크립트 편\n    * 기타 : 파이썬 자료구조와 알고리즘(중학교 학생 가르칠 때 사용), 그림으로 배우는 알고리즘(코드 없고 그림만 있습니다), 알고리즘 산책(역사적인 알고리즘을 쭉 훑어봅니다. 수학적인 내용이 많고 코드는 C++로 되어 있으나 보는데 큰 무리는 없습니다.)\n* 요즘은 Claude, ChatGPT가 이러한 책의 역할을 하고 있습니다. 그래서 https://100.jsalgo.co.kr/, https://jsalgo.co.kr/, https://to.jsalgo.co.kr/ 와 같은 곳에서 문제를 풀어보시면서 자료구조와 알고리즘을 함께 설명해달라고 ChatGPT에게 요청하시면서 공부하시는 방법이 더 효율적입니다.",
      "metadata": {}
    },
    {
      "cell_type": "markdown",
      "source": "## 1.1 코테 전 준비사항",
      "metadata": {}
    },
    {
      "cell_type": "markdown",
      "source": "0. 회사와 경향 분석!\n    * 코테 보는 회사와 회사 유형을 정리하세요.\n    * [코딩테스트 경향 정리](https://paullabworkspace.notion.site/446d03bf38df42e19d9fedcf5ceaec61?pvs=4) 해두었습니다.\n    * 분석 서비스를 통해 [출제 경향](https://algoview.co.kr/)도 한 번 정리하세요.\n    * [모니토](https://monito.io/) 서비스를 통해 시각 분석\n    * 휴대폰을 통해 상하 좌우 스캔 후 시험\n    * A4 용지 1장, 앞 뒤 스캔\n1. 플렛폼에 익숙해지자! (프로그래머스, 구름EDU 등)\n    * 사용 가능 라이브러리 미리 확인 등\n    * 순열과 조합, 완전탐색은 문제가 나오면 JavaScript에는 불리합니다. Python에서  itertools를 사용하면 쉽게 풀이가 가능하기 때문입니다. 그래서 이런 이유 때문에 Python을 코딩테스트를 위해 배우시는 분들이 있습니다.\n2. 언어 선택(속도 : C++, 풀이 : Python)\n    * 요즘은 Lv이 높은 경우가 아니면 속도 체크를 거의 하지 않는 추세입니다.\n    * 다른 언어가 메인이셔도 Python 추천 드립니다. 코딩테스트만을 위해 Python을 새로 공부하시는 분들이 많습니다.\n3. 코드 스니펫(트리, 검색, 최단경로(예를 들어 다익스트라), 직접 제작한 함수 등), Cheatsheet, A4 용지 준비\n    * 코드 스니펫을 만들어둔 레파지토리 fork 해서 공부하세요. - [제주코딩베이스캠프](https://github.com/paullabkorea/programmersLv0)\n    * 감독관이 없는 경우 [스니펫](https://github.com/paullabkorea/programmersLv0/blob/main/Solution.md)에서 Ctrl + F해서 문제를 풉니다. 다만 요즘은 감독관이 없거나, 스니펫을 활용할 수 있는 시험이 많지는 않습니다. 그래도 스니펫을 준비하셔서 시험 전 훑어보는 용도로 사용하세요.\n    * 시험 전 스니펫을 만들지 말고 하루 한 문제씩(저도 매일 한 문제씩 풉니다.) 또는 버겁다면 일주일에 2 ~ 3문제.\n4. 유용한 소스코드는 미리미리 정리를 해두세요.\n    * 유용한 알고리즘 GitHub repo를 검색하고 fork를 떠두는 것도 좋습니다.\n    * 면접질문 repo등 다양한 목적에 repo가 있습니다.\n5. 기억해두자! 예외처리!\n    * 문제를 많이 풀어보셔야 어떤 예외를 처리할지 알 수 있습니다.\n    * 예외처리와 테스트 케이스중 통과 못하는 케이스들은 문제를 많이 풀어보셔야 합니다.\n    * 길이가 0이거나 0으로 나누거나 등\n7. 속도개선\n    * 대부분 class로 구현해서 풀이해야 속도가 개선되게 하는 문제\n    * 재귀는 느립니다. 최후의 수단으로 사용하세요.\n8. ChatGPT, Copilot 활용\n    * 감독관이 없고 검색이 가능하다면 Claude, ChatGPT를 활용하세요.(Claude, ChatGPT가 활용 불가인 코테도 있습니다. 다만 활용 불가인데 검색이 가능할 경우 형평성 문제가 생겨요.)\n    * Claude, ChatGPT 나오고 화이트보드 테스트가 많아졌습니다.",
      "metadata": {}
    },
    {
      "cell_type": "markdown",
      "source": "## 1.2 문제 유형과 출제 방식\n* 5 ~ 6시간, 6 ~ 7문제\n* 30분씩 4문제, 2시간씩 2문제\n* 2 ~ 3시간, 3 ~ 5문제\n* 30분씩 3 ~ 4문제, 변별력 1문제\n* 단기 공부로 붙을 수 있는 코테와 붙기 힘든 코테 경향 정리\n* 문제 유형 분석 관련 글\n    * [문제 유형 분석](https://www.hanbit.co.kr/media/channel/view.html?cms_code=CMS4385594264)\n    * [언어 유불리 여부](https://www.hanbit.co.kr/media/channel/view.html?cms_code=CMS9145550324&cate_cd=)\n    * [코딩 테스트에 가장 많이 출제 되는 알고리즘](https://www.hanbit.co.kr/media/channel/view.html?cms_code=CMS7793635735&cate_cd=)\n        * 요구사항 구현 알고리즘(33%)\n        * 그리디 알고리즘(20%)\n        * 너비우선탐색, 깊이우선탐색(20%)\n        * 정렬(8%): 최댓값, 최솟값, 최소길이 등 다양하게 응용이 되기 때문에 더 많이 나옵니다.\n        * 다이나믹 프로그래밍, 최단경로, 이진 탐색 등\n* 전체 문제 유형\n    * 알고리즘\n        * 정렬\n        * 이진 검색\n        * 비트 연산\n        * 슬라이딩 윈도우, 페이지 교체\n        * 분할 정복\n            * 그리디 알고리즘\n            * 다이나믹 프로그래밍\n    * 자료구조\n        * 선형\n            * 스택과 큐, 데크\n            * 연결리스트, 해시 테이블\n        * 비선형\n            * 그래프(최단경로) - 다익스트라가 나오면 매우 어려운 문제\n            * 트리\n                * 힙\n                * 트라이",
      "metadata": {}
    },
    {
      "cell_type": "code",
      "source": "// https://100.jsalgo.co.kr/?page=1\n\nfunction solution(data){\n    return data.filter((x) => x % 2).reduce((a, c) => a + c, 0)\n}\n\nsolution([1, 2, 3, 4, 5]) === 9",
      "metadata": {
        "trusted": true
      },
      "outputs": [
        {
          "execution_count": 2,
          "output_type": "execute_result",
          "data": {
            "text/plain": "true"
          },
          "metadata": {}
        }
      ],
      "execution_count": 2
    },
    {
      "cell_type": "code",
      "source": "// https://100.jsalgo.co.kr/?page=3\n\nfunction solution(data){\n    return data.filter((x) => x % 3 !==0 && x % 5 !==0).reduce((a, c) => a + c, 0)\n}\n\nsolution([1, 2, 3, 4, 5]) === 7",
      "metadata": {
        "trusted": true
      },
      "outputs": [
        {
          "execution_count": 3,
          "output_type": "execute_result",
          "data": {
            "text/plain": "true"
          },
          "metadata": {}
        }
      ],
      "execution_count": 3
    },
    {
      "cell_type": "code",
      "source": "// https://100.pyalgo.co.kr/?page=4\n\nfunction solution(data){\n    s = ['쿠키 3개', '쿠키 2개', '쿠키 5개'].map((x) => parseInt(x.match(/10|[0-9]/g)[0]))\n    return s[0] * 1 + s[1] * 2 + s[2] * 3\n}\n\nsolution(['쿠키 3개', '쿠키 2개', '쿠키 5개']) == 22",
      "metadata": {
        "trusted": true
      },
      "outputs": [
        {
          "execution_count": 5,
          "output_type": "execute_result",
          "data": {
            "text/plain": "true"
          },
          "metadata": {}
        }
      ],
      "execution_count": 7
    },
    {
      "cell_type": "code",
      "source": "// const s = '쿠키 9개'\n// s.match(/10|[0-9]/g)\n['쿠키 3개', '쿠키 2개', '쿠키 5개'].map((x) => x.match(/10|[0-9]/g))",
      "metadata": {
        "trusted": true
      },
      "outputs": [
        {
          "execution_count": 6,
          "output_type": "execute_result",
          "data": {
            "text/plain": "[ [ '3' ], [ '2' ], [ '5' ] ]"
          },
          "metadata": {}
        }
      ],
      "execution_count": 9
    },
    {
      "cell_type": "code",
      "source": "// https://100.jsalgo.co.kr/?page=5\n\nfunction solution(data){\n    return data.join('').split('1').length - 1\n}\n\nsolution([10, 21, 31, 101])",
      "metadata": {
        "trusted": true
      },
      "outputs": [
        {
          "execution_count": 9,
          "output_type": "execute_result",
          "data": {
            "text/plain": "5"
          },
          "metadata": {}
        }
      ],
      "execution_count": 12
    },
    {
      "cell_type": "code",
      "source": "[10, 21, 31, 101].join('')",
      "metadata": {
        "trusted": true
      },
      "outputs": [
        {
          "execution_count": 7,
          "output_type": "execute_result",
          "data": {
            "text/plain": "'102131101'"
          },
          "metadata": {}
        }
      ],
      "execution_count": 10
    },
    {
      "cell_type": "code",
      "source": "// https://100.jsalgo.co.kr/?page=5\n\nfunction solution(data){\n    return data.join('').match(/1/g).length\n}\n\nsolution([10, 21, 31, 101])",
      "metadata": {
        "trusted": true
      },
      "outputs": [],
      "execution_count": null
    },
    {
      "cell_type": "code",
      "source": "[10, 21, 31, 101].join('').match(/1/g).length",
      "metadata": {
        "trusted": true
      },
      "outputs": [
        {
          "execution_count": 12,
          "output_type": "execute_result",
          "data": {
            "text/plain": "5"
          },
          "metadata": {}
        }
      ],
      "execution_count": 15
    },
    {
      "cell_type": "code",
      "source": "// https://100.pyalgo.co.kr/?page=6\n\nfunction solution(data){\n    return data.match(/[0-9]/g).reduce((a, c) => a + parseInt(c), 0)\n}\n\nsolution('1hel2lo3')",
      "metadata": {
        "trusted": true
      },
      "outputs": [
        {
          "execution_count": 14,
          "output_type": "execute_result",
          "data": {
            "text/plain": "6"
          },
          "metadata": {}
        }
      ],
      "execution_count": 17
    },
    {
      "cell_type": "code",
      "source": "// https://100.pyalgo.co.kr/?page=8\n\nfunction solution(data){\n    return data\n        .map((v, i) => [v, data[i+1]])\n        .sort((a, b) => (a[1] - a[0]) - (b[1] - b[0]))[0]\n}\n\nsolution([1, 3, 5, 6, 10, 12, 19])",
      "metadata": {
        "trusted": true
      },
      "outputs": [
        {
          "execution_count": 20,
          "output_type": "execute_result",
          "data": {
            "text/plain": "[ 5, 6 ]"
          },
          "metadata": {}
        }
      ],
      "execution_count": 25
    },
    {
      "cell_type": "code",
      "source": "[1, 2, 5, 4, 2, 3, 11, 21, 10].sort()",
      "metadata": {
        "trusted": true
      },
      "outputs": [
        {
          "execution_count": 15,
          "output_type": "execute_result",
          "data": {
            "text/plain": "[ 1, 10, 11, 2, 2, 21, 3, 4, 5 ]"
          },
          "metadata": {}
        }
      ],
      "execution_count": 18
    },
    {
      "cell_type": "code",
      "source": "// [1, 2, 5, 4, 2, 3, 11, 21, 10].sort((a, b) => a - b)\n[1, 2, 5, 4, 2, 3, 11, 21, 10].sort((a, b) => b - a)",
      "metadata": {
        "trusted": true
      },
      "outputs": [
        {
          "execution_count": 17,
          "output_type": "execute_result",
          "data": {
            "text/plain": "[ 21, 11, 10, 5, 4, 3, 2, 2, 1 ]"
          },
          "metadata": {}
        }
      ],
      "execution_count": 21
    },
    {
      "cell_type": "code",
      "source": "// https://100.jsalgo.co.kr/?page=12\n\nfunction solution(data){\n    return data[0].sort((a, b) => data[1][a.split(' ')[1]] - data[1][b.split(' ')[1]])\n}\n\nsolution([['제주시 A동 한라산길 61', '제주시 B동 백록담길 63', '제주시 C동 사라봉길 31'], {'A동': 63007, 'B동': 63010, 'C동': 63002}])",
      "metadata": {
        "trusted": true
      },
      "outputs": [
        {
          "execution_count": 21,
          "output_type": "execute_result",
          "data": {
            "text/plain": "[ '제주시 C동 사라봉길 31', '제주시 A동 한라산길 61', '제주시 B동 백록담길 63' ]"
          },
          "metadata": {}
        }
      ],
      "execution_count": 27
    },
    {
      "cell_type": "code",
      "source": "// https://school.programmers.co.kr/learn/courses/30/lessons/120835\n\n// [3, 76, 24] => [3, 1, 2]\n\nconst data = [3, 76, 24]\nconst origin_data = data.slice()\nconst sorted_data = data.sort((a, b) => b - a)\nsorted_data\n\norigin_data.map((v, i) => sorted_data.indexOf(v) + 1)\n\n// [sorted_data.index(i) + 1 for i in data]",
      "metadata": {
        "trusted": true
      },
      "outputs": [
        {
          "execution_count": 32,
          "output_type": "execute_result",
          "data": {
            "text/plain": "[ 3, 1, 2 ]"
          },
          "metadata": {}
        }
      ],
      "execution_count": 44
    },
    {
      "cell_type": "code",
      "source": "function solution(emergency){\n    const origin_data = emergency.slice()\n    const sorted_data = emergency.sort((a, b) => b - a)\n    return origin_data.map((v, i) => sorted_data.indexOf(v) + 1)\n}\n\nsolution([3, 76, 24])",
      "metadata": {
        "trusted": true
      },
      "outputs": [
        {
          "execution_count": 33,
          "output_type": "execute_result",
          "data": {
            "text/plain": "[ 3, 1, 2 ]"
          },
          "metadata": {}
        }
      ],
      "execution_count": 45
    },
    {
      "cell_type": "code",
      "source": "// https://100.jsalgo.co.kr/?page=24\n\nfunction solution(data){\n    if (data.length === 0) return 0\n\n    let max_sum = data[0]\n    let current_sum = data[0]\n    \n    for (let i = 1; i < data.length; i++){\n        const num = data[i]\n        current_sum = Math.max(num, current_sum + num)\n        max_sum = Math.max(max_sum, current_sum)\n    }\n    return max_sum\n}\n\nsolution([1, -2, 3, 4, -1, 2, 1, -5, 4])",
      "metadata": {
        "trusted": true
      },
      "outputs": [
        {
          "execution_count": 22,
          "output_type": "execute_result",
          "data": {
            "text/plain": "9"
          },
          "metadata": {}
        }
      ],
      "execution_count": 30
    },
    {
      "cell_type": "code",
      "source": "n = 5\narr1 = [9, 20, 28, 18, 11]\narr2 = [30, 1, 21, 17, 28]\n\nfunction solution(n, arr1, arr2){\n    const answer = []\n    const zip = (a, b) => a.map((v, i) => [v, b[i]])\n    for ([i, j] of zip(arr1, arr2)){\n        answer.push((i | j).toString(2).padStart(n, '0').replace(/1/g, '#').replace(/0/g, ' '))\n    }\n    return answer\n}\n\nsolution(n, arr1, arr2)",
      "metadata": {
        "trusted": true
      },
      "outputs": [
        {
          "execution_count": 28,
          "output_type": "execute_result",
          "data": {
            "text/plain": "[ '#####', '# # #', '### #', '#  ##', '#####' ]"
          },
          "metadata": {}
        }
      ],
      "execution_count": 36
    },
    {
      "cell_type": "code",
      "source": "const zip = (a, b) => a.map((v, i) => [v, b[i]])\nzip([10, 20, 30, 40], 'hello')",
      "metadata": {
        "trusted": true
      },
      "outputs": [
        {
          "execution_count": 23,
          "output_type": "execute_result",
          "data": {
            "text/plain": "[ [ 10, 'h' ], [ 20, 'e' ], [ 30, 'l' ], [ 40, 'l' ] ]"
          },
          "metadata": {}
        }
      ],
      "execution_count": 31
    },
    {
      "cell_type": "code",
      "source": "(9 | 30).toString(2)",
      "metadata": {
        "trusted": true
      },
      "outputs": [
        {
          "execution_count": 27,
          "output_type": "execute_result",
          "data": {
            "text/plain": "'11111'"
          },
          "metadata": {}
        }
      ],
      "execution_count": 35
    },
    {
      "cell_type": "code",
      "source": "// https://100.jsalgo.co.kr/?page=35\n\nfunction solution(data){\n    return data.replace(/<[^>]+>/g, '')\n}\n\nsolution(\"<div><i>Sample</i> Text</div>\")",
      "metadata": {
        "trusted": true
      },
      "outputs": [
        {
          "execution_count": 35,
          "output_type": "execute_result",
          "data": {
            "text/plain": "'Sample Text'"
          },
          "metadata": {}
        }
      ],
      "execution_count": 47
    },
    {
      "cell_type": "code",
      "source": "// https://100.jsalgo.co.kr/?page=41\n\nfunction solution(data){\n    stack = []\n    bracket_map = {\n        \"(\": \")\",\n        \"[\": \"]\",\n        \"{\": \"}\"\n    }\n\n    for (const char of data){\n        console.log(char)\n        console.log(stack)\n        console.log(bracket_map[stack[stack.length - 1]])\n        console.log(stack.length && (char === bracket_map[stack[stack.length - 1]]))\n        console.log('------')\n        if (bracket_map[char]){\n            stack.push(char)\n        } else if (stack.length && (char === bracket_map[stack[stack.length - 1]])){\n            console.log('실행')\n            stack.pop()\n        } else {\n            return false\n        }\n    }\n    return !stack.length\n}\n    \n\nsolution(\"{[()()]}\")",
      "metadata": {
        "trusted": true
      },
      "outputs": [
        {
          "name": "stdout",
          "text": "{\n\n\n0\n------\n[\n{\n}\nfalse\n------\n(\n{,[\n]\nfalse\n------\n)\n{,[,(\n)\ntrue\n------\n실행\n(\n{,[\n]\nfalse\n------\n)\n{,[,(\n)\ntrue\n------\n실행\n]\n{,[\n]\ntrue\n------\n실행\n}\n{\n}\ntrue\n------\n실행\n",
          "output_type": "stream"
        },
        {
          "execution_count": 54,
          "output_type": "execute_result",
          "data": {
            "text/plain": "true"
          },
          "metadata": {}
        }
      ],
      "execution_count": 68
    },
    {
      "cell_type": "code",
      "source": "// https://100.jsalgo.co.kr/?page=41\n\nfunction solution(data){\n    const stack = []\n    const bracket_map = {'(': ')','[': ']','{': '}'}\n\n    for (const char of data){\n        if (bracket_map[char]){\n            stack.push(char)\n        } else if (stack.length && (char === bracket_map[stack[stack.length - 1]])){\n            stack.pop()\n        } else {\n            return false\n        }\n    }\n    return !stack.length\n}\n    \n\nsolution(\"{[()()]}\")",
      "metadata": {
        "trusted": true
      },
      "outputs": [
        {
          "name": "stdout",
          "text": "실행\n실행\n실행\n실행\n",
          "output_type": "stream"
        },
        {
          "execution_count": 53,
          "output_type": "execute_result",
          "data": {
            "text/plain": "true"
          },
          "metadata": {}
        }
      ],
      "execution_count": 67
    },
    {
      "cell_type": "code",
      "source": "// 깊이 우선 탐색, 너비우선 탐색 Python js\n// 트리에서 깊이우선탐색과 너비우선탐색\n\n// DFS() {\n//     // 깊이우선탐색, DFS(Depth First Search)\n//     // Stack 이용!\n//     let 방문경로 = [];\n//     let 스택 = [this.root];\n\n//     while (스택.length !== 0) {\n//         let current = 스택.pop();\n//         if (current.right) {\n//             스택.push(current.right);\n//         }\n//         if (current.left) {\n//             스택.push(current.left);\n//         }\n//         방문경로.push(current.data);\n//     }\n\n//     return 방문경로;\n// }\n\n// BFS() {\n//     // 너비우선탐색, BFS(Breadth First Search)\n//     // Queue 이용!\n//     let 방문경로 = [];\n//     let 큐 = [this.root];\n\n//     while (큐.length !== 0) {\n//         let current = 큐.shift();\n//         if (current.right) {\n//             큐.push(current.right);\n//         }\n//         if (current.left) {\n//             큐.push(current.left);\n//         }\n//         방문경로.push(current.data);\n//     }",
      "metadata": {
        "trusted": true
      },
      "outputs": [],
      "execution_count": null
    },
    {
      "cell_type": "code",
      "source": "// https://100.jsalgo.co.kr/?page=49\n\nfunction solution(data) {\n  const { graph, start, end } = data;\n  const bfsShortestPath = (graph, start, end) => {\n    const visited = new Set();\n    const queue = [[start, 0]]; // [current node, distance]\n\n    while (queue.length) {\n      const [current, distance] = queue.shift();\n      if (current === end) {\n        return distance;\n      }\n\n      if (!visited.has(current)) {\n        visited.add(current);\n        const neighbors = graph[current] || [];\n        for (const neighbor of neighbors) {\n          queue.push([neighbor, distance + 1]);\n        }\n      }\n    }\n\n    return -1; // Path not found\n  };\n\n  return bfsShortestPath(graph, start, end);\n}\n",
      "metadata": {
        "trusted": true
      },
      "outputs": [],
      "execution_count": null
    },
    {
      "cell_type": "code",
      "source": "// https://100.jsalgo.co.kr/?page=56\n\nfunction solution(matrix){\n    const mine_locations = []\n    for(let row = 0;row < matrix.length; row++){\n        for(let col = 0; col < matrix[row].length; col++){\n            if (matrix[row][col] === 1){\n                mine_locations.push([row, col])\n            }\n        }\n    }\n    return mine_locations\n}\n\nsolution([[0, 1, 0], [1, 0, 1], [0, 1, 0]])",
      "metadata": {
        "trusted": true
      },
      "outputs": [
        {
          "execution_count": 58,
          "output_type": "execute_result",
          "data": {
            "text/plain": "[ [ 0, 1 ], [ 1, 0 ], [ 1, 2 ], [ 2, 1 ] ]"
          },
          "metadata": {}
        }
      ],
      "execution_count": 74
    },
    {
      "cell_type": "code",
      "source": "// https://100.jsalgo.co.kr/?page=62\n\nfunction solution(data){\n    const [maxSize, nums] = data\n    const dq = []\n    const result = []\n\n    for (const num of nums){\n        dq.push(num)\n        if (dq.length > maxSize){\n            dq.shift()\n        }\n        result.push(dq.slice())\n    }\n    return result\n}",
      "metadata": {
        "trusted": true
      },
      "outputs": [],
      "execution_count": null
    },
    {
      "cell_type": "code",
      "source": "// https://jsalgo.co.kr/?page=2\n\nfunction solution(data){\n    let result = 0\n    for (let s of data.matchAll('([rev])(10|[0-9])')){\n        result += parseInt(s[2])\n    }\n    result = result.toString()\n    return `${result[0]}월 ${result[1]}일`\n}\n    \n\nsolution('a10b9r1ce33uab8wc918v2cv11v9')",
      "metadata": {
        "trusted": true
      },
      "outputs": [
        {
          "execution_count": 63,
          "output_type": "execute_result",
          "data": {
            "text/plain": "'1월 6일'"
          },
          "metadata": {}
        }
      ],
      "execution_count": 81
    },
    {
      "cell_type": "code",
      "source": "'a10b9r1ce33uab8wc918v2cv11v9'.match('([rev])(10|[0-9])')\nfor (let s of 'a10b9r1ce33uab8wc918v2cv11v9'.matchAll('([rev])(10|[0-9])')){\n    console.log(s)\n}",
      "metadata": {
        "trusted": true
      },
      "outputs": [
        {
          "name": "stdout",
          "text": "r1,r,1\ne3,e,3\nv2,v,2\nv1,v,1\nv9,v,9\n",
          "output_type": "stream"
        },
        {
          "execution_count": 61,
          "output_type": "execute_result",
          "data": {},
          "metadata": {}
        }
      ],
      "execution_count": 77
    },
    {
      "cell_type": "code",
      "source": "// 10.toString()\nconst s = 10\ns.toString()",
      "metadata": {
        "trusted": true
      },
      "outputs": [
        {
          "execution_count": 62,
          "output_type": "execute_result",
          "data": {
            "text/plain": "'10'"
          },
          "metadata": {}
        }
      ],
      "execution_count": 79
    },
    {
      "cell_type": "markdown",
      "source": "# 복잡한 정렬 문제\n\n```\ndata = [\n    {'name': 'John', 'age': 25, 'height': 175},\n    {'name': 'Jane', 'age': 22, 'height': 160},\n    {'name': 'Doe', 'age': 25, 'height': 180},\n    {'name': 'Doe', 'age': 27, 'height': 180},\n    {'name': 'Doe', 'age': 25, 'height': 179},\n]\n```\n\n* 문제: 이름은 오름차순, 나이는 내림차순, 키는 오름차순으로 정렬하시오.\n\n* python 정답: \n```python\ndata.sort(key=lambda x: (x['name'], -x['age'], x['height']))\n```\n\n* JavaScript 정답:\n```JavaScript\ndata.sort((a, b) => {\n    if (a.name !== b.name) {\n        return a.name.localeCompare(b.name);\n    } else if (a.age !== b.age) {\n        return b.age - a.age;\n    } else {\n        return a.height - b.height;\n    }\n});\n```",
      "metadata": {}
    },
    {
      "cell_type": "code",
      "source": "// https://jsalgo.co.kr/?page=12\n\nfunction solution(ingredients) {\n    const n = ingredients.length;\n    \n    // 재료가 1개인 경우\n    if (n === 1) {\n        return ingredients[0];\n    }\n    \n    // 재료가 2개인 경우\n    if (n === 2) {\n        return Math.max(ingredients[0], ingredients[1]);\n    }\n    \n    // dp[i]는 i번째 재료까지 고려했을 때 최대로 담을 수 있는 재료의 양\n    const dp = new Array(n).fill(0);\n    \n    // 초기값 설정\n    dp[0] = ingredients[0];  // 첫 번째 재료만 선택\n    dp[1] = Math.max(ingredients[0], ingredients[1]);  // 첫 번째와 두 번째 중 더 큰 값\n    \n    // 동적 계획법 진행\n    for (let i = 2; i < n; i++) {\n        // i번째 재료를 선택하는 경우 (i-1번째 재료는 선택 불가)\n        const pickCurrent = ingredients[i] + dp[i-2];\n        \n        // i번째 재료를 선택하지 않는 경우\n        const skipCurrent = dp[i-1];\n        \n        // 두 경우 중 더 큰 값을 저장\n        dp[i] = Math.max(pickCurrent, skipCurrent);\n    }\n    \n    return dp[n-1];\n}\n\n// 테스트\nconsole.log(solution([2, 4, 1, 3, 5, 8, 8, 6]));  // 21\nconsole.log(solution([10, 2, 5, 2, 7, 9, 3, 5]));  // 29\nconsole.log(solution([12, 9, 7, 8, 6, 2, 2, 6]));  // 31",
      "metadata": {
        "trusted": true
      },
      "outputs": [
        {
          "name": "stdout",
          "text": "21\n29\n31\n",
          "output_type": "stream"
        },
        {
          "execution_count": 64,
          "output_type": "execute_result",
          "data": {},
          "metadata": {}
        }
      ],
      "execution_count": 82
    }
  ]
}
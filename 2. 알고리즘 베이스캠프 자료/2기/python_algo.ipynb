{
  "metadata": {
    "kernelspec": {
      "name": "python",
      "display_name": "Python (Pyodide)",
      "language": "python"
    },
    "language_info": {
      "codemirror_mode": {
        "name": "python",
        "version": 3
      },
      "file_extension": ".py",
      "mimetype": "text/x-python",
      "name": "python",
      "nbconvert_exporter": "python",
      "pygments_lexer": "ipython3",
      "version": "3.8"
    }
  },
  "nbformat_minor": 4,
  "nbformat": 4,
  "cells": [
    {
      "cell_type": "markdown",
      "source": "# 1. 자료구조와 알고리즘",
      "metadata": {}
    },
    {
      "cell_type": "markdown",
      "source": "* 자료구조(자료를 어떻게 담는가?): 어래이, 오브젝트, 맵, 셋, 싱글 링크드리스트, 더블링크드리스트, 트리, 해쉬 등\n* 알고리즘(문제를 어떻게 풀 것인가?): 에라토스테네스의 체, 그리디 알고리즘, 투 포인터, 슬라이딩 윈도우 등 \n* 자료구조 + 알고리즘 => 문제 풀이 능력을 보겠다! => 코딩테스트\n    * 왜 기업에서 이 두가지를 볼까요? 자료구조와 알고리즘이 프로그래밍을 하는데 필수적인 요소인 것도 있지만 이력서를 하나씩 보기에는 시간이 너무 많이 걸리고, 특히 알고리즘을 잘 아는 분 중 러닝커브가 긴 분이 많이 없습니다. \n* 추천 서적\n    * 학문적 접근 : The Art of Computer Programming(도널드 커누스)\n    * 코딩테스트 접근 : 파이썬 알고리즘 인터뷰(박상길), 코딩 테스트 합격자 되기 : 자바스크립트 편\n    * 기타 : 파이썬 자료구조와 알고리즘(중학교 학생 가르칠 때 사용), 그림으로 배우는 알고리즘(코드 없고 그림만 있습니다), 알고리즘 산책(역사적인 알고리즘을 쭉 훑어봅니다. 수학적인 내용이 많고 코드는 C++로 되어 있으나 보는데 큰 무리는 없습니다.)\n* 요즘은 Claude, ChatGPT가 이러한 책의 역할을 하고 있습니다. 그래서 https://100.jsalgo.co.kr/, https://jsalgo.co.kr/, https://to.jsalgo.co.kr/ 와 같은 곳에서 문제를 풀어보시면서 자료구조와 알고리즘을 함께 설명해달라고 ChatGPT에게 요청하시면서 공부하시는 방법이 더 효율적입니다.",
      "metadata": {}
    },
    {
      "cell_type": "markdown",
      "source": "## 1.1 코테 전 준비사항",
      "metadata": {}
    },
    {
      "cell_type": "markdown",
      "source": "0. 회사와 경향 분석!\n    * 코테 보는 회사와 회사 유형을 정리하세요.\n    * [코딩테스트 경향 정리](https://paullabworkspace.notion.site/446d03bf38df42e19d9fedcf5ceaec61?pvs=4) 해두었습니다.\n    * 분석 서비스를 통해 [출제 경향](https://algoview.co.kr/)도 한 번 정리하세요.\n    * [모니토](https://monito.io/) 서비스를 통해 시각 분석\n    * 휴대폰을 통해 상하 좌우 스캔 후 시험\n    * A4 용지 1장, 앞 뒤 스캔\n1. 플렛폼에 익숙해지자! (프로그래머스, 구름EDU 등)\n    * 사용 가능 라이브러리 미리 확인 등\n    * 순열과 조합, 완전탐색은 문제가 나오면 JavaScript에는 불리합니다. Python에서  itertools를 사용하면 쉽게 풀이가 가능하기 때문입니다. 그래서 이런 이유 때문에 Python을 코딩테스트를 위해 배우시는 분들이 있습니다.\n2. 언어 선택(속도 : C++, 풀이 : Python)\n    * 요즘은 Lv이 높은 경우가 아니면 속도 체크를 거의 하지 않는 추세입니다.\n    * 다른 언어가 메인이셔도 Python 추천 드립니다. 코딩테스트만을 위해 Python을 새로 공부하시는 분들이 많습니다.\n3. 코드 스니펫(트리, 검색, 최단경로(예를 들어 다익스트라), 직접 제작한 함수 등), Cheatsheet, A4 용지 준비\n    * 코드 스니펫을 만들어둔 레파지토리 fork 해서 공부하세요. - [제주코딩베이스캠프](https://github.com/paullabkorea/programmersLv0)\n    * 감독관이 없는 경우 [스니펫](https://github.com/paullabkorea/programmersLv0/blob/main/Solution.md)에서 Ctrl + F해서 문제를 풉니다. 다만 요즘은 감독관이 없거나, 스니펫을 활용할 수 있는 시험이 많지는 않습니다. 그래도 스니펫을 준비하셔서 시험 전 훑어보는 용도로 사용하세요.\n    * 시험 전 스니펫을 만들지 말고 하루 한 문제씩(저도 매일 한 문제씩 풉니다.) 또는 버겁다면 일주일에 2 ~ 3문제.\n4. 유용한 소스코드는 미리미리 정리를 해두세요.\n    * 유용한 알고리즘 GitHub repo를 검색하고 fork를 떠두는 것도 좋습니다.\n    * 면접질문 repo등 다양한 목적에 repo가 있습니다.\n5. 기억해두자! 예외처리!\n    * 문제를 많이 풀어보셔야 어떤 예외를 처리할지 알 수 있습니다.\n    * 예외처리와 테스트 케이스중 통과 못하는 케이스들은 문제를 많이 풀어보셔야 합니다.\n    * 길이가 0이거나 0으로 나누거나 등\n7. 속도개선\n    * 대부분 class로 구현해서 풀이해야 속도가 개선되게 하는 문제\n    * 재귀는 느립니다. 최후의 수단으로 사용하세요.\n8. ChatGPT, Copilot 활용\n    * 감독관이 없고 검색이 가능하다면 Claude, ChatGPT를 활용하세요.(Claude, ChatGPT가 활용 불가인 코테도 있습니다. 다만 활용 불가인데 검색이 가능할 경우 형평성 문제가 생겨요.)\n    * Claude, ChatGPT 나오고 화이트보드 테스트가 많아졌습니다.",
      "metadata": {}
    },
    {
      "cell_type": "markdown",
      "source": "## 1.2 문제 유형과 출제 방식\n* 5 ~ 6시간, 6 ~ 7문제\n* 30분씩 4문제, 2시간씩 2문제\n* 2 ~ 3시간, 3 ~ 5문제\n* 30분씩 3 ~ 4문제, 변별력 1문제\n* 단기 공부로 붙을 수 있는 코테와 붙기 힘든 코테 경향 정리\n* 문제 유형 분석 관련 글\n    * [문제 유형 분석](https://www.hanbit.co.kr/media/channel/view.html?cms_code=CMS4385594264)\n    * [언어 유불리 여부](https://www.hanbit.co.kr/media/channel/view.html?cms_code=CMS9145550324&cate_cd=)\n    * [코딩 테스트에 가장 많이 출제 되는 알고리즘](https://www.hanbit.co.kr/media/channel/view.html?cms_code=CMS7793635735&cate_cd=)\n        * 요구사항 구현 알고리즘(33%)\n        * 그리디 알고리즘(20%)\n        * 너비우선탐색, 깊이우선탐색(20%)\n        * 정렬(8%): 최댓값, 최솟값, 최소길이 등 다양하게 응용이 되기 때문에 더 많이 나옵니다.\n        * 다이나믹 프로그래밍, 최단경로, 이진 탐색 등\n* 전체 문제 유형\n    * 알고리즘\n        * 정렬\n        * 이진 검색\n        * 비트 연산\n        * 슬라이딩 윈도우, 페이지 교체\n        * 분할 정복\n            * 그리디 알고리즘\n            * 다이나믹 프로그래밍\n    * 자료구조\n        * 선형\n            * 스택과 큐, 데크\n            * 연결리스트, 해시 테이블\n        * 비선형\n            * 그래프(최단경로) - 다익스트라가 나오면 매우 어려운 문제\n            * 트리\n                * 힙\n                * 트라이",
      "metadata": {}
    },
    {
      "cell_type": "code",
      "source": "# https://100.pyalgo.co.kr/?page=1\n\ndef solution(data):\n    return sum(filter(lambda x: x % 2, data))\n\nsolution([1, 2, 3, 4, 5]) == 9",
      "metadata": {
        "trusted": true
      },
      "outputs": [
        {
          "execution_count": 4,
          "output_type": "execute_result",
          "data": {
            "text/plain": "True"
          },
          "metadata": {}
        }
      ],
      "execution_count": 4
    },
    {
      "cell_type": "code",
      "source": "list(filter(lambda x: x % 2, [1, 2, 3, 4, 5]))",
      "metadata": {
        "trusted": true
      },
      "outputs": [
        {
          "execution_count": 7,
          "output_type": "execute_result",
          "data": {
            "text/plain": "[1, 3, 5]"
          },
          "metadata": {}
        }
      ],
      "execution_count": 7
    },
    {
      "cell_type": "code",
      "source": "# https://100.pyalgo.co.kr/?page=3\n\ndef solution(data):\n    return sum(filter(lambda x: not (x % 3 == 0 or x % 5 == 0), data))\n\nsolution([1, 2, 3, 4, 5]) == 7",
      "metadata": {
        "trusted": true
      },
      "outputs": [
        {
          "execution_count": 8,
          "output_type": "execute_result",
          "data": {
            "text/plain": "True"
          },
          "metadata": {}
        }
      ],
      "execution_count": 8
    },
    {
      "cell_type": "code",
      "source": "# https://100.pyalgo.co.kr/?page=4\nimport re\n\ndef solution(data):\n    s = [int(re.findall('10|[1-9]', i)[0]) for i in data] \n    return sum([s[0] * 1, s[1] * 2, s[2] * 3])\n\nsolution(['쿠키 3개', '쿠키 2개', '쿠키 5개']) == 22",
      "metadata": {
        "trusted": true
      },
      "outputs": [
        {
          "execution_count": 18,
          "output_type": "execute_result",
          "data": {
            "text/plain": "True"
          },
          "metadata": {}
        }
      ],
      "execution_count": 18
    },
    {
      "cell_type": "code",
      "source": "import re\n\nre.findall('[0-9]', '쿠키 3개')",
      "metadata": {
        "trusted": true
      },
      "outputs": [
        {
          "execution_count": 11,
          "output_type": "execute_result",
          "data": {
            "text/plain": "['3']"
          },
          "metadata": {}
        }
      ],
      "execution_count": 11
    },
    {
      "cell_type": "code",
      "source": "[int(re.findall('10|[1-9]', i[1])[0]) * (i[0] + 1) for i in enumerate(['쿠키 3개', '쿠키 2개', '쿠키 5개'])]",
      "metadata": {
        "trusted": true
      },
      "outputs": [
        {
          "execution_count": 17,
          "output_type": "execute_result",
          "data": {
            "text/plain": "[3, 4, 15]"
          },
          "metadata": {}
        }
      ],
      "execution_count": 17
    },
    {
      "cell_type": "code",
      "source": "# https://100.pyalgo.co.kr/?page=5\n\ndef solution(data):\n    return \"\".join(map(str, data)).count('1')\n\n\nsolution([10, 21, 31, 101])",
      "metadata": {
        "trusted": true
      },
      "outputs": [
        {
          "execution_count": 28,
          "output_type": "execute_result",
          "data": {
            "text/plain": "5"
          },
          "metadata": {}
        }
      ],
      "execution_count": 28
    },
    {
      "cell_type": "code",
      "source": "\"\".join(map(str, [10, 20, 30])).count('1')\nlist(map(int, ['1', '11', '22']))",
      "metadata": {
        "trusted": true
      },
      "outputs": [
        {
          "execution_count": 30,
          "output_type": "execute_result",
          "data": {
            "text/plain": "[1, 11, 22]"
          },
          "metadata": {}
        }
      ],
      "execution_count": 30
    },
    {
      "cell_type": "code",
      "source": "# https://100.pyalgo.co.kr/?page=8\n\nl = [1, 3, 5, 6, 10, 12, 19]\n\nlist(zip(l, l[1:]))\nsorted(zip(l, l[1:]), key=lambda x:x[1]-x[0])[0]",
      "metadata": {
        "trusted": true
      },
      "outputs": [
        {
          "execution_count": 42,
          "output_type": "execute_result",
          "data": {
            "text/plain": "(5, 6)"
          },
          "metadata": {}
        }
      ],
      "execution_count": 42
    },
    {
      "cell_type": "code",
      "source": "# https://100.pyalgo.co.kr/?page=8\n\ndef solution(data):\n    return sorted(zip(data, data[1:]), key=lambda x:x[1]-x[0])[0]\n\nsolution([1, 3, 5, 6, 10, 12, 19])",
      "metadata": {
        "trusted": true
      },
      "outputs": [
        {
          "execution_count": 43,
          "output_type": "execute_result",
          "data": {
            "text/plain": "(5, 6)"
          },
          "metadata": {}
        }
      ],
      "execution_count": 43
    },
    {
      "cell_type": "code",
      "source": "# https://100.pyalgo.co.kr/?page=12\n\ndata = [['제주시 A동 한라산길 61', \n  '제주시 B동 백록담길 63', \n  '제주시 C동 사라봉길 31'], \n {'A동': 63007, 'B동': 63010, 'C동': 63002}]\n\n주소 = data[0]\n우편번호 = data[1]\n\nsorted(주소, key=lambda x:우편번호[x.split(' ')[1]])",
      "metadata": {
        "trusted": true
      },
      "outputs": [
        {
          "execution_count": 44,
          "output_type": "execute_result",
          "data": {
            "text/plain": "['제주시 C동 사라봉길 31', '제주시 A동 한라산길 61', '제주시 B동 백록담길 63']"
          },
          "metadata": {}
        }
      ],
      "execution_count": 44
    },
    {
      "cell_type": "code",
      "source": "# https://100.pyalgo.co.kr/?page=12\n\ndef solution(data):\n    주소 = data[0]\n    우편번호 = data[1]\n    return sorted(주소, key=lambda x:우편번호[x.split(' ')[1]])\n\ndata = [['제주시 A동 한라산길 61', \n  '제주시 B동 백록담길 63', \n  '제주시 C동 사라봉길 31'], \n {'A동': 63007, 'B동': 63010, 'C동': 63002}]\n\n\nsolution(data)",
      "metadata": {
        "trusted": true
      },
      "outputs": [
        {
          "execution_count": 45,
          "output_type": "execute_result",
          "data": {
            "text/plain": "['제주시 C동 사라봉길 31', '제주시 A동 한라산길 61', '제주시 B동 백록담길 63']"
          },
          "metadata": {}
        }
      ],
      "execution_count": 45
    },
    {
      "cell_type": "code",
      "source": "# https://school.programmers.co.kr/learn/courses/30/lessons/120835\n\n# [3, 76, 24] => [3, 1, 2]\n\ndata = [3, 76, 24]\nsorted_data = sorted(data, reverse=True)\nsorted_data\n\n[sorted_data.index(i) + 1 for i in data]",
      "metadata": {
        "trusted": true
      },
      "outputs": [
        {
          "execution_count": 61,
          "output_type": "execute_result",
          "data": {
            "text/plain": "[3, 1, 2]"
          },
          "metadata": {}
        }
      ],
      "execution_count": 61
    },
    {
      "cell_type": "code",
      "source": "def solution(emergency):\n    sorted_emergency = sorted(emergency, reverse=True)\n    return [emergency.index(i) + 1 for i in emergency]\n\nsolution([3, 76, 24])",
      "metadata": {
        "trusted": true
      },
      "outputs": [],
      "execution_count": null
    },
    {
      "cell_type": "code",
      "source": "# https://100.pyalgo.co.kr/?page=24\n\ndef solution(data):\n    if not data:\n        return 0\n\n    max_sum = current_sum = data[0]\n    \n    for num in data[1:]:\n        current_sum = max(num, current_sum + num)\n        max_sum = max(max_sum, current_sum)\n    return max_sum\n\nsolution([1, -2, 3, 4, -1, 2, 1, -5, 4])",
      "metadata": {
        "trusted": true
      },
      "outputs": [
        {
          "execution_count": 48,
          "output_type": "execute_result",
          "data": {
            "text/plain": "9"
          },
          "metadata": {}
        }
      ],
      "execution_count": 48
    },
    {
      "cell_type": "code",
      "source": "# https://school.programmers.co.kr/learn/courses/30/lessons/17681\n\nbin(9 | 30)[2:].replace('1', '#').replace('0', ' ')\n\n# '1001'.zfill(5)\n\n# bin\n# oct\n# hex",
      "metadata": {
        "trusted": true
      },
      "outputs": [
        {
          "execution_count": 54,
          "output_type": "execute_result",
          "data": {
            "text/plain": "'01001'"
          },
          "metadata": {}
        }
      ],
      "execution_count": 54
    },
    {
      "cell_type": "code",
      "source": "n = 5\narr1 = [9, 20, 28, 18, 11]\narr2 = [30, 1, 21, 17, 28]\n\ndef solution(n, arr1, arr2):\n    answer = []\n    for i in range(n):\n        answer.append(bin(arr1[i] | arr2[i])[2:].zfill(n).replace('1', '#').replace('0', ' '))\n    return answer\n\nsolution(n, arr1, arr2)",
      "metadata": {
        "trusted": true
      },
      "outputs": [
        {
          "execution_count": 55,
          "output_type": "execute_result",
          "data": {
            "text/plain": "['#####', '# # #', '### #', '#  ##', '#####']"
          },
          "metadata": {}
        }
      ],
      "execution_count": 55
    },
    {
      "cell_type": "code",
      "source": "# https://100.pyalgo.co.kr/?page=35\n\nimport re\n\ndef solution(data):\n    pattern = r'<[^>]+>'\n    return re.sub(pattern, \"\", data)\n\nsolution(\"<div><i>Sample</i> Text</div>\")",
      "metadata": {
        "trusted": true
      },
      "outputs": [
        {
          "execution_count": 68,
          "output_type": "execute_result",
          "data": {
            "text/plain": "'Sample Text'"
          },
          "metadata": {}
        }
      ],
      "execution_count": 68
    },
    {
      "cell_type": "code",
      "source": "'test \\n test'\nprint('test \\n test')",
      "metadata": {
        "trusted": true
      },
      "outputs": [
        {
          "name": "stdout",
          "text": "test \n test\n",
          "output_type": "stream"
        }
      ],
      "execution_count": 64
    },
    {
      "cell_type": "code",
      "source": "# https://100.pyalgo.co.kr/?page=36\n\nimport re\n\ndef solution(data):\n    pattern = r'(\\d{3})(\\d{3,4})(\\d{4})'\n    return re.sub(pattern, r'\\1-\\2-\\3', data)\n\nsolution(\"제 전화번호는 0311234567, 06412345678 입니다.\")",
      "metadata": {
        "trusted": true
      },
      "outputs": [
        {
          "execution_count": 71,
          "output_type": "execute_result",
          "data": {
            "text/plain": "'제 전화번호는 031-123-4567, 064-1234-5678 입니다.'"
          },
          "metadata": {}
        }
      ],
      "execution_count": 71
    },
    {
      "cell_type": "code",
      "source": "# https://100.pyalgo.co.kr/?page=41\n\ndef solution(data):\n    stack = []\n    bracket_map = {\n        \"(\": \")\",\n        \"[\": \"]\",\n        \"{\": \"}\"\n    }\n\n    for char in data:\n        if char in bracket_map:\n            stack.append(char)\n        elif stack and char == bracket_map[stack[-1]]:\n            stack.pop()\n        else:\n            return False\n    return not stack\n    \n\nsolution(\"{[()()]}\")",
      "metadata": {
        "trusted": true
      },
      "outputs": [
        {
          "execution_count": 73,
          "output_type": "execute_result",
          "data": {
            "text/plain": "True"
          },
          "metadata": {}
        }
      ],
      "execution_count": 73
    },
    {
      "cell_type": "code",
      "source": "# 트리에서 깊이우선탐색과 너비우선탐색\n# # 깊스너큐(깊이우선 탐색은 스택, 너비우선 탐색은 큐)\n# def DFS(self):\n#     # 깊이우선탐색, DFS(Depth First Search)\n#     # Stack 이용!\n#     result = []\n#     stack = [self.root]\n\n#     while stack:\n#         current = stack.pop()\n#         if current.right:\n#             stack.append(current.right)\n#         if current.left:\n#             stack.append(current.left)\n#         result.append(current.data)\n\n#     return result\n\n# def BFS(self):\n#     # 너비우선탐색, BFS(Breadth First Search)\n#     # Queue 이용!\n#     result = []\n#     queue = [self.root]\n\n#     while queue:\n#         current = queue.pop(0)\n#         if current.right:\n#             queue.append(current.right)\n#         if current.left:\n#             queue.append(current.left)\n#         result.append(current.data)\n        \n#     return result",
      "metadata": {
        "trusted": true
      },
      "outputs": [],
      "execution_count": null
    },
    {
      "cell_type": "code",
      "source": "# https://100.pyalgo.co.kr/?page=49\n\nfrom collections import deque\n\ndef solution(data):\n    def bfs(graph, start, end):\n        visited = set()\n        queue = deque([(start, 0)]) # (current node, distance)\n\n        while queue:\n            current, distance = queue.popleft()\n            \n            if current == end:\n                return distance\n\n            if current not in visited:\n                visited.add(current)\n                for neighbor in graph.get(current, []):\n                    queue.append((neighbor, distance + 1))\n        return -1\n\n    graph = data[\"graph\"]\n    start = data[\"start\"]\n    end = data[\"end\"]\n    return bfs(graph, start, end)\n\nsolution({'graph': {'0': ['1', '2'], '1': ['0', '3'], '2': ['0'], '3': ['1']}, 'start': '0', 'end': '3'} )",
      "metadata": {
        "trusted": true
      },
      "outputs": [
        {
          "execution_count": 78,
          "output_type": "execute_result",
          "data": {
            "text/plain": "2"
          },
          "metadata": {}
        }
      ],
      "execution_count": 78
    },
    {
      "cell_type": "code",
      "source": "{\n    \"0\": [\"1\", \"2\"], \n    \"1\": [\"0\", \"3\"], \n    \"2\": [\"0\"], \n    \"3\": [\"1\"]\n}",
      "metadata": {
        "trusted": true
      },
      "outputs": [],
      "execution_count": null
    },
    {
      "cell_type": "code",
      "source": "# https://100.pyalgo.co.kr/?page=56\n\n[[0, 1, 0], \n [1, 0, 1], \n [0, 1, 0]]\n\n(0, 1), (1, 0), (1, 2), (2, 1)\n# [(0, 1), (1, 0), (1, 2), (2, 1)]",
      "metadata": {
        "trusted": true
      },
      "outputs": [],
      "execution_count": null
    },
    {
      "cell_type": "code",
      "source": "import numpy as np\n\ndata = [[0, 1, 0], \n        [1, 0, 1], \n        [0, 1, 0]]\n\ndata = np.array(data)\n\nnp.where(data == 1)\n\nfor i in range(4):\n    print(np.where(data == 1)[0][i], np.where(data == 1)[1][i])\n    # (0, 1), (1, 0), (1, 2), (2, 1)",
      "metadata": {
        "trusted": true
      },
      "outputs": [
        {
          "name": "stdout",
          "text": "0 1\n1 0\n1 2\n2 1\n",
          "output_type": "stream"
        }
      ],
      "execution_count": 80
    },
    {
      "cell_type": "code",
      "source": "def solution(matrix):\n    mine_location = []\n    for row in range(len(matrix)):\n        for col in range(len(matrix[row])):\n            # matrix[row][col]\n            if matrix[row][col] == 1:\n                mine_location.append((row, col))\n\n    return mine_location\n\nsolution([[0, 1, 0], [1, 0, 1], [0, 1, 0]])",
      "metadata": {
        "trusted": true
      },
      "outputs": [
        {
          "execution_count": 84,
          "output_type": "execute_result",
          "data": {
            "text/plain": "[(0, 1), (1, 0), (1, 2), (2, 1)]"
          },
          "metadata": {}
        }
      ],
      "execution_count": 84
    },
    {
      "cell_type": "code",
      "source": "# https://100.pyalgo.co.kr/?page=62\nfrom collections import deque\n\nd = deque([1, 2, 3], maxlen=3)\nd\nd.append(4)\nd\nd = deque([1, 2, 3], maxlen=3)\nd.rotate(1)\nd",
      "metadata": {
        "trusted": true
      },
      "outputs": [
        {
          "execution_count": 89,
          "output_type": "execute_result",
          "data": {
            "text/plain": "deque([3, 1, 2], maxlen=3)"
          },
          "metadata": {}
        }
      ],
      "execution_count": 89
    },
    {
      "cell_type": "code",
      "source": "from collections import deque\n\ndef solution(data):\n    max_size, nums = data\n    dq = deque(maxlen=max_size) # 빈 deque\n    result = []\n\n    for num in nums:\n        dq.append(num)\n        result.append(list(dq))\n\n    return result\n\nsolution([3, [1, 2, 3, 4, 5]])",
      "metadata": {
        "trusted": true
      },
      "outputs": [
        {
          "execution_count": 91,
          "output_type": "execute_result",
          "data": {
            "text/plain": "[[1], [1, 2], [1, 2, 3], [2, 3, 4], [3, 4, 5]]"
          },
          "metadata": {}
        }
      ],
      "execution_count": 91
    },
    {
      "cell_type": "code",
      "source": "# https://pyalgo.co.kr/?page=2\nimport re\n\ndata = 'a10b9r1ce33uab8wc918v2cv11v9'\n\nre.findall('[rev][0-9]', data)",
      "metadata": {
        "trusted": true
      },
      "outputs": [
        {
          "execution_count": 93,
          "output_type": "execute_result",
          "data": {
            "text/plain": "['r1', 'e3', 'v2', 'v1', 'v9']"
          },
          "metadata": {}
        }
      ],
      "execution_count": 93
    },
    {
      "cell_type": "code",
      "source": "# https://pyalgo.co.kr/?page=2\nimport re\n\ndata = 'a10b9r1ce33uab8wc918v2cv11v9'\n\nre.findall('([rev])(10|[0-9])', data)",
      "metadata": {
        "trusted": true
      },
      "outputs": [
        {
          "execution_count": 94,
          "output_type": "execute_result",
          "data": {
            "text/plain": "[('r', '1'), ('e', '3'), ('v', '2'), ('v', '1'), ('v', '9')]"
          },
          "metadata": {}
        }
      ],
      "execution_count": 94
    },
    {
      "cell_type": "code",
      "source": "import re\n\ndef solution(data):\n    result = 0\n    for i, j in re.findall('([rev])(10|[0-9])', data):\n        result += int(j)\n    result = str(result)\n    return f'{result[0]}월 {result[1]}일'\n\nsolution('a10b9r1ce33uab8wc918v2cv11v9')",
      "metadata": {
        "trusted": true
      },
      "outputs": [
        {
          "execution_count": 96,
          "output_type": "execute_result",
          "data": {
            "text/plain": "'1월 6일'"
          },
          "metadata": {}
        }
      ],
      "execution_count": 96
    },
    {
      "cell_type": "markdown",
      "source": "# 복잡한 정렬 문제\n\n```\ndata = [\n    {'name': 'John', 'age': 25, 'height': 175},\n    {'name': 'Jane', 'age': 22, 'height': 160},\n    {'name': 'Doe', 'age': 25, 'height': 180},\n    {'name': 'Doe', 'age': 27, 'height': 180},\n    {'name': 'Doe', 'age': 25, 'height': 179},\n]\n```\n\n* 문제: 이름은 오름차순, 나이는 내림차순, 키는 오름차순으로 정렬하시오.\n\n* python 정답: \n```python\ndata.sort(key=lambda x: (x['name'], -x['age'], x['height']))\n```\n\n* JavaScript 정답:\n```JavaScript\ndata.sort((a, b) => {\n    if (a.name !== b.name) {\n        return a.name.localeCompare(b.name);\n    } else if (a.age !== b.age) {\n        return b.age - a.age;\n    } else {\n        return a.height - b.height;\n    }\n});\n```",
      "metadata": {}
    },
    {
      "cell_type": "code",
      "source": "# https://pyalgo.co.kr/?page=12\n\ndef solution(ingredients):\n    n = len(ingredients)\n    \n    # 재료가 1개인 경우\n    if n == 1:\n        return ingredients[0]\n    \n    # 재료가 2개인 경우\n    if n == 2:\n        return max(ingredients[0], ingredients[1])\n    \n    # dp[i]는 i번째 재료까지 고려했을 때 최대로 담을 수 있는 재료의 양\n    dp = [0] * n\n    \n    # 초기값 설정\n    dp[0] = ingredients[0]  # 첫 번째 재료만 선택\n    dp[1] = max(ingredients[0], ingredients[1])  # 첫 번째와 두 번째 중 더 큰 값\n    \n    # 동적 계획법 진행\n    for i in range(2, n):\n        # i번째 재료를 선택하는 경우 (i-1번째 재료는 선택 불가)\n        pick_current = ingredients[i] + dp[i-2]\n        \n        # i번째 재료를 선택하지 않는 경우\n        skip_current = dp[i-1]\n        \n        # 두 경우 중 더 큰 값을 저장\n        dp[i] = max(pick_current, skip_current)\n    \n    return dp[n-1]",
      "metadata": {
        "trusted": true
      },
      "outputs": [],
      "execution_count": null
    },
    {
      "cell_type": "code",
      "source": "import itertools\n\ndata_index = [0, 1, 2, 3, 4, 5, 6, 7]\nlist(itertools.combinations(data_index, 4))\nlist(itertools.combinations(data_index, 3))",
      "metadata": {
        "trusted": true
      },
      "outputs": [
        {
          "execution_count": 97,
          "output_type": "execute_result",
          "data": {
            "text/plain": "[(0, 1, 2),\n (0, 1, 3),\n (0, 1, 4),\n (0, 1, 5),\n (0, 1, 6),\n (0, 1, 7),\n (0, 2, 3),\n (0, 2, 4),\n (0, 2, 5),\n (0, 2, 6),\n (0, 2, 7),\n (0, 3, 4),\n (0, 3, 5),\n (0, 3, 6),\n (0, 3, 7),\n (0, 4, 5),\n (0, 4, 6),\n (0, 4, 7),\n (0, 5, 6),\n (0, 5, 7),\n (0, 6, 7),\n (1, 2, 3),\n (1, 2, 4),\n (1, 2, 5),\n (1, 2, 6),\n (1, 2, 7),\n (1, 3, 4),\n (1, 3, 5),\n (1, 3, 6),\n (1, 3, 7),\n (1, 4, 5),\n (1, 4, 6),\n (1, 4, 7),\n (1, 5, 6),\n (1, 5, 7),\n (1, 6, 7),\n (2, 3, 4),\n (2, 3, 5),\n (2, 3, 6),\n (2, 3, 7),\n (2, 4, 5),\n (2, 4, 6),\n (2, 4, 7),\n (2, 5, 6),\n (2, 5, 7),\n (2, 6, 7),\n (3, 4, 5),\n (3, 4, 6),\n (3, 4, 7),\n (3, 5, 6),\n (3, 5, 7),\n (3, 6, 7),\n (4, 5, 6),\n (4, 5, 7),\n (4, 6, 7),\n (5, 6, 7)]"
          },
          "metadata": {}
        }
      ],
      "execution_count": 97
    }
  ]
}
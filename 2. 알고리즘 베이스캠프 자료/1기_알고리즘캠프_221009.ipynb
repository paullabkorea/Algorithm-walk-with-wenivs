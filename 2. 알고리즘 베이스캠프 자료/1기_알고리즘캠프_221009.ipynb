{
  "nbformat": 4,
  "nbformat_minor": 0,
  "metadata": {
    "colab": {
      "provenance": [],
      "collapsed_sections": [
        "dlqb2rWpSDll",
        "t0Yyg-UfKFJZ"
      ]
    },
    "kernelspec": {
      "name": "python3",
      "display_name": "Python 3"
    },
    "language_info": {
      "name": "python"
    }
  },
  "cells": [
    {
      "cell_type": "markdown",
      "source": [
        "# 2022 알고리즘 캠프\n",
        "\n",
        "* 문제 목록 : https://paullabworkspace.notion.site/2022-1a9af27342374d8b9cf5aafccf1dc849\n",
        "* 모든 문제의 풀이가 있지는 않습니다. 풀이시간을 주신 문제에 한하여 풀이를 하였습니다."
      ],
      "metadata": {
        "id": "cDySp8soFxq_"
      }
    },
    {
      "cell_type": "markdown",
      "source": [
        "# 가장 많이 사용된 알파벳"
      ],
      "metadata": {
        "id": "l-C0TYwdSU4h"
      }
    },
    {
      "cell_type": "code",
      "source": [
        "# https://www.acmicpc.net/problem/1157\n",
        "# 알파벳 대소문자로 된 단어가 주어지면, 이 단어에서 가장 많이 사용된 알파벳이 무엇인지 알아내는 프로그램을 작성하시오. 단, 대문자와 소문자를 구분하지 않는다. 출력은 대문자로 한다."
      ],
      "metadata": {
        "id": "OLP0fP_AYeUz"
      },
      "execution_count": null,
      "outputs": []
    },
    {
      "cell_type": "code",
      "execution_count": null,
      "metadata": {
        "colab": {
          "base_uri": "https://localhost:8080/"
        },
        "id": "_TEMbcBmWlWA",
        "outputId": "8b2a99c7-5858-4e35-835f-7507a1eb9fe8"
      },
      "outputs": [
        {
          "output_type": "stream",
          "name": "stdout",
          "text": [
            "aaabbaabbccc\n"
          ]
        }
      ],
      "source": [
        "txt = 'aaabbAABBCCC'.lower()\n",
        "print(txt)\n",
        "set(txt)\n",
        "s = set(txt)"
      ]
    },
    {
      "cell_type": "code",
      "source": [
        "l = []\n",
        "for i in s:\n",
        "    l.append([i, txt.count(i)])\n",
        "\n",
        "l"
      ],
      "metadata": {
        "colab": {
          "base_uri": "https://localhost:8080/"
        },
        "id": "4L-9fu7EWsTn",
        "outputId": "870b5104-44d7-4449-8c09-270e8496f878"
      },
      "execution_count": null,
      "outputs": [
        {
          "output_type": "execute_result",
          "data": {
            "text/plain": [
              "[['c', 3], ['b', 4], ['a', 5]]"
            ]
          },
          "metadata": {},
          "execution_count": 3
        }
      ]
    },
    {
      "cell_type": "code",
      "source": [
        "l.sort(key=lambda x:x[1], reverse=True)\n",
        "l[0][0].upper()"
      ],
      "metadata": {
        "colab": {
          "base_uri": "https://localhost:8080/",
          "height": 35
        },
        "id": "eTEPp6PyXiTX",
        "outputId": "5dead12b-212d-4996-ac93-b1e408f1f776"
      },
      "execution_count": null,
      "outputs": [
        {
          "output_type": "execute_result",
          "data": {
            "text/plain": [
              "'A'"
            ],
            "application/vnd.google.colaboratory.intrinsic+json": {
              "type": "string"
            }
          },
          "metadata": {},
          "execution_count": 4
        }
      ]
    },
    {
      "cell_type": "code",
      "source": [
        "from collections import Counter\n",
        "\n",
        "sorted(Counter('aaabbAABBCCC'.lower()))"
      ],
      "metadata": {
        "colab": {
          "base_uri": "https://localhost:8080/"
        },
        "id": "qqcRcBG5ZYTx",
        "outputId": "16655e25-42bd-4ddb-a009-179e3eda0be4"
      },
      "execution_count": null,
      "outputs": [
        {
          "output_type": "execute_result",
          "data": {
            "text/plain": [
              "['a', 'b', 'c']"
            ]
          },
          "metadata": {},
          "execution_count": 9
        }
      ]
    },
    {
      "cell_type": "code",
      "source": [
        "sorted(Counter('aaabbAABBCCC'.lower()).items(), key=lambda x:x[1], reverse=True)"
      ],
      "metadata": {
        "colab": {
          "base_uri": "https://localhost:8080/"
        },
        "id": "tGS7v7fUb0Iu",
        "outputId": "25514f6b-2a2a-4728-8632-19c418b5a3d6"
      },
      "execution_count": null,
      "outputs": [
        {
          "output_type": "execute_result",
          "data": {
            "text/plain": [
              "[('a', 5), ('b', 4), ('c', 3)]"
            ]
          },
          "metadata": {},
          "execution_count": 10
        }
      ]
    },
    {
      "cell_type": "code",
      "source": [
        "result = sorted(Counter('aaabbAABBCCC'.lower()).items(), key=lambda x:x[1], reverse=True)\n",
        "\n",
        "if result[0][1] == result[1][1]:\n",
        "    print('?')\n",
        "else:\n",
        "    print(result[0][0].upper())"
      ],
      "metadata": {
        "colab": {
          "base_uri": "https://localhost:8080/"
        },
        "id": "O022jlUacX1j",
        "outputId": "1c0ad125-015d-4321-c85a-d7d5b8671afc"
      },
      "execution_count": null,
      "outputs": [
        {
          "output_type": "stream",
          "name": "stdout",
          "text": [
            "A\n"
          ]
        }
      ]
    },
    {
      "cell_type": "markdown",
      "source": [
        "# H-index"
      ],
      "metadata": {
        "id": "Nn0EqxGRSRI1"
      }
    },
    {
      "cell_type": "code",
      "source": [
        "# https://school.programmers.co.kr/learn/courses/30/lessons/42747\n",
        "# [3, 0, 6, 1, 5]\t3\n",
        "# 이 과학자가 발표한 논문의 수는 5편이고, 그중 3편의 논문은 3회 이상 인용되었습니다. 그리고 나머지 2편의 논문은 3회 이하 인용되었기 때문에 이 과학자의 H-Index는 3입니다."
      ],
      "metadata": {
        "id": "lJLcGaRLeQjo"
      },
      "execution_count": null,
      "outputs": []
    },
    {
      "cell_type": "markdown",
      "source": [
        "```\n",
        "[3, 0, 6, 1, 5]\n",
        "번 인용       편\n",
        "1             4(>=1, true)\n",
        "2             3(>=2, true)\n",
        "3             3(>=3, true)\n",
        "4             2(>=4, false)\n",
        "5             1(>=5, false)\n",
        "6             1(>=6, false)\n",
        "```"
      ],
      "metadata": {
        "id": "nVYspnlclTJq"
      }
    },
    {
      "cell_type": "code",
      "source": [
        "value = [3, 0, 6, 1, 5]\n",
        "maxvalue = [3, 0, 6, 1, 5]\n",
        "\n",
        "# [0, 1, 3, 5, 6] : 3\n",
        "# [0, 1, 2, 5, 6] : 2\n",
        "# [0, 5, 6, 8, 12] : 4"
      ],
      "metadata": {
        "id": "UD71OiB2eeRW"
      },
      "execution_count": null,
      "outputs": []
    },
    {
      "cell_type": "code",
      "source": [
        "# value = [0, 5, 6, 8, 12]\n",
        "# value = [0, 1, 2, 5, 6]\n",
        "value = [3, 0, 6, 1, 5]\n",
        "l = []\n",
        "\n",
        "def 카운팅(i, value):\n",
        "    count = 0\n",
        "    for j in value:\n",
        "        print(j, i)\n",
        "        if j >= i:\n",
        "            count += 1\n",
        "    return count\n",
        "\n",
        "for 인용횟수 in range(1, max(value)):\n",
        "    print(인용횟수)\n",
        "    인용편 = 카운팅(인용횟수, value)\n",
        "    l.append([인용횟수, 인용편, 인용편>=인용횟수])\n",
        "\n",
        "l"
      ],
      "metadata": {
        "colab": {
          "base_uri": "https://localhost:8080/"
        },
        "id": "kuNScjX7fue6",
        "outputId": "563114d0-3816-478a-cf00-68e063a4900b"
      },
      "execution_count": null,
      "outputs": [
        {
          "output_type": "stream",
          "name": "stdout",
          "text": [
            "1\n",
            "3 1\n",
            "0 1\n",
            "6 1\n",
            "1 1\n",
            "5 1\n",
            "2\n",
            "3 2\n",
            "0 2\n",
            "6 2\n",
            "1 2\n",
            "5 2\n",
            "3\n",
            "3 3\n",
            "0 3\n",
            "6 3\n",
            "1 3\n",
            "5 3\n",
            "4\n",
            "3 4\n",
            "0 4\n",
            "6 4\n",
            "1 4\n",
            "5 4\n",
            "5\n",
            "3 5\n",
            "0 5\n",
            "6 5\n",
            "1 5\n",
            "5 5\n"
          ]
        },
        {
          "output_type": "execute_result",
          "data": {
            "text/plain": [
              "[[1, 4, True], [2, 3, True], [3, 3, True], [4, 2, False], [5, 2, False]]"
            ]
          },
          "metadata": {},
          "execution_count": 83
        }
      ]
    },
    {
      "cell_type": "code",
      "source": [
        "value = [0, 5, 6, 8, 12]\n",
        "# value = [0, 1, 2, 5, 6]\n",
        "# value = [3, 0, 6, 1, 5]\n",
        "l = []\n",
        "\n",
        "def 카운팅(i, value):\n",
        "    count = 0\n",
        "    for j in value:\n",
        "        # print(j, i)\n",
        "        if j >= i:\n",
        "            count += 1\n",
        "    return count\n",
        "\n",
        "for 인용횟수 in range(1, max(value)):\n",
        "    # print(인용횟수)\n",
        "    인용편 = 카운팅(인용횟수, value)\n",
        "    l.append([인용횟수, 인용편, 인용편>=인용횟수])\n",
        "\n",
        "list(filter(lambda x:x[2]==True, l))\n",
        "list(filter(lambda x:x[2]==True, l))[-1][0]\n",
        "l"
      ],
      "metadata": {
        "colab": {
          "base_uri": "https://localhost:8080/"
        },
        "id": "QAjEQOrem69M",
        "outputId": "5d9c7893-d688-41bf-c8df-b1bb433d8f40"
      },
      "execution_count": null,
      "outputs": [
        {
          "output_type": "execute_result",
          "data": {
            "text/plain": [
              "[[1, 4, True],\n",
              " [2, 4, True],\n",
              " [3, 4, True],\n",
              " [4, 4, True],\n",
              " [5, 4, False],\n",
              " [6, 3, False],\n",
              " [7, 2, False],\n",
              " [8, 2, False],\n",
              " [9, 1, False],\n",
              " [10, 1, False],\n",
              " [11, 1, False]]"
            ]
          },
          "metadata": {},
          "execution_count": 98
        }
      ]
    },
    {
      "cell_type": "code",
      "source": [
        "def 카운팅(i, 논문):\n",
        "    인용수 = 0\n",
        "    for j in 논문:\n",
        "        # print(j, i)\n",
        "        if j >= i:\n",
        "            인용수 += 1\n",
        "    return 인용수\n",
        "\n",
        "def solution(논문):\n",
        "    ㅣ = []\n",
        "    for 인용횟수 in range(1, max(논문)):\n",
        "    # print(인용횟수)\n",
        "        인용편 = 카운팅(인용횟수, 논문)\n",
        "        l.append([인용횟수, 인용편, 인용편>=인용횟수])\n",
        "\n",
        "    return list(filter(lambda x:x[2]==True, l))[-1][0]\n",
        "\n",
        "# solution([3, 0, 6, 1, 5])\n",
        "solution([0, 1, 2, 5, 6])"
      ],
      "metadata": {
        "colab": {
          "base_uri": "https://localhost:8080/"
        },
        "id": "KF5iAsp4nalC",
        "outputId": "9711b1df-d239-4822-cfc3-abaf85c6003b"
      },
      "execution_count": null,
      "outputs": [
        {
          "output_type": "execute_result",
          "data": {
            "text/plain": [
              "2"
            ]
          },
          "metadata": {},
          "execution_count": 99
        }
      ]
    },
    {
      "cell_type": "code",
      "source": [
        "# 런타임애러\n",
        "def 카운팅(i, 논문):\n",
        "    인용수 = 0\n",
        "    for j in 논문:\n",
        "        # print(j, i)\n",
        "        if j >= i:\n",
        "            인용수 += 1\n",
        "    return 인용수\n",
        "\n",
        "def solution(논문):\n",
        "    l = []\n",
        "    for 인용횟수 in range(1, max(논문)):\n",
        "    # print(인용횟수)\n",
        "        인용편 = 카운팅(인용횟수, 논문)\n",
        "        l.append([인용횟수, 인용편, 인용편>=인용횟수])\n",
        "\n",
        "    return list(filter(lambda x:x[2]==True, l))[-1][0]\n",
        "\n",
        "# solution([3, 0, 6, 1, 5])\n",
        "solution([0, 1, 2, 5, 6])"
      ],
      "metadata": {
        "id": "4DpZy_Pvser0"
      },
      "execution_count": null,
      "outputs": []
    },
    {
      "cell_type": "code",
      "source": [
        "# 런타임애러 해결\n",
        "def 카운팅(i, 논문):\n",
        "    인용수 = 0\n",
        "    for j in 논문:\n",
        "        if j >= i:\n",
        "            인용수 += 1\n",
        "    return 인용수\n",
        "\n",
        "def solution(논문):\n",
        "    h_index = 0\n",
        "    for 인용횟수 in range(1, max(논문)):\n",
        "        인용편 = 카운팅(인용횟수, 논문)\n",
        "        if 인용편 >= 인용횟수:\n",
        "            h_index = 인용횟수\n",
        "        else:\n",
        "            break\n",
        "    return h_index\n",
        "\n",
        "# solution([3, 0, 6, 1, 5])\n",
        "solution([0, 1, 2, 5, 6])"
      ],
      "metadata": {
        "colab": {
          "base_uri": "https://localhost:8080/"
        },
        "id": "Xcr81OM9uoy7",
        "outputId": "e5a7e5f3-bb10-42fb-8596-56527d5edb0c"
      },
      "execution_count": null,
      "outputs": [
        {
          "output_type": "execute_result",
          "data": {
            "text/plain": [
              "3"
            ]
          },
          "metadata": {},
          "execution_count": 100
        }
      ]
    },
    {
      "cell_type": "markdown",
      "source": [
        "# 가장 큰 직사각형"
      ],
      "metadata": {
        "id": "dlqb2rWpSDll"
      }
    },
    {
      "cell_type": "code",
      "source": [
        "# 가장 큰 직사각형\n",
        "# https://leetcode.com/problems/largest-rectangle-in-histogram/"
      ],
      "metadata": {
        "id": "mWO2o0NfSAq5"
      },
      "execution_count": null,
      "outputs": []
    },
    {
      "cell_type": "code",
      "source": [
        "import numpy as np\n",
        "\n",
        "heights = [2,1,5,6,2,3]\n",
        "rect = np.zeros((len(heights), max(heights))) # 옆으로 채워간다\n",
        "rect"
      ],
      "metadata": {
        "colab": {
          "base_uri": "https://localhost:8080/"
        },
        "id": "ftmvfEvwSC8G",
        "outputId": "4efcd10b-648c-4efd-c04a-96b603928ce1"
      },
      "execution_count": null,
      "outputs": [
        {
          "output_type": "execute_result",
          "data": {
            "text/plain": [
              "array([[0., 0., 0., 0., 0., 0.],\n",
              "       [0., 0., 0., 0., 0., 0.],\n",
              "       [0., 0., 0., 0., 0., 0.],\n",
              "       [0., 0., 0., 0., 0., 0.],\n",
              "       [0., 0., 0., 0., 0., 0.],\n",
              "       [0., 0., 0., 0., 0., 0.]])"
            ]
          },
          "metadata": {},
          "execution_count": 31
        }
      ]
    },
    {
      "cell_type": "code",
      "source": [
        "np.ones((1, 5)) + np.ones((1, 5))\n",
        "np.append(np.ones((1, 5)), np.ones((1, 5)))"
      ],
      "metadata": {
        "colab": {
          "base_uri": "https://localhost:8080/"
        },
        "id": "iUE9PkcXT7q_",
        "outputId": "114ae741-e9af-4f22-8e59-d98942749e36"
      },
      "execution_count": null,
      "outputs": [
        {
          "output_type": "execute_result",
          "data": {
            "text/plain": [
              "array([1., 1., 1., 1., 1., 1., 1., 1., 1., 1.])"
            ]
          },
          "metadata": {},
          "execution_count": 32
        }
      ]
    },
    {
      "cell_type": "code",
      "source": [
        "for i in range(len(rect)):\n",
        "    rect[i] = np.append(np.ones((1, heights[i])), np.zeros((1, len(heights) - heights[i])))\n",
        "rect"
      ],
      "metadata": {
        "colab": {
          "base_uri": "https://localhost:8080/"
        },
        "id": "cEQ3KoxCW8B5",
        "outputId": "cb6f169f-f49b-42e4-bd7c-8e1533612a6f"
      },
      "execution_count": null,
      "outputs": [
        {
          "output_type": "execute_result",
          "data": {
            "text/plain": [
              "array([[1., 1., 0., 0., 0., 0.],\n",
              "       [1., 0., 0., 0., 0., 0.],\n",
              "       [1., 1., 1., 1., 1., 0.],\n",
              "       [1., 1., 1., 1., 1., 1.],\n",
              "       [1., 1., 0., 0., 0., 0.],\n",
              "       [1., 1., 1., 0., 0., 0.]])"
            ]
          },
          "metadata": {},
          "execution_count": 33
        }
      ]
    },
    {
      "cell_type": "code",
      "source": [
        "# set(heights)를 순회하며 최댓값을 구하여 해당 직사각형을 sum으로 연산\n",
        "# shape 비교도 가능함"
      ],
      "metadata": {
        "id": "m6zSDpJNXUB-"
      },
      "execution_count": null,
      "outputs": []
    },
    {
      "cell_type": "code",
      "source": [
        "rect.T"
      ],
      "metadata": {
        "colab": {
          "base_uri": "https://localhost:8080/"
        },
        "id": "BH1j-Z5zSoJJ",
        "outputId": "5a1aa88e-5aa8-4179-b402-f759b570ad9d"
      },
      "execution_count": null,
      "outputs": [
        {
          "output_type": "execute_result",
          "data": {
            "text/plain": [
              "array([[1., 1., 1., 1., 1., 1.],\n",
              "       [1., 0., 1., 1., 1., 1.],\n",
              "       [0., 0., 1., 1., 0., 1.],\n",
              "       [0., 0., 1., 1., 0., 0.],\n",
              "       [0., 0., 1., 1., 0., 0.],\n",
              "       [0., 0., 0., 1., 0., 0.]])"
            ]
          },
          "metadata": {},
          "execution_count": 37
        }
      ]
    },
    {
      "cell_type": "code",
      "source": [
        "합 = []\n",
        "for i in range(len(rect.T)):\n",
        "    부분합 = 0\n",
        "    for j in range(len(rect.T[i])):\n",
        "        # print(i, j)\n",
        "        if rect.T[i][j] == 0:\n",
        "            합.append([i, 부분합])\n",
        "            부분합 = 0\n",
        "        else:\n",
        "            부분합 += 1\n",
        "        if j == len(rect.T[i]) - 1:\n",
        "            합.append([i, 부분합])\n",
        "        # print(부분합)\n",
        "\n",
        "합"
      ],
      "metadata": {
        "colab": {
          "base_uri": "https://localhost:8080/"
        },
        "id": "uF8RNKPUXUZ1",
        "outputId": "5e01c1de-bd85-4a27-c4c1-be1e094655ae"
      },
      "execution_count": null,
      "outputs": [
        {
          "output_type": "execute_result",
          "data": {
            "text/plain": [
              "[[0, 6],\n",
              " [1, 1],\n",
              " [1, 4],\n",
              " [2, 0],\n",
              " [2, 0],\n",
              " [2, 2],\n",
              " [2, 1],\n",
              " [3, 0],\n",
              " [3, 0],\n",
              " [3, 2],\n",
              " [3, 0],\n",
              " [3, 0],\n",
              " [4, 0],\n",
              " [4, 0],\n",
              " [4, 2],\n",
              " [4, 0],\n",
              " [4, 0],\n",
              " [5, 0],\n",
              " [5, 0],\n",
              " [5, 0],\n",
              " [5, 1],\n",
              " [5, 0],\n",
              " [5, 0]]"
            ]
          },
          "metadata": {},
          "execution_count": 59
        }
      ]
    },
    {
      "cell_type": "code",
      "source": [
        "합 = []\n",
        "for i in range(len(rect.T)):\n",
        "    부분합 = 0\n",
        "    for j in range(len(rect.T[i])):\n",
        "        # print(i, j)\n",
        "        if rect.T[i][j] == 0:\n",
        "            합.append([i, 부분합 * (i+1)])\n",
        "            부분합 = 0\n",
        "        else:\n",
        "            부분합 += 1\n",
        "        if j == len(rect.T[i]) - 1:\n",
        "            합.append([i, 부분합 * (i+1)])\n",
        "        # print(부분합)\n",
        "\n",
        "합"
      ],
      "metadata": {
        "colab": {
          "base_uri": "https://localhost:8080/"
        },
        "id": "5ybmjchJS7_f",
        "outputId": "b60709b1-de44-4d14-bb44-d3f13a45172b"
      },
      "execution_count": null,
      "outputs": [
        {
          "output_type": "execute_result",
          "data": {
            "text/plain": [
              "[[0, 6],\n",
              " [1, 2],\n",
              " [1, 8],\n",
              " [2, 0],\n",
              " [2, 0],\n",
              " [2, 6],\n",
              " [2, 3],\n",
              " [3, 0],\n",
              " [3, 0],\n",
              " [3, 8],\n",
              " [3, 0],\n",
              " [3, 0],\n",
              " [4, 0],\n",
              " [4, 0],\n",
              " [4, 10],\n",
              " [4, 0],\n",
              " [4, 0],\n",
              " [5, 0],\n",
              " [5, 0],\n",
              " [5, 0],\n",
              " [5, 6],\n",
              " [5, 0],\n",
              " [5, 0]]"
            ]
          },
          "metadata": {},
          "execution_count": 60
        }
      ]
    },
    {
      "cell_type": "code",
      "source": [
        "sorted(합, key=lambda x:x[1], reverse=True)"
      ],
      "metadata": {
        "colab": {
          "base_uri": "https://localhost:8080/"
        },
        "id": "vUPEwHxeditD",
        "outputId": "00352def-7e3a-4b05-c4f1-10a8a44e6ea4"
      },
      "execution_count": null,
      "outputs": [
        {
          "output_type": "execute_result",
          "data": {
            "text/plain": [
              "[[4, 10],\n",
              " [1, 8],\n",
              " [3, 8],\n",
              " [0, 6],\n",
              " [2, 6],\n",
              " [5, 6],\n",
              " [2, 3],\n",
              " [1, 2],\n",
              " [2, 0],\n",
              " [2, 0],\n",
              " [3, 0],\n",
              " [3, 0],\n",
              " [3, 0],\n",
              " [3, 0],\n",
              " [4, 0],\n",
              " [4, 0],\n",
              " [4, 0],\n",
              " [4, 0],\n",
              " [5, 0],\n",
              " [5, 0],\n",
              " [5, 0],\n",
              " [5, 0],\n",
              " [5, 0]]"
            ]
          },
          "metadata": {},
          "execution_count": 61
        }
      ]
    },
    {
      "cell_type": "code",
      "source": [
        "sorted(합, key=lambda x:x[1], reverse=True)[0][1]"
      ],
      "metadata": {
        "colab": {
          "base_uri": "https://localhost:8080/"
        },
        "id": "ziPH8GUEdrsy",
        "outputId": "0dd79cfd-9711-419b-c0d3-533ae88d689e"
      },
      "execution_count": null,
      "outputs": [
        {
          "output_type": "execute_result",
          "data": {
            "text/plain": [
              "10"
            ]
          },
          "metadata": {},
          "execution_count": 63
        }
      ]
    },
    {
      "cell_type": "markdown",
      "source": [
        "# 스킬트리"
      ],
      "metadata": {
        "id": "t0Yyg-UfKFJZ"
      }
    },
    {
      "cell_type": "code",
      "source": [
        "# 스킬트리\n",
        "# https://school.programmers.co.kr/learn/courses/30/lessons/49993\n",
        "# \"CBD\" [\"BACDE\", \"CBADF\", \"AECB\", \"BDA\"] 2"
      ],
      "metadata": {
        "id": "IDNCwTvAfneI"
      },
      "execution_count": null,
      "outputs": []
    },
    {
      "cell_type": "code",
      "source": [
        "# 일반적인 문자열 찾는 알고리즘으로 해당 패턴이 있는지만 확인(정답 X)\n",
        "import re\n",
        "\n",
        "p = re.compile(\"CBD\")\n",
        "p"
      ],
      "metadata": {
        "colab": {
          "base_uri": "https://localhost:8080/"
        },
        "id": "oKHZsyXTnmBS",
        "outputId": "b229a2b5-ca98-4eec-ab61-d8b1549bdef0"
      },
      "execution_count": null,
      "outputs": [
        {
          "output_type": "execute_result",
          "data": {
            "text/plain": [
              "re.compile(r'CBD', re.UNICODE)"
            ]
          },
          "metadata": {},
          "execution_count": 24
        }
      ]
    },
    {
      "cell_type": "code",
      "source": [
        "p.findall(\"BACDE\")\n",
        "p.findall(\"CDBDACDE\")"
      ],
      "metadata": {
        "colab": {
          "base_uri": "https://localhost:8080/"
        },
        "id": "jRtNY5_4nuCs",
        "outputId": "73f93276-5180-4514-cac2-250f9d7e84e6"
      },
      "execution_count": null,
      "outputs": [
        {
          "output_type": "execute_result",
          "data": {
            "text/plain": [
              "[]"
            ]
          },
          "metadata": {},
          "execution_count": 27
        }
      ]
    },
    {
      "cell_type": "code",
      "source": [
        "import re\n",
        "\n",
        "p = re.compile(\"[a-zA-Z]*[C][a-zA-Z]*[B][a-zA-Z]*[D][a-zA-Z]*\")\n",
        "p"
      ],
      "metadata": {
        "colab": {
          "base_uri": "https://localhost:8080/"
        },
        "id": "P9tn6pLn9_rw",
        "outputId": "ef20a15c-9f7a-4c92-e43f-74b5cb208ea2"
      },
      "execution_count": null,
      "outputs": [
        {
          "output_type": "execute_result",
          "data": {
            "text/plain": [
              "re.compile(r'[a-zA-Z]*[C][a-zA-Z]*[B][a-zA-Z]*[D][a-zA-Z]*', re.UNICODE)"
            ]
          },
          "metadata": {},
          "execution_count": 1
        }
      ]
    },
    {
      "cell_type": "code",
      "source": [
        "p.findall(\"AAABBDACDE\")"
      ],
      "metadata": {
        "colab": {
          "base_uri": "https://localhost:8080/"
        },
        "id": "t0zK-dZV-BSx",
        "outputId": "468df097-d1f6-4115-c3ff-92aa9d80c013"
      },
      "execution_count": null,
      "outputs": [
        {
          "output_type": "execute_result",
          "data": {
            "text/plain": [
              "[]"
            ]
          },
          "metadata": {},
          "execution_count": 5
        }
      ]
    },
    {
      "cell_type": "code",
      "source": [
        "list(\"CBD\")"
      ],
      "metadata": {
        "colab": {
          "base_uri": "https://localhost:8080/"
        },
        "id": "M3ILspFyMkwR",
        "outputId": "6fc07850-804b-436a-aa77-f43e6edc012f"
      },
      "execution_count": null,
      "outputs": [
        {
          "output_type": "execute_result",
          "data": {
            "text/plain": [
              "['C', 'B', 'D']"
            ]
          },
          "metadata": {},
          "execution_count": 12
        }
      ]
    },
    {
      "cell_type": "code",
      "source": [
        "import re\n",
        "\n",
        "def solution(스킬, 스킬트리):\n",
        "    갯수  = 0\n",
        "    패턴 = ''\n",
        "    패턴조각 = list(스킬)\n",
        "    정답 = 0\n",
        "    print(패턴조각)\n",
        "    if len(패턴조각) == 1:\n",
        "        패턴 = '[a-zA-Z]*[' + 패턴조각[0] + '][a-zA-Z]*'\n",
        "    else:\n",
        "        for i in 패턴조각:\n",
        "            print(i)\n",
        "            패턴 = 패턴 + '][a-zA-Z]*[' + i\n",
        "        패턴 = 패턴[1:] + '][a-zA-Z]*'\n",
        "\n",
        "    패턴 = re.compile(패턴)\n",
        "    for i in 스킬트리:\n",
        "        if(패턴.findall(i)): 정답 += 1\n",
        "\n",
        "    return 정답\n",
        "\n",
        "print(solution(\"CBD\", [\"BACDE\", \"CBADF\", \"AECB\", \"BDA\"]))"
      ],
      "metadata": {
        "colab": {
          "base_uri": "https://localhost:8080/"
        },
        "id": "2RNNixDcmsfw",
        "outputId": "50881921-a9d5-417f-a646-fd7bfc9bc79d"
      },
      "execution_count": null,
      "outputs": [
        {
          "output_type": "stream",
          "name": "stdout",
          "text": [
            "['C', 'B', 'D']\n",
            "C\n",
            "B\n",
            "D\n",
            "1\n"
          ]
        }
      ]
    },
    {
      "cell_type": "code",
      "source": [
        "# 정답코드\n",
        "\n",
        "import re\n",
        "\n",
        "def solution(스킬, 스킬트리):\n",
        "    정답 = 0\n",
        "    임시스킬 = f'[{스킬}]'\n",
        "    트리길이 = len(스킬트리)\n",
        "    패턴 = re.compile(f'{임시스킬}')\n",
        "    for i in range(트리길이):\n",
        "        스킬문자열들 = ''.join(패턴.findall(스킬트리[i])) \n",
        "        # print(스킬문자열들)\n",
        "        for 하나, 둘 in zip(스킬, 스킬문자열들):\n",
        "            if 하나 != 둘: break\n",
        "        else: 정답 += 1\n",
        "    return 정답\n",
        "\n",
        "print(solution(\"CBD\", [\"BACDE\", \"CBADF\", \"AECB\", \"BDA\"]))"
      ],
      "metadata": {
        "colab": {
          "base_uri": "https://localhost:8080/"
        },
        "id": "bxWLMpWuPoXr",
        "outputId": "9f7d8a48-cf06-4d21-9eeb-2320b692a32b"
      },
      "execution_count": null,
      "outputs": [
        {
          "output_type": "stream",
          "name": "stdout",
          "text": [
            "2\n"
          ]
        }
      ]
    },
    {
      "cell_type": "code",
      "source": [
        "# 프로그래머스의 풀이\n",
        "def solution(skill, skill_trees):\n",
        "    def check(skill,branch):\n",
        "        branch=list(filter(lambda x:x in skill,branch))\n",
        "        checked=0\n",
        "        for b in branch:\n",
        "            if skill[checked]==b:\n",
        "                checked=checked+1\n",
        "            else:\n",
        "                return 0\n",
        "        return 1\n",
        "    return sum(list(map(lambda x:check(skill,x),skill_trees)))"
      ],
      "metadata": {
        "id": "PXqFVIORR5HW"
      },
      "execution_count": null,
      "outputs": []
    }
  ]
}
{
  "nbformat": 4,
  "nbformat_minor": 0,
  "metadata": {
    "colab": {
      "provenance": []
    },
    "kernelspec": {
      "name": "python3",
      "display_name": "Python 3"
    },
    "language_info": {
      "name": "python"
    }
  },
  "cells": [
    {
      "cell_type": "markdown",
      "source": [
        "# 1번"
      ],
      "metadata": {
        "id": "E1IeZre0Kd1n"
      }
    },
    {
      "cell_type": "code",
      "source": [
        "'  + +-+ -+-  '.replace(' ', '').replace('+', '1').replace('-', '0')"
      ],
      "metadata": {
        "colab": {
          "base_uri": "https://localhost:8080/",
          "height": 35
        },
        "id": "QWmNFkFnKdbT",
        "outputId": "07ad788c-efa9-4649-8035-f0e1437c4a32"
      },
      "execution_count": 1,
      "outputs": [
        {
          "output_type": "execute_result",
          "data": {
            "text/plain": [
              "'1101010'"
            ],
            "application/vnd.google.colaboratory.intrinsic+json": {
              "type": "string"
            }
          },
          "metadata": {},
          "execution_count": 1
        }
      ]
    },
    {
      "cell_type": "code",
      "source": [
        "'  + +-+ -+-  '.strip() # 안에 공백이 어떤 의미를 지니고 있었을 경우"
      ],
      "metadata": {
        "colab": {
          "base_uri": "https://localhost:8080/",
          "height": 35
        },
        "id": "VG4IRy7rKqC4",
        "outputId": "a2109c46-f042-45bf-994f-1b5cf1351016"
      },
      "execution_count": 2,
      "outputs": [
        {
          "output_type": "execute_result",
          "data": {
            "text/plain": [
              "'+ +-+ -+-'"
            ],
            "application/vnd.google.colaboratory.intrinsic+json": {
              "type": "string"
            }
          },
          "metadata": {},
          "execution_count": 2
        }
      ]
    },
    {
      "cell_type": "code",
      "source": [
        "chr(65)"
      ],
      "metadata": {
        "colab": {
          "base_uri": "https://localhost:8080/",
          "height": 35
        },
        "id": "xbfi1fSfK0rM",
        "outputId": "c4a83c3b-c97e-407f-a8b3-9c6c65d4f0ae"
      },
      "execution_count": 3,
      "outputs": [
        {
          "output_type": "execute_result",
          "data": {
            "text/plain": [
              "'A'"
            ],
            "application/vnd.google.colaboratory.intrinsic+json": {
              "type": "string"
            }
          },
          "metadata": {},
          "execution_count": 3
        }
      ]
    },
    {
      "cell_type": "code",
      "source": [
        "ord('A')"
      ],
      "metadata": {
        "colab": {
          "base_uri": "https://localhost:8080/"
        },
        "id": "-vzEi_OCK2jV",
        "outputId": "fc306b15-4b3a-47ac-c06e-6307ea5adcc1"
      },
      "execution_count": 4,
      "outputs": [
        {
          "output_type": "execute_result",
          "data": {
            "text/plain": [
              "65"
            ]
          },
          "metadata": {},
          "execution_count": 4
        }
      ]
    },
    {
      "cell_type": "code",
      "source": [
        "bin(65)[2:]"
      ],
      "metadata": {
        "colab": {
          "base_uri": "https://localhost:8080/",
          "height": 35
        },
        "id": "PM-RX3AzK8Ts",
        "outputId": "4a8c6716-449f-4e09-9ee3-9d07f0a280ed"
      },
      "execution_count": 7,
      "outputs": [
        {
          "output_type": "execute_result",
          "data": {
            "text/plain": [
              "'1000001'"
            ],
            "application/vnd.google.colaboratory.intrinsic+json": {
              "type": "string"
            }
          },
          "metadata": {},
          "execution_count": 7
        }
      ]
    },
    {
      "cell_type": "code",
      "source": [
        "chr(1000001)"
      ],
      "metadata": {
        "colab": {
          "base_uri": "https://localhost:8080/",
          "height": 35
        },
        "id": "D1bhBv14LCPQ",
        "outputId": "076c9db7-1e2f-4e01-940c-c11194968d0c"
      },
      "execution_count": 8,
      "outputs": [
        {
          "output_type": "execute_result",
          "data": {
            "text/plain": [
              "'\\U000f4241'"
            ],
            "application/vnd.google.colaboratory.intrinsic+json": {
              "type": "string"
            }
          },
          "metadata": {},
          "execution_count": 8
        }
      ]
    },
    {
      "cell_type": "code",
      "source": [
        "int('1000001', 2)"
      ],
      "metadata": {
        "colab": {
          "base_uri": "https://localhost:8080/"
        },
        "id": "d0iLvg0ALQK6",
        "outputId": "8e7749e4-5704-4b50-fe5d-6a5d06194dbe"
      },
      "execution_count": 12,
      "outputs": [
        {
          "output_type": "execute_result",
          "data": {
            "text/plain": [
              "65"
            ]
          },
          "metadata": {},
          "execution_count": 12
        }
      ]
    },
    {
      "cell_type": "code",
      "source": [
        "chr(int('1000001', 2))"
      ],
      "metadata": {
        "colab": {
          "base_uri": "https://localhost:8080/",
          "height": 35
        },
        "id": "9LzOHusmLGmu",
        "outputId": "4eb27a5e-ec49-43ef-9b56-11fdbadda516"
      },
      "execution_count": 11,
      "outputs": [
        {
          "output_type": "execute_result",
          "data": {
            "text/plain": [
              "'A'"
            ],
            "application/vnd.google.colaboratory.intrinsic+json": {
              "type": "string"
            }
          },
          "metadata": {},
          "execution_count": 11
        }
      ]
    },
    {
      "cell_type": "code",
      "execution_count": null,
      "metadata": {
        "id": "oB1fJCKyJvYE"
      },
      "outputs": [],
      "source": [
        "def solution(data):\n",
        "    s = ''\n",
        "    for i in data:\n",
        "        s += chr(int(i.replace(' ', '').replace('+', '1').replace('-', '0'), 2))\n",
        "    return s"
      ]
    },
    {
      "cell_type": "markdown",
      "source": [
        "# 2번"
      ],
      "metadata": {
        "id": "EV5JJ9INLSkt"
      }
    },
    {
      "cell_type": "code",
      "source": [
        "import re\n",
        "\n",
        "re.findall('[1-9]',  'a10b9r1ce33uab8wc918v2cv11v9')"
      ],
      "metadata": {
        "colab": {
          "base_uri": "https://localhost:8080/"
        },
        "id": "MAaGMvPBLW3B",
        "outputId": "95da6e9e-b91a-4179-e8be-44237a233883"
      },
      "execution_count": 15,
      "outputs": [
        {
          "output_type": "execute_result",
          "data": {
            "text/plain": [
              "['1', '9', '1', '3', '3', '8', '9', '1', '8', '2', '1', '1', '9']"
            ]
          },
          "metadata": {},
          "execution_count": 15
        }
      ]
    },
    {
      "cell_type": "code",
      "source": [
        "import re\n",
        "\n",
        "re.findall('[rev][1-9]',  'a10b9r1ce33uab8wc918v2cv11v9')"
      ],
      "metadata": {
        "colab": {
          "base_uri": "https://localhost:8080/"
        },
        "id": "Gs-tgqPHL0-x",
        "outputId": "7a089730-baf7-4fc2-b33d-7f0e5f7ef505"
      },
      "execution_count": 18,
      "outputs": [
        {
          "output_type": "execute_result",
          "data": {
            "text/plain": [
              "['r1', 'e3', 'v2', 'v1', 'v9']"
            ]
          },
          "metadata": {},
          "execution_count": 18
        }
      ]
    },
    {
      "cell_type": "code",
      "source": [
        "import re\n",
        "\n",
        "re.findall('([rev])([1-9]|10)',  'a10b9r10ce33uab8wc918v2cv11v9') # r뒤를 10으로 바꾸었을 때"
      ],
      "metadata": {
        "colab": {
          "base_uri": "https://localhost:8080/"
        },
        "id": "WM60LUJdbhuf",
        "outputId": "1cc7571c-ccb7-4967-d25e-c3682e2746f6"
      },
      "execution_count": 29,
      "outputs": [
        {
          "output_type": "execute_result",
          "data": {
            "text/plain": [
              "[('r', '1'), ('e', '3'), ('v', '2'), ('v', '1'), ('v', '9')]"
            ]
          },
          "metadata": {},
          "execution_count": 29
        }
      ]
    },
    {
      "cell_type": "code",
      "source": [
        "import re\n",
        "\n",
        "re.findall('([rev])(10|[1-9])',  'a10b9r10ce33uab8wc918v2cv11v9')"
      ],
      "metadata": {
        "colab": {
          "base_uri": "https://localhost:8080/"
        },
        "id": "bXnM3K43ML-I",
        "outputId": "6e17c8bc-4baf-4677-f33a-e2e68146d9ae"
      },
      "execution_count": 28,
      "outputs": [
        {
          "output_type": "execute_result",
          "data": {
            "text/plain": [
              "[('r', '10'), ('e', '3'), ('v', '2'), ('v', '1'), ('v', '9')]"
            ]
          },
          "metadata": {},
          "execution_count": 28
        }
      ]
    },
    {
      "cell_type": "code",
      "source": [
        "import re # pyalgo에서는 처음에 import re만 넣어서 모듈을 포함시켜 주어야 함\n",
        "\n",
        "def solution(data):\n",
        "    s = 0\n",
        "    data = re.findall('([rev])(10|[1-9])',  data)\n",
        "    for i, j in data:\n",
        "        s += int(j)\n",
        "    return f'{str(s)[0]}월 {str(s)[1]}일'"
      ],
      "metadata": {
        "id": "r45fvbc0mDlf"
      },
      "execution_count": null,
      "outputs": []
    },
    {
      "cell_type": "code",
      "source": [
        "from collections import Counter # 예를 들어 이런 모듈을 포함시키고 싶을 때\n",
        "\n",
        "def solution(data):\n",
        "    return str(Counter([1, 1, 1, 1, 2, 2]))"
      ],
      "metadata": {
        "colab": {
          "base_uri": "https://localhost:8080/"
        },
        "id": "E_jcMZXHu5af",
        "outputId": "8ea5468c-c3fc-420f-826d-0bb59948801a"
      },
      "execution_count": 30,
      "outputs": [
        {
          "output_type": "execute_result",
          "data": {
            "text/plain": [
              "Counter({1: 4, 2: 2})"
            ]
          },
          "metadata": {},
          "execution_count": 30
        }
      ]
    },
    {
      "cell_type": "markdown",
      "source": [
        "# 코드 스니펫\n",
        "\n",
        "```python\n",
        "import re\n",
        "\n",
        "re.sub('A', '', 'abcde12345ABCDEabcde12345ABCDE')\n",
        "re.sub('[a-z]', '', 'abcde12345ABCDEabcde12345ABCDE')\n",
        "re.sub('[123]', '', 'abcde12345ABCDEabcde12345ABCDE')\n",
        "re.sub('[135]', '', 'abcde12345ABCDEabcde12345ABCDE')\n",
        "re.sub('[a-zA-Z]', '', 'abcde12345ABCDEabcde12345ABCDE')\n",
        "re.sub('[0-9]', '', 'abcde12345ABCDEabcde12345ABCDE')\n",
        "re.sub('[a-zA-Z]', '', 'aAb1B2cC34oOp')\n",
        "list(re.sub('[a-zA-Z]', '', 'aAb1B2cC34oOp'))\n",
        "list(map(int, list(re.sub('[a-zA-Z]', '', 'aAb1B2cC34oOp'))))\n",
        "# list(map(lambda x:int(x), list(re.sub('[a-zA-Z]', '', 'aAb1B2cC34oOp'))))\n",
        "map(int, list(re.sub('[a-zA-Z]', '', 'aAb1B2cC34oOp')))\n",
        "sum(map(int, list(re.sub('[a-zA-Z]', '', 'aAb1B2cC34oOp'))))\n",
        "\n",
        "re.findall('[0-9]', 'aAb1B2cC34oOp')\n",
        "sum(map(int, re.findall('[0-9]', 'aAb1B2cC34oOp')))\n",
        "\n",
        "if True: print('hello')\n",
        "print('if') if True else print('else')\n",
        "1 if True else 2\n",
        "1 if False else 2\n",
        "\n",
        "\n",
        "result = 0\n",
        "for i in 'hello134':\n",
        "    if i.isdigit():\n",
        "        result += int(i)\n",
        "\n",
        "'1'.isdigit()\n",
        "'t'.isdigit()\n",
        "'1'.isnumeric()\n",
        "'t'.isnumeric()\n",
        "'abc'.islower()\n",
        "'aBc'.islower()\n",
        "'abc'.isalpha()\n",
        "'abc123'.isalpha()\n",
        "```"
      ],
      "metadata": {
        "id": "FJzQd9bnKDkA"
      }
    },
    {
      "cell_type": "code",
      "source": [],
      "metadata": {
        "id": "efdSX465KFZ-"
      },
      "execution_count": null,
      "outputs": []
    }
  ]
}
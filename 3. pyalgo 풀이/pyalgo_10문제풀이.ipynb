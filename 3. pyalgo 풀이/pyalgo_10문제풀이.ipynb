{
  "nbformat": 4,
  "nbformat_minor": 0,
  "metadata": {
    "colab": {
      "provenance": []
    },
    "kernelspec": {
      "name": "python3",
      "display_name": "Python 3"
    },
    "language_info": {
      "name": "python"
    }
  },
  "cells": [
    {
      "cell_type": "markdown",
      "source": [
        "# 1번"
      ],
      "metadata": {
        "id": "W8Wc3NubmQPM"
      }
    },
    {
      "cell_type": "code",
      "execution_count": null,
      "metadata": {
        "id": "b6ZCAYVJmIUk"
      },
      "outputs": [],
      "source": [
        "\"  + +-+ -+-  \"\n",
        "\"  ++ -- +-+  \"\n",
        "\"  ++-+ -+ -  \"\n",
        "\"  + ++-+ -+  \""
      ]
    },
    {
      "cell_type": "code",
      "source": [
        "\"  + +-+ -+-  \".replace(\" \", \"\").replace(\"+\", \"1\").replace(\"-\", \"0\")"
      ],
      "metadata": {
        "colab": {
          "base_uri": "https://localhost:8080/",
          "height": 35
        },
        "id": "LxvGFQqRnV4j",
        "outputId": "9227826b-c081-4a1a-e5d1-bf867708ca4c"
      },
      "execution_count": null,
      "outputs": [
        {
          "output_type": "execute_result",
          "data": {
            "text/plain": [
              "'1101010'"
            ],
            "application/vnd.google.colaboratory.intrinsic+json": {
              "type": "string"
            }
          },
          "metadata": {},
          "execution_count": 1
        }
      ]
    },
    {
      "cell_type": "code",
      "source": [
        "chr(65)"
      ],
      "metadata": {
        "colab": {
          "base_uri": "https://localhost:8080/",
          "height": 35
        },
        "id": "xZkTR_f3ndqc",
        "outputId": "b0c0b3f8-1aaa-4294-eb9f-45348517054a"
      },
      "execution_count": null,
      "outputs": [
        {
          "output_type": "execute_result",
          "data": {
            "text/plain": [
              "'A'"
            ],
            "application/vnd.google.colaboratory.intrinsic+json": {
              "type": "string"
            }
          },
          "metadata": {},
          "execution_count": 2
        }
      ]
    },
    {
      "cell_type": "code",
      "source": [
        "ord('A')"
      ],
      "metadata": {
        "colab": {
          "base_uri": "https://localhost:8080/"
        },
        "id": "Zdw3LJRbn57f",
        "outputId": "7cd9fc81-21ea-4e0a-adc8-34a35c238613"
      },
      "execution_count": null,
      "outputs": [
        {
          "output_type": "execute_result",
          "data": {
            "text/plain": [
              "65"
            ]
          },
          "metadata": {},
          "execution_count": 3
        }
      ]
    },
    {
      "cell_type": "code",
      "source": [
        "bin(65)[2:]"
      ],
      "metadata": {
        "colab": {
          "base_uri": "https://localhost:8080/",
          "height": 35
        },
        "id": "E0jmthRaoDMB",
        "outputId": "64ce8af1-14d8-46db-a219-18e23cd56025"
      },
      "execution_count": null,
      "outputs": [
        {
          "output_type": "execute_result",
          "data": {
            "text/plain": [
              "'1000001'"
            ],
            "application/vnd.google.colaboratory.intrinsic+json": {
              "type": "string"
            }
          },
          "metadata": {},
          "execution_count": 5
        }
      ]
    },
    {
      "cell_type": "code",
      "source": [
        "int('1101010', 2)"
      ],
      "metadata": {
        "colab": {
          "base_uri": "https://localhost:8080/"
        },
        "id": "SoVpNfwhoBSI",
        "outputId": "37331688-ac95-4746-ae48-be4aa39212ee"
      },
      "execution_count": null,
      "outputs": [
        {
          "output_type": "execute_result",
          "data": {
            "text/plain": [
              "106"
            ]
          },
          "metadata": {},
          "execution_count": 6
        }
      ]
    },
    {
      "cell_type": "code",
      "source": [
        "chr(106)"
      ],
      "metadata": {
        "colab": {
          "base_uri": "https://localhost:8080/",
          "height": 35
        },
        "id": "YcVm6S5CoQhC",
        "outputId": "4b3d8d6c-78e0-40ef-ac27-879b259a4b8f"
      },
      "execution_count": null,
      "outputs": [
        {
          "output_type": "execute_result",
          "data": {
            "text/plain": [
              "'j'"
            ],
            "application/vnd.google.colaboratory.intrinsic+json": {
              "type": "string"
            }
          },
          "metadata": {},
          "execution_count": 7
        }
      ]
    },
    {
      "cell_type": "code",
      "source": [
        "def solution(data):\n",
        "    result = ''\n",
        "    for i in data:\n",
        "        result += chr(int(i.replace(\" \", \"\").replace(\"+\", \"1\").replace(\"-\", \"0\"),2))\n",
        "    return result\n",
        "\n",
        "solution([' + - - + - + - ', ' + + + - + - + ', ' + + - + + + - '])\n",
        "solution([' + + + - - + + ', ' + + + - + - - ', '++----+', '+++ --+ -', '+++-+ - -'])"
      ],
      "metadata": {
        "colab": {
          "base_uri": "https://localhost:8080/",
          "height": 35
        },
        "id": "rnXHq-sMoaOu",
        "outputId": "ffdcf4d2-1b73-481c-f96b-bbae0514d2a2"
      },
      "execution_count": null,
      "outputs": [
        {
          "output_type": "execute_result",
          "data": {
            "text/plain": [
              "'start'"
            ],
            "application/vnd.google.colaboratory.intrinsic+json": {
              "type": "string"
            }
          },
          "metadata": {},
          "execution_count": 11
        }
      ]
    },
    {
      "cell_type": "markdown",
      "source": [
        "# 2번"
      ],
      "metadata": {
        "id": "Vf4A8T5qsMT-"
      }
    },
    {
      "cell_type": "code",
      "source": [
        "r'hello world'"
      ],
      "metadata": {
        "colab": {
          "base_uri": "https://localhost:8080/",
          "height": 35
        },
        "id": "BEjlEf9_tVqL",
        "outputId": "d34dd2b6-6845-4ee0-a0ce-a1bcc063e79f"
      },
      "execution_count": null,
      "outputs": [
        {
          "output_type": "execute_result",
          "data": {
            "text/plain": [
              "'hello world'"
            ],
            "application/vnd.google.colaboratory.intrinsic+json": {
              "type": "string"
            }
          },
          "metadata": {},
          "execution_count": 12
        }
      ]
    },
    {
      "cell_type": "code",
      "source": [
        "r'hello \\n world'"
      ],
      "metadata": {
        "colab": {
          "base_uri": "https://localhost:8080/",
          "height": 35
        },
        "id": "Lb6vAv6ZtZv7",
        "outputId": "bb0ae91c-7a89-4706-9894-8a6472763b84"
      },
      "execution_count": null,
      "outputs": [
        {
          "output_type": "execute_result",
          "data": {
            "text/plain": [
              "'hello \\\\n world'"
            ],
            "application/vnd.google.colaboratory.intrinsic+json": {
              "type": "string"
            }
          },
          "metadata": {},
          "execution_count": 13
        }
      ]
    },
    {
      "cell_type": "code",
      "source": [
        "import re\n",
        "\n",
        "re.findall('[0-9]', 'a10b9r1ce33uab8wc918v2cv11v9')"
      ],
      "metadata": {
        "colab": {
          "base_uri": "https://localhost:8080/"
        },
        "id": "PknFJRfBsNv8",
        "outputId": "427faeaf-2f49-4d87-df85-bedbc6e53ae2"
      },
      "execution_count": null,
      "outputs": [
        {
          "output_type": "execute_result",
          "data": {
            "text/plain": [
              "['1', '0', '9', '1', '3', '3', '8', '9', '1', '8', '2', '1', '1', '9']"
            ]
          },
          "metadata": {},
          "execution_count": 14
        }
      ]
    },
    {
      "cell_type": "code",
      "source": [
        "import re\n",
        "\n",
        "re.findall('[rev][0-9]', 'a10b9r1ce33uab8wc918v2cv11v9')"
      ],
      "metadata": {
        "colab": {
          "base_uri": "https://localhost:8080/"
        },
        "id": "5p96rbM0uFos",
        "outputId": "777455ec-8ea1-49e9-b70f-fa4aea254adb"
      },
      "execution_count": null,
      "outputs": [
        {
          "output_type": "execute_result",
          "data": {
            "text/plain": [
              "['r1', 'e3', 'v2', 'v1', 'v9']"
            ]
          },
          "metadata": {},
          "execution_count": 15
        }
      ]
    },
    {
      "cell_type": "code",
      "source": [
        "1 + 3 + 2 + 1 + 9"
      ],
      "metadata": {
        "colab": {
          "base_uri": "https://localhost:8080/"
        },
        "id": "cZScQZV3uK63",
        "outputId": "8a498b9a-1aa4-4fab-fd7d-e81352dc441f"
      },
      "execution_count": null,
      "outputs": [
        {
          "output_type": "execute_result",
          "data": {
            "text/plain": [
              "16"
            ]
          },
          "metadata": {},
          "execution_count": 16
        }
      ]
    },
    {
      "cell_type": "code",
      "source": [
        "import re\n",
        "\n",
        "re.findall('[rev][0-9]', 'a10b9r10ce33uab8wc918v2cv11v9')"
      ],
      "metadata": {
        "colab": {
          "base_uri": "https://localhost:8080/"
        },
        "id": "qVItFKz3uRvx",
        "outputId": "d85cf2dc-874e-4fa8-ba85-76d6db90b427"
      },
      "execution_count": null,
      "outputs": [
        {
          "output_type": "execute_result",
          "data": {
            "text/plain": [
              "['r1', 'e3', 'v2', 'v1', 'v9']"
            ]
          },
          "metadata": {},
          "execution_count": 18
        }
      ]
    },
    {
      "cell_type": "code",
      "source": [
        "import re\n",
        "\n",
        "re.findall('([rev])([1-9]|10)', 'a10b9r10ce33uab8wc918v2cv11v9')"
      ],
      "metadata": {
        "colab": {
          "base_uri": "https://localhost:8080/"
        },
        "id": "11TRcz-vuUNB",
        "outputId": "e171f883-3077-479c-c9b8-2420c3d1ffff"
      },
      "execution_count": null,
      "outputs": [
        {
          "output_type": "execute_result",
          "data": {
            "text/plain": [
              "[('r', '1'), ('e', '3'), ('v', '2'), ('v', '1'), ('v', '9')]"
            ]
          },
          "metadata": {},
          "execution_count": 17
        }
      ]
    },
    {
      "cell_type": "code",
      "source": [
        "import re\n",
        "\n",
        "re.findall('([rev])(10|[1-9])', 'a10b9r10ce33uab8wc918v2cv11v9')"
      ],
      "metadata": {
        "colab": {
          "base_uri": "https://localhost:8080/"
        },
        "id": "05gpAQ3wumLN",
        "outputId": "b58ae738-3df2-4df0-9512-c2e137423528"
      },
      "execution_count": null,
      "outputs": [
        {
          "output_type": "execute_result",
          "data": {
            "text/plain": [
              "[('r', '10'), ('e', '3'), ('v', '2'), ('v', '1'), ('v', '9')]"
            ]
          },
          "metadata": {},
          "execution_count": 19
        }
      ]
    },
    {
      "cell_type": "code",
      "source": [
        "def solution(data):\n",
        "    result = 0\n",
        "    data = re.findall('([rev])(10|[1-9])', data)\n",
        "    for i, j in data:\n",
        "        result += int(j)\n",
        "    result = str(result)\n",
        "    return f'{result[0]}월 {result[1]}일'\n",
        "\n",
        "solution('a10b9r1ce33uab8wc918v2cv11v9')"
      ],
      "metadata": {
        "colab": {
          "base_uri": "https://localhost:8080/"
        },
        "id": "_T4Gg_GOuqmA",
        "outputId": "73969b9a-0760-4aef-97c7-098b7a518309"
      },
      "execution_count": null,
      "outputs": [
        {
          "output_type": "execute_result",
          "data": {
            "text/plain": [
              "16"
            ]
          },
          "metadata": {},
          "execution_count": 21
        }
      ]
    },
    {
      "cell_type": "markdown",
      "source": [
        "# 3번"
      ],
      "metadata": {
        "id": "m16uJyfl0FUO"
      }
    },
    {
      "cell_type": "code",
      "source": [
        "# key 값으로 정렬 또는 최솟값, 최댓값을 알 수 있는 빌트인 펑션\n",
        "sort\n",
        "sorted\n",
        "max\n",
        "min"
      ],
      "metadata": {
        "id": "6Fe_7dKX0Gy-"
      },
      "execution_count": null,
      "outputs": []
    },
    {
      "cell_type": "code",
      "source": [
        "sort # 리스트에 메서드, return None, 원본을 수정합니다.\n",
        "sorted # 내장함수, return 값이 정렬된 값입니다. 원본을 수정하지 않습니다."
      ],
      "metadata": {
        "id": "eOe7DlSS1aYc"
      },
      "execution_count": null,
      "outputs": []
    },
    {
      "cell_type": "code",
      "source": [
        "data = [10, 20, 30, 40, 11, 22]\n",
        "data.sort()\n",
        "data"
      ],
      "metadata": {
        "colab": {
          "base_uri": "https://localhost:8080/"
        },
        "id": "ea7_e7xp1nTp",
        "outputId": "25f4d803-1d20-45c5-c702-a6f0e8c90954"
      },
      "execution_count": null,
      "outputs": [
        {
          "output_type": "execute_result",
          "data": {
            "text/plain": [
              "[10, 11, 20, 22, 30, 40]"
            ]
          },
          "metadata": {},
          "execution_count": 22
        }
      ]
    },
    {
      "cell_type": "code",
      "source": [
        "data = [10, 20, 30, 40, 11, 22]\n",
        "sorted(data)"
      ],
      "metadata": {
        "colab": {
          "base_uri": "https://localhost:8080/"
        },
        "id": "HNowoYlr1tec",
        "outputId": "f4f05e8a-9b85-47aa-ebe2-87ce4304b3b4"
      },
      "execution_count": null,
      "outputs": [
        {
          "output_type": "execute_result",
          "data": {
            "text/plain": [
              "[10, 11, 20, 22, 30, 40]"
            ]
          },
          "metadata": {},
          "execution_count": 23
        }
      ]
    },
    {
      "cell_type": "code",
      "source": [
        "data"
      ],
      "metadata": {
        "colab": {
          "base_uri": "https://localhost:8080/"
        },
        "id": "0ek2FBmf1wPk",
        "outputId": "06393f89-8a3c-4ef4-dd6f-828fd3c156e4"
      },
      "execution_count": null,
      "outputs": [
        {
          "output_type": "execute_result",
          "data": {
            "text/plain": [
              "[10, 20, 30, 40, 11, 22]"
            ]
          },
          "metadata": {},
          "execution_count": 24
        }
      ]
    },
    {
      "cell_type": "code",
      "source": [
        "l = [\n",
        "    [6, 'a', 'hello'],\n",
        "    [3, 'f', 'hello world'],\n",
        "    [7, 'b', 'hello a'],\n",
        "    [8, 'g', 'hello world hello'],\n",
        "    [4, 'e', 'hello world hello world'],\n",
        "    [2, 'c', 'hello aa'],\n",
        "    [1, 'd', 'hello abc'],\n",
        "]"
      ],
      "metadata": {
        "id": "XehQhFQl1_iE"
      },
      "execution_count": null,
      "outputs": []
    },
    {
      "cell_type": "code",
      "source": [
        "sorted(l)"
      ],
      "metadata": {
        "colab": {
          "base_uri": "https://localhost:8080/"
        },
        "id": "8LQNmwxr21GB",
        "outputId": "f2069db2-89b4-46ed-b095-287ca583a9ce"
      },
      "execution_count": null,
      "outputs": [
        {
          "output_type": "execute_result",
          "data": {
            "text/plain": [
              "[[1, 'd', 'hello abc'],\n",
              " [2, 'c', 'hello aa'],\n",
              " [3, 'f', 'hello world'],\n",
              " [4, 'e', 'hello world hello world'],\n",
              " [6, 'a', 'hello'],\n",
              " [7, 'b', 'hello a'],\n",
              " [8, 'g', 'hello world hello']]"
            ]
          },
          "metadata": {},
          "execution_count": 29
        }
      ]
    },
    {
      "cell_type": "code",
      "source": [
        "# 1번 문제 숫자 대로 정렬해라!\n",
        "def hojun(value):\n",
        "    return value[0]\n",
        "\n",
        "sorted(l, key=hojun)"
      ],
      "metadata": {
        "colab": {
          "base_uri": "https://localhost:8080/"
        },
        "id": "ecp9pSW62gvH",
        "outputId": "ebe99cc5-0751-4264-ddd5-87898fb1df3e"
      },
      "execution_count": null,
      "outputs": [
        {
          "output_type": "execute_result",
          "data": {
            "text/plain": [
              "[[1, 'd', 'hello abc'],\n",
              " [2, 'c', 'hello aa'],\n",
              " [3, 'f', 'hello world'],\n",
              " [4, 'e', 'hello world hello world'],\n",
              " [6, 'a', 'hello'],\n",
              " [7, 'b', 'hello a'],\n",
              " [8, 'g', 'hello world hello']]"
            ]
          },
          "metadata": {},
          "execution_count": 28
        }
      ]
    },
    {
      "cell_type": "code",
      "source": [
        "# 2번 문제 1번째 값 알파벳 순서대로 정렬해라!"
      ],
      "metadata": {
        "id": "5oUdtImx3BUC"
      },
      "execution_count": null,
      "outputs": []
    },
    {
      "cell_type": "code",
      "source": [
        "def hojun2(value):\n",
        "    return value[1]\n",
        "\n",
        "sorted(l, key=hojun2)"
      ],
      "metadata": {
        "colab": {
          "base_uri": "https://localhost:8080/"
        },
        "id": "Bh6fa6lY3IUx",
        "outputId": "516a1589-b78f-4a8d-b07e-9bca1bacd171"
      },
      "execution_count": null,
      "outputs": [
        {
          "output_type": "execute_result",
          "data": {
            "text/plain": [
              "[[6, 'a', 'hello'],\n",
              " [7, 'b', 'hello a'],\n",
              " [2, 'c', 'hello aa'],\n",
              " [1, 'd', 'hello abc'],\n",
              " [4, 'e', 'hello world hello world'],\n",
              " [3, 'f', 'hello world'],\n",
              " [8, 'g', 'hello world hello']]"
            ]
          },
          "metadata": {},
          "execution_count": 30
        }
      ]
    },
    {
      "cell_type": "code",
      "source": [
        "# 3번 문제 2번째 값 문자열 길이 순서대로 정렬해라!\n",
        "def hojun3(value):\n",
        "    return len(value[2])\n",
        "\n",
        "sorted(l, key=hojun3)"
      ],
      "metadata": {
        "colab": {
          "base_uri": "https://localhost:8080/"
        },
        "id": "J49oj4mk3Po4",
        "outputId": "67b15e12-67d2-4c7f-99be-fd174a0b2a08"
      },
      "execution_count": null,
      "outputs": [
        {
          "output_type": "execute_result",
          "data": {
            "text/plain": [
              "[[6, 'a', 'hello'],\n",
              " [7, 'b', 'hello a'],\n",
              " [2, 'c', 'hello aa'],\n",
              " [1, 'd', 'hello abc'],\n",
              " [3, 'f', 'hello world'],\n",
              " [8, 'g', 'hello world hello'],\n",
              " [4, 'e', 'hello world hello world']]"
            ]
          },
          "metadata": {},
          "execution_count": 34
        }
      ]
    },
    {
      "cell_type": "code",
      "source": [
        "# 3번 문제 2번째 값 문자열 길이 순서대로 정렬해라!\n",
        "def hojun3(value):\n",
        "    return len(value[2])\n",
        "\n",
        "sorted(l, key=hojun3, reverse=True)"
      ],
      "metadata": {
        "colab": {
          "base_uri": "https://localhost:8080/"
        },
        "id": "E0muGtpV3YK8",
        "outputId": "088518bf-3cba-49bd-c971-dd27dba72151"
      },
      "execution_count": null,
      "outputs": [
        {
          "output_type": "execute_result",
          "data": {
            "text/plain": [
              "[[4, 'e', 'hello world hello world'],\n",
              " [8, 'g', 'hello world hello'],\n",
              " [3, 'f', 'hello world'],\n",
              " [1, 'd', 'hello abc'],\n",
              " [2, 'c', 'hello aa'],\n",
              " [7, 'b', 'hello a'],\n",
              " [6, 'a', 'hello']]"
            ]
          },
          "metadata": {},
          "execution_count": 35
        }
      ]
    },
    {
      "cell_type": "code",
      "source": [
        "# 3번 문제 2번째 값 문자열 길이 순서대로 정렬해라!\n",
        "sorted(l, key=lambda x:len(x[2]), reverse=True)"
      ],
      "metadata": {
        "colab": {
          "base_uri": "https://localhost:8080/"
        },
        "id": "ih780yWd3qyW",
        "outputId": "82cb7f53-3dd9-4896-a789-47da85fbe91b"
      },
      "execution_count": null,
      "outputs": [
        {
          "output_type": "execute_result",
          "data": {
            "text/plain": [
              "[[4, 'e', 'hello world hello world'],\n",
              " [8, 'g', 'hello world hello'],\n",
              " [3, 'f', 'hello world'],\n",
              " [1, 'd', 'hello abc'],\n",
              " [2, 'c', 'hello aa'],\n",
              " [7, 'b', 'hello a'],\n",
              " [6, 'a', 'hello']]"
            ]
          },
          "metadata": {},
          "execution_count": 36
        }
      ]
    },
    {
      "cell_type": "code",
      "source": [
        "data = [['A', 25, 25, 25, 25], ['B', 10, 12, 13, 11], ['C', 24, 22, 23, 21], ['D', 13, 22, 16, 14]]\n",
        "sorted(data, key=lambda x:sum(x[1:]), reverse=True)"
      ],
      "metadata": {
        "colab": {
          "base_uri": "https://localhost:8080/"
        },
        "id": "cJDKpcu14U5Y",
        "outputId": "f6493b06-63cb-4bf8-81ea-cc4af92dd522"
      },
      "execution_count": null,
      "outputs": [
        {
          "output_type": "execute_result",
          "data": {
            "text/plain": [
              "[['A', 25, 25, 25, 25],\n",
              " ['C', 24, 22, 23, 21],\n",
              " ['D', 13, 22, 16, 14],\n",
              " ['B', 10, 12, 13, 11]]"
            ]
          },
          "metadata": {},
          "execution_count": 38
        }
      ]
    },
    {
      "cell_type": "code",
      "source": [
        "data = [['A', 25, 25, 25, 25], ['B', 10, 12, 13, 11], ['C', 24, 22, 23, 21], ['D', 13, 22, 16, 14]]\n",
        "def solution(data):\n",
        "    길이 = len(data)\n",
        "    선발인원 = int((길이 * 3) / 10)\n",
        "    return sorted(data, key=lambda x:sum(x[1:]), reverse=True)[:선발인원]\n",
        "\n",
        "solution(data)"
      ],
      "metadata": {
        "colab": {
          "base_uri": "https://localhost:8080/"
        },
        "id": "XugJ5FLW4tUZ",
        "outputId": "6d874d55-6820-4031-c03b-9003c2eb049e"
      },
      "execution_count": null,
      "outputs": [
        {
          "output_type": "execute_result",
          "data": {
            "text/plain": [
              "[['A', 25, 25, 25, 25]]"
            ]
          },
          "metadata": {},
          "execution_count": 40
        }
      ]
    },
    {
      "cell_type": "code",
      "source": [
        "d = {\n",
        "    100: ['A', 'B'],\n",
        "     80: ['C'],\n",
        "     70: ['D', 'E']\n",
        "}"
      ],
      "metadata": {
        "id": "TwIZ-ry45biQ"
      },
      "execution_count": null,
      "outputs": []
    },
    {
      "cell_type": "code",
      "source": [
        "data = [['A', 25, 25, 25, 25], ['B', 10, 12, 13, 11], ['C', 24, 22, 23, 21], ['D', 13, 22, 16, 14]]\n",
        "def solution(data):\n",
        "    전체인원수 = len(data)\n",
        "    선발해야하는인원 = int((전체인원수 * 3) / 10)\n",
        "    선발된인원 = 0\n",
        "    점수딕셔너리 = {}\n",
        "    for i in data:\n",
        "        합 = sum(i[1:])\n",
        "        if 합 in 점수딕셔너리:\n",
        "            점수딕셔너리[합] = 점수딕셔너리[합] + [i[0]]\n",
        "        else:\n",
        "            점수딕셔너리[합] = [i[0]]\n",
        "    return 점수딕셔너리\n",
        "\n",
        "solution(data)"
      ],
      "metadata": {
        "colab": {
          "base_uri": "https://localhost:8080/"
        },
        "id": "XG4dK5xX6EqU",
        "outputId": "ed0b1661-5b99-4f95-9832-c8be2adda358"
      },
      "execution_count": null,
      "outputs": [
        {
          "output_type": "execute_result",
          "data": {
            "text/plain": [
              "{100: ['A'], 46: ['B'], 90: ['C'], 65: ['D']}"
            ]
          },
          "metadata": {},
          "execution_count": 41
        }
      ]
    },
    {
      "cell_type": "code",
      "source": [
        "data = [['A', 25, 25, 25, 25], \n",
        "        ['B', 10, 12, 13, 11], \n",
        "        ['C', 24, 22, 23, 21], \n",
        "        ['D', 13, 22, 16, 14],\n",
        "        ['E', 25, 25, 25, 25],\n",
        "    ]\n",
        "def solution(data):\n",
        "    전체인원수 = len(data)\n",
        "    선발해야하는인원 = int((전체인원수 * 3) / 10)\n",
        "    선발된인원 = 0\n",
        "    점수딕셔너리 = {}\n",
        "    for i in data:\n",
        "        합 = sum(i[1:])\n",
        "        if 합 in 점수딕셔너리:\n",
        "            점수딕셔너리[합] = 점수딕셔너리[합] + [i[0]]\n",
        "        else:\n",
        "            점수딕셔너리[합] = [i[0]]\n",
        "    return 점수딕셔너리\n",
        "\n",
        "solution(data)"
      ],
      "metadata": {
        "colab": {
          "base_uri": "https://localhost:8080/"
        },
        "id": "GCa0ZoOC7YqH",
        "outputId": "dd65a03b-1a6b-4169-bc39-831b0a93a77e"
      },
      "execution_count": null,
      "outputs": [
        {
          "output_type": "execute_result",
          "data": {
            "text/plain": [
              "{100: ['A', 'E'], 46: ['B'], 90: ['C'], 65: ['D']}"
            ]
          },
          "metadata": {},
          "execution_count": 42
        }
      ]
    },
    {
      "cell_type": "code",
      "source": [
        "data = [['A', 25, 25, 25, 25], \n",
        "        ['B', 10, 12, 13, 11], \n",
        "        ['C', 24, 22, 23, 21], \n",
        "        ['D', 13, 22, 16, 14],\n",
        "    ]\n",
        "def solution(data):\n",
        "    전체인원수 = len(data)\n",
        "    선발해야하는인원 = int((전체인원수 * 3) / 10)\n",
        "    if 선발해야하는인원 == 0:\n",
        "        return\n",
        "    선발된인원 = 0\n",
        "    점수딕셔너리 = {}\n",
        "    선발인원리스트 = []\n",
        "    for i in data:\n",
        "        합 = sum(i[1:])\n",
        "        if 합 in 점수딕셔너리:\n",
        "            점수딕셔너리[합] = 점수딕셔너리[합] + [i[0]]\n",
        "        else:\n",
        "            점수딕셔너리[합] = [i[0]]\n",
        "    for i in sorted(list(점수딕셔너리.items()), reverse=True):\n",
        "        if 선발된인원 <= 선발해야하는인원 and len(i[1]) <= 선발해야하는인원 and 선발된인원 != 선발해야하는인원:\n",
        "            선발인원리스트.extend(i[1])\n",
        "            선발된인원 += len(i[1])\n",
        "        elif len(i[1]) > 선발해야하는인원:\n",
        "            return 선발인원리스트\n",
        "    return sorted(선발인원리스트, reverse=True)\n",
        "\n",
        "solution(data)"
      ],
      "metadata": {
        "colab": {
          "base_uri": "https://localhost:8080/"
        },
        "id": "7lFgW4747kem",
        "outputId": "1f59a5c0-21bb-4354-e3b4-92a1e99d9889"
      },
      "execution_count": null,
      "outputs": [
        {
          "output_type": "execute_result",
          "data": {
            "text/plain": [
              "['A']"
            ]
          },
          "metadata": {},
          "execution_count": 51
        }
      ]
    },
    {
      "cell_type": "code",
      "source": [
        "d = {100: ['A', 'E'], 46: ['B'], 90: ['C'], 65: ['D']}\n",
        "d.keys()\n",
        "d.values()\n",
        "d.items()"
      ],
      "metadata": {
        "colab": {
          "base_uri": "https://localhost:8080/"
        },
        "id": "pyZd3TJc8Kah",
        "outputId": "269b5397-3ac4-49b2-a379-f92a24bf7664"
      },
      "execution_count": null,
      "outputs": [
        {
          "output_type": "execute_result",
          "data": {
            "text/plain": [
              "dict_items([(100, ['A', 'E']), (46, ['B']), (90, ['C']), (65, ['D'])])"
            ]
          },
          "metadata": {},
          "execution_count": 45
        }
      ]
    },
    {
      "cell_type": "code",
      "source": [
        "sorted(d.items())"
      ],
      "metadata": {
        "colab": {
          "base_uri": "https://localhost:8080/"
        },
        "id": "8m1S7f-u8e6D",
        "outputId": "306d3639-fcb9-49ad-a8fd-0c9be7f53d34"
      },
      "execution_count": null,
      "outputs": [
        {
          "output_type": "execute_result",
          "data": {
            "text/plain": [
              "[(46, ['B']), (65, ['D']), (90, ['C']), (100, ['A', 'E'])]"
            ]
          },
          "metadata": {},
          "execution_count": 46
        }
      ]
    },
    {
      "cell_type": "code",
      "source": [
        "sorted(d.items(), reverse=True)"
      ],
      "metadata": {
        "colab": {
          "base_uri": "https://localhost:8080/"
        },
        "id": "Pr-4bqGa8jJs",
        "outputId": "b26f0215-a516-42ec-aca5-bf4cbb8a0c40"
      },
      "execution_count": null,
      "outputs": [
        {
          "output_type": "execute_result",
          "data": {
            "text/plain": [
              "[(100, ['A', 'E']), (90, ['C']), (65, ['D']), (46, ['B'])]"
            ]
          },
          "metadata": {},
          "execution_count": 47
        }
      ]
    },
    {
      "cell_type": "code",
      "source": [
        "sorted(['a', 'b', 'c'])"
      ],
      "metadata": {
        "colab": {
          "base_uri": "https://localhost:8080/"
        },
        "id": "AdL-S9KH9ij8",
        "outputId": "c20951ee-f229-435c-cc93-7758b20fdbcc"
      },
      "execution_count": null,
      "outputs": [
        {
          "output_type": "execute_result",
          "data": {
            "text/plain": [
              "['a', 'b', 'c']"
            ]
          },
          "metadata": {},
          "execution_count": 48
        }
      ]
    },
    {
      "cell_type": "code",
      "source": [
        "sorted(['a', 'b', 'c'], reverse=True)"
      ],
      "metadata": {
        "colab": {
          "base_uri": "https://localhost:8080/"
        },
        "id": "BEB5vH0K9mkl",
        "outputId": "0698e8a2-1eb0-4c5b-d52c-de564ac6e436"
      },
      "execution_count": null,
      "outputs": [
        {
          "output_type": "execute_result",
          "data": {
            "text/plain": [
              "['c', 'b', 'a']"
            ]
          },
          "metadata": {},
          "execution_count": 49
        }
      ]
    },
    {
      "cell_type": "markdown",
      "source": [
        "# 4번"
      ],
      "metadata": {
        "id": "sU5omkjCQii6"
      }
    },
    {
      "cell_type": "code",
      "source": [
        "data = ['10 - A. 20 - B. 30 - A.', '1 - A. 1 - A. 1 - A. 1 - A. 2 - B. 1 - A. 1 - B.']"
      ],
      "metadata": {
        "id": "MknWrx_iQj-w"
      },
      "execution_count": null,
      "outputs": []
    },
    {
      "cell_type": "code",
      "source": [
        "data[0].split('.')"
      ],
      "metadata": {
        "colab": {
          "base_uri": "https://localhost:8080/"
        },
        "id": "GGyW8MblQpIN",
        "outputId": "67aea34b-cee9-4349-b98f-587aefab5e83"
      },
      "execution_count": null,
      "outputs": [
        {
          "output_type": "execute_result",
          "data": {
            "text/plain": [
              "['10 - A', ' 20 - B', ' 30 - A', '']"
            ]
          },
          "metadata": {},
          "execution_count": 2
        }
      ]
    },
    {
      "cell_type": "code",
      "source": [
        "'10 - A. 20 - B. 30 - A.'\n",
        "'10 - A. 20 - B. 30 하하하- A.'\n",
        "'10 - A.'\n",
        "'20 - B.'\n",
        "'30 하하하- A.'"
      ],
      "metadata": {
        "id": "4CCAoMiMQx8b"
      },
      "execution_count": null,
      "outputs": []
    },
    {
      "cell_type": "code",
      "source": [
        "import re\n",
        "\n",
        "re.findall(r'([ㄱ-ㅎ|ㅏ-ㅣ|가-힣\\W]*)(\\d+)([ㄱ-ㅎ|ㅏ-ㅣ|가-힣\\W]*)([a-zA-Z])', '10 - A')\n",
        "re.findall(r'([ㄱ-ㅎ|ㅏ-ㅣ|가-힣\\W]*)(\\d+)([ㄱ-ㅎ|ㅏ-ㅣ|가-힣\\W]*)([a-zA-Z])', ' 20 - B')\n",
        "re.findall(r'([ㄱ-ㅎ|ㅏ-ㅣ|가-힣\\W]*)(\\d+)([ㄱ-ㅎ|ㅏ-ㅣ|가-힣\\W]*)([a-zA-Z])', ' 30 - A')\n",
        "re.findall(r'([ㄱ-ㅎ|ㅏ-ㅣ|가-힣\\W]*)(\\d+)([ㄱ-ㅎ|ㅏ-ㅣ|가-힣\\W]*)([a-zA-Z])', ' 30 - 하하하A')"
      ],
      "metadata": {
        "colab": {
          "base_uri": "https://localhost:8080/"
        },
        "id": "i8naGIlDQ9Sb",
        "outputId": "7c80ec6b-a4c0-4856-abfc-34f0b739c0dd"
      },
      "execution_count": null,
      "outputs": [
        {
          "output_type": "execute_result",
          "data": {
            "text/plain": [
              "[(' ', '30', ' - 하하하', 'A')]"
            ]
          },
          "metadata": {},
          "execution_count": 5
        }
      ]
    },
    {
      "cell_type": "code",
      "source": [
        "data = data[0].split('.')"
      ],
      "metadata": {
        "colab": {
          "base_uri": "https://localhost:8080/"
        },
        "id": "p6yEzUdHSefT",
        "outputId": "a158ebdc-2454-4cbf-b17b-2182b8f444f8"
      },
      "execution_count": null,
      "outputs": [
        {
          "output_type": "stream",
          "name": "stdout",
          "text": [
            "[('', '10', ' - ', 'A')]\n",
            "[(' ', '20', ' - ', 'B')]\n",
            "[(' ', '30', ' - ', 'A')]\n",
            "[]\n"
          ]
        }
      ]
    },
    {
      "cell_type": "code",
      "source": [
        "for i in data[:-1]:\n",
        "    수치 = re.findall(r'([ㄱ-ㅎ|ㅏ-ㅣ|가-힣\\W]*)(\\d+)([ㄱ-ㅎ|ㅏ-ㅣ|가-힣\\W]*)([a-zA-Z])', i)[0][1]\n",
        "    알파벳 = re.findall(r'([ㄱ-ㅎ|ㅏ-ㅣ|가-힣\\W]*)(\\d+)([ㄱ-ㅎ|ㅏ-ㅣ|가-힣\\W]*)([a-zA-Z])', i)[0][3]\n",
        "    print(수치, 알파벳)"
      ],
      "metadata": {
        "colab": {
          "base_uri": "https://localhost:8080/"
        },
        "id": "p2XlVJwDTB-z",
        "outputId": "c6cbdfd9-6368-4e98-c25c-15bb789caf63"
      },
      "execution_count": null,
      "outputs": [
        {
          "output_type": "stream",
          "name": "stdout",
          "text": [
            "10 A\n",
            "20 B\n",
            "30 A\n"
          ]
        }
      ]
    },
    {
      "cell_type": "code",
      "source": [
        "data = ['빙키는 10만큼 A를 훈련했다. 빙키는 날씨가 안 좋은데도 불구하고 20만큼 B를 했다. 빙키는 비가 내리는 가운데서도 10만큼 B를 훈련했다.', '빙키는 A를 30만큼 고민했다. 40만큼 B를 고민했다. 빙키는 A를 70만큼 참 오랜 시간 고민했다. 빙키는 놀랍게도 C를 10만큼 고민했다.']\n",
        "re.findall(r'[a-zA-Z]', data[0])\n",
        "re.findall(r'\\d+', data[0])"
      ],
      "metadata": {
        "colab": {
          "base_uri": "https://localhost:8080/"
        },
        "id": "A_rlhlSBTwq9",
        "outputId": "148c3937-425c-4e56-a525-15e2a32942ab"
      },
      "execution_count": null,
      "outputs": [
        {
          "output_type": "execute_result",
          "data": {
            "text/plain": [
              "['10', '20', '10']"
            ]
          },
          "metadata": {},
          "execution_count": 15
        }
      ]
    },
    {
      "cell_type": "code",
      "source": [
        "re.findall(r'[a-zA-Z]', '빙키는 10만큼 A를 훈련했다.')"
      ],
      "metadata": {
        "colab": {
          "base_uri": "https://localhost:8080/"
        },
        "id": "5HixmnWPZXJn",
        "outputId": "f6a68079-f8f9-4cfc-850f-13efe5158982"
      },
      "execution_count": null,
      "outputs": [
        {
          "output_type": "execute_result",
          "data": {
            "text/plain": [
              "['A']"
            ]
          },
          "metadata": {},
          "execution_count": 26
        }
      ]
    },
    {
      "cell_type": "code",
      "source": [
        "a = re.findall(r'[a-zA-Z]', data[0])\n",
        "b = re.findall(r'\\d+', data[0])\n",
        "list(zip(a, b))"
      ],
      "metadata": {
        "colab": {
          "base_uri": "https://localhost:8080/"
        },
        "id": "DIcYzhihUL6H",
        "outputId": "fbe9962f-a268-40ff-87b1-15f975d51474"
      },
      "execution_count": null,
      "outputs": [
        {
          "output_type": "execute_result",
          "data": {
            "text/plain": [
              "[('A', '10'), ('B', '20'), ('B', '10')]"
            ]
          },
          "metadata": {},
          "execution_count": 16
        }
      ]
    },
    {
      "cell_type": "code",
      "source": [
        "dict(list(zip(a, b)))"
      ],
      "metadata": {
        "colab": {
          "base_uri": "https://localhost:8080/"
        },
        "id": "LdqtvuEKUSnr",
        "outputId": "45449249-c26a-4217-f86d-763f8c17f54c"
      },
      "execution_count": null,
      "outputs": [
        {
          "output_type": "execute_result",
          "data": {
            "text/plain": [
              "{'A': '10', 'B': '10'}"
            ]
          },
          "metadata": {},
          "execution_count": 17
        }
      ]
    },
    {
      "cell_type": "code",
      "source": [
        "d = {'A': 20, 'B': 10, 'C': 100, 'D':30}"
      ],
      "metadata": {
        "id": "bNBTfYHlUetM"
      },
      "execution_count": null,
      "outputs": []
    },
    {
      "cell_type": "code",
      "source": [
        "max(d)"
      ],
      "metadata": {
        "colab": {
          "base_uri": "https://localhost:8080/",
          "height": 35
        },
        "id": "u-iJw1zfUu4R",
        "outputId": "705e08a1-01fb-4200-d4bb-8627977df0e5"
      },
      "execution_count": null,
      "outputs": [
        {
          "output_type": "execute_result",
          "data": {
            "text/plain": [
              "'D'"
            ],
            "application/vnd.google.colaboratory.intrinsic+json": {
              "type": "string"
            }
          },
          "metadata": {},
          "execution_count": 22
        }
      ]
    },
    {
      "cell_type": "code",
      "source": [
        "max(d, key=d.get)"
      ],
      "metadata": {
        "colab": {
          "base_uri": "https://localhost:8080/",
          "height": 35
        },
        "id": "8uzXUB6XU6bC",
        "outputId": "dc2cfdc2-7c3b-4422-e5b0-28c40ebb640e"
      },
      "execution_count": null,
      "outputs": [
        {
          "output_type": "execute_result",
          "data": {
            "text/plain": [
              "'C'"
            ],
            "application/vnd.google.colaboratory.intrinsic+json": {
              "type": "string"
            }
          },
          "metadata": {},
          "execution_count": 23
        }
      ]
    },
    {
      "cell_type": "code",
      "source": [
        "max(d.values())"
      ],
      "metadata": {
        "colab": {
          "base_uri": "https://localhost:8080/"
        },
        "id": "r0I8hlckU-Tu",
        "outputId": "97139724-ea8b-4f5a-c67a-59b338bf6be9"
      },
      "execution_count": null,
      "outputs": [
        {
          "output_type": "execute_result",
          "data": {
            "text/plain": [
              "100"
            ]
          },
          "metadata": {},
          "execution_count": 24
        }
      ]
    },
    {
      "cell_type": "code",
      "source": [
        "import re\n",
        "\n",
        "def solution(data):\n",
        "    훈련수치 = {}\n",
        "    고민수치 = {}\n",
        "    원래미래 = 0\n",
        "    바뀐미래 = 0\n",
        "    # 훈련수치\n",
        "    for i in data[0].split('.')[:-1]:\n",
        "        key = re.findall(r'[a-zA-Z]', i)[0]\n",
        "        value = re.findall(r'\\d+', i)[0]\n",
        "        if key in 훈련수치:\n",
        "            훈련수치[key] += int(value)\n",
        "        else:\n",
        "            훈련수치[key] = int(value)\n",
        "    # 고민수치\n",
        "    for i in data[1].split('.')[:-1]:\n",
        "        key = re.findall(r'[a-zA-Z]', i)[0]\n",
        "        value = re.findall(r'\\d+', i)[0]\n",
        "        if key in 고민수치:\n",
        "            고민수치[key] += int(value)\n",
        "        else:\n",
        "            고민수치[key] = int(value)\n",
        "    # 원래미래\n",
        "    for i in 훈련수치.keys():\n",
        "        if i in 고민수치:\n",
        "            원래미래 += 훈련수치[i] * 고민수치[i]\n",
        "    if 원래미래 == 0:\n",
        "        return '미래가 보이지 않습니다.'\n",
        "    \n",
        "    # 가장 큰 값에다가 100을 더해주는 코드\n",
        "    훈련수치중가장큰값 = max(훈련수치.values())\n",
        "    고민수치중가장큰값 = max(고민수치.values())\n",
        "    for i in 훈련수치:\n",
        "        if 훈련수치[i] == 훈련수치중가장큰값:\n",
        "            훈련수치[i] += 100\n",
        "    for i in 고민수치:\n",
        "        if 고민수치[i] == 고민수치중가장큰값:\n",
        "            고민수치[i] += 100\n",
        "    for i in 훈련수치.keys():\n",
        "        if i in 고민수치:\n",
        "            바뀐미래 += 훈련수치[i] * 고민수치[i]\n",
        "    return f'최종 꿈의 설계는 원래 미래 {원래미래}, 바뀐 미래 {바뀐미래}입니다. 이 수치대로 Vision을 만듭니다.'\n",
        "\n",
        "solution(['10 - A. 20 - B. 30 - A.', '1 - A. 1 - A. 1 - A. 1 - A. 2 - B. 1 - A. 1 - B.'])"
      ],
      "metadata": {
        "colab": {
          "base_uri": "https://localhost:8080/",
          "height": 35
        },
        "id": "C-g9iygjYLIP",
        "outputId": "f0af60b6-7b59-4804-f759-97d859fad992"
      },
      "execution_count": null,
      "outputs": [
        {
          "output_type": "execute_result",
          "data": {
            "text/plain": [
              "'최종 꿈의 설계는 원래 미래 260, 바뀐 미래 14760입니다. 이 수치대로 Vision을 만듭니다.'"
            ],
            "application/vnd.google.colaboratory.intrinsic+json": {
              "type": "string"
            }
          },
          "metadata": {},
          "execution_count": 30
        }
      ]
    },
    {
      "cell_type": "markdown",
      "source": [
        "# 5번"
      ],
      "metadata": {
        "id": "J76ureq2fnlY"
      }
    },
    {
      "cell_type": "code",
      "source": [
        "[[0, 0, '#', '#'], ['#', '#', 0, '#'], [0, '#', '#', 0]].count('#')"
      ],
      "metadata": {
        "colab": {
          "base_uri": "https://localhost:8080/"
        },
        "id": "zFgAw32sfo6y",
        "outputId": "ee1af1d3-fc1c-4677-bc44-52d202a5a780"
      },
      "execution_count": 1,
      "outputs": [
        {
          "output_type": "execute_result",
          "data": {
            "text/plain": [
              "0"
            ]
          },
          "metadata": {},
          "execution_count": 1
        }
      ]
    },
    {
      "cell_type": "code",
      "source": [
        "sum([1, 2, 3, 4, 5])"
      ],
      "metadata": {
        "colab": {
          "base_uri": "https://localhost:8080/"
        },
        "id": "h9BdYQwug7Mz",
        "outputId": "6953c380-007c-4a61-c67d-7ee0b4fe1940"
      },
      "execution_count": 2,
      "outputs": [
        {
          "output_type": "execute_result",
          "data": {
            "text/plain": [
              "15"
            ]
          },
          "metadata": {},
          "execution_count": 2
        }
      ]
    },
    {
      "cell_type": "code",
      "source": [
        "sum([1, 2, 3, 4, 5], 10)"
      ],
      "metadata": {
        "colab": {
          "base_uri": "https://localhost:8080/"
        },
        "id": "I0Hvxl2ahCjP",
        "outputId": "d618f6db-1faf-4a1a-9d67-977b952ed952"
      },
      "execution_count": 3,
      "outputs": [
        {
          "output_type": "execute_result",
          "data": {
            "text/plain": [
              "25"
            ]
          },
          "metadata": {},
          "execution_count": 3
        }
      ]
    },
    {
      "cell_type": "code",
      "source": [
        "sum([[0, 0, '#', '#'], ['#', '#', 0, '#'], [0, '#', '#', 0]], []) # sum(iterable[, start]) 이용"
      ],
      "metadata": {
        "colab": {
          "base_uri": "https://localhost:8080/"
        },
        "id": "gp5osLiKhFYX",
        "outputId": "8bb5a66c-3aff-430e-866a-968f71e683a9"
      },
      "execution_count": 4,
      "outputs": [
        {
          "output_type": "execute_result",
          "data": {
            "text/plain": [
              "[0, 0, '#', '#', '#', '#', 0, '#', 0, '#', '#', 0]"
            ]
          },
          "metadata": {},
          "execution_count": 4
        }
      ]
    },
    {
      "cell_type": "code",
      "source": [
        "sum([[0, 0, '#', '#'], ['#', '#', 0, '#'], [0, '#', '#', 0]], []).count('#')"
      ],
      "metadata": {
        "colab": {
          "base_uri": "https://localhost:8080/"
        },
        "id": "6HTI4U35hL75",
        "outputId": "3754db5a-e34c-4ad3-9996-c480d48e8ec0"
      },
      "execution_count": 5,
      "outputs": [
        {
          "output_type": "execute_result",
          "data": {
            "text/plain": [
              "7"
            ]
          },
          "metadata": {},
          "execution_count": 5
        }
      ]
    },
    {
      "cell_type": "code",
      "source": [
        "import numpy as np\n",
        "import pandas as pd"
      ],
      "metadata": {
        "id": "b-DtHcJ_hUNP"
      },
      "execution_count": 6,
      "outputs": []
    },
    {
      "cell_type": "code",
      "source": [
        "test = np.array([[0, 0, '#', '#'], ['#', '#', 0, '#'], [0, '#', '#', 0]])\n",
        "test"
      ],
      "metadata": {
        "colab": {
          "base_uri": "https://localhost:8080/"
        },
        "id": "ZpI43r-HhxIB",
        "outputId": "6531e761-d87a-4a83-822c-3723c42b7f28"
      },
      "execution_count": 7,
      "outputs": [
        {
          "output_type": "execute_result",
          "data": {
            "text/plain": [
              "array([['0', '0', '#', '#'],\n",
              "       ['#', '#', '0', '#'],\n",
              "       ['0', '#', '#', '0']], dtype='<U21')"
            ]
          },
          "metadata": {},
          "execution_count": 7
        }
      ]
    },
    {
      "cell_type": "code",
      "source": [
        "[[0, 0, '#', '#'], ['#', '#', 0, '#'], [0, '#', '#', 0]]"
      ],
      "metadata": {
        "colab": {
          "base_uri": "https://localhost:8080/"
        },
        "id": "spn8Stpxh4TN",
        "outputId": "7d3bc1cd-3565-4d0f-b4bc-9e45b1912613"
      },
      "execution_count": 8,
      "outputs": [
        {
          "output_type": "execute_result",
          "data": {
            "text/plain": [
              "[[0, 0, '#', '#'], ['#', '#', 0, '#'], [0, '#', '#', 0]]"
            ]
          },
          "metadata": {},
          "execution_count": 8
        }
      ]
    },
    {
      "cell_type": "code",
      "source": [
        "test = np.array([[1, 2, 3, 4], [5, 6, 7, 8], [9, 10, 11, 12]])\n",
        "test*2"
      ],
      "metadata": {
        "colab": {
          "base_uri": "https://localhost:8080/"
        },
        "id": "PqtYF5Tch6cq",
        "outputId": "ea80e173-00b6-4b17-e831-9456ee4109f9"
      },
      "execution_count": 9,
      "outputs": [
        {
          "output_type": "execute_result",
          "data": {
            "text/plain": [
              "array([[ 2,  4,  6,  8],\n",
              "       [10, 12, 14, 16],\n",
              "       [18, 20, 22, 24]])"
            ]
          },
          "metadata": {},
          "execution_count": 9
        }
      ]
    },
    {
      "cell_type": "code",
      "source": [
        "[[1, 2, 3, 4], [5, 6, 7, 8], [9, 10, 11, 12]] * 2"
      ],
      "metadata": {
        "colab": {
          "base_uri": "https://localhost:8080/"
        },
        "id": "FLGp-gc6iF37",
        "outputId": "34de73f7-9c5f-4a05-a3f0-305ffd127b8b"
      },
      "execution_count": 10,
      "outputs": [
        {
          "output_type": "execute_result",
          "data": {
            "text/plain": [
              "[[1, 2, 3, 4],\n",
              " [5, 6, 7, 8],\n",
              " [9, 10, 11, 12],\n",
              " [1, 2, 3, 4],\n",
              " [5, 6, 7, 8],\n",
              " [9, 10, 11, 12]]"
            ]
          },
          "metadata": {},
          "execution_count": 10
        }
      ]
    },
    {
      "cell_type": "code",
      "source": [
        "test = np.array([[0, 0, '#', '#'], ['#', '#', 0, '#'], [0, '#', '#', 0]])\n",
        "test.flatten()"
      ],
      "metadata": {
        "colab": {
          "base_uri": "https://localhost:8080/"
        },
        "id": "wU7JPCf4iMLb",
        "outputId": "b1bd2088-0cc1-4983-bc79-eafd252b50be"
      },
      "execution_count": 12,
      "outputs": [
        {
          "output_type": "execute_result",
          "data": {
            "text/plain": [
              "array(['0', '0', '#', '#', '#', '#', '0', '#', '0', '#', '#', '0'],\n",
              "      dtype='<U21')"
            ]
          },
          "metadata": {},
          "execution_count": 12
        }
      ]
    },
    {
      "cell_type": "code",
      "source": [
        "df = pd.DataFrame([[0, 0, '#', '#'], ['#', '#', 0, '#'], [0, '#', '#', 0]])\n",
        "df"
      ],
      "metadata": {
        "colab": {
          "base_uri": "https://localhost:8080/",
          "height": 143
        },
        "id": "lvjaGEsNiQMQ",
        "outputId": "0f0ce7c5-d297-46d2-a279-9080ad720e4f"
      },
      "execution_count": 13,
      "outputs": [
        {
          "output_type": "execute_result",
          "data": {
            "text/plain": [
              "   0  1  2  3\n",
              "0  0  0  #  #\n",
              "1  #  #  0  #\n",
              "2  0  #  #  0"
            ],
            "text/html": [
              "\n",
              "  <div id=\"df-b8725f6d-9998-4cb4-8bdf-fdc2c5bd3ddb\">\n",
              "    <div class=\"colab-df-container\">\n",
              "      <div>\n",
              "<style scoped>\n",
              "    .dataframe tbody tr th:only-of-type {\n",
              "        vertical-align: middle;\n",
              "    }\n",
              "\n",
              "    .dataframe tbody tr th {\n",
              "        vertical-align: top;\n",
              "    }\n",
              "\n",
              "    .dataframe thead th {\n",
              "        text-align: right;\n",
              "    }\n",
              "</style>\n",
              "<table border=\"1\" class=\"dataframe\">\n",
              "  <thead>\n",
              "    <tr style=\"text-align: right;\">\n",
              "      <th></th>\n",
              "      <th>0</th>\n",
              "      <th>1</th>\n",
              "      <th>2</th>\n",
              "      <th>3</th>\n",
              "    </tr>\n",
              "  </thead>\n",
              "  <tbody>\n",
              "    <tr>\n",
              "      <th>0</th>\n",
              "      <td>0</td>\n",
              "      <td>0</td>\n",
              "      <td>#</td>\n",
              "      <td>#</td>\n",
              "    </tr>\n",
              "    <tr>\n",
              "      <th>1</th>\n",
              "      <td>#</td>\n",
              "      <td>#</td>\n",
              "      <td>0</td>\n",
              "      <td>#</td>\n",
              "    </tr>\n",
              "    <tr>\n",
              "      <th>2</th>\n",
              "      <td>0</td>\n",
              "      <td>#</td>\n",
              "      <td>#</td>\n",
              "      <td>0</td>\n",
              "    </tr>\n",
              "  </tbody>\n",
              "</table>\n",
              "</div>\n",
              "      <button class=\"colab-df-convert\" onclick=\"convertToInteractive('df-b8725f6d-9998-4cb4-8bdf-fdc2c5bd3ddb')\"\n",
              "              title=\"Convert this dataframe to an interactive table.\"\n",
              "              style=\"display:none;\">\n",
              "        \n",
              "  <svg xmlns=\"http://www.w3.org/2000/svg\" height=\"24px\"viewBox=\"0 0 24 24\"\n",
              "       width=\"24px\">\n",
              "    <path d=\"M0 0h24v24H0V0z\" fill=\"none\"/>\n",
              "    <path d=\"M18.56 5.44l.94 2.06.94-2.06 2.06-.94-2.06-.94-.94-2.06-.94 2.06-2.06.94zm-11 1L8.5 8.5l.94-2.06 2.06-.94-2.06-.94L8.5 2.5l-.94 2.06-2.06.94zm10 10l.94 2.06.94-2.06 2.06-.94-2.06-.94-.94-2.06-.94 2.06-2.06.94z\"/><path d=\"M17.41 7.96l-1.37-1.37c-.4-.4-.92-.59-1.43-.59-.52 0-1.04.2-1.43.59L10.3 9.45l-7.72 7.72c-.78.78-.78 2.05 0 2.83L4 21.41c.39.39.9.59 1.41.59.51 0 1.02-.2 1.41-.59l7.78-7.78 2.81-2.81c.8-.78.8-2.07 0-2.86zM5.41 20L4 18.59l7.72-7.72 1.47 1.35L5.41 20z\"/>\n",
              "  </svg>\n",
              "      </button>\n",
              "      \n",
              "  <style>\n",
              "    .colab-df-container {\n",
              "      display:flex;\n",
              "      flex-wrap:wrap;\n",
              "      gap: 12px;\n",
              "    }\n",
              "\n",
              "    .colab-df-convert {\n",
              "      background-color: #E8F0FE;\n",
              "      border: none;\n",
              "      border-radius: 50%;\n",
              "      cursor: pointer;\n",
              "      display: none;\n",
              "      fill: #1967D2;\n",
              "      height: 32px;\n",
              "      padding: 0 0 0 0;\n",
              "      width: 32px;\n",
              "    }\n",
              "\n",
              "    .colab-df-convert:hover {\n",
              "      background-color: #E2EBFA;\n",
              "      box-shadow: 0px 1px 2px rgba(60, 64, 67, 0.3), 0px 1px 3px 1px rgba(60, 64, 67, 0.15);\n",
              "      fill: #174EA6;\n",
              "    }\n",
              "\n",
              "    [theme=dark] .colab-df-convert {\n",
              "      background-color: #3B4455;\n",
              "      fill: #D2E3FC;\n",
              "    }\n",
              "\n",
              "    [theme=dark] .colab-df-convert:hover {\n",
              "      background-color: #434B5C;\n",
              "      box-shadow: 0px 1px 3px 1px rgba(0, 0, 0, 0.15);\n",
              "      filter: drop-shadow(0px 1px 2px rgba(0, 0, 0, 0.3));\n",
              "      fill: #FFFFFF;\n",
              "    }\n",
              "  </style>\n",
              "\n",
              "      <script>\n",
              "        const buttonEl =\n",
              "          document.querySelector('#df-b8725f6d-9998-4cb4-8bdf-fdc2c5bd3ddb button.colab-df-convert');\n",
              "        buttonEl.style.display =\n",
              "          google.colab.kernel.accessAllowed ? 'block' : 'none';\n",
              "\n",
              "        async function convertToInteractive(key) {\n",
              "          const element = document.querySelector('#df-b8725f6d-9998-4cb4-8bdf-fdc2c5bd3ddb');\n",
              "          const dataTable =\n",
              "            await google.colab.kernel.invokeFunction('convertToInteractive',\n",
              "                                                     [key], {});\n",
              "          if (!dataTable) return;\n",
              "\n",
              "          const docLinkHtml = 'Like what you see? Visit the ' +\n",
              "            '<a target=\"_blank\" href=https://colab.research.google.com/notebooks/data_table.ipynb>data table notebook</a>'\n",
              "            + ' to learn more about interactive tables.';\n",
              "          element.innerHTML = '';\n",
              "          dataTable['output_type'] = 'display_data';\n",
              "          await google.colab.output.renderOutput(dataTable, element);\n",
              "          const docLink = document.createElement('div');\n",
              "          docLink.innerHTML = docLinkHtml;\n",
              "          element.appendChild(docLink);\n",
              "        }\n",
              "      </script>\n",
              "    </div>\n",
              "  </div>\n",
              "  "
            ]
          },
          "metadata": {},
          "execution_count": 13
        }
      ]
    },
    {
      "cell_type": "code",
      "source": [
        "df.where(df == '#')"
      ],
      "metadata": {
        "colab": {
          "base_uri": "https://localhost:8080/",
          "height": 143
        },
        "id": "Wy4zcm-gib_H",
        "outputId": "eaaf3fa6-3ea9-49b9-f8f3-1f526a725220"
      },
      "execution_count": 14,
      "outputs": [
        {
          "output_type": "execute_result",
          "data": {
            "text/plain": [
              "     0    1    2    3\n",
              "0  NaN  NaN    #    #\n",
              "1    #    #  NaN    #\n",
              "2  NaN    #    #  NaN"
            ],
            "text/html": [
              "\n",
              "  <div id=\"df-e9c6e59b-e758-48da-ba08-f9be1c589a0e\">\n",
              "    <div class=\"colab-df-container\">\n",
              "      <div>\n",
              "<style scoped>\n",
              "    .dataframe tbody tr th:only-of-type {\n",
              "        vertical-align: middle;\n",
              "    }\n",
              "\n",
              "    .dataframe tbody tr th {\n",
              "        vertical-align: top;\n",
              "    }\n",
              "\n",
              "    .dataframe thead th {\n",
              "        text-align: right;\n",
              "    }\n",
              "</style>\n",
              "<table border=\"1\" class=\"dataframe\">\n",
              "  <thead>\n",
              "    <tr style=\"text-align: right;\">\n",
              "      <th></th>\n",
              "      <th>0</th>\n",
              "      <th>1</th>\n",
              "      <th>2</th>\n",
              "      <th>3</th>\n",
              "    </tr>\n",
              "  </thead>\n",
              "  <tbody>\n",
              "    <tr>\n",
              "      <th>0</th>\n",
              "      <td>NaN</td>\n",
              "      <td>NaN</td>\n",
              "      <td>#</td>\n",
              "      <td>#</td>\n",
              "    </tr>\n",
              "    <tr>\n",
              "      <th>1</th>\n",
              "      <td>#</td>\n",
              "      <td>#</td>\n",
              "      <td>NaN</td>\n",
              "      <td>#</td>\n",
              "    </tr>\n",
              "    <tr>\n",
              "      <th>2</th>\n",
              "      <td>NaN</td>\n",
              "      <td>#</td>\n",
              "      <td>#</td>\n",
              "      <td>NaN</td>\n",
              "    </tr>\n",
              "  </tbody>\n",
              "</table>\n",
              "</div>\n",
              "      <button class=\"colab-df-convert\" onclick=\"convertToInteractive('df-e9c6e59b-e758-48da-ba08-f9be1c589a0e')\"\n",
              "              title=\"Convert this dataframe to an interactive table.\"\n",
              "              style=\"display:none;\">\n",
              "        \n",
              "  <svg xmlns=\"http://www.w3.org/2000/svg\" height=\"24px\"viewBox=\"0 0 24 24\"\n",
              "       width=\"24px\">\n",
              "    <path d=\"M0 0h24v24H0V0z\" fill=\"none\"/>\n",
              "    <path d=\"M18.56 5.44l.94 2.06.94-2.06 2.06-.94-2.06-.94-.94-2.06-.94 2.06-2.06.94zm-11 1L8.5 8.5l.94-2.06 2.06-.94-2.06-.94L8.5 2.5l-.94 2.06-2.06.94zm10 10l.94 2.06.94-2.06 2.06-.94-2.06-.94-.94-2.06-.94 2.06-2.06.94z\"/><path d=\"M17.41 7.96l-1.37-1.37c-.4-.4-.92-.59-1.43-.59-.52 0-1.04.2-1.43.59L10.3 9.45l-7.72 7.72c-.78.78-.78 2.05 0 2.83L4 21.41c.39.39.9.59 1.41.59.51 0 1.02-.2 1.41-.59l7.78-7.78 2.81-2.81c.8-.78.8-2.07 0-2.86zM5.41 20L4 18.59l7.72-7.72 1.47 1.35L5.41 20z\"/>\n",
              "  </svg>\n",
              "      </button>\n",
              "      \n",
              "  <style>\n",
              "    .colab-df-container {\n",
              "      display:flex;\n",
              "      flex-wrap:wrap;\n",
              "      gap: 12px;\n",
              "    }\n",
              "\n",
              "    .colab-df-convert {\n",
              "      background-color: #E8F0FE;\n",
              "      border: none;\n",
              "      border-radius: 50%;\n",
              "      cursor: pointer;\n",
              "      display: none;\n",
              "      fill: #1967D2;\n",
              "      height: 32px;\n",
              "      padding: 0 0 0 0;\n",
              "      width: 32px;\n",
              "    }\n",
              "\n",
              "    .colab-df-convert:hover {\n",
              "      background-color: #E2EBFA;\n",
              "      box-shadow: 0px 1px 2px rgba(60, 64, 67, 0.3), 0px 1px 3px 1px rgba(60, 64, 67, 0.15);\n",
              "      fill: #174EA6;\n",
              "    }\n",
              "\n",
              "    [theme=dark] .colab-df-convert {\n",
              "      background-color: #3B4455;\n",
              "      fill: #D2E3FC;\n",
              "    }\n",
              "\n",
              "    [theme=dark] .colab-df-convert:hover {\n",
              "      background-color: #434B5C;\n",
              "      box-shadow: 0px 1px 3px 1px rgba(0, 0, 0, 0.15);\n",
              "      filter: drop-shadow(0px 1px 2px rgba(0, 0, 0, 0.3));\n",
              "      fill: #FFFFFF;\n",
              "    }\n",
              "  </style>\n",
              "\n",
              "      <script>\n",
              "        const buttonEl =\n",
              "          document.querySelector('#df-e9c6e59b-e758-48da-ba08-f9be1c589a0e button.colab-df-convert');\n",
              "        buttonEl.style.display =\n",
              "          google.colab.kernel.accessAllowed ? 'block' : 'none';\n",
              "\n",
              "        async function convertToInteractive(key) {\n",
              "          const element = document.querySelector('#df-e9c6e59b-e758-48da-ba08-f9be1c589a0e');\n",
              "          const dataTable =\n",
              "            await google.colab.kernel.invokeFunction('convertToInteractive',\n",
              "                                                     [key], {});\n",
              "          if (!dataTable) return;\n",
              "\n",
              "          const docLinkHtml = 'Like what you see? Visit the ' +\n",
              "            '<a target=\"_blank\" href=https://colab.research.google.com/notebooks/data_table.ipynb>data table notebook</a>'\n",
              "            + ' to learn more about interactive tables.';\n",
              "          element.innerHTML = '';\n",
              "          dataTable['output_type'] = 'display_data';\n",
              "          await google.colab.output.renderOutput(dataTable, element);\n",
              "          const docLink = document.createElement('div');\n",
              "          docLink.innerHTML = docLinkHtml;\n",
              "          element.appendChild(docLink);\n",
              "        }\n",
              "      </script>\n",
              "    </div>\n",
              "  </div>\n",
              "  "
            ]
          },
          "metadata": {},
          "execution_count": 14
        }
      ]
    },
    {
      "cell_type": "code",
      "source": [
        "arr = np.argwhere(df.values == '#')\n",
        "arr"
      ],
      "metadata": {
        "colab": {
          "base_uri": "https://localhost:8080/"
        },
        "id": "bcvOup2WigN1",
        "outputId": "0d4133dd-ac7a-4890-a099-a518608df379"
      },
      "execution_count": 15,
      "outputs": [
        {
          "output_type": "execute_result",
          "data": {
            "text/plain": [
              "array([[0, 2],\n",
              "       [0, 3],\n",
              "       [1, 0],\n",
              "       [1, 1],\n",
              "       [1, 3],\n",
              "       [2, 1],\n",
              "       [2, 2]])"
            ]
          },
          "metadata": {},
          "execution_count": 15
        }
      ]
    },
    {
      "cell_type": "code",
      "source": [
        "data = [[1, 2, 3, 4], \n",
        "        [5, 6, 7, 8], \n",
        "        [9, 10, 11, 12]]\n",
        "for i in range(len(data)):\n",
        "    for j in range(len(data[0])):\n",
        "        data[i][j] *= 2\n",
        "\n",
        "data"
      ],
      "metadata": {
        "colab": {
          "base_uri": "https://localhost:8080/"
        },
        "id": "Rkyy_5bOiqlU",
        "outputId": "c58286aa-48ac-4410-af18-9067a1f7e9fa"
      },
      "execution_count": 20,
      "outputs": [
        {
          "output_type": "execute_result",
          "data": {
            "text/plain": [
              "[[2, 4, 6, 8], [10, 12, 14, 16], [18, 20, 22, 24]]"
            ]
          },
          "metadata": {},
          "execution_count": 20
        }
      ]
    },
    {
      "cell_type": "code",
      "source": [
        "data = [[0, 0, '#', '#'], ['#', '#', 0, '#'], [0, '#', '#', 0]]\n",
        "for i in range(len(data)):\n",
        "    for j in range(len(data[0])):\n",
        "        print(data[i][j])\n",
        "        if data[i][j] == '#':\n",
        "            #상\n",
        "            if i != 0:\n",
        "                if data[i-1][j] != '#':\n",
        "                    data[i-1][j] += 1\n",
        "            #하\n",
        "            if i != len(data)-1:\n",
        "                if data[i+1][j] != '#':\n",
        "                    data[i+1][j] += 1\n",
        "            #좌\n",
        "            if j != 0:\n",
        "                if data[i][j-1] != '#':\n",
        "                    data[i][j-1] += 1\n",
        "            #우\n",
        "            if j != len(data[0])-1:\n",
        "                if data[i][j+1] != '#':\n",
        "                    data[i][j+1] += 1\n",
        "            #(왼쪽 대각선) 좌 대각선 상\n",
        "            if j != 0 and i != 0:\n",
        "                if data[i-1][j-1] != '#':\n",
        "                    data[i-1][j-1] += 1\n",
        "            #(왼쪽 대각선) 우 대각선 하\n",
        "            if j != len(data[0])-1 and i != len(data)-1:\n",
        "                if data[i+1][j+1] != '#':\n",
        "                    data[i+1][j+1] += 1\n",
        "            #(왼쪽 대각선) 우 대각선 상\n",
        "            if j != len(data[0])-1 and i != 0:\n",
        "                if data[i-1][j+1] != '#':\n",
        "                    data[i-1][j+1] += 1\n",
        "            #(왼쪽 대각선) 좌 대각선 하\n",
        "            if j != 0 and i != len(data)-1:\n",
        "                if data[i+1][j-1] != '#':\n",
        "                    data[i+1][j-1] += 1\n",
        "data"
      ],
      "metadata": {
        "colab": {
          "base_uri": "https://localhost:8080/"
        },
        "id": "DvMWXEtSjGmD",
        "outputId": "5bbffd40-38c1-4fdc-8d74-e67eb1068264"
      },
      "execution_count": 21,
      "outputs": [
        {
          "output_type": "stream",
          "name": "stdout",
          "text": [
            "0\n",
            "0\n",
            "#\n",
            "#\n",
            "#\n",
            "#\n",
            "3\n",
            "#\n",
            "2\n",
            "#\n",
            "#\n",
            "2\n"
          ]
        },
        {
          "output_type": "execute_result",
          "data": {
            "text/plain": [
              "[[2, 3, '#', '#'], ['#', '#', 6, '#'], [3, '#', '#', 2]]"
            ]
          },
          "metadata": {},
          "execution_count": 21
        }
      ]
    },
    {
      "cell_type": "code",
      "source": [
        "data\n",
        "list(filter(lambda x:type(x) == int, sum(data, [])))\n",
        "sum(list(filter(lambda x:type(x) == int, sum(data, []))))"
      ],
      "metadata": {
        "colab": {
          "base_uri": "https://localhost:8080/"
        },
        "id": "uOu1gA69mwlL",
        "outputId": "1157bf0d-e212-4f18-8f6f-d62dc459e1d4"
      },
      "execution_count": 24,
      "outputs": [
        {
          "output_type": "execute_result",
          "data": {
            "text/plain": [
              "16"
            ]
          },
          "metadata": {},
          "execution_count": 24
        }
      ]
    },
    {
      "cell_type": "code",
      "source": [
        "def solution(data):\n",
        "    for i in range(len(data)):\n",
        "        for j in range(len(data[0])):\n",
        "            if data[i][j] == '#':\n",
        "                #상\n",
        "                if i != 0:\n",
        "                    if data[i-1][j] != '#':\n",
        "                        data[i-1][j] += 1\n",
        "                #하\n",
        "                if i != len(data)-1:\n",
        "                    if data[i+1][j] != '#':\n",
        "                        data[i+1][j] += 1\n",
        "                #좌\n",
        "                if j != 0:\n",
        "                    if data[i][j-1] != '#':\n",
        "                        data[i][j-1] += 1\n",
        "                #우\n",
        "                if j != len(data[0])-1:\n",
        "                    if data[i][j+1] != '#':\n",
        "                        data[i][j+1] += 1\n",
        "                #(왼쪽 대각선) 좌 대각선 상\n",
        "                if j != 0 and i != 0:\n",
        "                    if data[i-1][j-1] != '#':\n",
        "                        data[i-1][j-1] += 1\n",
        "                #(왼쪽 대각선) 우 대각선 하\n",
        "                if j != len(data[0])-1 and i != len(data)-1:\n",
        "                    if data[i+1][j+1] != '#':\n",
        "                        data[i+1][j+1] += 1\n",
        "                #(왼쪽 대각선) 우 대각선 상\n",
        "                if j != len(data[0])-1 and i != 0:\n",
        "                    if data[i-1][j+1] != '#':\n",
        "                        data[i-1][j+1] += 1\n",
        "                #(왼쪽 대각선) 좌 대각선 하\n",
        "                if j != 0 and i != len(data)-1:\n",
        "                    if data[i+1][j-1] != '#':\n",
        "                        data[i+1][j-1] += 1\n",
        "    return [sum(data, []).count('#'), sum(list(filter(lambda x:type(x) == int, sum(data, []))))]\n",
        "\n",
        "solution([[0, 0, '#', '#'], ['#', '#', 0, '#'], [0, '#', '#', 0]])"
      ],
      "metadata": {
        "colab": {
          "base_uri": "https://localhost:8080/"
        },
        "id": "7ptzhOUCnAP7",
        "outputId": "c1ada5a9-1aa2-407a-ee1d-b7e64b74bf61"
      },
      "execution_count": 26,
      "outputs": [
        {
          "output_type": "stream",
          "name": "stdout",
          "text": [
            "0\n",
            "0\n",
            "#\n",
            "#\n",
            "#\n",
            "#\n",
            "3\n",
            "#\n",
            "2\n",
            "#\n",
            "#\n",
            "2\n"
          ]
        },
        {
          "output_type": "execute_result",
          "data": {
            "text/plain": [
              "[7, 16]"
            ]
          },
          "metadata": {},
          "execution_count": 26
        }
      ]
    },
    {
      "cell_type": "markdown",
      "source": [
        "# 6번"
      ],
      "metadata": {
        "id": "8hjcHUOhqsD_"
      }
    },
    {
      "cell_type": "code",
      "source": [
        "def solution(data):\n",
        "    if len(data) < 5:\n",
        "        return 0\n",
        "    sample = [1, 2, 3, 4, 1]\n",
        "    count = 0\n",
        "    for i in range(len(data)-4):\n",
        "        if sample == data[i:i+5]:\n",
        "            # print(data[i:i+5], i)\n",
        "            count += 1\n",
        "    return count\n",
        "\n",
        "solution([1, 1, 1, 2, 3, 4, 1, 2, 3, 4, 1])"
      ],
      "metadata": {
        "colab": {
          "base_uri": "https://localhost:8080/"
        },
        "id": "fJouOxHKnYLs",
        "outputId": "9b38938d-c465-4730-b492-6fa7ee9b535f"
      },
      "execution_count": 29,
      "outputs": [
        {
          "output_type": "stream",
          "name": "stdout",
          "text": [
            "[1, 2, 3, 4, 1] 2\n",
            "[1, 2, 3, 4, 1] 6\n"
          ]
        }
      ]
    },
    {
      "cell_type": "code",
      "source": [
        "import re\n",
        "\n",
        "def solution(data):\n",
        "    if len(data) < 5:\n",
        "        return 0\n",
        "    sample = '1, 2, 3, 4, 1'\n",
        "    return re.findall(sample, str(data))\n",
        "\n",
        "solution([1, 1, 1, 2, 3, 4, 1, 1, 2, 3, 4, 1])"
      ],
      "metadata": {
        "colab": {
          "base_uri": "https://localhost:8080/"
        },
        "id": "X35DZh6DsZuq",
        "outputId": "f87c597a-1471-4358-96e0-d1945ff376fe"
      },
      "execution_count": 30,
      "outputs": [
        {
          "output_type": "execute_result",
          "data": {
            "text/plain": [
              "['1, 2, 3, 4, 1', '1, 2, 3, 4, 1']"
            ]
          },
          "metadata": {},
          "execution_count": 30
        }
      ]
    },
    {
      "cell_type": "code",
      "source": [
        "str([1, 5, 6, 88, 8, 4, 5, 33, 888, 8, 1]).count('8')"
      ],
      "metadata": {
        "colab": {
          "base_uri": "https://localhost:8080/"
        },
        "id": "ulxh4Zjpsv14",
        "outputId": "a19163f0-077c-4e9c-eafa-7c6c7f99f4a3"
      },
      "execution_count": 31,
      "outputs": [
        {
          "output_type": "execute_result",
          "data": {
            "text/plain": [
              "7"
            ]
          },
          "metadata": {},
          "execution_count": 31
        }
      ]
    },
    {
      "cell_type": "code",
      "source": [
        "str(list(range(1, 10001))).count('6')"
      ],
      "metadata": {
        "colab": {
          "base_uri": "https://localhost:8080/"
        },
        "id": "I8bcLg7js4Aq",
        "outputId": "d61c2d88-9026-43db-deda-16811a693e15"
      },
      "execution_count": 32,
      "outputs": [
        {
          "output_type": "execute_result",
          "data": {
            "text/plain": [
              "4000"
            ]
          },
          "metadata": {},
          "execution_count": 32
        }
      ]
    },
    {
      "cell_type": "markdown",
      "source": [
        "# 7번"
      ],
      "metadata": {
        "id": "yys8fUSTtWuD"
      }
    },
    {
      "cell_type": "markdown",
      "source": [
        "### 슬라이딩 윈도우와 투 포인터 알고리즘\n",
        "* 투 포인터 알고리즘 : 두개의 점의 위치(index)를 이용하여 순차적 해결\n",
        "* 슬라이딩 윈도우 알고리즘 : 고정 사이즈의 윈도우가 이동하면서 윈도우 내 데이터를 연산하여 문제 해결"
      ],
      "metadata": {
        "id": "fGpsyQoOtZYJ"
      }
    },
    {
      "cell_type": "markdown",
      "source": [
        "![tree만들기 (2).png](data:image/png;base64,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)"
      ],
      "metadata": {
        "id": "lBFodL3FtcLI"
      }
    },
    {
      "cell_type": "markdown",
      "source": [
        "* 구간합이나 회문(팬린드롬) 등에 사용\n",
        "    * 예시 : \n",
        "    ```\n",
        "    슬라이딩 윈도우 : [1, 5, 4, 6, 4, 6, 7, 6, 4, 3, 1, 2]에서 연속된 2개의 합이 10인 모든 수를 찾아라.\n",
        "    투 포인터 : [1, 5, 4, 6, 4, 6, 7, 6, 4, 3, 1, 2]에서 연속된 배열의 합이 10인 배열의 인덱스를 모두 찾아라.\n",
        "    ```\n",
        "    * 예시가 아닌 것 :\n",
        "    ```\n",
        "    [1, 5, 4, 6, 4, 6, 7, 6, 4, 3, 1, 2]에서 2개의 수 조합으로 10을 만들 수 있는 배열의 인덱스를 찾아라. \n",
        "    ```\n",
        "* 회문 문제 : https://codingdojang.com/search/?q=palindrome"
      ],
      "metadata": {
        "id": "tAcgPVE8tc2I"
      }
    },
    {
      "cell_type": "markdown",
      "source": [
        "* 슬라이딩 윈도우, 투포인터, 순열과 조합은 한 세트로 기억을 해주시고 비슷한 문제 유형이 나왔을 때 어떤 것으로 풀이할지 고민을 해주세요."
      ],
      "metadata": {
        "id": "s8GHkX5tujHv"
      }
    },
    {
      "cell_type": "code",
      "source": [
        "# 순열 조합\n",
        "import itertools\n",
        "\n",
        "배열 = ['A', 'B', 'C']\n",
        "순열 = itertools.permutations(배열, 2) # 순서가 고려되어 있습니다.\n",
        "# 순열 = itertools.permutations(배열, 3) # 순서가 고려되어 있습니다.\n",
        "\n",
        "list(순열)"
      ],
      "metadata": {
        "colab": {
          "base_uri": "https://localhost:8080/"
        },
        "id": "TDvBWJY0tiUx",
        "outputId": "81befa17-60b9-41cc-fb56-02119bb5f6ea"
      },
      "execution_count": 39,
      "outputs": [
        {
          "output_type": "execute_result",
          "data": {
            "text/plain": [
              "[('A', 'B'), ('A', 'C'), ('B', 'A'), ('B', 'C'), ('C', 'A'), ('C', 'B')]"
            ]
          },
          "metadata": {},
          "execution_count": 39
        }
      ]
    },
    {
      "cell_type": "code",
      "source": [
        "import itertools\n",
        "\n",
        "배열 = ['A', 'B', 'C']\n",
        "조합 = itertools.combinations(배열, 2) # 순서가 고려되어 있지 않습니다.\n",
        "# 조합 = itertools.combinations(배열, 3) # 순서가 고려되어 있지 않습니다.\n",
        "\n",
        "list(조합)"
      ],
      "metadata": {
        "colab": {
          "base_uri": "https://localhost:8080/"
        },
        "id": "LJ3sqAcrvTFf",
        "outputId": "abf3827c-6bd4-470a-e9c9-2c23ecd96c84"
      },
      "execution_count": 41,
      "outputs": [
        {
          "output_type": "execute_result",
          "data": {
            "text/plain": [
              "[('A', 'B'), ('A', 'C'), ('B', 'C')]"
            ]
          },
          "metadata": {},
          "execution_count": 41
        }
      ]
    },
    {
      "cell_type": "code",
      "source": [
        "import itertools\n",
        "\n",
        "배열 = [4, 9, 11, 2]\n",
        "조합 = itertools.combinations(배열, 2)\n",
        "\n",
        "list(조합)"
      ],
      "metadata": {
        "colab": {
          "base_uri": "https://localhost:8080/"
        },
        "id": "7-LaCbgb0Xmv",
        "outputId": "bff33438-a19e-42a0-9d70-bd54f40677b7"
      },
      "execution_count": 42,
      "outputs": [
        {
          "output_type": "execute_result",
          "data": {
            "text/plain": [
              "[(4, 9), (4, 11), (4, 2), (9, 11), (9, 2), (11, 2)]"
            ]
          },
          "metadata": {},
          "execution_count": 42
        }
      ]
    },
    {
      "cell_type": "code",
      "source": [
        "list(filter(lambda x:sum(x) == 6, [(4, 9), (4, 11), (4, 2), (9, 11), (9, 2), (11, 2)]))"
      ],
      "metadata": {
        "colab": {
          "base_uri": "https://localhost:8080/"
        },
        "id": "R-dy7Qxw0kfn",
        "outputId": "8f87d584-eeb4-4c71-a050-22a2e43deafa"
      },
      "execution_count": 43,
      "outputs": [
        {
          "output_type": "execute_result",
          "data": {
            "text/plain": [
              "[(4, 2)]"
            ]
          },
          "metadata": {},
          "execution_count": 43
        }
      ]
    },
    {
      "cell_type": "code",
      "source": [
        "import itertools\n",
        "\n",
        "def solution(data):\n",
        "    조합 = list(itertools.combinations(data[0], 2))\n",
        "    정답 = list(filter(lambda x:sum(x) == data[1], 조합))[0]\n",
        "    return sorted([data[0].index(정답[0]), data[0].index(정답[1])])\n",
        "\n",
        "solution([[4, 9, 11, 2], 6])"
      ],
      "metadata": {
        "colab": {
          "base_uri": "https://localhost:8080/"
        },
        "id": "Pbr6Zygz06lp",
        "outputId": "a9a68302-69ac-4c9f-fded-03c62a20ca15"
      },
      "execution_count": 49,
      "outputs": [
        {
          "output_type": "execute_result",
          "data": {
            "text/plain": [
              "[0, 3]"
            ]
          },
          "metadata": {},
          "execution_count": 49
        }
      ]
    },
    {
      "cell_type": "code",
      "source": [
        "[1, 2, 3, 4, 5, 2, 3, 4, 5, 6].index(5)"
      ],
      "metadata": {
        "colab": {
          "base_uri": "https://localhost:8080/"
        },
        "id": "PLaH5-ZK2bnx",
        "outputId": "5a63a669-a411-4d29-fc1e-bb2b662a2d0a"
      },
      "execution_count": 50,
      "outputs": [
        {
          "output_type": "execute_result",
          "data": {
            "text/plain": [
              "4"
            ]
          },
          "metadata": {},
          "execution_count": 50
        }
      ]
    },
    {
      "cell_type": "code",
      "source": [
        "[1, 2, 3, 4, 5, 2, 3, 4, 5, 6].index(5, 6)"
      ],
      "metadata": {
        "colab": {
          "base_uri": "https://localhost:8080/"
        },
        "id": "bZbhhnIx2hkK",
        "outputId": "9ada2dbe-16e1-4f7e-89f3-fb94e2e123d6"
      },
      "execution_count": 51,
      "outputs": [
        {
          "output_type": "execute_result",
          "data": {
            "text/plain": [
              "8"
            ]
          },
          "metadata": {},
          "execution_count": 51
        }
      ]
    },
    {
      "cell_type": "code",
      "source": [
        "import itertools\n",
        "\n",
        "def solution(data):\n",
        "    조합 = list(itertools.combinations(data[0], 2))\n",
        "    정답 = list(filter(lambda x:sum(x) == data[1], 조합))[0]\n",
        "    if data[0].index(정답[0]) == data[0].index(정답[1]):\n",
        "        return sorted([data[0].index(정답[0]), data[0].index(정답[1], data[0].index(정답[0])+1)])\n",
        "    return sorted([data[0].index(정답[0]), data[0].index(정답[1])])\n",
        "\n",
        "solution([[4, 9, 11, 2], 6])"
      ],
      "metadata": {
        "id": "WnvZAayl19xt"
      },
      "execution_count": null,
      "outputs": []
    },
    {
      "cell_type": "code",
      "source": [
        "import itertools\n",
        "\n",
        "def solution(data):\n",
        "    조합 = list(itertools.combinations(data[0], 2))\n",
        "    정답 = list(filter(lambda x:sum(x) == data[1], 조합))[0]\n",
        "    첫번째인덱스 = data[0].index(정답[0])\n",
        "    두번째인덱스 = data[0].index(정답[1], 첫번째인덱스+1)\n",
        "    return sorted([첫번째인덱스, 두번째인덱스])\n",
        "\n",
        "solution([[4, 9, 11, 2], 6])"
      ],
      "metadata": {
        "colab": {
          "base_uri": "https://localhost:8080/"
        },
        "id": "nTTJK53g2qOS",
        "outputId": "bb0f40d9-0d7c-4d42-e959-de428c63aee0"
      },
      "execution_count": 52,
      "outputs": [
        {
          "output_type": "execute_result",
          "data": {
            "text/plain": [
              "[0, 3]"
            ]
          },
          "metadata": {},
          "execution_count": 52
        }
      ]
    },
    {
      "cell_type": "markdown",
      "source": [
        "# 12번"
      ],
      "metadata": {
        "id": "5fTXoWIO3nki"
      }
    },
    {
      "cell_type": "code",
      "source": [
        "s = [2, 4, 1, 3, 5, 8, 8, 6]\n",
        "s[::2]"
      ],
      "metadata": {
        "colab": {
          "base_uri": "https://localhost:8080/"
        },
        "id": "Dm0JIJmQ3pJk",
        "outputId": "3e7d77ff-d9bd-4006-b4a3-e6599e3a8d15"
      },
      "execution_count": 53,
      "outputs": [
        {
          "output_type": "execute_result",
          "data": {
            "text/plain": [
              "[2, 1, 5, 8]"
            ]
          },
          "metadata": {},
          "execution_count": 53
        }
      ]
    },
    {
      "cell_type": "code",
      "source": [
        "s[1::2]"
      ],
      "metadata": {
        "colab": {
          "base_uri": "https://localhost:8080/"
        },
        "id": "3wx4DhyV4sOr",
        "outputId": "f00d2da5-15c6-49e2-eea6-06fc2a0400b1"
      },
      "execution_count": 54,
      "outputs": [
        {
          "output_type": "execute_result",
          "data": {
            "text/plain": [
              "[4, 3, 8, 6]"
            ]
          },
          "metadata": {},
          "execution_count": 54
        }
      ]
    },
    {
      "cell_type": "code",
      "source": [
        "#=> 이렇게 문제 풀면 안됩니다.\n",
        "\n",
        "# 0부터 7까지 index\n",
        "# 4개인 경우 => 여기서 몇 개의 조합이 빠져 있습니다.(0, 2, 5, 7)\n",
        "# 0, 2, 4, 6\n",
        "# 1, 3, 5, 7\n",
        "\n",
        "# 3개인 경우(4개인 경우와 집합으로 겹치면 배제)\n",
        "# 0, 2, 5\n",
        "# 0, 2, 7\n",
        "# 0, 3, 5\n",
        "# 0, 3, 6\n",
        "# 0, 3, 7\n",
        "# 0, 5, 7\n",
        "# 1, 3, 6\n",
        "# 1, 4, 6\n",
        "# 1, 4, 7"
      ],
      "metadata": {
        "id": "7n5CymM94u8v"
      },
      "execution_count": null,
      "outputs": []
    },
    {
      "cell_type": "code",
      "source": [
        "import itertools\n",
        "\n",
        "인덱스 = [0, 1, 2, 3, 4, 5, 6, 7]\n",
        "조합4 = list(itertools.combinations(인덱스, 4))\n",
        "조합3 = list(itertools.combinations(인덱스, 3))"
      ],
      "metadata": {
        "id": "tdiD98CT5S3s"
      },
      "execution_count": 55,
      "outputs": []
    },
    {
      "cell_type": "code",
      "source": [
        "조합4\n",
        "조합3"
      ],
      "metadata": {
        "id": "MvhEzQym5hd5"
      },
      "execution_count": null,
      "outputs": []
    },
    {
      "cell_type": "code",
      "source": [
        "# 이렇게 나온 조합 인덱스를 가지고 data에서 데이터를 뽑아 전부 다 더한 다음()\n",
        "# 가장 큰 값을 꺼내면 됩니다.\n",
        "# 예를 들어\n",
        "(2, 4, 6)\n",
        "[2, 4, 1, 3, 5, 8, 8, 6][2] + [2, 4, 1, 3, 5, 8, 8, 6][4] + [2, 4, 1, 3, 5, 8, 8, 6][6]"
      ],
      "metadata": {
        "colab": {
          "base_uri": "https://localhost:8080/"
        },
        "id": "TkL70eg-5r-p",
        "outputId": "85d16089-d2b8-498d-ff7a-adfc90a1931b"
      },
      "execution_count": 59,
      "outputs": [
        {
          "output_type": "execute_result",
          "data": {
            "text/plain": [
              "14"
            ]
          },
          "metadata": {},
          "execution_count": 59
        }
      ]
    },
    {
      "cell_type": "code",
      "source": [
        "# [14, 16, 21, 33, ...] => 여기서 가장 큰 값을 뽑아내면 됩니다."
      ],
      "metadata": {
        "id": "-u2F3LWk6EvE"
      },
      "execution_count": null,
      "outputs": []
    },
    {
      "cell_type": "code",
      "source": [
        "len(조합3)"
      ],
      "metadata": {
        "colab": {
          "base_uri": "https://localhost:8080/"
        },
        "id": "Gshb8pQE6e8S",
        "outputId": "57599f7e-d626-4bc2-d71a-9e7a04f801fb"
      },
      "execution_count": 61,
      "outputs": [
        {
          "output_type": "execute_result",
          "data": {
            "text/plain": [
              "56"
            ]
          },
          "metadata": {},
          "execution_count": 61
        }
      ]
    },
    {
      "cell_type": "code",
      "source": [
        "def 인접한값삭제(l, n):\n",
        "    # remove로 지우면 나중에 index 관련된 애러를 만남 => 실시간으로 반영되는 길이가 아니기 때문\n",
        "    for i in range(len(l)):\n",
        "        for j in range(n-1):\n",
        "            print(l[i])\n",
        "            if (l[i][j] + 1) == l[i][j+1]:\n",
        "                # remove로 지우면 나중에 index 관련된 애러를 만남\n",
        "                l.remove(l[i])\n",
        "\n",
        "인접한값삭제(조합3, 3)"
      ],
      "metadata": {
        "id": "uY7fkzDz6NeX"
      },
      "execution_count": null,
      "outputs": []
    },
    {
      "cell_type": "code",
      "source": [
        "l = [10, 20, 30, 40, 50]\n",
        "for i in range(len(l)):\n",
        "    print(i)\n",
        "    if l[i] == 10 or l[i] == 20:\n",
        "        # print(f'원본배열 : {l}')\n",
        "        # print(l[i])\n",
        "        l.remove(l[i])\n",
        "        # print(l[0]) # 해당 인덱스가 사라진 것이 아님"
      ],
      "metadata": {
        "id": "SXFX8pgt7d6q"
      },
      "execution_count": null,
      "outputs": []
    },
    {
      "cell_type": "code",
      "source": [
        "import itertools\n",
        "\n",
        "인덱스 = [0, 1, 2, 3, 4, 5, 6, 7]\n",
        "조합4 = list(itertools.combinations(인덱스, 4))\n",
        "조합3 = list(itertools.combinations(인덱스, 3))\n",
        "\n",
        "def 인접한값삭제(l, n):\n",
        "    # remove로 지우면 나중에 index 관련된 애러를 만남 => 실시간으로 반영되는 길이가 아니기 때문\n",
        "    for i in range(len(l)):\n",
        "        for j in range(n-1):\n",
        "            if (l[i][j] + 1) == l[i][j+1]:\n",
        "                # remove로 지우면 나중에 index 관련된 애러를 만남\n",
        "                l[i] = ()\n",
        "\n",
        "인접한값삭제(조합3, 3)\n",
        "조합3"
      ],
      "metadata": {
        "id": "L6a3Q9E68Oc4"
      },
      "execution_count": null,
      "outputs": []
    },
    {
      "cell_type": "code",
      "source": [
        "import itertools\n",
        "\n",
        "인덱스 = [0, 1, 2, 3, 4, 5, 6, 7]\n",
        "조합4 = list(itertools.combinations(인덱스, 4))\n",
        "조합3 = list(itertools.combinations(인덱스, 3))\n",
        "\n",
        "def 인접한값삭제(l, n):\n",
        "    # remove로 지우면 나중에 index 관련된 애러를 만남 => 실시간으로 반영되는 길이가 아니기 때문\n",
        "    for i in range(len(l)):\n",
        "        for j in range(n-1):\n",
        "            if (l[i][j] + 1) == l[i][j+1]:\n",
        "                # remove로 지우면 나중에 index 관련된 애러를 만남\n",
        "                l[i] = ()\n",
        "                break\n",
        "\n",
        "인접한값삭제(조합3, 3)\n",
        "조합3"
      ],
      "metadata": {
        "id": "xQwkjC7S9NsZ"
      },
      "execution_count": null,
      "outputs": []
    },
    {
      "cell_type": "code",
      "source": [
        "list(filter(lambda x: x != (), 조합3))"
      ],
      "metadata": {
        "colab": {
          "base_uri": "https://localhost:8080/"
        },
        "id": "2RGz4UWS9cQc",
        "outputId": "31cceda3-40a9-4f9c-8cb1-e5ba6f857250"
      },
      "execution_count": 74,
      "outputs": [
        {
          "output_type": "execute_result",
          "data": {
            "text/plain": [
              "[(0, 2, 4),\n",
              " (0, 2, 5),\n",
              " (0, 2, 6),\n",
              " (0, 2, 7),\n",
              " (0, 3, 5),\n",
              " (0, 3, 6),\n",
              " (0, 3, 7),\n",
              " (0, 4, 6),\n",
              " (0, 4, 7),\n",
              " (0, 5, 7),\n",
              " (1, 3, 5),\n",
              " (1, 3, 6),\n",
              " (1, 3, 7),\n",
              " (1, 4, 6),\n",
              " (1, 4, 7),\n",
              " (1, 5, 7),\n",
              " (2, 4, 6),\n",
              " (2, 4, 7),\n",
              " (2, 5, 7),\n",
              " (3, 5, 7)]"
            ]
          },
          "metadata": {},
          "execution_count": 74
        }
      ]
    },
    {
      "cell_type": "code",
      "source": [
        "import itertools\n",
        "\n",
        "def solution(data):\n",
        "    def 인접한값삭제(l, n):\n",
        "        # remove로 지우면 나중에 index 관련된 애러를 만남 => 실시간으로 반영되는 길이가 아니기 때문\n",
        "        for i in range(len(l)):\n",
        "            for j in range(n-1):\n",
        "                if (l[i][j] + 1) == l[i][j+1]:\n",
        "                    # remove로 지우면 나중에 index 관련된 애러를 만남\n",
        "                    l[i] = ()\n",
        "                    break\n",
        "\n",
        "    인덱스 = [0, 1, 2, 3, 4, 5, 6, 7]\n",
        "    조합4 = list(itertools.combinations(인덱스, 4))\n",
        "    조합3 = list(itertools.combinations(인덱스, 3))\n",
        "\n",
        "    인접한값삭제(조합3, 3)\n",
        "    인접한값삭제(조합4, 4)\n",
        "\n",
        "    조합3 = list(filter(lambda x: x != (), 조합3))\n",
        "    조합4 = list(filter(lambda x: x != (), 조합4))\n",
        "\n",
        "\n",
        "solution([2, 4, 1, 3, 5, 8, 8, 6])"
      ],
      "metadata": {
        "id": "23Z01mgi98G5"
      },
      "execution_count": null,
      "outputs": []
    },
    {
      "cell_type": "code",
      "source": [
        "조합3 = [(0, 3, 5),\n",
        "        (0, 3, 6),\n",
        "        (0, 3, 7),\n",
        "        (0, 4, 6)]\n",
        "\n",
        "data = [2, 4, 1, 3, 5, 8, 8, 6]\n",
        "\n",
        "# for i, j, k in 조합3:\n",
        "#     print(i, j, k)\n",
        "\n",
        "# for i, j, k in 조합3:\n",
        "#     print(data[i], data[j], data[k])\n",
        "\n",
        "# for i, j, k in 조합3:\n",
        "#     print(data[i] + data[j] + data[k])\n",
        "\n",
        "# map(lambda x:data[x[0]] + data[x[1]] + data[x[2]], 조합3)\n",
        "\n",
        "list(map(lambda x:sum([data[i] for i in x]), 조합3))"
      ],
      "metadata": {
        "colab": {
          "base_uri": "https://localhost:8080/"
        },
        "id": "Cz6pcuon-dLU",
        "outputId": "9932c819-cc83-4a0c-9d76-bbc8eaf0e953"
      },
      "execution_count": 78,
      "outputs": [
        {
          "output_type": "execute_result",
          "data": {
            "text/plain": [
              "[13, 13, 11, 15]"
            ]
          },
          "metadata": {},
          "execution_count": 78
        }
      ]
    },
    {
      "cell_type": "code",
      "source": [
        "import itertools\n",
        "\n",
        "def solution(data):\n",
        "    def 인접한값삭제(l, n):\n",
        "        # remove로 지우면 나중에 index 관련된 애러를 만남 => 실시간으로 반영되는 길이가 아니기 때문\n",
        "        for i in range(len(l)):\n",
        "            for j in range(n-1):\n",
        "                if (l[i][j] + 1) == l[i][j+1]:\n",
        "                    # remove로 지우면 나중에 index 관련된 애러를 만남\n",
        "                    l[i] = ()\n",
        "                    break\n",
        "\n",
        "    인덱스 = [0, 1, 2, 3, 4, 5, 6, 7]\n",
        "    조합4 = list(itertools.combinations(인덱스, 4))\n",
        "    조합3 = list(itertools.combinations(인덱스, 3))\n",
        "\n",
        "    인접한값삭제(조합3, 3)\n",
        "    인접한값삭제(조합4, 4)\n",
        "\n",
        "    조합3 = list(filter(lambda x: x != (), 조합3))\n",
        "    조합4 = list(filter(lambda x: x != (), 조합4))\n",
        "\n",
        "    조합된값 = list(map(lambda x:sum([data[i] for i in x]), 조합3+조합4))\n",
        "    # return sorted(조합된값, reverse=True)[0]\n",
        "    return max(조합된값)\n",
        "\n",
        "solution([2, 4, 1, 3, 5, 8, 8, 6])"
      ],
      "metadata": {
        "colab": {
          "base_uri": "https://localhost:8080/"
        },
        "id": "rk2ct-Xv_mxg",
        "outputId": "a18aa3fc-a863-4b37-ca44-f7d9e96d9426"
      },
      "execution_count": 80,
      "outputs": [
        {
          "output_type": "execute_result",
          "data": {
            "text/plain": [
              "21"
            ]
          },
          "metadata": {},
          "execution_count": 80
        }
      ]
    },
    {
      "cell_type": "markdown",
      "source": [
        "# 13번"
      ],
      "metadata": {
        "id": "eAMLB5Sn2Caa"
      }
    },
    {
      "cell_type": "code",
      "source": [
        "# 그리디 + 힙\n",
        "len(list(filter(lambda x:x>=30, [46, 26, 37, 32, 10])))\n",
        "list(filter(lambda x:x<30, [46, 26, 37, 32, 10]))"
      ],
      "metadata": {
        "colab": {
          "base_uri": "https://localhost:8080/"
        },
        "id": "ifU26kHI2EZH",
        "outputId": "e23dc267-9650-4e43-84c7-79ce5dc84382"
      },
      "execution_count": 2,
      "outputs": [
        {
          "output_type": "execute_result",
          "data": {
            "text/plain": [
              "[26, 10]"
            ]
          },
          "metadata": {},
          "execution_count": 2
        }
      ]
    },
    {
      "cell_type": "code",
      "source": [
        "from heapq import heappush, heappop, heapify\n",
        "\n",
        "# python에서는 min heap(가장 작은 값이 트리의 최상단에 위치)\n",
        "# 완전이진트리\n",
        "# index로 읽어오는 것은 index == 0만 가능\n",
        "\n",
        "heap = []\n",
        "# 5, 4, 3, 6, 7, 8, 10\n",
        "heappush(heap, 5)\n",
        "heappush(heap, 4)\n",
        "heappush(heap, 3)\n",
        "heappush(heap, 6)\n",
        "heappush(heap, 7)\n",
        "heappush(heap, 8)\n",
        "heappush(heap, 10)\n",
        "\n",
        "print(heap)"
      ],
      "metadata": {
        "colab": {
          "base_uri": "https://localhost:8080/"
        },
        "id": "6jbmde5J3aiD",
        "outputId": "695c2bc4-3848-45e1-9cb5-8d798d342ef1"
      },
      "execution_count": 4,
      "outputs": [
        {
          "output_type": "stream",
          "name": "stdout",
          "text": [
            "[3, 5, 4, 6, 7, 8, 10]\n"
          ]
        }
      ]
    },
    {
      "cell_type": "code",
      "source": [
        "heappop(heap)"
      ],
      "metadata": {
        "colab": {
          "base_uri": "https://localhost:8080/"
        },
        "id": "raWuWX335PmM",
        "outputId": "8c057524-b736-4659-e828-bad866c81bbd"
      },
      "execution_count": 5,
      "outputs": [
        {
          "output_type": "execute_result",
          "data": {
            "text/plain": [
              "3"
            ]
          },
          "metadata": {},
          "execution_count": 5
        }
      ]
    },
    {
      "cell_type": "code",
      "source": [
        "print(heap)"
      ],
      "metadata": {
        "colab": {
          "base_uri": "https://localhost:8080/"
        },
        "id": "CFbuqkLq5TM4",
        "outputId": "d1342af4-0f06-4a7f-ab55-f84adb359b75"
      },
      "execution_count": 6,
      "outputs": [
        {
          "output_type": "stream",
          "name": "stdout",
          "text": [
            "[4, 5, 8, 6, 7, 10]\n"
          ]
        }
      ]
    },
    {
      "cell_type": "code",
      "source": [
        "def solution(data):\n",
        "    if sum(data[0]) < data[1]:\n",
        "        return -1\n",
        "    count = 0\n",
        "    temp = 0\n",
        "    for i in sorted(data[0], reverse=True):\n",
        "        if i >= data[1]:\n",
        "            count += 1\n",
        "        elif i <= data[1]:\n",
        "            temp += i\n",
        "        if temp >= data[1]:\n",
        "            count += 1\n",
        "            temp = 0\n",
        "    return count\n",
        "\n",
        "# solution([[46, 26, 37, 32, 10], 30])\n",
        "solution([[7, 36, 25, 12, 22], 47]) # 오답\n",
        "(36, 12), (25, 22, 7)"
      ],
      "metadata": {
        "colab": {
          "base_uri": "https://localhost:8080/"
        },
        "id": "1HrnKzAo5e4U",
        "outputId": "f125baa1-f17b-4403-9248-5b0e7ce65a9d"
      },
      "execution_count": 9,
      "outputs": [
        {
          "output_type": "execute_result",
          "data": {
            "text/plain": [
              "1"
            ]
          },
          "metadata": {},
          "execution_count": 9
        }
      ]
    },
    {
      "cell_type": "markdown",
      "source": [
        "최소 무게가 안되어 여러 사람을 함께 태울 때, \n",
        "가장 무거운 사람과 가장 가벼운 사람, \n",
        "가장 무거운 사람, 가장 가벼운 사람의 조합으로 태울 수 있지 않습니다.\n",
        "\n",
        "가장 무거운 사람과 가장 가벼운 사람을 함께 태워도 비효율적인 경우가 있으며, \n",
        "가장 무거운 사람을 태워도 비효율적인 경우가 있습니다. \n",
        "\n",
        "힙이나 이진트리로 풀 수 있는 문제가 아니고 전수 조사를 해야 합니다. \n",
        "47에 가까운 조합으로 태워야 해요.(조합의 갯수도 적어야 합니다.)"
      ],
      "metadata": {
        "id": "8T9vpZWr64Ry"
      }
    },
    {
      "cell_type": "code",
      "source": [
        "from itertools import combinations\n",
        "\n",
        "def solution(data):\n",
        "    if sum(data[0]) < data[1]:\n",
        "        return -1\n",
        "    count = 0\n",
        "    temp = 0\n",
        "    copydata = data[0][:]\n",
        "    for i in copydata:\n",
        "        if i >= data[1]:\n",
        "            count += 1\n",
        "            data[0].remove(i)\n",
        "    # print(data[0])\n",
        "\n",
        "    while data[0]:\n",
        "        print('------------')\n",
        "        if len(data[0]) == 1:\n",
        "            return count\n",
        "        조합 = []\n",
        "        for i in range(2, len(data[0])+1):\n",
        "            for comb in combinations(data[0], i):\n",
        "                print(comb)\n",
        "                if sum(comb) >= data[1]:\n",
        "                    조합.append([sum(comb), comb])\n",
        "        print(f'조합 : {조합}')\n",
        "        if 조합 == []:\n",
        "            return count\n",
        "        정렬값 = sorted(조합, key=lambda x:x[0]-data[1])\n",
        "        print(f'정렬값 : {정렬값}')\n",
        "        if 정렬값[0][0] >= data[1]:\n",
        "            count += 1\n",
        "            data[0].remove(정렬값[0][1][0])\n",
        "            data[0].remove(정렬값[0][1][1])\n",
        "        else:\n",
        "            return count\n",
        "        print(f'data[0] : {data[0]}')\n",
        "    return count\n",
        "\n",
        "# solution([[46, 26, 37, 32, 10], 30])\n",
        "solution([[7, 36, 25, 12, 22], 47]) # 오답"
      ],
      "metadata": {
        "id": "ab6jWqaVJ54S"
      },
      "execution_count": null,
      "outputs": []
    },
    {
      "cell_type": "code",
      "source": [
        "from itertools import combinations\n",
        "\n",
        "def solution(data):\n",
        "    if sum(data[0]) < data[1]:\n",
        "        return -1\n",
        "    count = 0\n",
        "    temp = 0\n",
        "    copydata = data[0][:]\n",
        "    for i in copydata:\n",
        "        if i >= data[1]:\n",
        "            count += 1\n",
        "            data[0].remove(i)\n",
        "\n",
        "    while data[0]:\n",
        "        if len(data[0]) == 1:\n",
        "            return count\n",
        "        조합 = []\n",
        "        for i in range(2, len(data[0])+1):\n",
        "            for comb in combinations(data[0], i):\n",
        "                print(comb)\n",
        "                if sum(comb) >= data[1]:\n",
        "                    조합.append([sum(comb), comb])\n",
        "        if 조합 == []:\n",
        "            return count\n",
        "        정렬값 = sorted(조합, key=lambda x:x[0]-data[1])\n",
        "        if 정렬값[0][0] >= data[1]:\n",
        "            count += 1\n",
        "            data[0].remove(정렬값[0][1][0])\n",
        "            data[0].remove(정렬값[0][1][1])\n",
        "        else:\n",
        "            return count\n",
        "    return count\n",
        "\n",
        "# solution([[46, 26, 37, 32, 10], 30])\n",
        "solution([[7, 36, 25, 12, 22], 47]) # 오답"
      ],
      "metadata": {
        "id": "XjBJsfOnNyal"
      },
      "execution_count": null,
      "outputs": []
    },
    {
      "cell_type": "markdown",
      "source": [
        "# 14번"
      ],
      "metadata": {
        "id": "wOmnyiBHPLvp"
      }
    },
    {
      "cell_type": "markdown",
      "source": [
        "DFS와 BFS - 깊스너큐!\n",
        "\n",
        "* 깊이 우선 탐색(DFS)\n",
        "    * 동작 : 스택\n",
        "    * 사용 : 길이나 미로 찾기\n",
        "    * 적은 메모리로 돌릴 수 있음\n",
        "\n",
        "* 너비 우선 탐색(BFS)\n",
        "    * 동작 : 큐\n",
        "    * 사용 : 주변 시설 찾기, 최단경로 찾기\n",
        "    * 많은 메모리 사용"
      ],
      "metadata": {
        "id": "r3IjOlYqPQnH"
      }
    },
    {
      "cell_type": "code",
      "source": [
        "[[1,    3,      '#'], \n",
        " [0,    '#',    2], \n",
        " [0,    1,      1]]"
      ],
      "metadata": {
        "id": "MlobPkpX_HSj"
      },
      "execution_count": null,
      "outputs": []
    },
    {
      "cell_type": "code",
      "source": [
        "data = [[0,     '#',    1,      0], \n",
        "        [2,     1,      1,      2], \n",
        "        ['#',   3,      0,      1], \n",
        "        [1,     '#',    '#',    3], \n",
        "        [0,     2,      '#',    1]]"
      ],
      "metadata": {
        "id": "UfhJKQUBBmIx"
      },
      "execution_count": 1,
      "outputs": []
    },
    {
      "cell_type": "code",
      "source": [
        "data = [[0,     '#',    1,      0], \n",
        "        [2,     1,      1,      2], \n",
        "        ['#',   3,      0,      1], \n",
        "        [1,     '#',    '#',    3], \n",
        "        [0,     2,      '#',    1]]\n",
        "\n",
        "def check(x, y):\n",
        "    if y < 0 or y > M or x < 0 or x > N:\n",
        "        return False\n",
        "    if data[x][y] == '#':\n",
        "        return False\n",
        "    return True\n",
        "\n",
        "# 너비 우선 탐색(BFS) : 큐\n",
        "N = len(data) - 1\n",
        "M = len(data[0]) - 1\n",
        "\n",
        "queue = []\n",
        "queue.append([0, 0])\n",
        "fish = data[0][0]\n",
        "data[0][0] = 0\n",
        "visited = set()\n",
        "# x: 행, y: 열\n",
        "# N: 행, M: 열\n",
        "count = 0\n",
        "goal = False\n",
        "\n",
        "while queue:\n",
        "    count += 1\n",
        "    if count == (N*M)**3:\n",
        "        print([fish, goal])\n",
        "        break\n",
        "    x, y = queue.pop(0)\n",
        "    visited.add((x, y))\n",
        "    if x == N and y == M:\n",
        "        fish += data[x][y]\n",
        "        data[x][y] = 0\n",
        "        goal = True\n",
        "    #상\n",
        "    if check(x, y-1):\n",
        "        queue.append([x, y-1])\n",
        "        fish += data[x][y-1]\n",
        "        data[x][y-1] = 0\n",
        "    #하\n",
        "    if check(x, y+1):\n",
        "        queue.append([x, y+1])\n",
        "        fish += data[x][y+1]\n",
        "        data[x][y+1] = 0\n",
        "    #좌\n",
        "    if check(x-1, y):\n",
        "        queue.append([x-1, y])\n",
        "        fish += data[x-1][y]\n",
        "        data[x-1][y] = 0\n",
        "    #우\n",
        "    if check(x+1, y):\n",
        "        queue.append([x+1, y])\n",
        "        fish += data[x+1][y]\n",
        "        data[x+1][y] = 0"
      ],
      "metadata": {
        "colab": {
          "base_uri": "https://localhost:8080/"
        },
        "id": "gp4RC5bkCGms",
        "outputId": "3f0011a7-cc98-44c3-ab08-b692594c25d9"
      },
      "execution_count": 5,
      "outputs": [
        {
          "output_type": "stream",
          "name": "stdout",
          "text": [
            "[15, True]\n"
          ]
        }
      ]
    },
    {
      "cell_type": "code",
      "source": [
        "data = [[0,     '#',    1,      0], \n",
        "        [2,     1,      1,      2], \n",
        "        ['#',   3,      0,      1], \n",
        "        [1,     '#',    '#',    3], \n",
        "        [0,     2,      '#',    1]]\n",
        "\n",
        "def solution(data):\n",
        "    def check(x, y):\n",
        "        if y < 0 or y > M or x < 0 or x > N:\n",
        "            return False\n",
        "        if data[x][y] == '#':\n",
        "            return False\n",
        "        return True\n",
        "\n",
        "    # 너비 우선 탐색(BFS) : 큐\n",
        "    N = len(data) - 1\n",
        "    M = len(data[0]) - 1\n",
        "\n",
        "    queue = []\n",
        "    queue.append([0, 0])\n",
        "    fish = data[0][0]\n",
        "    data[0][0] = 0\n",
        "    visited = set()\n",
        "    # x: 행, y: 열\n",
        "    # N: 행, M: 열\n",
        "    count = 0\n",
        "    goal = False\n",
        "\n",
        "    while queue:\n",
        "        count += 1\n",
        "        if count == (N*M)**3:\n",
        "            break\n",
        "            # if goal:\n",
        "            #     return fish\n",
        "            # return -1\n",
        "        x, y = queue.pop(0)\n",
        "        visited.add((x, y))\n",
        "        if x == N and y == M:\n",
        "            fish += data[x][y]\n",
        "            data[x][y] = 0\n",
        "            goal = True\n",
        "        #상\n",
        "        if check(x, y-1):\n",
        "            queue.append([x, y-1])\n",
        "            fish += data[x][y-1]\n",
        "            data[x][y-1] = 0\n",
        "        #하\n",
        "        if check(x, y+1):\n",
        "            queue.append([x, y+1])\n",
        "            fish += data[x][y+1]\n",
        "            data[x][y+1] = 0\n",
        "        #좌\n",
        "        if check(x-1, y):\n",
        "            queue.append([x-1, y])\n",
        "            fish += data[x-1][y]\n",
        "            data[x-1][y] = 0\n",
        "        #우\n",
        "        if check(x+1, y):\n",
        "            queue.append([x+1, y])\n",
        "            fish += data[x+1][y]\n",
        "            data[x+1][y] = 0\n",
        "    print(visited)\n",
        "\n",
        "solution(data)"
      ],
      "metadata": {
        "colab": {
          "base_uri": "https://localhost:8080/"
        },
        "id": "kOnYL4_rGPsa",
        "outputId": "811ecd83-54c5-405b-b5de-64288442ea23"
      },
      "execution_count": 9,
      "outputs": [
        {
          "output_type": "stream",
          "name": "stdout",
          "text": [
            "{(1, 2), (2, 1), (0, 0), (4, 3), (1, 1), (0, 3), (2, 3), (0, 2), (3, 3), (2, 2), (1, 0), (1, 3)}\n"
          ]
        }
      ]
    },
    {
      "cell_type": "code",
      "source": [
        "data = [[0,     '#',    1,      0], \n",
        "        [2,     1,      1,      2], \n",
        "        ['#',   3,      0,      1], \n",
        "        [1,     '#',    '#',    3], \n",
        "        [0,     2,      '#',    1]]\n",
        "\n",
        "def solution(data):\n",
        "    def check(x, y):\n",
        "        if y < 0 or y > M or x < 0 or x > N:\n",
        "            return False\n",
        "        if data[x][y] == '#':\n",
        "            return False\n",
        "        return True\n",
        "\n",
        "    # 너비 우선 탐색(BFS) : 큐\n",
        "    N = len(data) - 1\n",
        "    M = len(data[0]) - 1\n",
        "\n",
        "    queue = []\n",
        "    queue.append([0, 0])\n",
        "    fish = data[0][0]\n",
        "    data[0][0] = 0\n",
        "    visited = set()\n",
        "    # x: 행, y: 열\n",
        "    # N: 행, M: 열\n",
        "    count = 0\n",
        "    goal = False\n",
        "\n",
        "    while queue:\n",
        "        count += 1\n",
        "        if count == (N*M)**3:\n",
        "            if goal:\n",
        "                return fish\n",
        "            return -1\n",
        "        x, y = queue.pop(0)\n",
        "        visited.add((x, y))\n",
        "        if x == N and y == M:\n",
        "            fish += data[x][y]\n",
        "            data[x][y] = 0\n",
        "            goal = True\n",
        "        #상\n",
        "        if check(x, y-1):\n",
        "            queue.append([x, y-1])\n",
        "            fish += data[x][y-1]\n",
        "            data[x][y-1] = 0\n",
        "        #하\n",
        "        if check(x, y+1):\n",
        "            queue.append([x, y+1])\n",
        "            fish += data[x][y+1]\n",
        "            data[x][y+1] = 0\n",
        "        #좌\n",
        "        if check(x-1, y):\n",
        "            queue.append([x-1, y])\n",
        "            fish += data[x-1][y]\n",
        "            data[x-1][y] = 0\n",
        "        #우\n",
        "        if check(x+1, y):\n",
        "            queue.append([x+1, y])\n",
        "            fish += data[x+1][y]\n",
        "            data[x+1][y] = 0\n",
        "\n",
        "solution(data)"
      ],
      "metadata": {
        "colab": {
          "base_uri": "https://localhost:8080/"
        },
        "id": "1KEuJoBHG_nY",
        "outputId": "e5ca7d9b-34dc-4b96-b134-cfb18c2f2d89"
      },
      "execution_count": 10,
      "outputs": [
        {
          "output_type": "execute_result",
          "data": {
            "text/plain": [
              "15"
            ]
          },
          "metadata": {},
          "execution_count": 10
        }
      ]
    },
    {
      "cell_type": "markdown",
      "source": [
        "# 코드 스니펫\n",
        "\n",
        "## 정규표현식\n",
        "- 정규표현식 무료책 : https://ridibooks.com/books/2773000049\n",
        "- compile() : 패턴 컴파일\n",
        "- match() : 문자열의 앞 부분이 매치되는가를 체크, 추출\n",
        "- sub() : 매치된 부분을 치환\n",
        "- search() : 선두에 한해서 매치하는지를 체크, 추출\n",
        "- findall() : 매치된 부분 모두 리스트 반환\n",
        "- finditer() : 매치된 부분 모두 이터레이터 반환\n",
        "- spilt() : 정규표현 패턴으로 문자열을 분할\n",
        "\n",
        "```python\n",
        "import re\n",
        "\n",
        "re.sub('A', '', 'abcde12345ABCDEabcde12345ABCDE')\n",
        "re.sub('[a-z]', '', 'abcde12345ABCDEabcde12345ABCDE')\n",
        "re.sub('[123]', '', 'abcde12345ABCDEabcde12345ABCDE')\n",
        "re.sub('[135]', '', 'abcde12345ABCDEabcde12345ABCDE')\n",
        "re.sub('[a-zA-Z]', '', 'abcde12345ABCDEabcde12345ABCDE')\n",
        "re.sub('[0-9]', '', 'abcde12345ABCDEabcde12345ABCDE')\n",
        "re.sub('[a-zA-Z]', '', 'aAb1B2cC34oOp')\n",
        "list(re.sub('[a-zA-Z]', '', 'aAb1B2cC34oOp'))\n",
        "list(map(int, list(re.sub('[a-zA-Z]', '', 'aAb1B2cC34oOp'))))\n",
        "# list(map(lambda x:int(x), list(re.sub('[a-zA-Z]', '', 'aAb1B2cC34oOp'))))\n",
        "map(int, list(re.sub('[a-zA-Z]', '', 'aAb1B2cC34oOp')))\n",
        "sum(map(int, list(re.sub('[a-zA-Z]', '', 'aAb1B2cC34oOp'))))\n",
        "\n",
        "re.findall('[0-9]', 'aAb1B2cC34oOp')\n",
        "sum(map(int, re.findall('[0-9]', 'aAb1B2cC34oOp')))\n",
        "```\n",
        "\n",
        "## 자주 사용되는 패턴\n",
        "* collections는 링크 참고해주세요.\n",
        "* 링크 : https://www.youtube.com/playlist?list=PLkfUwwo13dlX7T-3bZfx2zfGQb2XSsrjg\n",
        "\n",
        "```python\n",
        "if True: print('hello')\n",
        "print('if') if True else print('else')\n",
        "1 if True else 2\n",
        "1 if False else 2\n",
        "\n",
        "\n",
        "result = 0\n",
        "for i in 'hello134':\n",
        "    if i.isdigit():\n",
        "        result += int(i)\n",
        "\n",
        "'1'.isdigit()\n",
        "'t'.isdigit()\n",
        "'1'.isnumeric()\n",
        "'t'.isnumeric()\n",
        "'abc'.islower()\n",
        "'aBc'.islower()\n",
        "'abc'.isalpha()\n",
        "'abc123'.isalpha()\n",
        "```"
      ],
      "metadata": {
        "id": "oRCx5t5EsYck"
      }
    }
  ]
}
{
  "nbformat": 4,
  "nbformat_minor": 0,
  "metadata": {
    "colab": {
      "provenance": []
    },
    "kernelspec": {
      "name": "python3",
      "display_name": "Python 3"
    },
    "language_info": {
      "name": "python"
    }
  },
  "cells": [
    {
      "cell_type": "markdown",
      "source": [
        "# 1번"
      ],
      "metadata": {
        "id": "E1IeZre0Kd1n"
      }
    },
    {
      "cell_type": "code",
      "source": [
        "'  + +-+ -+-  '.replace(' ', '').replace('+', '1').replace('-', '0')"
      ],
      "metadata": {
        "colab": {
          "base_uri": "https://localhost:8080/",
          "height": 35
        },
        "id": "QWmNFkFnKdbT",
        "outputId": "07ad788c-efa9-4649-8035-f0e1437c4a32"
      },
      "execution_count": null,
      "outputs": [
        {
          "output_type": "execute_result",
          "data": {
            "text/plain": [
              "'1101010'"
            ],
            "application/vnd.google.colaboratory.intrinsic+json": {
              "type": "string"
            }
          },
          "metadata": {},
          "execution_count": 1
        }
      ]
    },
    {
      "cell_type": "code",
      "source": [
        "'  + +-+ -+-  '.strip() # 안에 공백이 어떤 의미를 지니고 있었을 경우"
      ],
      "metadata": {
        "colab": {
          "base_uri": "https://localhost:8080/",
          "height": 35
        },
        "id": "VG4IRy7rKqC4",
        "outputId": "a2109c46-f042-45bf-994f-1b5cf1351016"
      },
      "execution_count": null,
      "outputs": [
        {
          "output_type": "execute_result",
          "data": {
            "text/plain": [
              "'+ +-+ -+-'"
            ],
            "application/vnd.google.colaboratory.intrinsic+json": {
              "type": "string"
            }
          },
          "metadata": {},
          "execution_count": 2
        }
      ]
    },
    {
      "cell_type": "code",
      "source": [
        "chr(65)"
      ],
      "metadata": {
        "colab": {
          "base_uri": "https://localhost:8080/",
          "height": 35
        },
        "id": "xbfi1fSfK0rM",
        "outputId": "c4a83c3b-c97e-407f-a8b3-9c6c65d4f0ae"
      },
      "execution_count": null,
      "outputs": [
        {
          "output_type": "execute_result",
          "data": {
            "text/plain": [
              "'A'"
            ],
            "application/vnd.google.colaboratory.intrinsic+json": {
              "type": "string"
            }
          },
          "metadata": {},
          "execution_count": 3
        }
      ]
    },
    {
      "cell_type": "code",
      "source": [
        "ord('A')"
      ],
      "metadata": {
        "colab": {
          "base_uri": "https://localhost:8080/"
        },
        "id": "-vzEi_OCK2jV",
        "outputId": "fc306b15-4b3a-47ac-c06e-6307ea5adcc1"
      },
      "execution_count": null,
      "outputs": [
        {
          "output_type": "execute_result",
          "data": {
            "text/plain": [
              "65"
            ]
          },
          "metadata": {},
          "execution_count": 4
        }
      ]
    },
    {
      "cell_type": "code",
      "source": [
        "bin(65)[2:]"
      ],
      "metadata": {
        "colab": {
          "base_uri": "https://localhost:8080/",
          "height": 35
        },
        "id": "PM-RX3AzK8Ts",
        "outputId": "4a8c6716-449f-4e09-9ee3-9d07f0a280ed"
      },
      "execution_count": null,
      "outputs": [
        {
          "output_type": "execute_result",
          "data": {
            "text/plain": [
              "'1000001'"
            ],
            "application/vnd.google.colaboratory.intrinsic+json": {
              "type": "string"
            }
          },
          "metadata": {},
          "execution_count": 7
        }
      ]
    },
    {
      "cell_type": "code",
      "source": [
        "chr(1000001)"
      ],
      "metadata": {
        "colab": {
          "base_uri": "https://localhost:8080/",
          "height": 35
        },
        "id": "D1bhBv14LCPQ",
        "outputId": "076c9db7-1e2f-4e01-940c-c11194968d0c"
      },
      "execution_count": null,
      "outputs": [
        {
          "output_type": "execute_result",
          "data": {
            "text/plain": [
              "'\\U000f4241'"
            ],
            "application/vnd.google.colaboratory.intrinsic+json": {
              "type": "string"
            }
          },
          "metadata": {},
          "execution_count": 8
        }
      ]
    },
    {
      "cell_type": "code",
      "source": [
        "int('1000001', 2)"
      ],
      "metadata": {
        "colab": {
          "base_uri": "https://localhost:8080/"
        },
        "id": "d0iLvg0ALQK6",
        "outputId": "8e7749e4-5704-4b50-fe5d-6a5d06194dbe"
      },
      "execution_count": null,
      "outputs": [
        {
          "output_type": "execute_result",
          "data": {
            "text/plain": [
              "65"
            ]
          },
          "metadata": {},
          "execution_count": 12
        }
      ]
    },
    {
      "cell_type": "code",
      "source": [
        "chr(int('1000001', 2))"
      ],
      "metadata": {
        "colab": {
          "base_uri": "https://localhost:8080/",
          "height": 35
        },
        "id": "9LzOHusmLGmu",
        "outputId": "4eb27a5e-ec49-43ef-9b56-11fdbadda516"
      },
      "execution_count": null,
      "outputs": [
        {
          "output_type": "execute_result",
          "data": {
            "text/plain": [
              "'A'"
            ],
            "application/vnd.google.colaboratory.intrinsic+json": {
              "type": "string"
            }
          },
          "metadata": {},
          "execution_count": 11
        }
      ]
    },
    {
      "cell_type": "code",
      "execution_count": null,
      "metadata": {
        "id": "oB1fJCKyJvYE"
      },
      "outputs": [],
      "source": [
        "def solution(data):\n",
        "    s = ''\n",
        "    for i in data:\n",
        "        s += chr(int(i.replace(' ', '').replace('+', '1').replace('-', '0'), 2))\n",
        "    return s"
      ]
    },
    {
      "cell_type": "markdown",
      "source": [
        "# 2번"
      ],
      "metadata": {
        "id": "EV5JJ9INLSkt"
      }
    },
    {
      "cell_type": "code",
      "source": [
        "import re\n",
        "\n",
        "re.findall('[1-9]',  'a10b9r1ce33uab8wc918v2cv11v9')"
      ],
      "metadata": {
        "colab": {
          "base_uri": "https://localhost:8080/"
        },
        "id": "MAaGMvPBLW3B",
        "outputId": "95da6e9e-b91a-4179-e8be-44237a233883"
      },
      "execution_count": null,
      "outputs": [
        {
          "output_type": "execute_result",
          "data": {
            "text/plain": [
              "['1', '9', '1', '3', '3', '8', '9', '1', '8', '2', '1', '1', '9']"
            ]
          },
          "metadata": {},
          "execution_count": 15
        }
      ]
    },
    {
      "cell_type": "code",
      "source": [
        "import re\n",
        "\n",
        "re.findall('[rev][1-9]',  'a10b9r1ce33uab8wc918v2cv11v9')"
      ],
      "metadata": {
        "colab": {
          "base_uri": "https://localhost:8080/"
        },
        "id": "Gs-tgqPHL0-x",
        "outputId": "7a089730-baf7-4fc2-b33d-7f0e5f7ef505"
      },
      "execution_count": null,
      "outputs": [
        {
          "output_type": "execute_result",
          "data": {
            "text/plain": [
              "['r1', 'e3', 'v2', 'v1', 'v9']"
            ]
          },
          "metadata": {},
          "execution_count": 18
        }
      ]
    },
    {
      "cell_type": "code",
      "source": [
        "import re\n",
        "\n",
        "re.findall('([rev])([1-9]|10)',  'a10b9r10ce33uab8wc918v2cv11v9') # r뒤를 10으로 바꾸었을 때"
      ],
      "metadata": {
        "colab": {
          "base_uri": "https://localhost:8080/"
        },
        "id": "WM60LUJdbhuf",
        "outputId": "1cc7571c-ccb7-4967-d25e-c3682e2746f6"
      },
      "execution_count": null,
      "outputs": [
        {
          "output_type": "execute_result",
          "data": {
            "text/plain": [
              "[('r', '1'), ('e', '3'), ('v', '2'), ('v', '1'), ('v', '9')]"
            ]
          },
          "metadata": {},
          "execution_count": 29
        }
      ]
    },
    {
      "cell_type": "code",
      "source": [
        "import re\n",
        "\n",
        "re.findall('([rev])(10|[1-9])',  'a10b9r10ce33uab8wc918v2cv11v9')"
      ],
      "metadata": {
        "colab": {
          "base_uri": "https://localhost:8080/"
        },
        "id": "bXnM3K43ML-I",
        "outputId": "6e17c8bc-4baf-4677-f33a-e2e68146d9ae"
      },
      "execution_count": null,
      "outputs": [
        {
          "output_type": "execute_result",
          "data": {
            "text/plain": [
              "[('r', '10'), ('e', '3'), ('v', '2'), ('v', '1'), ('v', '9')]"
            ]
          },
          "metadata": {},
          "execution_count": 28
        }
      ]
    },
    {
      "cell_type": "code",
      "source": [
        "import re # pyalgo에서는 처음에 import re만 넣어서 모듈을 포함시켜 주어야 함\n",
        "\n",
        "def solution(data):\n",
        "    s = 0\n",
        "    data = re.findall('([rev])(10|[1-9])',  data)\n",
        "    for i, j in data:\n",
        "        s += int(j)\n",
        "    return f'{str(s)[0]}월 {str(s)[1]}일'"
      ],
      "metadata": {
        "id": "r45fvbc0mDlf"
      },
      "execution_count": null,
      "outputs": []
    },
    {
      "cell_type": "code",
      "source": [
        "from collections import Counter # 예를 들어 이런 모듈을 포함시키고 싶을 때\n",
        "\n",
        "def solution(data):\n",
        "    return str(Counter([1, 1, 1, 1, 2, 2]))"
      ],
      "metadata": {
        "colab": {
          "base_uri": "https://localhost:8080/"
        },
        "id": "E_jcMZXHu5af",
        "outputId": "8ea5468c-c3fc-420f-826d-0bb59948801a"
      },
      "execution_count": null,
      "outputs": [
        {
          "output_type": "execute_result",
          "data": {
            "text/plain": [
              "Counter({1: 4, 2: 2})"
            ]
          },
          "metadata": {},
          "execution_count": 30
        }
      ]
    },
    {
      "cell_type": "markdown",
      "source": [
        "# 3번"
      ],
      "metadata": {
        "id": "lY1MK-SibjGJ"
      }
    },
    {
      "cell_type": "code",
      "source": [
        "# sorted와 sort\n",
        "l = [6, 3, 7, 8, 4, 2, 1]\n",
        "sorted(l) # 원본을 만지지 않습니다. return 값은 정렬된 값입니다. 데이터 분석에서는 원본을 만지지 않습니다.\n",
        "\n",
        "l.sort() # return 값은 None입니다. list를 print해야 출력됩니다.\n",
        "print(l)"
      ],
      "metadata": {
        "id": "xay9e37Mbruc"
      },
      "execution_count": null,
      "outputs": []
    },
    {
      "cell_type": "code",
      "source": [
        "l = [\n",
        "     [6, 'a', 'hello'], \n",
        "     [3, 'f', 'hello world'],\n",
        "     [7, 'b', 'hello a'],\n",
        "     [8, 'g', 'hello world hello'], \n",
        "     [4, 'e', 'hello aa'], \n",
        "     [2, 'c', 'hello world hello world'], \n",
        "     [1, 'd', 'hello abc'], \n",
        "]\n",
        "\n",
        "# 1번 문제 숫자 대로 정렬해라!\n",
        "def hojun(value):\n",
        "    return value[0]\n",
        "\n",
        "sorted(l, key=hojun)\n",
        "\n",
        "# 2번 1번째 값 문제 알파벳 순서대로 정렬해라!\n",
        "def hojun2(value):\n",
        "    return value[1]\n",
        "\n",
        "sorted(l, key=hojun2)\n",
        "\n",
        "# 2번 2번째 값 문자열 길이 순서대로 정렬해라!\n",
        "def hojun2(value):\n",
        "    return len(value[2])\n",
        "\n",
        "sorted(l, key=hojun2, reverse=True)"
      ],
      "metadata": {
        "id": "jY5xsUVMb_KK"
      },
      "execution_count": null,
      "outputs": []
    },
    {
      "cell_type": "code",
      "source": [
        "# s = [3, 4, 8, 13, 17, 20]\n",
        "# ss = s[1:]\n",
        "\n",
        "# sorted(list(zip(s, ss)), key=lambda i: i[1] - i[0])"
      ],
      "metadata": {
        "id": "nVB9YdpTcH0c"
      },
      "execution_count": null,
      "outputs": []
    },
    {
      "cell_type": "code",
      "source": [
        "data = [['A', 25, 25, 25, 25], ['B', 10, 12, 13, 11], ['C', 24, 22, 23, 21], ['D', 13, 22, 16, 14]]\n",
        "def solution(data):\n",
        "    return sorted(data, key=lambda x:sum(x[1:]))\n",
        "\n",
        "solution(data)"
      ],
      "metadata": {
        "colab": {
          "base_uri": "https://localhost:8080/"
        },
        "id": "uRlAU1bSbkVN",
        "outputId": "a4fc2cd2-c5bb-4c97-c53c-a64bf0827307"
      },
      "execution_count": null,
      "outputs": [
        {
          "output_type": "execute_result",
          "data": {
            "text/plain": [
              "[['B', 10, 12, 13, 11],\n",
              " ['D', 13, 22, 16, 14],\n",
              " ['C', 24, 22, 23, 21],\n",
              " ['A', 25, 25, 25, 25]]"
            ]
          },
          "metadata": {},
          "execution_count": 2
        }
      ]
    },
    {
      "cell_type": "code",
      "source": [
        "data = [['A', 25, 25, 25, 25], ['B', 10, 12, 13, 11], ['C', 24, 22, 23, 21], ['D', 13, 22, 16, 14]]\n",
        "def solution(data):\n",
        "    길이 = len(data)\n",
        "    선발인원 = int((길이 * 3) / 10)\n",
        "    return sorted(data, key=lambda x:sum(x[1:]), reverse=True)[:선발인원]\n",
        "\n",
        "solution(data)"
      ],
      "metadata": {
        "colab": {
          "base_uri": "https://localhost:8080/"
        },
        "id": "zMGiUQnBcfO4",
        "outputId": "02c8ad83-1be2-456c-8676-6d12be132ecc"
      },
      "execution_count": null,
      "outputs": [
        {
          "output_type": "execute_result",
          "data": {
            "text/plain": [
              "[['A', 25, 25, 25, 25]]"
            ]
          },
          "metadata": {},
          "execution_count": 4
        }
      ]
    },
    {
      "cell_type": "code",
      "source": [
        "d = {}\n",
        "d[1] = 'hello'\n",
        "d"
      ],
      "metadata": {
        "colab": {
          "base_uri": "https://localhost:8080/"
        },
        "id": "PnUzg54r7M-N",
        "outputId": "def499fe-243f-444a-9c86-f8a02086c15a"
      },
      "execution_count": null,
      "outputs": [
        {
          "output_type": "execute_result",
          "data": {
            "text/plain": [
              "{1: 'hello'}"
            ]
          },
          "metadata": {},
          "execution_count": 8
        }
      ]
    },
    {
      "cell_type": "code",
      "source": [
        "d = {}\n",
        "d[100] = 'hello'\n",
        "d"
      ],
      "metadata": {
        "colab": {
          "base_uri": "https://localhost:8080/"
        },
        "id": "1bcFnIkU7pJm",
        "outputId": "5d265630-068a-49b6-a4c3-1d57fcd85aee"
      },
      "execution_count": null,
      "outputs": [
        {
          "output_type": "execute_result",
          "data": {
            "text/plain": [
              "{100: 'hello'}"
            ]
          },
          "metadata": {},
          "execution_count": 10
        }
      ]
    },
    {
      "cell_type": "code",
      "source": [
        "data = [['A', 25, 25, 25, 25], ['B', 10, 12, 13, 11], ['C', 24, 22, 23, 21], ['D', 13, 22, 16, 14]]\n",
        "def solution(data):\n",
        "    전체인원수 = len(data)\n",
        "    선발해야하는인원 = int((전체인원수 * 3) / 10)\n",
        "    선발된인원 = 0\n",
        "    점수딕셔너리 = {}\n",
        "    for i in data:\n",
        "        if sum(i[1:]) in 점수딕셔너리:\n",
        "            점수딕셔너리[sum(i[1:])] = 점수딕셔너리[sum(i[1:])].append(i[0])\n",
        "        else:\n",
        "            점수딕셔너리[sum(i[1:])] = [i[0]]\n",
        "    return list(점수딕셔너리.items())\n",
        "\n",
        "solution(data)"
      ],
      "metadata": {
        "colab": {
          "base_uri": "https://localhost:8080/"
        },
        "id": "YabFer9A51E2",
        "outputId": "ed392658-16ce-4763-eed8-1030fb5a8033"
      },
      "execution_count": null,
      "outputs": [
        {
          "output_type": "execute_result",
          "data": {
            "text/plain": [
              "[(100, ['A']), (46, ['B']), (90, ['C']), (65, ['D'])]"
            ]
          },
          "metadata": {},
          "execution_count": 14
        }
      ]
    },
    {
      "cell_type": "code",
      "source": [
        "data = [['A', 25, 25, 25, 25], ['B', 10, 12, 13, 11], ['C', 24, 22, 23, 21], ['D', 13, 22, 16, 14]]\n",
        "def solution(data):\n",
        "    전체인원수 = len(data)\n",
        "    선발해야하는인원 = int((전체인원수 * 3) / 10)\n",
        "    if 선발해야하는인원 <= 0:\n",
        "        return\n",
        "    선발된인원 = 0\n",
        "    선발인원리스트 = []\n",
        "    점수딕셔너리 = {}\n",
        "    for i in data:\n",
        "        if sum(i[1:]) in 점수딕셔너리:\n",
        "            점수딕셔너리[sum(i[1:])] = 점수딕셔너리[sum(i[1:])].append(i[0])\n",
        "        else:\n",
        "            점수딕셔너리[sum(i[1:])] = [i[0]]\n",
        "    for i in sorted(list(점수딕셔너리.items()), reverse=True):\n",
        "        if 선발된인원 <= 선발해야하는인원 and len(i[1]) <= 선발해야하는인원 and 선발된인원 != 선발해야하는인원:\n",
        "            선발인원리스트.extend(i[1])\n",
        "            선발된인원 += len(i[1])\n",
        "    return 선발인원리스트\n",
        "\n",
        "solution(data)"
      ],
      "metadata": {
        "colab": {
          "base_uri": "https://localhost:8080/"
        },
        "id": "Jo8Keuz69rSe",
        "outputId": "daf42c12-af82-4905-e8e5-ab876d7a9a70"
      },
      "execution_count": null,
      "outputs": [
        {
          "output_type": "execute_result",
          "data": {
            "text/plain": [
              "['A']"
            ]
          },
          "metadata": {},
          "execution_count": 18
        }
      ]
    },
    {
      "cell_type": "code",
      "source": [
        "data = [['A', 25, 24, 11, 12], \n",
        "        ['B', 13, 22, 16, 14], \n",
        "        ['C', 12, 22, 16, 14], \n",
        "        ['D', 13, 22, 16, 14], \n",
        "        ['E', 12, 25, 16, 19], \n",
        "        ['F', 23, 15, 16, 14], \n",
        "        ['G', 13, 14, 3, 5], \n",
        "        ['H', 25, 22, 11, 14], \n",
        "        ['I', 13, 12, 14, 23], \n",
        "        ['J', 13, 22, 15, 14]]\n",
        "def solution(data):\n",
        "    전체인원수 = len(data)\n",
        "    선발해야하는인원 = int((전체인원수 * 3) / 10)\n",
        "    if 선발해야하는인원 <= 0:\n",
        "        return\n",
        "    선발된인원 = 0\n",
        "    선발인원리스트 = []\n",
        "    점수딕셔너리 = {}\n",
        "    for i in data:\n",
        "        합 = sum(i[1:])\n",
        "        if 합 in 점수딕셔너리:\n",
        "            점수딕셔너리[합] = 점수딕셔너리[합] + [i[0]] # append는 안되고 + 연산은 된다? 그 이유는?\n",
        "        else:\n",
        "            점수딕셔너리[합] = [i[0]]\n",
        "    for i in sorted(list(점수딕셔너리.items()), reverse=True):\n",
        "        if 선발된인원 <= 선발해야하는인원 and len(i[1]) <= 선발해야하는인원 and 선발된인원 != 선발해야하는인원:\n",
        "            선발인원리스트.extend(i[1])\n",
        "            선발된인원 += len(i[1])\n",
        "    return list(reversed(선발인원리스트))\n",
        "\n",
        "solution(data)"
      ],
      "metadata": {
        "colab": {
          "base_uri": "https://localhost:8080/"
        },
        "id": "Xlx5Fm1s_WfW",
        "outputId": "d82ad366-83b6-416b-d513-1d95d197a871"
      },
      "execution_count": null,
      "outputs": [
        {
          "output_type": "execute_result",
          "data": {
            "text/plain": [
              "['H', 'E', 'A']"
            ]
          },
          "metadata": {},
          "execution_count": 37
        }
      ]
    },
    {
      "cell_type": "code",
      "source": [
        "d = {72: ['A'], 65: ['B'], 64: ['C']}\n",
        "d[65].append('C')\n",
        "d"
      ],
      "metadata": {
        "colab": {
          "base_uri": "https://localhost:8080/"
        },
        "id": "L96sEDZrC3O2",
        "outputId": "1b426354-63da-4b85-d7dc-098840a0fbc7"
      },
      "execution_count": null,
      "outputs": [
        {
          "output_type": "execute_result",
          "data": {
            "text/plain": [
              "{72: ['A'], 65: ['B', 'C'], 64: ['C']}"
            ]
          },
          "metadata": {},
          "execution_count": 26
        }
      ]
    },
    {
      "cell_type": "code",
      "source": [
        "data = [['A', 25, 25, 25, 25], \n",
        "        ['B', 25, 25, 25, 25], \n",
        "        ['C', 25, 25, 25, 25], \n",
        "        ['J', 13, 22, 16, 14]] # ['J']\n",
        "def solution(data):\n",
        "    전체인원수 = len(data)\n",
        "    선발해야하는인원 = int((전체인원수 * 3) / 10)\n",
        "    if 선발해야하는인원 <= 0:\n",
        "        return\n",
        "    선발된인원 = 0\n",
        "    선발인원리스트 = []\n",
        "    점수딕셔너리 = {}\n",
        "    for i in data:\n",
        "        합 = sum(i[1:])\n",
        "        if 합 in 점수딕셔너리:\n",
        "            점수딕셔너리[합] = 점수딕셔너리[합] + [i[0]] # append는 안되고 + 연산은 된다? 그 이유는?\n",
        "        else:\n",
        "            점수딕셔너리[합] = [i[0]]\n",
        "\n",
        "    print(점수딕셔너리)\n",
        "    for i in sorted(list(점수딕셔너리.items()), reverse=True):\n",
        "        if 선발된인원 <= 선발해야하는인원 and len(i[1]) <= 선발해야하는인원 and 선발된인원 != 선발해야하는인원:\n",
        "            선발인원리스트.extend(i[1])\n",
        "            선발된인원 += len(i[1])\n",
        "        elif len(i[1]) > 선발해야하는인원:\n",
        "            return 선발인원리스트\n",
        "    return list(reversed(선발인원리스트))\n",
        "\n",
        "solution(data)"
      ],
      "metadata": {
        "colab": {
          "base_uri": "https://localhost:8080/"
        },
        "id": "dzJSG43EE38E",
        "outputId": "d189c591-01b2-4bd5-daa1-9a26e84e8a17"
      },
      "execution_count": null,
      "outputs": [
        {
          "output_type": "stream",
          "name": "stdout",
          "text": [
            "{100: ['A', 'B', 'C'], 65: ['J']}\n"
          ]
        },
        {
          "output_type": "execute_result",
          "data": {
            "text/plain": [
              "[]"
            ]
          },
          "metadata": {},
          "execution_count": 41
        }
      ]
    },
    {
      "cell_type": "markdown",
      "source": [
        "# 4번"
      ],
      "metadata": {
        "id": "BOA1pm6khdjx"
      }
    },
    {
      "cell_type": "code",
      "source": [
        "['10 - A. 20 - B. 30 - A.', '1 - A. 1 - A. 1 - A. 1 - A. 2 - B. 1 - A. 1 - B']"
      ],
      "metadata": {
        "id": "qJdNwRyUiEYq"
      },
      "execution_count": null,
      "outputs": []
    },
    {
      "cell_type": "code",
      "source": [
        "'10 - A. 20 - B. 30 - A.'.split('.')"
      ],
      "metadata": {
        "colab": {
          "base_uri": "https://localhost:8080/"
        },
        "id": "J28Be9HXiK-u",
        "outputId": "51c8a441-579b-4757-edf5-5e338f329a6c"
      },
      "execution_count": null,
      "outputs": [
        {
          "output_type": "execute_result",
          "data": {
            "text/plain": [
              "['10 - A', ' 20 - B', ' 30 - A', '']"
            ]
          },
          "metadata": {},
          "execution_count": 1
        }
      ]
    },
    {
      "cell_type": "code",
      "source": [
        "'10 - A. 20 - B. 30 - A.'\n",
        "'10 - A. 20 - B. 30 하하하- A.'\n",
        "'10 - A.'\n",
        "'20 - B.'\n",
        "'30 하하하- A.'\n",
        "re.findall(r'([ㄱ-ㅎ|ㅏ-ㅣ|가-힣\\W]*)(\\d+)([ㄱ-ㅎ|ㅏ-ㅣ|가-힣\\W]*)([a-zA-Z])', '10 - A.')[0]\n",
        "re.findall(r'([ㄱ-ㅎ|ㅏ-ㅣ|가-힣\\W]*)(\\d+)([ㄱ-ㅎ|ㅏ-ㅣ|가-힣\\W]*)([a-zA-Z])', '20 - B.')[0]\n",
        "re.findall(r'([ㄱ-ㅎ|ㅏ-ㅣ|가-힣\\W]*)(\\d+)([ㄱ-ㅎ|ㅏ-ㅣ|가-힣\\W]*)([a-zA-Z])', '30 하하하- A.')[0]"
      ],
      "metadata": {
        "colab": {
          "base_uri": "https://localhost:8080/"
        },
        "id": "MZFqpbAD-rv5",
        "outputId": "0b32e337-6bff-499d-c16c-cbd8e9c39335"
      },
      "execution_count": 16,
      "outputs": [
        {
          "output_type": "execute_result",
          "data": {
            "text/plain": [
              "('', '30', ' 하하하- ', 'A')"
            ]
          },
          "metadata": {},
          "execution_count": 16
        }
      ]
    },
    {
      "cell_type": "code",
      "source": [
        "test = ['빙키는 10만큼 A를 훈련했다. 빙키는 날씨가 안 좋은데도 불구하고 20만큼 B를 했다. 빙키는 비가 내리는 가운데서도 10만큼 B를 훈련했다.']\n",
        "re.findall(r'[a-zA-Z]', test[0])\n",
        "re.findall(r'\\d+', test[0])"
      ],
      "metadata": {
        "colab": {
          "base_uri": "https://localhost:8080/"
        },
        "id": "qItPxdSHL3rn",
        "outputId": "78fba586-245b-46de-e8e2-93b1dbbb3112"
      },
      "execution_count": 34,
      "outputs": [
        {
          "output_type": "execute_result",
          "data": {
            "text/plain": [
              "['10', '20', '10']"
            ]
          },
          "metadata": {},
          "execution_count": 34
        }
      ]
    },
    {
      "cell_type": "code",
      "source": [
        "import re\n",
        "\n",
        "for i in '10 - A. 20 - B. 30 나나나- A.'.split('.'):\n",
        "    print(re.findall(r'([ㄱ-ㅎ|ㅏ-ㅣ|가-힣\\W]*)(\\d+)([ㄱ-ㅎ|ㅏ-ㅣ|가-힣\\W]*)([a-zA-Z])', i))"
      ],
      "metadata": {
        "colab": {
          "base_uri": "https://localhost:8080/"
        },
        "id": "pMW1IaDHjt_U",
        "outputId": "789dac9e-869c-4513-fddc-f575a49b1b65"
      },
      "execution_count": 2,
      "outputs": [
        {
          "output_type": "stream",
          "name": "stdout",
          "text": [
            "[('', '10', ' - ', 'A')]\n",
            "[(' ', '20', ' - ', 'B')]\n",
            "[(' ', '30', ' 나나나- ', 'A')]\n",
            "[]\n"
          ]
        }
      ]
    },
    {
      "cell_type": "code",
      "source": [
        "max(고민수치, key=고민수치.get)"
      ],
      "metadata": {
        "colab": {
          "base_uri": "https://localhost:8080/",
          "height": 35
        },
        "id": "f2W1irSqJMMw",
        "outputId": "a2267fd0-82c8-4b2d-ef50-dd0ff7cbabbf"
      },
      "execution_count": 16,
      "outputs": [
        {
          "output_type": "execute_result",
          "data": {
            "text/plain": [
              "'A'"
            ],
            "application/vnd.google.colaboratory.intrinsic+json": {
              "type": "string"
            }
          },
          "metadata": {},
          "execution_count": 16
        }
      ]
    },
    {
      "cell_type": "code",
      "source": [
        "d = {'a':100, 'b':200, 'c':300}\n",
        "max(d, key=d.get) # max의 key를 얻어냄"
      ],
      "metadata": {
        "colab": {
          "base_uri": "https://localhost:8080/",
          "height": 35
        },
        "id": "RmK5-A0i7dwa",
        "outputId": "fc4b7d01-f9da-451c-8782-405c18d84fe6"
      },
      "execution_count": 8,
      "outputs": [
        {
          "output_type": "execute_result",
          "data": {
            "text/plain": [
              "'c'"
            ],
            "application/vnd.google.colaboratory.intrinsic+json": {
              "type": "string"
            }
          },
          "metadata": {},
          "execution_count": 8
        }
      ]
    },
    {
      "cell_type": "code",
      "source": [
        "d = {'a':100, 'b':200, 'c':300}\n",
        "max(d, key=d.get) # max의 key를 얻어냄"
      ],
      "metadata": {
        "id": "ar5Nxjm57roj"
      },
      "execution_count": null,
      "outputs": []
    },
    {
      "cell_type": "code",
      "source": [
        "d = {'a':100, 'b':200, 'c':300}\n",
        "max(d.values())"
      ],
      "metadata": {
        "colab": {
          "base_uri": "https://localhost:8080/"
        },
        "id": "xlPyQKSj78q2",
        "outputId": "72cede59-da5a-4e6b-abf3-d76778ddca54"
      },
      "execution_count": 9,
      "outputs": [
        {
          "output_type": "execute_result",
          "data": {
            "text/plain": [
              "300"
            ]
          },
          "metadata": {},
          "execution_count": 9
        }
      ]
    },
    {
      "cell_type": "code",
      "source": [
        "import re\n",
        "\n",
        "def solution(data):\n",
        "    훈련수치 = {}\n",
        "    고민수치 = {}\n",
        "    원래미래 = 0\n",
        "    바뀐미래 = 0\n",
        "    for i in data[0].split('.')[:-1]:\n",
        "        key = re.findall(r'[a-zA-Z]', i)[0]\n",
        "        value = re.findall(r'\\d+', i)[0]\n",
        "        print(key, value)\n",
        "        if key in 훈련수치:\n",
        "            훈련수치[key] += int(value)\n",
        "        else:\n",
        "            훈련수치[key] = int(value)\n",
        "    for i in data[1].split('.')[:-1]:\n",
        "        key = re.findall(r'[a-zA-Z]', i)[0]\n",
        "        value = re.findall(r'\\d+', i)[0]\n",
        "        print(key, value)\n",
        "        if key in 고민수치:\n",
        "            고민수치[key] += int(value)\n",
        "        else:\n",
        "            고민수치[key] = int(value)\n",
        "    for i in 훈련수치.keys():\n",
        "        if i in 고민수치:\n",
        "            원래미래 += 훈련수치[i] * 고민수치[i]\n",
        "    if 원래미래 == 0:\n",
        "        return '미래가 보이지 않습니다.'\n",
        "    훈련수치중가장큰값 = max(훈련수치.values())\n",
        "    고민수치중가장큰값 = max(고민수치.values())\n",
        "    for i in 훈련수치:\n",
        "        if 훈련수치[i] == 훈련수치중가장큰값:\n",
        "            훈련수치[i] += 100\n",
        "    for i in 고민수치:\n",
        "        if 고민수치[i] == 고민수치중가장큰값:\n",
        "            고민수치[i] += 100  \n",
        "    for i in 훈련수치.keys():\n",
        "        if i in 고민수치:\n",
        "            바뀐미래 += 훈련수치[i] * 고민수치[i]\n",
        "    return f'최종 꿈의 설계는 원래 미래 {원래미래}, 바뀐 미래 {바뀐미래}입니다. 이 수치대로 Vision을 만듭니다.'\n",
        "\n",
        "solution(['10 - A. 20 - B. 30 - A.', '1 - A. 1 - A. 1 - A. 1 - A. 2 - B. 1 - A. 1 - B.'])\n",
        "solution(['10 a. 10 a. 10 a. 20 b. 30 c.', 'c -- 100. c -- 100. c -- 100.'])"
      ],
      "metadata": {
        "colab": {
          "base_uri": "https://localhost:8080/",
          "height": 356
        },
        "id": "uAiyIMUm5y3l",
        "outputId": "e287c9fc-51f0-43fd-e185-56112094e1c5"
      },
      "execution_count": 13,
      "outputs": [
        {
          "output_type": "stream",
          "name": "stdout",
          "text": [
            "A 10\n",
            "B 20\n",
            "A 30\n",
            "A 1\n",
            "A 1\n",
            "A 1\n",
            "A 1\n",
            "B 2\n",
            "A 1\n",
            "B 1\n",
            "a 10\n",
            "a 10\n",
            "a 10\n",
            "b 20\n",
            "c 30\n",
            "c 100\n",
            "c 100\n",
            "c 100\n"
          ]
        },
        {
          "output_type": "execute_result",
          "data": {
            "text/plain": [
              "'최종 꿈의 설계는 원래 미래 9000, 바뀐 미래 52000입니다. 이 수치대로 Vision을 만듭니다.'"
            ],
            "application/vnd.google.colaboratory.intrinsic+json": {
              "type": "string"
            }
          },
          "metadata": {},
          "execution_count": 13
        }
      ]
    },
    {
      "cell_type": "markdown",
      "source": [
        "# 코드 스니펫\n",
        "\n",
        "## 정규표현식\n",
        "- 정규표현식 무료책 : https://ridibooks.com/books/2773000049\n",
        "- compile() : 패턴 컴파일\n",
        "- match() : 문자열의 앞 부분이 매치되는가를 체크, 추출\n",
        "- sub() : 매치된 부분을 치환\n",
        "- search() : 선두에 한해서 매치하는지를 체크, 추출\n",
        "- findall() : 매치된 부분 모두 리스트 반환\n",
        "- finditer() : 매치된 부분 모두 이터레이터 반환\n",
        "- spilt() : 정규표현 패턴으로 문자열을 분할\n",
        "\n",
        "```python\n",
        "import re\n",
        "\n",
        "re.sub('A', '', 'abcde12345ABCDEabcde12345ABCDE')\n",
        "re.sub('[a-z]', '', 'abcde12345ABCDEabcde12345ABCDE')\n",
        "re.sub('[123]', '', 'abcde12345ABCDEabcde12345ABCDE')\n",
        "re.sub('[135]', '', 'abcde12345ABCDEabcde12345ABCDE')\n",
        "re.sub('[a-zA-Z]', '', 'abcde12345ABCDEabcde12345ABCDE')\n",
        "re.sub('[0-9]', '', 'abcde12345ABCDEabcde12345ABCDE')\n",
        "re.sub('[a-zA-Z]', '', 'aAb1B2cC34oOp')\n",
        "list(re.sub('[a-zA-Z]', '', 'aAb1B2cC34oOp'))\n",
        "list(map(int, list(re.sub('[a-zA-Z]', '', 'aAb1B2cC34oOp'))))\n",
        "# list(map(lambda x:int(x), list(re.sub('[a-zA-Z]', '', 'aAb1B2cC34oOp'))))\n",
        "map(int, list(re.sub('[a-zA-Z]', '', 'aAb1B2cC34oOp')))\n",
        "sum(map(int, list(re.sub('[a-zA-Z]', '', 'aAb1B2cC34oOp'))))\n",
        "\n",
        "re.findall('[0-9]', 'aAb1B2cC34oOp')\n",
        "sum(map(int, re.findall('[0-9]', 'aAb1B2cC34oOp')))\n",
        "```\n",
        "\n",
        "## 자주 사용되는 패턴\n",
        "* collections는 링크 참고해주세요.\n",
        "* 링크 : https://www.youtube.com/playlist?list=PLkfUwwo13dlX7T-3bZfx2zfGQb2XSsrjg\n",
        "\n",
        "```python\n",
        "if True: print('hello')\n",
        "print('if') if True else print('else')\n",
        "1 if True else 2\n",
        "1 if False else 2\n",
        "\n",
        "\n",
        "result = 0\n",
        "for i in 'hello134':\n",
        "    if i.isdigit():\n",
        "        result += int(i)\n",
        "\n",
        "'1'.isdigit()\n",
        "'t'.isdigit()\n",
        "'1'.isnumeric()\n",
        "'t'.isnumeric()\n",
        "'abc'.islower()\n",
        "'aBc'.islower()\n",
        "'abc'.isalpha()\n",
        "'abc123'.isalpha()\n",
        "```"
      ],
      "metadata": {
        "id": "FJzQd9bnKDkA"
      }
    },
    {
      "cell_type": "code",
      "source": [],
      "metadata": {
        "id": "efdSX465KFZ-"
      },
      "execution_count": null,
      "outputs": []
    }
  ]
}
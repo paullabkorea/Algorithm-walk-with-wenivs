{
  "nbformat": 4,
  "nbformat_minor": 0,
  "metadata": {
    "colab": {
      "name": "멋쟁이사자처럼 알고리즘 실습(0708).ipynb",
      "provenance": [],
      "collapsed_sections": []
    },
    "kernelspec": {
      "name": "python3",
      "display_name": "Python 3"
    },
    "language_info": {
      "name": "python"
    }
  },
  "cells": [
    {
      "cell_type": "markdown",
      "source": [
        "# 1. 자료구조와 알고리즘, 코딩테스트"
      ],
      "metadata": {
        "id": "xohc4v7DPG93"
      }
    },
    {
      "cell_type": "code",
      "source": [
        "[1, 2, 3].reverse()\n",
        "reversed([1, 2, 3]) # 공간복잡도 문제가 나올경우 오답 가능성 있음\n",
        "[1, 2, 3][::-1] # 속도는 빠르지만 공간복잡도 문제가 나올경우 오답 가능성 있음"
      ],
      "metadata": {
        "id": "6R2ZDMB0V2Jl"
      },
      "execution_count": null,
      "outputs": []
    },
    {
      "cell_type": "code",
      "execution_count": null,
      "metadata": {
        "colab": {
          "base_uri": "https://localhost:8080/"
        },
        "id": "zGRmlD43Omfp",
        "outputId": "c35b6dcb-39dc-48f2-f409-64aef0359c2f"
      },
      "outputs": [
        {
          "output_type": "execute_result",
          "data": {
            "text/plain": [
              "['2 X 1 = 2',\n",
              " '2 X 2 = 4',\n",
              " '2 X 3 = 6',\n",
              " '2 X 4 = 8',\n",
              " '2 X 5 = 10',\n",
              " '2 X 6 = 12',\n",
              " '2 X 7 = 14',\n",
              " '2 X 8 = 16',\n",
              " '2 X 9 = 18',\n",
              " '3 X 1 = 3',\n",
              " '3 X 2 = 6',\n",
              " '3 X 3 = 9',\n",
              " '3 X 4 = 12',\n",
              " '3 X 5 = 15',\n",
              " '3 X 6 = 18',\n",
              " '3 X 7 = 21',\n",
              " '3 X 8 = 24',\n",
              " '3 X 9 = 27',\n",
              " '4 X 1 = 4',\n",
              " '4 X 2 = 8',\n",
              " '4 X 3 = 12',\n",
              " '4 X 4 = 16',\n",
              " '4 X 5 = 20',\n",
              " '4 X 6 = 24',\n",
              " '4 X 7 = 28',\n",
              " '4 X 8 = 32',\n",
              " '4 X 9 = 36',\n",
              " '5 X 1 = 5',\n",
              " '5 X 2 = 10',\n",
              " '5 X 3 = 15',\n",
              " '5 X 4 = 20',\n",
              " '5 X 5 = 25',\n",
              " '5 X 6 = 30',\n",
              " '5 X 7 = 35',\n",
              " '5 X 8 = 40',\n",
              " '5 X 9 = 45',\n",
              " '6 X 1 = 6',\n",
              " '6 X 2 = 12',\n",
              " '6 X 3 = 18',\n",
              " '6 X 4 = 24',\n",
              " '6 X 5 = 30',\n",
              " '6 X 6 = 36',\n",
              " '6 X 7 = 42',\n",
              " '6 X 8 = 48',\n",
              " '6 X 9 = 54',\n",
              " '7 X 1 = 7',\n",
              " '7 X 2 = 14',\n",
              " '7 X 3 = 21',\n",
              " '7 X 4 = 28',\n",
              " '7 X 5 = 35',\n",
              " '7 X 6 = 42',\n",
              " '7 X 7 = 49',\n",
              " '7 X 8 = 56',\n",
              " '7 X 9 = 63',\n",
              " '8 X 1 = 8',\n",
              " '8 X 2 = 16',\n",
              " '8 X 3 = 24',\n",
              " '8 X 4 = 32',\n",
              " '8 X 5 = 40',\n",
              " '8 X 6 = 48',\n",
              " '8 X 7 = 56',\n",
              " '8 X 8 = 64',\n",
              " '8 X 9 = 72',\n",
              " '9 X 1 = 9',\n",
              " '9 X 2 = 18',\n",
              " '9 X 3 = 27',\n",
              " '9 X 4 = 36',\n",
              " '9 X 5 = 45',\n",
              " '9 X 6 = 54',\n",
              " '9 X 7 = 63',\n",
              " '9 X 8 = 72',\n",
              " '9 X 9 = 81']"
            ]
          },
          "metadata": {},
          "execution_count": 1
        }
      ],
      "source": [
        "[f'{i} X {j} = {i * j}' for i in range(2, 10) for j in range(1, 10)]"
      ]
    },
    {
      "cell_type": "markdown",
      "source": [
        "## 1.3 워밍업 문제"
      ],
      "metadata": {
        "id": "gV7RIAICAzu-"
      }
    },
    {
      "cell_type": "markdown",
      "source": [
        "### 1.3.1 워밍업 문제 - 1"
      ],
      "metadata": {
        "id": "2qyexNUVZqUt"
      }
    },
    {
      "cell_type": "markdown",
      "source": [
        "만약 아래 워밍업 문제가 감도 안오신다 하면 Lv1 ~ Lv2 암기해주세요."
      ],
      "metadata": {
        "id": "gqruSpbmbb0u"
      }
    },
    {
      "cell_type": "markdown",
      "source": [
        "1부터 10,000까지 8이라는 숫자가 총 몇번 나오는가?\n",
        "\n",
        "8이 포함되어 있는 숫자의 갯수를 카운팅 하는 것이 아니라 8이라는 숫자를 모두 카운팅 해야 한다. (※ 예를들어 8808은 3, 8888은 4로 카운팅 해야 함)\n",
        "\n",
        "문제 링크 : https://codingdojang.com/scode/393"
      ],
      "metadata": {
        "id": "aKru9Nk8ZvLx"
      }
    },
    {
      "cell_type": "code",
      "source": [
        "[0, 0, 0, 0]\n",
        "[9, 9, 9, 9]"
      ],
      "metadata": {
        "id": "MDSB-bpJZs2j"
      },
      "execution_count": null,
      "outputs": []
    },
    {
      "cell_type": "code",
      "source": [
        "list(range(10))\n",
        "'[0, 1, 2, 3, 4, 5, 6, 7, 8, 9]'\n",
        "str(list(range(10)))\n",
        "str(list(range(10001))).count('8')"
      ],
      "metadata": {
        "colab": {
          "base_uri": "https://localhost:8080/"
        },
        "id": "2PyeSq5xb3Le",
        "outputId": "6eda28bf-23be-4ede-944f-45b951f83f49"
      },
      "execution_count": null,
      "outputs": [
        {
          "output_type": "execute_result",
          "data": {
            "text/plain": [
              "4000"
            ]
          },
          "metadata": {},
          "execution_count": 8
        }
      ]
    },
    {
      "cell_type": "code",
      "source": [
        "%%timeit\n",
        "\n",
        "str(list(range(10001))).count('8')"
      ],
      "metadata": {
        "colab": {
          "base_uri": "https://localhost:8080/"
        },
        "id": "3gPViDh6cKxF",
        "outputId": "6e1dbf0e-4ebc-4165-fdff-6e79907e0373"
      },
      "execution_count": null,
      "outputs": [
        {
          "output_type": "stream",
          "name": "stdout",
          "text": [
            "1000 loops, best of 5: 927 µs per loop\n"
          ]
        }
      ]
    },
    {
      "cell_type": "code",
      "source": [
        "%%timeit\n",
        "\n",
        "cnt = 0\n",
        "for i in range(1, 10001):\n",
        "    j = 0\n",
        "    while j < len(str(i)):\n",
        "        if str(i)[j] == '8':\n",
        "            cnt += 1\n",
        "        j += 1"
      ],
      "metadata": {
        "colab": {
          "base_uri": "https://localhost:8080/"
        },
        "id": "UjDihx49cnOQ",
        "outputId": "d760669f-8f65-42bb-d007-2ca38cf98bb6"
      },
      "execution_count": null,
      "outputs": [
        {
          "output_type": "stream",
          "name": "stdout",
          "text": [
            "10 loops, best of 5: 23.2 ms per loop\n"
          ]
        }
      ]
    },
    {
      "cell_type": "code",
      "source": [
        "%%timeit\n",
        "\n",
        "str([i for i in range(10001)]).count(str(8))"
      ],
      "metadata": {
        "colab": {
          "base_uri": "https://localhost:8080/"
        },
        "id": "UrpMm-IGc3Op",
        "outputId": "83a00cce-2908-45ef-d083-15eb348edc41"
      },
      "execution_count": null,
      "outputs": [
        {
          "output_type": "stream",
          "name": "stdout",
          "text": [
            "1000 loops, best of 5: 1.12 ms per loop\n"
          ]
        }
      ]
    },
    {
      "cell_type": "markdown",
      "source": [
        "### 1.3.1 워밍업문제 - 2\n",
        "\n",
        "1차원의 점들이 주어졌을 때, 그 중 가장 거리가 짧은 것의 쌍을 출력하는 함수를 작성하시오. (단 점들의 배열은 모두 정렬되어있다고 가정한다.)\n",
        "\n",
        "예를들어 S = [1, 3, 4, 8, 13, 17, 20] 이 주어졌다면, 결과값은 (3, 4)가 될 것이다.\n",
        "\n",
        "문제링크 : https://codingdojang.com/scode/408"
      ],
      "metadata": {
        "id": "PmYQyuSkdUvJ"
      }
    },
    {
      "cell_type": "code",
      "source": [
        "s = [1, 3, 4, 8, 13, 17, 20]\n",
        "m = s[-1] # max(s)\n",
        "index = 0\n",
        "for i in range(len(s) - 1):\n",
        "    if m > s[i+1] - s[i]:\n",
        "        index = i\n",
        "        m = s[i+1] - s[i]\n",
        "\n",
        "s[index], s[index+1]"
      ],
      "metadata": {
        "colab": {
          "base_uri": "https://localhost:8080/"
        },
        "id": "gGNj--z-dUdA",
        "outputId": "515ec3b5-53ba-453c-d264-9270d673806a"
      },
      "execution_count": null,
      "outputs": [
        {
          "output_type": "execute_result",
          "data": {
            "text/plain": [
              "(3, 4)"
            ]
          },
          "metadata": {},
          "execution_count": 16
        }
      ]
    },
    {
      "cell_type": "code",
      "source": [
        "s = [-20, -17, -13, -8, -4, -3, -1]\n",
        "m = max(abs(min(s)), max(s)) # 음수였을 경우에는 max(abs(-20), -1)\n",
        "index = 0\n",
        "for i in range(len(s) - 1):\n",
        "    # print(s[i+1] - s[i])\n",
        "    if m > s[i+1] - s[i]:\n",
        "        index = i\n",
        "        # print(f'{index}, s[i+1] - s[i]')\n",
        "        m = s[i+1] - s[i]\n",
        "\n",
        "s[index], s[index+1]\n",
        "\n",
        "# -17 - -20 = 3\n",
        "# -13 - -17 = 4\n",
        "# -8 - -13 = 5\n",
        "# -4 - -8 = 4\n",
        "# -3 - -4 = 1\n",
        "# -1 - -3 = 2"
      ],
      "metadata": {
        "colab": {
          "base_uri": "https://localhost:8080/"
        },
        "id": "G7JNBPVCjWSQ",
        "outputId": "c06d600f-ac44-4aa0-a9d6-20e728017da0"
      },
      "execution_count": null,
      "outputs": [
        {
          "output_type": "execute_result",
          "data": {
            "text/plain": [
              "(-4, -3)"
            ]
          },
          "metadata": {},
          "execution_count": 27
        }
      ]
    },
    {
      "cell_type": "code",
      "source": [
        "s = [1, 3, 4, 8, 13, 17, 20]\n",
        "m = max(abs(min(s)), max(s)) # 양수였을 경우에는 (1, 20)\n",
        "index = 0\n",
        "for i in range(len(s) - 1):\n",
        "    if m > s[i+1] - s[i]:\n",
        "        index = i\n",
        "        m = s[i+1] - s[i]\n",
        "\n",
        "s[index], s[index+1]"
      ],
      "metadata": {
        "colab": {
          "base_uri": "https://localhost:8080/"
        },
        "id": "YNwpouYolO-B",
        "outputId": "627445df-534e-4300-d810-20cbf6d77bfc"
      },
      "execution_count": null,
      "outputs": [
        {
          "output_type": "execute_result",
          "data": {
            "text/plain": [
              "(3, 4)"
            ]
          },
          "metadata": {},
          "execution_count": 28
        }
      ]
    },
    {
      "cell_type": "code",
      "source": [
        "s = [1, 3, 4, 8, 13, 17, 20]\n",
        "m = float('inf') # inf 는 인피니티의 줄임말로\n",
        "index = 0\n",
        "for i in range(len(s) - 1):\n",
        "    if m > s[i+1] - s[i]:\n",
        "        index = i\n",
        "        m = s[i+1] - s[i]\n",
        "\n",
        "s[index], s[index+1]"
      ],
      "metadata": {
        "colab": {
          "base_uri": "https://localhost:8080/"
        },
        "id": "940wvubClmUZ",
        "outputId": "1cfa2843-8418-49ba-b1fa-35122865eb76"
      },
      "execution_count": null,
      "outputs": [
        {
          "output_type": "execute_result",
          "data": {
            "text/plain": [
              "(3, 4)"
            ]
          },
          "metadata": {},
          "execution_count": 31
        }
      ]
    },
    {
      "cell_type": "code",
      "source": [
        "import sys\n",
        "\n",
        "s = [1, 3, 4, 8, 13, 17, 20]\n",
        "m = sys.maxsize # inf 는 인피니티의 줄임말로\n",
        "index = 0\n",
        "for i in range(len(s) - 1):\n",
        "    if m > s[i+1] - s[i]:\n",
        "        index = i\n",
        "        m = s[i+1] - s[i]\n",
        "\n",
        "s[index], s[index+1]"
      ],
      "metadata": {
        "colab": {
          "base_uri": "https://localhost:8080/"
        },
        "id": "XHeugtiamZKy",
        "outputId": "7c2d15a8-1845-4cd9-c091-56db13237d67"
      },
      "execution_count": null,
      "outputs": [
        {
          "output_type": "execute_result",
          "data": {
            "text/plain": [
              "(3, 4)"
            ]
          },
          "metadata": {},
          "execution_count": 34
        }
      ]
    },
    {
      "cell_type": "code",
      "source": [
        "# 메모리 적재\n",
        "x = 3\n",
        "y = 3\n",
        "\n",
        "id(x), id(y)"
      ],
      "metadata": {
        "colab": {
          "base_uri": "https://localhost:8080/"
        },
        "id": "MzhBsMGomgdV",
        "outputId": "68305e07-58c0-4b53-f373-c55a2f02f4a2"
      },
      "execution_count": null,
      "outputs": [
        {
          "output_type": "execute_result",
          "data": {
            "text/plain": [
              "(11256128, 11256128)"
            ]
          },
          "metadata": {},
          "execution_count": 38
        }
      ]
    },
    {
      "cell_type": "code",
      "source": [
        "# 메모리 적재\n",
        "x = 257\n",
        "y = 257\n",
        "\n",
        "id(x), id(y)"
      ],
      "metadata": {
        "colab": {
          "base_uri": "https://localhost:8080/"
        },
        "id": "P0U7fq2lm3Qm",
        "outputId": "0e982be0-9cad-468e-e5a2-f84c265cf68c"
      },
      "execution_count": null,
      "outputs": [
        {
          "output_type": "execute_result",
          "data": {
            "text/plain": [
              "(140349700436112, 140349700437616)"
            ]
          },
          "metadata": {},
          "execution_count": 42
        }
      ]
    },
    {
      "cell_type": "code",
      "source": [
        "s  = [1, 3, 4, 8, 13, 17, 20]\n",
        "ss = [3, 4, 8, 13, 17, 20]\n",
        "\n",
        "list(zip(s, ss))"
      ],
      "metadata": {
        "colab": {
          "base_uri": "https://localhost:8080/"
        },
        "id": "DRLctfwpnc9_",
        "outputId": "d9b29718-3f1e-4c86-f703-a37a8213b0f3"
      },
      "execution_count": null,
      "outputs": [
        {
          "output_type": "execute_result",
          "data": {
            "text/plain": [
              "[(1, 3), (3, 4), (4, 8), (8, 13), (13, 17), (17, 20)]"
            ]
          },
          "metadata": {},
          "execution_count": 43
        }
      ]
    },
    {
      "cell_type": "code",
      "source": [
        "sorted(list(zip(s, ss)), key=lambda i:i[1]-i[0])\n",
        "sorted(list(zip(s, ss)), key=lambda i:i[1]-i[0])[0]"
      ],
      "metadata": {
        "colab": {
          "base_uri": "https://localhost:8080/"
        },
        "id": "bYFPVHjfntZv",
        "outputId": "a6418a58-0f71-42b9-9d38-daaabd70712e"
      },
      "execution_count": null,
      "outputs": [
        {
          "output_type": "execute_result",
          "data": {
            "text/plain": [
              "(3, 4)"
            ]
          },
          "metadata": {},
          "execution_count": 45
        }
      ]
    },
    {
      "cell_type": "code",
      "source": [
        "def 두수의차(i):\n",
        "    return i[1] - i[0]\n",
        "\n",
        "sorted(list(zip(s, ss)), key=두수의차) # 기본이 오름차순이어서"
      ],
      "metadata": {
        "colab": {
          "base_uri": "https://localhost:8080/"
        },
        "id": "Qs4mE9Pjn8bk",
        "outputId": "3c5f606b-a489-4452-f703-3087087ebea2"
      },
      "execution_count": null,
      "outputs": [
        {
          "output_type": "execute_result",
          "data": {
            "text/plain": [
              "[(3, 4), (1, 3), (17, 20), (4, 8), (13, 17), (8, 13)]"
            ]
          },
          "metadata": {},
          "execution_count": 46
        }
      ]
    },
    {
      "cell_type": "code",
      "source": [
        "# 성민님 풀이\n",
        "# pep8 영문자 79자\n",
        "\n",
        "nums =[1, 3, 4, 8, 13, 17, 20]\n",
        "\n",
        "def solution(arr):\n",
        "    return sorted([[num2 - num1, (num1, num2)]\n",
        "                        for num1, num2 in zip(arr, arr[1:])],\n",
        "                        key=lambda ele: ele[0]\n",
        "                  )[0][1]\n",
        "\n",
        "solution(nums)"
      ],
      "metadata": {
        "colab": {
          "base_uri": "https://localhost:8080/"
        },
        "id": "CHo3QXLBq76E",
        "outputId": "61456316-78f3-4b16-9587-970ddf0a79bd"
      },
      "execution_count": null,
      "outputs": [
        {
          "output_type": "execute_result",
          "data": {
            "text/plain": [
              "(3, 4)"
            ]
          },
          "metadata": {},
          "execution_count": 57
        }
      ]
    },
    {
      "cell_type": "code",
      "source": [
        "[[num2 - num1, (num1, num2)] for num1, num2 in zip(s, s[1:])]"
      ],
      "metadata": {
        "colab": {
          "base_uri": "https://localhost:8080/"
        },
        "id": "HtmuTLTOrTnW",
        "outputId": "d3c3049a-4023-416c-fa80-9d28dd5e3f7f"
      },
      "execution_count": null,
      "outputs": [
        {
          "output_type": "execute_result",
          "data": {
            "text/plain": [
              "[[3, (-20, -17)],\n",
              " [4, (-17, -13)],\n",
              " [5, (-13, -8)],\n",
              " [4, (-8, -4)],\n",
              " [1, (-4, -3)],\n",
              " [2, (-3, -1)]]"
            ]
          },
          "metadata": {},
          "execution_count": 55
        }
      ]
    },
    {
      "cell_type": "markdown",
      "source": [
        "```python\n",
        "# 형태 1\n",
        "lambda input:output\n",
        "\n",
        "# 형태 2\n",
        "def f(input):\n",
        "    return output\n",
        "```"
      ],
      "metadata": {
        "id": "ScMT_2LgoqkQ"
      }
    },
    {
      "cell_type": "code",
      "source": [
        "def 제곱(x):\n",
        "    return x**2\n",
        "    \n",
        "list(map(제곱, [1, 2, 3, 4]))"
      ],
      "metadata": {
        "colab": {
          "base_uri": "https://localhost:8080/"
        },
        "id": "pHuu-vfdoaFs",
        "outputId": "7d7819ad-56bf-498f-d9b1-b9997e17b8dd"
      },
      "execution_count": null,
      "outputs": [
        {
          "output_type": "execute_result",
          "data": {
            "text/plain": [
              "[1, 4, 9, 16]"
            ]
          },
          "metadata": {},
          "execution_count": 49
        }
      ]
    },
    {
      "cell_type": "code",
      "source": [
        "list(map(lambda x:x**2, [1, 2, 3, 4]))"
      ],
      "metadata": {
        "colab": {
          "base_uri": "https://localhost:8080/"
        },
        "id": "OlfcVBVhpQcF",
        "outputId": "7a517b0e-a1eb-40e4-d9af-9cb5e4056d92"
      },
      "execution_count": null,
      "outputs": [
        {
          "output_type": "execute_result",
          "data": {
            "text/plain": [
              "[1, 4, 9, 16]"
            ]
          },
          "metadata": {},
          "execution_count": 50
        }
      ]
    },
    {
      "cell_type": "code",
      "source": [
        "s = [-20, -17, -13, -8, -4, -3, -1]\n",
        "sorted(list(zip(s, s[1:])), key=lambda i:i[1]-i[0])"
      ],
      "metadata": {
        "colab": {
          "base_uri": "https://localhost:8080/"
        },
        "id": "9v7Ibzr4qlKO",
        "outputId": "c4dc5e3c-1fe1-4cca-fa87-d4cc58ee2f65"
      },
      "execution_count": null,
      "outputs": [
        {
          "output_type": "execute_result",
          "data": {
            "text/plain": [
              "[(-4, -3), (-3, -1), (-20, -17), (-17, -13), (-8, -4), (-13, -8)]"
            ]
          },
          "metadata": {},
          "execution_count": 53
        }
      ]
    },
    {
      "cell_type": "code",
      "source": [
        "sorted(list(zip(s, s[1:])), key=lambda i:i[1]-i[0])[0]"
      ],
      "metadata": {
        "colab": {
          "base_uri": "https://localhost:8080/"
        },
        "id": "MSwiA1ohqx7c",
        "outputId": "4aa7f0c4-2553-4599-ef2f-033c84a79f9f"
      },
      "execution_count": null,
      "outputs": [
        {
          "output_type": "execute_result",
          "data": {
            "text/plain": [
              "(-4, -3)"
            ]
          },
          "metadata": {},
          "execution_count": 54
        }
      ]
    },
    {
      "cell_type": "code",
      "source": [
        "d = {\n",
        "    'one'   : [1, 9, 100],\n",
        "    'two'   : [2, 8, 200],\n",
        "    'three' : [3, 7, 150],\n",
        "    'four'  : [4, 6, 142],\n",
        "    'five'  : [5, 5, 111],\n",
        "}\n",
        "for i in d:\n",
        "    print(d[i])"
      ],
      "metadata": {
        "colab": {
          "base_uri": "https://localhost:8080/"
        },
        "id": "oJ01_AXPtr5M",
        "outputId": "3067e099-9447-42fd-9725-138fc9025586"
      },
      "execution_count": null,
      "outputs": [
        {
          "output_type": "stream",
          "name": "stdout",
          "text": [
            "[1, 9, 100]\n",
            "[2, 8, 200]\n",
            "[3, 7, 150]\n",
            "[4, 6, 142]\n",
            "[5, 5, 111]\n"
          ]
        }
      ]
    },
    {
      "cell_type": "code",
      "source": [
        "def 정렬함수(value):\n",
        "    return d[value][2]\n",
        "\n",
        "d = {\n",
        "    'one'   : [1, 9, 100],\n",
        "    'two'   : [2, 8, 200],\n",
        "    'three' : [3, 7, 150],\n",
        "    'four'  : [4, 6, 142],\n",
        "    'five'  : [5, 5, 111],\n",
        "}\n",
        "sorted(d, key=정렬함수)"
      ],
      "metadata": {
        "colab": {
          "base_uri": "https://localhost:8080/"
        },
        "id": "4ReSxqgtsls6",
        "outputId": "1531fa75-61f5-4034-9ab3-d421b7e9c11b"
      },
      "execution_count": null,
      "outputs": [
        {
          "output_type": "execute_result",
          "data": {
            "text/plain": [
              "['one', 'five', 'four', 'three', 'two']"
            ]
          },
          "metadata": {},
          "execution_count": 60
        }
      ]
    },
    {
      "cell_type": "code",
      "source": [
        "def 정렬함수(value):\n",
        "    return d[value][2]\n",
        "\n",
        "d = {\n",
        "    'one'   : [1, 9, 100],\n",
        "    'two'   : [2, 8, 200],\n",
        "    'three' : [3, 7, 150],\n",
        "    'four'  : [4, 6, 142],\n",
        "    'five'  : [5, 5, 111],\n",
        "}\n",
        "sorted(d, key=정렬함수, reverse=True)"
      ],
      "metadata": {
        "colab": {
          "base_uri": "https://localhost:8080/"
        },
        "id": "9JBmw5dI_1Ju",
        "outputId": "e4167833-b8b6-4c0c-fee3-8c39e94deac8"
      },
      "execution_count": null,
      "outputs": [
        {
          "output_type": "execute_result",
          "data": {
            "text/plain": [
              "['two', 'three', 'four', 'five', 'one']"
            ]
          },
          "metadata": {},
          "execution_count": 61
        }
      ]
    },
    {
      "cell_type": "markdown",
      "source": [
        "## 1.4 기본 자료구조 및 알고리즘\n",
        "1. 스택과 큐\n",
        "2. 연결리스트\n",
        "3. 트리와 그래프\n",
        "    * 3.1 트리 구현\n",
        "    * 3.2 트리의 순회\n",
        "4. 정렬 알고리즘\n",
        "    * 4.1 선택정렬\n",
        "    * 4.2 삽입정렬\n",
        "    * 4.3 병합정렬\n",
        "    * 4.4 퀵정렬\n",
        "5. 페이지 교체 알고리즘\n",
        "6. 슬라이딩 윈도우와 투 포인터 알고리즘\n"
      ],
      "metadata": {
        "id": "wPiU_88pAtTT"
      }
    },
    {
      "cell_type": "markdown",
      "source": [
        "### 1.4.1 스택과 큐\n",
        "* S.top(): 스택의 가장 윗 데이터를 반환한다. 만약 스택이 비었다면 이 연산은 정의불가 상태이다.\n",
        "* S.pop(): 스택의 가장 윗 데이터를 삭제한다. 스택이 비었다면 연산 정의불가 상태.\n",
        "* S.push(): 스택의 가장 윗 데이터로 top이 가리키는 자리 위에(top = top + 1) 메모리를 생성, 데이터 x를 넣는다.\n",
        "* S.empty(): 스택이 비었다면 1을 반환하고,그렇지 않다면 0을 반환한다."
      ],
      "metadata": {
        "id": "JrwaIVyrBy8Y"
      }
    },
    {
      "cell_type": "code",
      "source": [
        "# 연결리스트를 사용하여 구현하는 것이 일반적이지만 \n",
        "# 연결리스트가 다음 챕터에 나오기 때문에 리스트로 구현하도록 하겠습니다.\n",
        "\n",
        "# 연결리스트가 뒤에 배치된 것은 의도한 것입니다. \n",
        "# 쉬운 접근 -> 어려운 접근으로 점진적 부하를 드리기 위함입니다.\n",
        "\n",
        "# https://ko.wikipedia.org/wiki/%EC%8A%A4%ED%83%9D 이러한 모습에 \n",
        "# ADT를(Abstract Data Type, 추상자료형) 구현하면 되는 것입니다.\n",
        "class Stack:\n",
        "    def __init__(self):\n",
        "        self.배열 = []\n",
        "\n",
        "    def push(self, data):\n",
        "        self.배열.append(data)\n",
        "\n",
        "    def pop(self):\n",
        "        return self.배열.pop()\n",
        "\n",
        "    def top(self):\n",
        "        return self.배열[-1]\n",
        "\n",
        "    def bottom(self):\n",
        "        return self.배열[0]\n",
        "\n",
        "    def empty(self):\n",
        "        if not self.배열:\n",
        "            return 1\n",
        "        return 0"
      ],
      "metadata": {
        "id": "6FvjFCLQBxIt"
      },
      "execution_count": null,
      "outputs": []
    },
    {
      "cell_type": "code",
      "source": [
        "s = Stack()\n",
        "s.push(10)\n",
        "s.push(20)\n",
        "s.배열"
      ],
      "metadata": {
        "colab": {
          "base_uri": "https://localhost:8080/"
        },
        "id": "T2YRVNrTOg5l",
        "outputId": "4a42856d-4ef1-470e-9aca-c708743b8dae"
      },
      "execution_count": null,
      "outputs": [
        {
          "output_type": "execute_result",
          "data": {
            "text/plain": [
              "[10, 20]"
            ]
          },
          "metadata": {},
          "execution_count": 63
        }
      ]
    },
    {
      "cell_type": "code",
      "source": [
        "s = Stack()\n",
        "s.push(10)\n",
        "s.push(20)\n",
        "s.push(30)\n",
        "s.push(40)\n",
        "s.push(50)\n",
        "s.push(30)\n",
        "s.push(40)\n",
        "s.pop()\n",
        "s.배열"
      ],
      "metadata": {
        "colab": {
          "base_uri": "https://localhost:8080/"
        },
        "id": "fqfooWxEOpuK",
        "outputId": "f1eb01c6-6ced-4581-b9f1-db5f8dd512e9"
      },
      "execution_count": null,
      "outputs": [
        {
          "output_type": "execute_result",
          "data": {
            "text/plain": [
              "[10, 20, 30, 40, 50, 30]"
            ]
          },
          "metadata": {},
          "execution_count": 64
        }
      ]
    },
    {
      "cell_type": "code",
      "source": [
        "dir(s.배열)"
      ],
      "metadata": {
        "colab": {
          "base_uri": "https://localhost:8080/"
        },
        "id": "5vn5JhZZO-D1",
        "outputId": "a8c053de-ed33-4f46-e929-0f91644adb42"
      },
      "execution_count": null,
      "outputs": [
        {
          "output_type": "execute_result",
          "data": {
            "text/plain": [
              "['__add__',\n",
              " '__class__',\n",
              " '__contains__',\n",
              " '__delattr__',\n",
              " '__delitem__',\n",
              " '__dir__',\n",
              " '__doc__',\n",
              " '__eq__',\n",
              " '__format__',\n",
              " '__ge__',\n",
              " '__getattribute__',\n",
              " '__getitem__',\n",
              " '__gt__',\n",
              " '__hash__',\n",
              " '__iadd__',\n",
              " '__imul__',\n",
              " '__init__',\n",
              " '__init_subclass__',\n",
              " '__iter__',\n",
              " '__le__',\n",
              " '__len__',\n",
              " '__lt__',\n",
              " '__mul__',\n",
              " '__ne__',\n",
              " '__new__',\n",
              " '__reduce__',\n",
              " '__reduce_ex__',\n",
              " '__repr__',\n",
              " '__reversed__',\n",
              " '__rmul__',\n",
              " '__setattr__',\n",
              " '__setitem__',\n",
              " '__sizeof__',\n",
              " '__str__',\n",
              " '__subclasshook__',\n",
              " 'append',\n",
              " 'clear',\n",
              " 'copy',\n",
              " 'count',\n",
              " 'extend',\n",
              " 'index',\n",
              " 'insert',\n",
              " 'pop',\n",
              " 'remove',\n",
              " 'reverse',\n",
              " 'sort']"
            ]
          },
          "metadata": {},
          "execution_count": 65
        }
      ]
    },
    {
      "cell_type": "markdown",
      "source": [
        "### 1.4.2 연결리스트\n",
        "* 연결리스트, 메모리 효율을 위해 사용되는 경우가 많음\n",
        "* 개념 : https://en.wikipedia.org/wiki/Linked_list\n",
        "* 알고리즘 시각화 : https://visualgo.net/ko"
      ],
      "metadata": {
        "id": "bViyUJxRPJfN"
      }
    },
    {
      "cell_type": "code",
      "source": [
        "연결리스트 = {\n",
        "    'head' : {\n",
        "        'value': 22,\n",
        "        'next': {\n",
        "            'value' : 2,\n",
        "            'next' : {\n",
        "                'value' : 90,\n",
        "                'next' : {\n",
        "                    'value' : 77,\n",
        "                    'next' : None\n",
        "                }\n",
        "            }\n",
        "        }\n",
        "    }\n",
        "}"
      ],
      "metadata": {
        "id": "WEWC-lZ7RSKJ"
      },
      "execution_count": null,
      "outputs": []
    },
    {
      "cell_type": "code",
      "source": [
        "# 22 -> 2 -> 90 -> 77"
      ],
      "metadata": {
        "id": "tdoJG1wxSHFH"
      },
      "execution_count": null,
      "outputs": []
    },
    {
      "cell_type": "code",
      "source": [
        "연결리스트['head']['next']['next']['value']"
      ],
      "metadata": {
        "colab": {
          "base_uri": "https://localhost:8080/"
        },
        "id": "NwWaoq2ARF3K",
        "outputId": "799d3604-eda1-444f-98b0-be894cae53c1"
      },
      "execution_count": null,
      "outputs": [
        {
          "output_type": "execute_result",
          "data": {
            "text/plain": [
              "90"
            ]
          },
          "metadata": {},
          "execution_count": 68
        }
      ]
    },
    {
      "cell_type": "markdown",
      "source": [
        "Quiz)\n",
        "* head -> [90, next] -> [2, next] -> [77, next] -> [35, next] -> [21, next] -> None\n",
        "* 35를 출력해주세요."
      ],
      "metadata": {
        "id": "h3bEyP_ZSmb0"
      }
    },
    {
      "cell_type": "code",
      "source": [
        "연결리스트 = {\n",
        "            'head': {\n",
        "                'value': 90,\n",
        "                'next': {\n",
        "                    'value': 2,\n",
        "                    'next': {\n",
        "                        'value': 77,\n",
        "                        'next': {\n",
        "                            'value': 35,\n",
        "                            'next': {\n",
        "                                'value': 21,\n",
        "                                'next': None\n",
        "                            }\n",
        "                        }\n",
        "                    }\n",
        "                }\n",
        "            }\n",
        "        }"
      ],
      "metadata": {
        "id": "Z-FzfsLCSns7"
      },
      "execution_count": null,
      "outputs": []
    },
    {
      "cell_type": "code",
      "source": [
        "연결리스트['head']['next']['next']['next']['value']"
      ],
      "metadata": {
        "colab": {
          "base_uri": "https://localhost:8080/"
        },
        "id": "QiZ1V3acTu8t",
        "outputId": "9b3bca64-5bef-4118-fa2c-c6643ba6324e"
      },
      "execution_count": null,
      "outputs": [
        {
          "output_type": "execute_result",
          "data": {
            "text/plain": [
              "35"
            ]
          },
          "metadata": {},
          "execution_count": 70
        }
      ]
    },
    {
      "cell_type": "code",
      "source": [
        "연결리스트 = {\n",
        "    'head': None\n",
        "}\n",
        "\n",
        "list1 = {'value':12, 'next':None}\n",
        "list2 = {'value':99, 'next':None}\n",
        "list3 = {'value':37, 'next':None}\n",
        "list4 = {'value':2, 'next':None}\n",
        "\n",
        "list1['next'] = list2\n",
        "list2['next'] = list3\n",
        "list3['next'] = list4\n",
        "\n",
        "연결리스트['head'] = list1"
      ],
      "metadata": {
        "id": "WgDXhkiOTwSH"
      },
      "execution_count": null,
      "outputs": []
    },
    {
      "cell_type": "code",
      "source": [
        "연결리스트['head']['next']['value']"
      ],
      "metadata": {
        "colab": {
          "base_uri": "https://localhost:8080/"
        },
        "id": "xwKlBSooUDh7",
        "outputId": "0ef38729-123a-42e7-c6a5-2e4079364fc3"
      },
      "execution_count": null,
      "outputs": [
        {
          "output_type": "execute_result",
          "data": {
            "text/plain": [
              "99"
            ]
          },
          "metadata": {},
          "execution_count": 72
        }
      ]
    },
    {
      "cell_type": "code",
      "source": [
        "# dir(list1)"
      ],
      "metadata": {
        "id": "9EbBRTj6VDBh"
      },
      "execution_count": null,
      "outputs": []
    },
    {
      "cell_type": "code",
      "source": [
        "# step 1\n",
        "class Node:\n",
        "    def __init__(self, a):\n",
        "        print(f'{a}가 입력되어 인스턴스가 생성되었어요!')\n",
        "        self.data = a\n",
        "        self.next = None\n",
        "\n",
        "list1 = Node(12)\n",
        "list2 = Node(99)\n",
        "list3 = Node(37)\n",
        "list4 = Node(2)\n",
        "\n",
        "list1.next = list2\n",
        "list2.next = list3\n",
        "list3.next = list4\n",
        "\n",
        "# dir(list1)"
      ],
      "metadata": {
        "colab": {
          "base_uri": "https://localhost:8080/"
        },
        "id": "Q7LkkJfOUX8G",
        "outputId": "4e9db62b-af80-46d0-f325-8cbc4dd475a9"
      },
      "execution_count": null,
      "outputs": [
        {
          "output_type": "stream",
          "name": "stdout",
          "text": [
            "12가 입력되어 인스턴스가 생성되었어요!\n",
            "99가 입력되어 인스턴스가 생성되었어요!\n",
            "37가 입력되어 인스턴스가 생성되었어요!\n",
            "2가 입력되어 인스턴스가 생성되었어요!\n"
          ]
        }
      ]
    },
    {
      "cell_type": "code",
      "source": [
        "list1.next.next.data"
      ],
      "metadata": {
        "colab": {
          "base_uri": "https://localhost:8080/"
        },
        "id": "7ai0huwhVssU",
        "outputId": "b152708c-4e3b-4c49-c4ca-5636c7c4fe72"
      },
      "execution_count": null,
      "outputs": [
        {
          "output_type": "execute_result",
          "data": {
            "text/plain": [
              "37"
            ]
          },
          "metadata": {},
          "execution_count": 78
        }
      ]
    },
    {
      "cell_type": "code",
      "source": [
        "l = [1, 2, 3, 4]\n",
        "l.sort()"
      ],
      "metadata": {
        "id": "tLlEoeCXVA96"
      },
      "execution_count": null,
      "outputs": []
    },
    {
      "cell_type": "code",
      "source": [
        "# step 2\n",
        "class Node:\n",
        "    def __init__(self, data):\n",
        "        self.data = data\n",
        "        self.next = None\n",
        "\n",
        "# head -> ['init', next]\n",
        "#               ↑ \n",
        "#              tail\n",
        "# head -> ['init', next] -> [90, next]\n",
        "#                               ↑ \n",
        "#                              tail\n",
        "\n",
        "class LinkedList:\n",
        "    def __init__(self):\n",
        "        init = Node('init')\n",
        "        self.head = init\n",
        "        self.tail = init\n",
        "\n",
        "        self.현재노드 = None\n",
        "        self.데이터수 = 0\n",
        "    \n",
        "    def append(self, data):\n",
        "        새로운노드 = Node(data)\n",
        "        self.tail.next = 새로운노드\n",
        "        self.tail = 새로운노드\n",
        "        self.데이터수 += 1"
      ],
      "metadata": {
        "id": "vItjS1QeamST"
      },
      "execution_count": null,
      "outputs": []
    },
    {
      "cell_type": "code",
      "source": [
        "l = LinkedList()\n",
        "l.append(10)\n",
        "l.append(20)\n",
        "l.append(30)\n",
        "l.append(40)\n",
        "l.append(50)\n",
        "l.append(15)"
      ],
      "metadata": {
        "id": "Emk4Kf-gdZOS"
      },
      "execution_count": null,
      "outputs": []
    },
    {
      "cell_type": "code",
      "source": [
        "l.head.data #init\n",
        "l.head.next.data #10\n",
        "l.head.next.next.data #20"
      ],
      "metadata": {
        "colab": {
          "base_uri": "https://localhost:8080/",
          "height": 35
        },
        "id": "Vo9CMrnGdhFu",
        "outputId": "57482a0b-5c6b-48c8-dce3-1e91fe075a01"
      },
      "execution_count": null,
      "outputs": [
        {
          "output_type": "execute_result",
          "data": {
            "text/plain": [
              "'init'"
            ],
            "application/vnd.google.colaboratory.intrinsic+json": {
              "type": "string"
            }
          },
          "metadata": {},
          "execution_count": 87
        }
      ]
    },
    {
      "cell_type": "code",
      "source": [
        "# step 3.1 length 등 기능 구현\n",
        "\n",
        "# step 2\n",
        "class Node:\n",
        "    def __init__(self, data):\n",
        "        self.data = data\n",
        "        self.next = None\n",
        "\n",
        "# head -> ['init', next]\n",
        "#               ↑ \n",
        "#              tail\n",
        "# head -> ['init', next] -> [90, next]\n",
        "#                               ↑ \n",
        "#                              tail\n",
        "\n",
        "class LinkedList:\n",
        "    def __init__(self):\n",
        "        init = Node('init')\n",
        "        self.head = init\n",
        "        self.tail = init\n",
        "\n",
        "        self.현재노드 = None\n",
        "        self.데이터수 = 0\n",
        "\n",
        "    def __len__(self):\n",
        "        return self.데이터수\n",
        "\n",
        "    def __str__(self):\n",
        "        return 'hello world'\n",
        "    \n",
        "    def append(self, data):\n",
        "        새로운노드 = Node(data)\n",
        "        self.tail.next = 새로운노드\n",
        "        self.tail = 새로운노드\n",
        "        self.데이터수 += 1"
      ],
      "metadata": {
        "id": "IpAF7OPXd5w7"
      },
      "execution_count": null,
      "outputs": []
    },
    {
      "cell_type": "code",
      "source": [
        "l = LinkedList()\n",
        "l.append(10)\n",
        "l.append(20)\n",
        "l.append(30)\n",
        "l.append(40)\n",
        "l.append(50)\n",
        "l.append(15)"
      ],
      "metadata": {
        "id": "lfMw-V5GelHM"
      },
      "execution_count": null,
      "outputs": []
    },
    {
      "cell_type": "code",
      "source": [
        "len(l)"
      ],
      "metadata": {
        "colab": {
          "base_uri": "https://localhost:8080/"
        },
        "id": "7KsnyycXenR9",
        "outputId": "7ab80cd6-1ae0-494a-c65d-cff2cf13a2eb"
      },
      "execution_count": null,
      "outputs": [
        {
          "output_type": "execute_result",
          "data": {
            "text/plain": [
              "6"
            ]
          },
          "metadata": {},
          "execution_count": 94
        }
      ]
    },
    {
      "cell_type": "code",
      "source": [
        "print(l)\n",
        "# [10, 20, 30, 40, 50, 15]\n",
        "# <10 -> 20 -> 30 -> 40 -> 50 -> 15>"
      ],
      "metadata": {
        "colab": {
          "base_uri": "https://localhost:8080/"
        },
        "id": "kOwRC9Q8esU5",
        "outputId": "5d0b5704-d0d5-4c3c-f4cc-5a03696e15ba"
      },
      "execution_count": null,
      "outputs": [
        {
          "output_type": "stream",
          "name": "stdout",
          "text": [
            "hello world\n"
          ]
        }
      ]
    },
    {
      "cell_type": "code",
      "source": [
        "# step 3.2 length 등 기능 구현 - __str__구현\n",
        "\n",
        "# step 2\n",
        "class Node:\n",
        "    def __init__(self, data):\n",
        "        self.data = data\n",
        "        self.next = None\n",
        "\n",
        "# head -> ['init', next]\n",
        "#               ↑ \n",
        "#              tail\n",
        "# head -> ['init', next] -> [90, next]\n",
        "#                               ↑ \n",
        "#                              tail\n",
        "\n",
        "class LinkedList:\n",
        "    def __init__(self):\n",
        "        init = Node('init')\n",
        "        self.head = init\n",
        "        self.tail = init\n",
        "\n",
        "        self.현재노드 = None\n",
        "        self.데이터수 = 0\n",
        "\n",
        "    def __len__(self):\n",
        "        return self.데이터수\n",
        "\n",
        "    def __str__(self):\n",
        "        현재노드 = self.head\n",
        "        현재노드 = 현재노드.next\n",
        "        s = ''\n",
        "\n",
        "        for i in range(self.데이터수):\n",
        "            s += f' {현재노드.data} ->'\n",
        "            현재노드 = 현재노드.next\n",
        "\n",
        "        return f'<{s[1:-3]}>'\n",
        "    \n",
        "    def append(self, data):\n",
        "        새로운노드 = Node(data)\n",
        "        self.tail.next = 새로운노드\n",
        "        self.tail = 새로운노드\n",
        "        self.데이터수 += 1"
      ],
      "metadata": {
        "id": "Nr8z3Qebfwdj"
      },
      "execution_count": null,
      "outputs": []
    },
    {
      "cell_type": "code",
      "source": [
        "l = LinkedList()\n",
        "l.append(10)\n",
        "l.append(20)\n",
        "l.append(30)\n",
        "l.append(40)\n",
        "l.append(50)\n",
        "l.append(15)"
      ],
      "metadata": {
        "id": "Ge2KA2WugnqO"
      },
      "execution_count": null,
      "outputs": []
    },
    {
      "cell_type": "code",
      "source": [
        "print(l)\n",
        "# [10, 20, 30, 40, 50, 15]\n",
        "# <10 -> 20 -> 30 -> 40 -> 50 -> 15>"
      ],
      "metadata": {
        "colab": {
          "base_uri": "https://localhost:8080/"
        },
        "id": "ltLc1rJggpO6",
        "outputId": "8567f33b-5101-4b69-f450-e6790822634e"
      },
      "execution_count": null,
      "outputs": [
        {
          "output_type": "stream",
          "name": "stdout",
          "text": [
            "<10 -> 20 -> 30 -> 40 -> 50 -> 15 >\n"
          ]
        }
      ]
    },
    {
      "cell_type": "code",
      "source": [
        "호준 = print\n",
        "호준('hello world')"
      ],
      "metadata": {
        "colab": {
          "base_uri": "https://localhost:8080/"
        },
        "id": "-aYnlTTth00j",
        "outputId": "a18c639d-ed0f-4858-93d7-182de948a232"
      },
      "execution_count": null,
      "outputs": [
        {
          "output_type": "stream",
          "name": "stdout",
          "text": [
            "hello world\n"
          ]
        }
      ]
    },
    {
      "cell_type": "code",
      "source": [
        "# step 3.3 length 등 기능 구현 - 나머지 기능 구현\n",
        "\n",
        "# step 2\n",
        "class Node:\n",
        "    def __init__(self, data):\n",
        "        self.data = data\n",
        "        self.next = None\n",
        "\n",
        "# head -> ['init', next]\n",
        "#               ↑ \n",
        "#              tail\n",
        "# head -> ['init', next] -> [90, next]\n",
        "#                               ↑ \n",
        "#                              tail\n",
        "\n",
        "class LinkedList:\n",
        "    def __init__(self):\n",
        "        init = Node('init')\n",
        "        self.head = init\n",
        "        self.tail = init\n",
        "\n",
        "        self.현재노드 = None\n",
        "        self.데이터수 = 0\n",
        "\n",
        "    def __len__(self):\n",
        "        return self.데이터수\n",
        "\n",
        "    def __str__(self):\n",
        "        현재노드 = self.head\n",
        "        현재노드 = 현재노드.next\n",
        "        s = ''\n",
        "\n",
        "        for i in range(self.데이터수):\n",
        "            s += f' {현재노드.data} ->'\n",
        "            현재노드 = 현재노드.next\n",
        "\n",
        "        return f'<{s[1:-3]}>'\n",
        "    \n",
        "    def append(self, data):\n",
        "        새로운노드 = Node(data)\n",
        "        self.tail.next = 새로운노드\n",
        "        self.tail = 새로운노드\n",
        "        self.데이터수 += 1\n",
        "\n",
        "    def pop(self):\n",
        "        마지막값 = self.tail.data\n",
        "        현재노드 = self.head\n",
        "\n",
        "        for i in range(self.데이터수):\n",
        "            if 현재노드.next is self.tail:\n",
        "                self.tail = 현재노드\n",
        "                break\n",
        "            현재노드 = 현재노드.next\n",
        "\n",
        "        self.데이터수 -= 1\n",
        "        return 마지막값"
      ],
      "metadata": {
        "id": "Z0X1er-ngq_c"
      },
      "execution_count": null,
      "outputs": []
    },
    {
      "cell_type": "markdown",
      "source": [
        "* 과제 1 : 이해가 안되시는 부분은 손으로 직접 써보세요.\n",
        "* 과제 2 : 값의 인덱스를 반환하는 find만 구현을 직접 해보세요. find말고 다른 기능들까지 구현하셔도 좋습니다. shift, unshift, get 등이요!"
      ],
      "metadata": {
        "id": "QpZm6AzWkpLB"
      }
    },
    {
      "cell_type": "code",
      "source": [
        "# 한성민님 과제 코드\n",
        "# 직접 풀어보신 분만 아래 코드를 확인해보세요!\n",
        "class Node:\n",
        "    def __init__(self, data):\n",
        "        self.data = data\n",
        "        self.next = None\n",
        "\n",
        "\n",
        "class SinglyLinkedList:\n",
        "    def __init__(self):\n",
        "        self.head = None\n",
        "        self.tail = None\n",
        "        self.length = 0\n",
        "\n",
        "    def push(self, data):\n",
        "        new_node = Node(data)\n",
        "        if not self.head:\n",
        "            self.head = new_node\n",
        "            self.tail = self.head\n",
        "        else:\n",
        "            self.tail.next = new_node\n",
        "            self.tail = new_node\n",
        "\n",
        "        self.length += 1\n",
        "        return self\n",
        "\n",
        "    def pop(self):\n",
        "        if not self.head:\n",
        "            return None\n",
        "\n",
        "        current = self.head\n",
        "\n",
        "        new_tail = current\n",
        "\n",
        "        while current.next:\n",
        "            new_tail = current\n",
        "            current = current.next\n",
        "\n",
        "        self.tail = new_tail\n",
        "        self.tail.next = None\n",
        "        self.length -= 1\n",
        "        if self.length == 0:\n",
        "            self.head = None\n",
        "            self.tail = None\n",
        "\n",
        "        return current\n",
        "\n",
        "\n",
        "    def shift(self):\n",
        "        if not self.head:\n",
        "            return None\n",
        "        current_head = self.head\n",
        "        self.head = current_head.next\n",
        "        self.length -= 1\n",
        "        if self.length == 0:\n",
        "            self.tail = None\n",
        "\n",
        "        return current_head\n",
        "\n",
        "    def unshift(self, data):\n",
        "        new_node = Node(data)\n",
        "        if not self.head:\n",
        "            self.head = new_node\n",
        "            self.tail = self.head\n",
        "\n",
        "        new_node.next = self.head\n",
        "        self.head = new_node\n",
        "        self.length += 1\n",
        "        return self\n",
        "\n",
        "    def get(self, index):\n",
        "        if index < 0 | index >= self.length:\n",
        "            return None\n",
        "        counter = 0\n",
        "        current = self.head\n",
        "        while counter != index:\n",
        "            current = current.next\n",
        "            counter += 1\n",
        "        return current\n",
        "\n",
        "    def set_data(self, index, data):\n",
        "        foundNode = self.get(index)\n",
        "        if foundNode:\n",
        "            foundNode.data = data\n",
        "            return True\n",
        "\n",
        "        return False\n",
        "\n",
        "    def insert(self, index, data):\n",
        "        if index < 0 | index > self.length:\n",
        "            return False\n",
        "        if index == self.length:\n",
        "            return bool(self.push(data))\n",
        "        if index == 0:\n",
        "            return bool(self.unshift(data))\n",
        "\n",
        "        new_node = Node(data)\n",
        "        prev = self.get(index - 1)\n",
        "        temp = prev.next\n",
        "        prev.next = new_node\n",
        "        new_node.next = temp\n",
        "        self.length += 1\n",
        "        return True\n",
        "\n",
        "    def remove(self, index):\n",
        "        if index < 0 | index >= self.length:\n",
        "            return None\n",
        "        if index == 0:\n",
        "            return self.shift()\n",
        "        if index == self.length - 1:\n",
        "            return self.pop()\n",
        "\n",
        "        previousNode = self.get(index - 1)\n",
        "        removed = previousNode.next\n",
        "        previousNode.next = removed.next\n",
        "        self.length -= 1\n",
        "        return removed\n",
        "\n",
        "    def reverse(self):\n",
        "        node = self.head\n",
        "        self.head = self.tail\n",
        "        self.tail = node\n",
        "        prev = None\n",
        "        for _ in range(self.length):\n",
        "            next = node.next\n",
        "            node.next = prev\n",
        "            prev = node\n",
        "            node = next\n",
        "\n",
        "        return self\n",
        "\n",
        "    def print_all(self):\n",
        "        arr = []\n",
        "        current = self.head\n",
        "        while current:\n",
        "            arr.append(current.data)\n",
        "            current = current.next\n",
        "        print(arr)\n",
        "\n",
        "\n",
        "arr = SinglyLinkedList()\n",
        "arr.push(100)\n",
        "arr.push(201)\n",
        "arr.push(250)\n",
        "arr.push(350)\n",
        "arr.push(999)\n",
        "arr.insert(1, 12313)\n",
        "arr.reverse()\n",
        "arr.print_all()\n",
        "\n",
        "# [999, 350, 250, 201, 12313, 100]"
      ],
      "metadata": {
        "id": "utTM8rwLnTHf",
        "outputId": "cc9641c4-aac2-43da-e7c1-4d1ff94fd628",
        "colab": {
          "base_uri": "https://localhost:8080/"
        }
      },
      "execution_count": null,
      "outputs": [
        {
          "output_type": "stream",
          "name": "stdout",
          "text": [
            "[999, 350, 250, 201, 12313, 100]\n"
          ]
        }
      ]
    }
  ]
}
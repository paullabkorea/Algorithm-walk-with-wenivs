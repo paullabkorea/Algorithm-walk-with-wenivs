{
  "nbformat": 4,
  "nbformat_minor": 0,
  "metadata": {
    "colab": {
      "name": "0715_알고리즘_실습파일_2.ipynb",
      "provenance": [],
      "collapsed_sections": []
    },
    "kernelspec": {
      "name": "python3",
      "display_name": "Python 3"
    },
    "language_info": {
      "name": "python"
    }
  },
  "cells": [
    {
      "cell_type": "markdown",
      "source": [
        "# 1. 자료구조와 알고리즘, 코딩테스트"
      ],
      "metadata": {
        "id": "xohc4v7DPG93"
      }
    },
    {
      "cell_type": "code",
      "source": [
        "[1, 2, 3].reverse()\n",
        "reversed([1, 2, 3]) # 공간복잡도 문제가 나올경우 오답 가능성 있음\n",
        "[1, 2, 3][::-1] # 속도는 빠르지만 공간복잡도 문제가 나올경우 오답 가능성 있음"
      ],
      "metadata": {
        "id": "6R2ZDMB0V2Jl"
      },
      "execution_count": null,
      "outputs": []
    },
    {
      "cell_type": "code",
      "execution_count": null,
      "metadata": {
        "colab": {
          "base_uri": "https://localhost:8080/"
        },
        "id": "zGRmlD43Omfp",
        "outputId": "c35b6dcb-39dc-48f2-f409-64aef0359c2f"
      },
      "outputs": [
        {
          "output_type": "execute_result",
          "data": {
            "text/plain": [
              "['2 X 1 = 2',\n",
              " '2 X 2 = 4',\n",
              " '2 X 3 = 6',\n",
              " '2 X 4 = 8',\n",
              " '2 X 5 = 10',\n",
              " '2 X 6 = 12',\n",
              " '2 X 7 = 14',\n",
              " '2 X 8 = 16',\n",
              " '2 X 9 = 18',\n",
              " '3 X 1 = 3',\n",
              " '3 X 2 = 6',\n",
              " '3 X 3 = 9',\n",
              " '3 X 4 = 12',\n",
              " '3 X 5 = 15',\n",
              " '3 X 6 = 18',\n",
              " '3 X 7 = 21',\n",
              " '3 X 8 = 24',\n",
              " '3 X 9 = 27',\n",
              " '4 X 1 = 4',\n",
              " '4 X 2 = 8',\n",
              " '4 X 3 = 12',\n",
              " '4 X 4 = 16',\n",
              " '4 X 5 = 20',\n",
              " '4 X 6 = 24',\n",
              " '4 X 7 = 28',\n",
              " '4 X 8 = 32',\n",
              " '4 X 9 = 36',\n",
              " '5 X 1 = 5',\n",
              " '5 X 2 = 10',\n",
              " '5 X 3 = 15',\n",
              " '5 X 4 = 20',\n",
              " '5 X 5 = 25',\n",
              " '5 X 6 = 30',\n",
              " '5 X 7 = 35',\n",
              " '5 X 8 = 40',\n",
              " '5 X 9 = 45',\n",
              " '6 X 1 = 6',\n",
              " '6 X 2 = 12',\n",
              " '6 X 3 = 18',\n",
              " '6 X 4 = 24',\n",
              " '6 X 5 = 30',\n",
              " '6 X 6 = 36',\n",
              " '6 X 7 = 42',\n",
              " '6 X 8 = 48',\n",
              " '6 X 9 = 54',\n",
              " '7 X 1 = 7',\n",
              " '7 X 2 = 14',\n",
              " '7 X 3 = 21',\n",
              " '7 X 4 = 28',\n",
              " '7 X 5 = 35',\n",
              " '7 X 6 = 42',\n",
              " '7 X 7 = 49',\n",
              " '7 X 8 = 56',\n",
              " '7 X 9 = 63',\n",
              " '8 X 1 = 8',\n",
              " '8 X 2 = 16',\n",
              " '8 X 3 = 24',\n",
              " '8 X 4 = 32',\n",
              " '8 X 5 = 40',\n",
              " '8 X 6 = 48',\n",
              " '8 X 7 = 56',\n",
              " '8 X 8 = 64',\n",
              " '8 X 9 = 72',\n",
              " '9 X 1 = 9',\n",
              " '9 X 2 = 18',\n",
              " '9 X 3 = 27',\n",
              " '9 X 4 = 36',\n",
              " '9 X 5 = 45',\n",
              " '9 X 6 = 54',\n",
              " '9 X 7 = 63',\n",
              " '9 X 8 = 72',\n",
              " '9 X 9 = 81']"
            ]
          },
          "metadata": {},
          "execution_count": 1
        }
      ],
      "source": [
        "[f'{i} X {j} = {i * j}' for i in range(2, 10) for j in range(1, 10)]"
      ]
    },
    {
      "cell_type": "markdown",
      "source": [
        "## 1.3 워밍업 문제"
      ],
      "metadata": {
        "id": "gV7RIAICAzu-"
      }
    },
    {
      "cell_type": "markdown",
      "source": [
        "### 1.3.1 워밍업 문제 - 1"
      ],
      "metadata": {
        "id": "2qyexNUVZqUt"
      }
    },
    {
      "cell_type": "markdown",
      "source": [
        "만약 아래 워밍업 문제가 감도 안오신다 하면 Lv1 ~ Lv2 암기해주세요."
      ],
      "metadata": {
        "id": "gqruSpbmbb0u"
      }
    },
    {
      "cell_type": "markdown",
      "source": [
        "1부터 10,000까지 8이라는 숫자가 총 몇번 나오는가?\n",
        "\n",
        "8이 포함되어 있는 숫자의 갯수를 카운팅 하는 것이 아니라 8이라는 숫자를 모두 카운팅 해야 한다. (※ 예를들어 8808은 3, 8888은 4로 카운팅 해야 함)\n",
        "\n",
        "문제 링크 : https://codingdojang.com/scode/393"
      ],
      "metadata": {
        "id": "aKru9Nk8ZvLx"
      }
    },
    {
      "cell_type": "code",
      "source": [
        "[0, 0, 0, 0]\n",
        "[9, 9, 9, 9]"
      ],
      "metadata": {
        "id": "MDSB-bpJZs2j"
      },
      "execution_count": null,
      "outputs": []
    },
    {
      "cell_type": "code",
      "source": [
        "list(range(10))\n",
        "'[0, 1, 2, 3, 4, 5, 6, 7, 8, 9]'\n",
        "str(list(range(10)))\n",
        "str(list(range(10001))).count('8')"
      ],
      "metadata": {
        "colab": {
          "base_uri": "https://localhost:8080/"
        },
        "id": "2PyeSq5xb3Le",
        "outputId": "6eda28bf-23be-4ede-944f-45b951f83f49"
      },
      "execution_count": null,
      "outputs": [
        {
          "output_type": "execute_result",
          "data": {
            "text/plain": [
              "4000"
            ]
          },
          "metadata": {},
          "execution_count": 8
        }
      ]
    },
    {
      "cell_type": "code",
      "source": [
        "%%timeit\n",
        "\n",
        "str(list(range(10001))).count('8')"
      ],
      "metadata": {
        "colab": {
          "base_uri": "https://localhost:8080/"
        },
        "id": "3gPViDh6cKxF",
        "outputId": "6e1dbf0e-4ebc-4165-fdff-6e79907e0373"
      },
      "execution_count": null,
      "outputs": [
        {
          "output_type": "stream",
          "name": "stdout",
          "text": [
            "1000 loops, best of 5: 927 µs per loop\n"
          ]
        }
      ]
    },
    {
      "cell_type": "code",
      "source": [
        "%%timeit\n",
        "\n",
        "cnt = 0\n",
        "for i in range(1, 10001):\n",
        "    j = 0\n",
        "    while j < len(str(i)):\n",
        "        if str(i)[j] == '8':\n",
        "            cnt += 1\n",
        "        j += 1"
      ],
      "metadata": {
        "colab": {
          "base_uri": "https://localhost:8080/"
        },
        "id": "UjDihx49cnOQ",
        "outputId": "d760669f-8f65-42bb-d007-2ca38cf98bb6"
      },
      "execution_count": null,
      "outputs": [
        {
          "output_type": "stream",
          "name": "stdout",
          "text": [
            "10 loops, best of 5: 23.2 ms per loop\n"
          ]
        }
      ]
    },
    {
      "cell_type": "code",
      "source": [
        "%%timeit\n",
        "\n",
        "str([i for i in range(10001)]).count(str(8))"
      ],
      "metadata": {
        "colab": {
          "base_uri": "https://localhost:8080/"
        },
        "id": "UrpMm-IGc3Op",
        "outputId": "83a00cce-2908-45ef-d083-15eb348edc41"
      },
      "execution_count": null,
      "outputs": [
        {
          "output_type": "stream",
          "name": "stdout",
          "text": [
            "1000 loops, best of 5: 1.12 ms per loop\n"
          ]
        }
      ]
    },
    {
      "cell_type": "markdown",
      "source": [
        "### 1.3.1 워밍업문제 - 2\n",
        "\n",
        "1차원의 점들이 주어졌을 때, 그 중 가장 거리가 짧은 것의 쌍을 출력하는 함수를 작성하시오. (단 점들의 배열은 모두 정렬되어있다고 가정한다.)\n",
        "\n",
        "예를들어 S = [1, 3, 4, 8, 13, 17, 20] 이 주어졌다면, 결과값은 (3, 4)가 될 것이다.\n",
        "\n",
        "문제링크 : https://codingdojang.com/scode/408"
      ],
      "metadata": {
        "id": "PmYQyuSkdUvJ"
      }
    },
    {
      "cell_type": "code",
      "source": [
        "s = [1, 3, 4, 8, 13, 17, 20]\n",
        "m = s[-1] # max(s)\n",
        "index = 0\n",
        "for i in range(len(s) - 1):\n",
        "    if m > s[i+1] - s[i]:\n",
        "        index = i\n",
        "        m = s[i+1] - s[i]\n",
        "\n",
        "s[index], s[index+1]"
      ],
      "metadata": {
        "colab": {
          "base_uri": "https://localhost:8080/"
        },
        "id": "gGNj--z-dUdA",
        "outputId": "515ec3b5-53ba-453c-d264-9270d673806a"
      },
      "execution_count": null,
      "outputs": [
        {
          "output_type": "execute_result",
          "data": {
            "text/plain": [
              "(3, 4)"
            ]
          },
          "metadata": {},
          "execution_count": 16
        }
      ]
    },
    {
      "cell_type": "code",
      "source": [
        "s = [-20, -17, -13, -8, -4, -3, -1]\n",
        "m = max(abs(min(s)), max(s)) # 음수였을 경우에는 max(abs(-20), -1)\n",
        "index = 0\n",
        "for i in range(len(s) - 1):\n",
        "    # print(s[i+1] - s[i])\n",
        "    if m > s[i+1] - s[i]:\n",
        "        index = i\n",
        "        # print(f'{index}, s[i+1] - s[i]')\n",
        "        m = s[i+1] - s[i]\n",
        "\n",
        "s[index], s[index+1]\n",
        "\n",
        "# -17 - -20 = 3\n",
        "# -13 - -17 = 4\n",
        "# -8 - -13 = 5\n",
        "# -4 - -8 = 4\n",
        "# -3 - -4 = 1\n",
        "# -1 - -3 = 2"
      ],
      "metadata": {
        "colab": {
          "base_uri": "https://localhost:8080/"
        },
        "id": "G7JNBPVCjWSQ",
        "outputId": "c06d600f-ac44-4aa0-a9d6-20e728017da0"
      },
      "execution_count": null,
      "outputs": [
        {
          "output_type": "execute_result",
          "data": {
            "text/plain": [
              "(-4, -3)"
            ]
          },
          "metadata": {},
          "execution_count": 27
        }
      ]
    },
    {
      "cell_type": "code",
      "source": [
        "s = [1, 3, 4, 8, 13, 17, 20]\n",
        "m = max(abs(min(s)), max(s)) # 양수였을 경우에는 (1, 20)\n",
        "index = 0\n",
        "for i in range(len(s) - 1):\n",
        "    if m > s[i+1] - s[i]:\n",
        "        index = i\n",
        "        m = s[i+1] - s[i]\n",
        "\n",
        "s[index], s[index+1]"
      ],
      "metadata": {
        "colab": {
          "base_uri": "https://localhost:8080/"
        },
        "id": "YNwpouYolO-B",
        "outputId": "627445df-534e-4300-d810-20cbf6d77bfc"
      },
      "execution_count": null,
      "outputs": [
        {
          "output_type": "execute_result",
          "data": {
            "text/plain": [
              "(3, 4)"
            ]
          },
          "metadata": {},
          "execution_count": 28
        }
      ]
    },
    {
      "cell_type": "code",
      "source": [
        "s = [1, 3, 4, 8, 13, 17, 20]\n",
        "m = float('inf') # inf 는 인피니티의 줄임말로\n",
        "index = 0\n",
        "for i in range(len(s) - 1):\n",
        "    if m > s[i+1] - s[i]:\n",
        "        index = i\n",
        "        m = s[i+1] - s[i]\n",
        "\n",
        "s[index], s[index+1]"
      ],
      "metadata": {
        "colab": {
          "base_uri": "https://localhost:8080/"
        },
        "id": "940wvubClmUZ",
        "outputId": "1cfa2843-8418-49ba-b1fa-35122865eb76"
      },
      "execution_count": null,
      "outputs": [
        {
          "output_type": "execute_result",
          "data": {
            "text/plain": [
              "(3, 4)"
            ]
          },
          "metadata": {},
          "execution_count": 31
        }
      ]
    },
    {
      "cell_type": "code",
      "source": [
        "import sys\n",
        "\n",
        "s = [1, 3, 4, 8, 13, 17, 20]\n",
        "m = sys.maxsize # inf 는 인피니티의 줄임말로\n",
        "index = 0\n",
        "for i in range(len(s) - 1):\n",
        "    if m > s[i+1] - s[i]:\n",
        "        index = i\n",
        "        m = s[i+1] - s[i]\n",
        "\n",
        "s[index], s[index+1]"
      ],
      "metadata": {
        "colab": {
          "base_uri": "https://localhost:8080/"
        },
        "id": "XHeugtiamZKy",
        "outputId": "7c2d15a8-1845-4cd9-c091-56db13237d67"
      },
      "execution_count": null,
      "outputs": [
        {
          "output_type": "execute_result",
          "data": {
            "text/plain": [
              "(3, 4)"
            ]
          },
          "metadata": {},
          "execution_count": 34
        }
      ]
    },
    {
      "cell_type": "code",
      "source": [
        "# 메모리 적재\n",
        "x = 3\n",
        "y = 3\n",
        "\n",
        "id(x), id(y)"
      ],
      "metadata": {
        "colab": {
          "base_uri": "https://localhost:8080/"
        },
        "id": "MzhBsMGomgdV",
        "outputId": "68305e07-58c0-4b53-f373-c55a2f02f4a2"
      },
      "execution_count": null,
      "outputs": [
        {
          "output_type": "execute_result",
          "data": {
            "text/plain": [
              "(11256128, 11256128)"
            ]
          },
          "metadata": {},
          "execution_count": 38
        }
      ]
    },
    {
      "cell_type": "code",
      "source": [
        "# 메모리 적재\n",
        "x = 257\n",
        "y = 257\n",
        "\n",
        "id(x), id(y)"
      ],
      "metadata": {
        "colab": {
          "base_uri": "https://localhost:8080/"
        },
        "id": "P0U7fq2lm3Qm",
        "outputId": "0e982be0-9cad-468e-e5a2-f84c265cf68c"
      },
      "execution_count": null,
      "outputs": [
        {
          "output_type": "execute_result",
          "data": {
            "text/plain": [
              "(140349700436112, 140349700437616)"
            ]
          },
          "metadata": {},
          "execution_count": 42
        }
      ]
    },
    {
      "cell_type": "code",
      "source": [
        "s  = [1, 3, 4, 8, 13, 17, 20]\n",
        "ss = [3, 4, 8, 13, 17, 20]\n",
        "\n",
        "list(zip(s, ss))"
      ],
      "metadata": {
        "colab": {
          "base_uri": "https://localhost:8080/"
        },
        "id": "DRLctfwpnc9_",
        "outputId": "d9b29718-3f1e-4c86-f703-a37a8213b0f3"
      },
      "execution_count": null,
      "outputs": [
        {
          "output_type": "execute_result",
          "data": {
            "text/plain": [
              "[(1, 3), (3, 4), (4, 8), (8, 13), (13, 17), (17, 20)]"
            ]
          },
          "metadata": {},
          "execution_count": 43
        }
      ]
    },
    {
      "cell_type": "code",
      "source": [
        "sorted(list(zip(s, ss)), key=lambda i:i[1]-i[0])\n",
        "sorted(list(zip(s, ss)), key=lambda i:i[1]-i[0])[0]"
      ],
      "metadata": {
        "colab": {
          "base_uri": "https://localhost:8080/"
        },
        "id": "bYFPVHjfntZv",
        "outputId": "a6418a58-0f71-42b9-9d38-daaabd70712e"
      },
      "execution_count": null,
      "outputs": [
        {
          "output_type": "execute_result",
          "data": {
            "text/plain": [
              "(3, 4)"
            ]
          },
          "metadata": {},
          "execution_count": 45
        }
      ]
    },
    {
      "cell_type": "code",
      "source": [
        "def 두수의차(i):\n",
        "    return i[1] - i[0]\n",
        "\n",
        "sorted(list(zip(s, ss)), key=두수의차) # 기본이 오름차순이어서"
      ],
      "metadata": {
        "colab": {
          "base_uri": "https://localhost:8080/"
        },
        "id": "Qs4mE9Pjn8bk",
        "outputId": "3c5f606b-a489-4452-f703-3087087ebea2"
      },
      "execution_count": null,
      "outputs": [
        {
          "output_type": "execute_result",
          "data": {
            "text/plain": [
              "[(3, 4), (1, 3), (17, 20), (4, 8), (13, 17), (8, 13)]"
            ]
          },
          "metadata": {},
          "execution_count": 46
        }
      ]
    },
    {
      "cell_type": "code",
      "source": [
        "# 성민님 풀이\n",
        "# pep8 영문자 79자\n",
        "\n",
        "nums =[1, 3, 4, 8, 13, 17, 20]\n",
        "\n",
        "def solution(arr):\n",
        "    return sorted([[num2 - num1, (num1, num2)]\n",
        "                        for num1, num2 in zip(arr, arr[1:])],\n",
        "                        key=lambda ele: ele[0]\n",
        "                  )[0][1]\n",
        "\n",
        "solution(nums)"
      ],
      "metadata": {
        "colab": {
          "base_uri": "https://localhost:8080/"
        },
        "id": "CHo3QXLBq76E",
        "outputId": "61456316-78f3-4b16-9587-970ddf0a79bd"
      },
      "execution_count": null,
      "outputs": [
        {
          "output_type": "execute_result",
          "data": {
            "text/plain": [
              "(3, 4)"
            ]
          },
          "metadata": {},
          "execution_count": 57
        }
      ]
    },
    {
      "cell_type": "code",
      "source": [
        "[[num2 - num1, (num1, num2)] for num1, num2 in zip(s, s[1:])]"
      ],
      "metadata": {
        "colab": {
          "base_uri": "https://localhost:8080/"
        },
        "id": "HtmuTLTOrTnW",
        "outputId": "d3c3049a-4023-416c-fa80-9d28dd5e3f7f"
      },
      "execution_count": null,
      "outputs": [
        {
          "output_type": "execute_result",
          "data": {
            "text/plain": [
              "[[3, (-20, -17)],\n",
              " [4, (-17, -13)],\n",
              " [5, (-13, -8)],\n",
              " [4, (-8, -4)],\n",
              " [1, (-4, -3)],\n",
              " [2, (-3, -1)]]"
            ]
          },
          "metadata": {},
          "execution_count": 55
        }
      ]
    },
    {
      "cell_type": "markdown",
      "source": [
        "```python\n",
        "# 형태 1\n",
        "lambda input:output\n",
        "\n",
        "# 형태 2\n",
        "def f(input):\n",
        "    return output\n",
        "```"
      ],
      "metadata": {
        "id": "ScMT_2LgoqkQ"
      }
    },
    {
      "cell_type": "code",
      "source": [
        "def 제곱(x):\n",
        "    return x**2\n",
        "    \n",
        "list(map(제곱, [1, 2, 3, 4]))"
      ],
      "metadata": {
        "colab": {
          "base_uri": "https://localhost:8080/"
        },
        "id": "pHuu-vfdoaFs",
        "outputId": "7d7819ad-56bf-498f-d9b1-b9997e17b8dd"
      },
      "execution_count": null,
      "outputs": [
        {
          "output_type": "execute_result",
          "data": {
            "text/plain": [
              "[1, 4, 9, 16]"
            ]
          },
          "metadata": {},
          "execution_count": 49
        }
      ]
    },
    {
      "cell_type": "code",
      "source": [
        "list(map(lambda x:x**2, [1, 2, 3, 4]))"
      ],
      "metadata": {
        "colab": {
          "base_uri": "https://localhost:8080/"
        },
        "id": "OlfcVBVhpQcF",
        "outputId": "7a517b0e-a1eb-40e4-d9af-9cb5e4056d92"
      },
      "execution_count": null,
      "outputs": [
        {
          "output_type": "execute_result",
          "data": {
            "text/plain": [
              "[1, 4, 9, 16]"
            ]
          },
          "metadata": {},
          "execution_count": 50
        }
      ]
    },
    {
      "cell_type": "code",
      "source": [
        "s = [-20, -17, -13, -8, -4, -3, -1]\n",
        "sorted(list(zip(s, s[1:])), key=lambda i:i[1]-i[0])"
      ],
      "metadata": {
        "colab": {
          "base_uri": "https://localhost:8080/"
        },
        "id": "9v7Ibzr4qlKO",
        "outputId": "c4dc5e3c-1fe1-4cca-fa87-d4cc58ee2f65"
      },
      "execution_count": null,
      "outputs": [
        {
          "output_type": "execute_result",
          "data": {
            "text/plain": [
              "[(-4, -3), (-3, -1), (-20, -17), (-17, -13), (-8, -4), (-13, -8)]"
            ]
          },
          "metadata": {},
          "execution_count": 53
        }
      ]
    },
    {
      "cell_type": "code",
      "source": [
        "sorted(list(zip(s, s[1:])), key=lambda i:i[1]-i[0])[0]"
      ],
      "metadata": {
        "colab": {
          "base_uri": "https://localhost:8080/"
        },
        "id": "MSwiA1ohqx7c",
        "outputId": "4aa7f0c4-2553-4599-ef2f-033c84a79f9f"
      },
      "execution_count": null,
      "outputs": [
        {
          "output_type": "execute_result",
          "data": {
            "text/plain": [
              "(-4, -3)"
            ]
          },
          "metadata": {},
          "execution_count": 54
        }
      ]
    },
    {
      "cell_type": "code",
      "source": [
        "d = {\n",
        "    'one'   : [1, 9, 100],\n",
        "    'two'   : [2, 8, 200],\n",
        "    'three' : [3, 7, 150],\n",
        "    'four'  : [4, 6, 142],\n",
        "    'five'  : [5, 5, 111],\n",
        "}\n",
        "for i in d:\n",
        "    print(d[i])"
      ],
      "metadata": {
        "colab": {
          "base_uri": "https://localhost:8080/"
        },
        "id": "oJ01_AXPtr5M",
        "outputId": "3067e099-9447-42fd-9725-138fc9025586"
      },
      "execution_count": null,
      "outputs": [
        {
          "output_type": "stream",
          "name": "stdout",
          "text": [
            "[1, 9, 100]\n",
            "[2, 8, 200]\n",
            "[3, 7, 150]\n",
            "[4, 6, 142]\n",
            "[5, 5, 111]\n"
          ]
        }
      ]
    },
    {
      "cell_type": "code",
      "source": [
        "def 정렬함수(value):\n",
        "    return d[value][2]\n",
        "\n",
        "d = {\n",
        "    'one'   : [1, 9, 100],\n",
        "    'two'   : [2, 8, 200],\n",
        "    'three' : [3, 7, 150],\n",
        "    'four'  : [4, 6, 142],\n",
        "    'five'  : [5, 5, 111],\n",
        "}\n",
        "sorted(d, key=정렬함수)"
      ],
      "metadata": {
        "colab": {
          "base_uri": "https://localhost:8080/"
        },
        "id": "4ReSxqgtsls6",
        "outputId": "1531fa75-61f5-4034-9ab3-d421b7e9c11b"
      },
      "execution_count": null,
      "outputs": [
        {
          "output_type": "execute_result",
          "data": {
            "text/plain": [
              "['one', 'five', 'four', 'three', 'two']"
            ]
          },
          "metadata": {},
          "execution_count": 60
        }
      ]
    },
    {
      "cell_type": "code",
      "source": [
        "def 정렬함수(value):\n",
        "    return d[value][2]\n",
        "\n",
        "d = {\n",
        "    'one'   : [1, 9, 100],\n",
        "    'two'   : [2, 8, 200],\n",
        "    'three' : [3, 7, 150],\n",
        "    'four'  : [4, 6, 142],\n",
        "    'five'  : [5, 5, 111],\n",
        "}\n",
        "sorted(d, key=정렬함수, reverse=True)"
      ],
      "metadata": {
        "colab": {
          "base_uri": "https://localhost:8080/"
        },
        "id": "9JBmw5dI_1Ju",
        "outputId": "e4167833-b8b6-4c0c-fee3-8c39e94deac8"
      },
      "execution_count": null,
      "outputs": [
        {
          "output_type": "execute_result",
          "data": {
            "text/plain": [
              "['two', 'three', 'four', 'five', 'one']"
            ]
          },
          "metadata": {},
          "execution_count": 61
        }
      ]
    },
    {
      "cell_type": "markdown",
      "source": [
        "## 1.4 기본 자료구조 및 알고리즘\n",
        "1. 스택과 큐\n",
        "2. 연결리스트\n",
        "3. 트리와 그래프\n",
        "    * 3.1 트리 구현\n",
        "    * 3.2 트리의 순회\n",
        "4. 정렬 알고리즘\n",
        "    * 4.1 선택정렬\n",
        "    * 4.2 삽입정렬\n",
        "    * 4.3 병합정렬\n",
        "    * 4.4 퀵정렬\n",
        "5. 페이지 교체 알고리즘\n",
        "6. 슬라이딩 윈도우와 투 포인터 알고리즘\n"
      ],
      "metadata": {
        "id": "wPiU_88pAtTT"
      }
    },
    {
      "cell_type": "markdown",
      "source": [
        "### 1.4.1 스택과 큐\n",
        "* S.top(): 스택의 가장 윗 데이터를 반환한다. 만약 스택이 비었다면 이 연산은 정의불가 상태이다.\n",
        "* S.pop(): 스택의 가장 윗 데이터를 삭제한다. 스택이 비었다면 연산 정의불가 상태.\n",
        "* S.push(): 스택의 가장 윗 데이터로 top이 가리키는 자리 위에(top = top + 1) 메모리를 생성, 데이터 x를 넣는다.\n",
        "* S.empty(): 스택이 비었다면 1을 반환하고,그렇지 않다면 0을 반환한다."
      ],
      "metadata": {
        "id": "JrwaIVyrBy8Y"
      }
    },
    {
      "cell_type": "code",
      "source": [
        "# 연결리스트를 사용하여 구현하는 것이 일반적이지만 \n",
        "# 연결리스트가 다음 챕터에 나오기 때문에 리스트로 구현하도록 하겠습니다.\n",
        "\n",
        "# 연결리스트가 뒤에 배치된 것은 의도한 것입니다. \n",
        "# 쉬운 접근 -> 어려운 접근으로 점진적 부하를 드리기 위함입니다.\n",
        "\n",
        "# https://ko.wikipedia.org/wiki/%EC%8A%A4%ED%83%9D 이러한 모습에 \n",
        "# ADT를(Abstract Data Type, 추상자료형) 구현하면 되는 것입니다.\n",
        "class Stack:\n",
        "    def __init__(self):\n",
        "        self.배열 = []\n",
        "\n",
        "    def push(self, data):\n",
        "        self.배열.append(data)\n",
        "\n",
        "    def pop(self):\n",
        "        return self.배열.pop()\n",
        "\n",
        "    def top(self):\n",
        "        return self.배열[-1]\n",
        "\n",
        "    def bottom(self):\n",
        "        return self.배열[0]\n",
        "\n",
        "    def empty(self):\n",
        "        if not self.배열:\n",
        "            return 1\n",
        "        return 0"
      ],
      "metadata": {
        "id": "6FvjFCLQBxIt"
      },
      "execution_count": null,
      "outputs": []
    },
    {
      "cell_type": "code",
      "source": [
        "s = Stack()\n",
        "s.push(10)\n",
        "s.push(20)\n",
        "s.배열"
      ],
      "metadata": {
        "colab": {
          "base_uri": "https://localhost:8080/"
        },
        "id": "T2YRVNrTOg5l",
        "outputId": "4a42856d-4ef1-470e-9aca-c708743b8dae"
      },
      "execution_count": null,
      "outputs": [
        {
          "output_type": "execute_result",
          "data": {
            "text/plain": [
              "[10, 20]"
            ]
          },
          "metadata": {},
          "execution_count": 63
        }
      ]
    },
    {
      "cell_type": "code",
      "source": [
        "s = Stack()\n",
        "s.push(10)\n",
        "s.push(20)\n",
        "s.push(30)\n",
        "s.push(40)\n",
        "s.push(50)\n",
        "s.push(30)\n",
        "s.push(40)\n",
        "s.pop()\n",
        "s.배열"
      ],
      "metadata": {
        "colab": {
          "base_uri": "https://localhost:8080/"
        },
        "id": "fqfooWxEOpuK",
        "outputId": "f1eb01c6-6ced-4581-b9f1-db5f8dd512e9"
      },
      "execution_count": null,
      "outputs": [
        {
          "output_type": "execute_result",
          "data": {
            "text/plain": [
              "[10, 20, 30, 40, 50, 30]"
            ]
          },
          "metadata": {},
          "execution_count": 64
        }
      ]
    },
    {
      "cell_type": "code",
      "source": [
        "dir(s.배열)"
      ],
      "metadata": {
        "colab": {
          "base_uri": "https://localhost:8080/"
        },
        "id": "5vn5JhZZO-D1",
        "outputId": "a8c053de-ed33-4f46-e929-0f91644adb42"
      },
      "execution_count": null,
      "outputs": [
        {
          "output_type": "execute_result",
          "data": {
            "text/plain": [
              "['__add__',\n",
              " '__class__',\n",
              " '__contains__',\n",
              " '__delattr__',\n",
              " '__delitem__',\n",
              " '__dir__',\n",
              " '__doc__',\n",
              " '__eq__',\n",
              " '__format__',\n",
              " '__ge__',\n",
              " '__getattribute__',\n",
              " '__getitem__',\n",
              " '__gt__',\n",
              " '__hash__',\n",
              " '__iadd__',\n",
              " '__imul__',\n",
              " '__init__',\n",
              " '__init_subclass__',\n",
              " '__iter__',\n",
              " '__le__',\n",
              " '__len__',\n",
              " '__lt__',\n",
              " '__mul__',\n",
              " '__ne__',\n",
              " '__new__',\n",
              " '__reduce__',\n",
              " '__reduce_ex__',\n",
              " '__repr__',\n",
              " '__reversed__',\n",
              " '__rmul__',\n",
              " '__setattr__',\n",
              " '__setitem__',\n",
              " '__sizeof__',\n",
              " '__str__',\n",
              " '__subclasshook__',\n",
              " 'append',\n",
              " 'clear',\n",
              " 'copy',\n",
              " 'count',\n",
              " 'extend',\n",
              " 'index',\n",
              " 'insert',\n",
              " 'pop',\n",
              " 'remove',\n",
              " 'reverse',\n",
              " 'sort']"
            ]
          },
          "metadata": {},
          "execution_count": 65
        }
      ]
    },
    {
      "cell_type": "markdown",
      "source": [
        "### 1.4.2 연결리스트\n",
        "* 연결리스트, 메모리 효율을 위해 사용되는 경우가 많음\n",
        "* 개념 : https://en.wikipedia.org/wiki/Linked_list\n",
        "* 알고리즘 시각화 : https://visualgo.net/ko"
      ],
      "metadata": {
        "id": "bViyUJxRPJfN"
      }
    },
    {
      "cell_type": "code",
      "source": [
        "연결리스트 = {\n",
        "    'head' : {\n",
        "        'value': 22,\n",
        "        'next': {\n",
        "            'value' : 2,\n",
        "            'next' : {\n",
        "                'value' : 90,\n",
        "                'next' : {\n",
        "                    'value' : 77,\n",
        "                    'next' : None\n",
        "                }\n",
        "            }\n",
        "        }\n",
        "    }\n",
        "}"
      ],
      "metadata": {
        "id": "WEWC-lZ7RSKJ"
      },
      "execution_count": null,
      "outputs": []
    },
    {
      "cell_type": "code",
      "source": [
        "# 22 -> 2 -> 90 -> 77"
      ],
      "metadata": {
        "id": "tdoJG1wxSHFH"
      },
      "execution_count": null,
      "outputs": []
    },
    {
      "cell_type": "code",
      "source": [
        "연결리스트['head']['next']['next']['value']"
      ],
      "metadata": {
        "colab": {
          "base_uri": "https://localhost:8080/"
        },
        "id": "NwWaoq2ARF3K",
        "outputId": "799d3604-eda1-444f-98b0-be894cae53c1"
      },
      "execution_count": null,
      "outputs": [
        {
          "output_type": "execute_result",
          "data": {
            "text/plain": [
              "90"
            ]
          },
          "metadata": {},
          "execution_count": 68
        }
      ]
    },
    {
      "cell_type": "markdown",
      "source": [
        "Quiz)\n",
        "* head -> [90, next] -> [2, next] -> [77, next] -> [35, next] -> [21, next] -> None\n",
        "* 35를 출력해주세요."
      ],
      "metadata": {
        "id": "h3bEyP_ZSmb0"
      }
    },
    {
      "cell_type": "code",
      "source": [
        "연결리스트 = {\n",
        "            'head': {\n",
        "                'value': 90,\n",
        "                'next': {\n",
        "                    'value': 2,\n",
        "                    'next': {\n",
        "                        'value': 77,\n",
        "                        'next': {\n",
        "                            'value': 35,\n",
        "                            'next': {\n",
        "                                'value': 21,\n",
        "                                'next': None\n",
        "                            }\n",
        "                        }\n",
        "                    }\n",
        "                }\n",
        "            }\n",
        "        }"
      ],
      "metadata": {
        "id": "Z-FzfsLCSns7"
      },
      "execution_count": null,
      "outputs": []
    },
    {
      "cell_type": "code",
      "source": [
        "연결리스트['head']['next']['next']['next']['value']"
      ],
      "metadata": {
        "colab": {
          "base_uri": "https://localhost:8080/"
        },
        "id": "QiZ1V3acTu8t",
        "outputId": "9b3bca64-5bef-4118-fa2c-c6643ba6324e"
      },
      "execution_count": null,
      "outputs": [
        {
          "output_type": "execute_result",
          "data": {
            "text/plain": [
              "35"
            ]
          },
          "metadata": {},
          "execution_count": 70
        }
      ]
    },
    {
      "cell_type": "code",
      "source": [
        "연결리스트 = {\n",
        "    'head': None\n",
        "}\n",
        "\n",
        "list1 = {'value':12, 'next':None}\n",
        "list2 = {'value':99, 'next':None}\n",
        "list3 = {'value':37, 'next':None}\n",
        "list4 = {'value':2, 'next':None}\n",
        "\n",
        "list1['next'] = list2\n",
        "list2['next'] = list3\n",
        "list3['next'] = list4\n",
        "\n",
        "연결리스트['head'] = list1"
      ],
      "metadata": {
        "id": "WgDXhkiOTwSH"
      },
      "execution_count": null,
      "outputs": []
    },
    {
      "cell_type": "code",
      "source": [
        "연결리스트['head']['next']['value']"
      ],
      "metadata": {
        "colab": {
          "base_uri": "https://localhost:8080/"
        },
        "id": "xwKlBSooUDh7",
        "outputId": "0ef38729-123a-42e7-c6a5-2e4079364fc3"
      },
      "execution_count": null,
      "outputs": [
        {
          "output_type": "execute_result",
          "data": {
            "text/plain": [
              "99"
            ]
          },
          "metadata": {},
          "execution_count": 72
        }
      ]
    },
    {
      "cell_type": "code",
      "source": [
        "# dir(list1)"
      ],
      "metadata": {
        "id": "9EbBRTj6VDBh"
      },
      "execution_count": null,
      "outputs": []
    },
    {
      "cell_type": "code",
      "source": [
        "# step 1\n",
        "class Node:\n",
        "    def __init__(self, a):\n",
        "        print(f'{a}가 입력되어 인스턴스가 생성되었어요!')\n",
        "        self.data = a\n",
        "        self.next = None\n",
        "\n",
        "list1 = Node(12)\n",
        "list2 = Node(99)\n",
        "list3 = Node(37)\n",
        "list4 = Node(2)\n",
        "\n",
        "list1.next = list2\n",
        "list2.next = list3\n",
        "list3.next = list4\n",
        "\n",
        "# dir(list1)"
      ],
      "metadata": {
        "colab": {
          "base_uri": "https://localhost:8080/"
        },
        "id": "Q7LkkJfOUX8G",
        "outputId": "4e9db62b-af80-46d0-f325-8cbc4dd475a9"
      },
      "execution_count": null,
      "outputs": [
        {
          "output_type": "stream",
          "name": "stdout",
          "text": [
            "12가 입력되어 인스턴스가 생성되었어요!\n",
            "99가 입력되어 인스턴스가 생성되었어요!\n",
            "37가 입력되어 인스턴스가 생성되었어요!\n",
            "2가 입력되어 인스턴스가 생성되었어요!\n"
          ]
        }
      ]
    },
    {
      "cell_type": "code",
      "source": [
        "list1.next.next.data"
      ],
      "metadata": {
        "colab": {
          "base_uri": "https://localhost:8080/"
        },
        "id": "7ai0huwhVssU",
        "outputId": "b152708c-4e3b-4c49-c4ca-5636c7c4fe72"
      },
      "execution_count": null,
      "outputs": [
        {
          "output_type": "execute_result",
          "data": {
            "text/plain": [
              "37"
            ]
          },
          "metadata": {},
          "execution_count": 78
        }
      ]
    },
    {
      "cell_type": "code",
      "source": [
        "l = [1, 2, 3, 4]\n",
        "l.sort()"
      ],
      "metadata": {
        "id": "tLlEoeCXVA96"
      },
      "execution_count": null,
      "outputs": []
    },
    {
      "cell_type": "code",
      "source": [
        "# step 2\n",
        "class Node:\n",
        "    def __init__(self, data):\n",
        "        self.data = data\n",
        "        self.next = None\n",
        "\n",
        "# head -> ['init', next]\n",
        "#               ↑ \n",
        "#              tail\n",
        "# head -> ['init', next] -> [90, next]\n",
        "#                               ↑ \n",
        "#                              tail\n",
        "\n",
        "class LinkedList:\n",
        "    def __init__(self):\n",
        "        init = Node('init')\n",
        "        self.head = init\n",
        "        self.tail = init\n",
        "\n",
        "        self.현재노드 = None\n",
        "        self.데이터수 = 0\n",
        "    \n",
        "    def append(self, data):\n",
        "        새로운노드 = Node(data)\n",
        "        self.tail.next = 새로운노드\n",
        "        self.tail = 새로운노드\n",
        "        self.데이터수 += 1"
      ],
      "metadata": {
        "id": "vItjS1QeamST"
      },
      "execution_count": null,
      "outputs": []
    },
    {
      "cell_type": "code",
      "source": [
        "l = LinkedList()\n",
        "l.append(10)\n",
        "l.append(20)\n",
        "l.append(30)\n",
        "l.append(40)\n",
        "l.append(50)\n",
        "l.append(15)"
      ],
      "metadata": {
        "id": "Emk4Kf-gdZOS"
      },
      "execution_count": null,
      "outputs": []
    },
    {
      "cell_type": "code",
      "source": [
        "l.head.data #init\n",
        "l.head.next.data #10\n",
        "l.head.next.next.data #20"
      ],
      "metadata": {
        "colab": {
          "base_uri": "https://localhost:8080/",
          "height": 35
        },
        "id": "Vo9CMrnGdhFu",
        "outputId": "57482a0b-5c6b-48c8-dce3-1e91fe075a01"
      },
      "execution_count": null,
      "outputs": [
        {
          "output_type": "execute_result",
          "data": {
            "text/plain": [
              "'init'"
            ],
            "application/vnd.google.colaboratory.intrinsic+json": {
              "type": "string"
            }
          },
          "metadata": {},
          "execution_count": 87
        }
      ]
    },
    {
      "cell_type": "code",
      "source": [
        "# step 3.1 length 등 기능 구현\n",
        "\n",
        "# step 2\n",
        "class Node:\n",
        "    def __init__(self, data):\n",
        "        self.data = data\n",
        "        self.next = None\n",
        "\n",
        "# head -> ['init', next]\n",
        "#               ↑ \n",
        "#              tail\n",
        "# head -> ['init', next] -> [90, next]\n",
        "#                               ↑ \n",
        "#                              tail\n",
        "\n",
        "class LinkedList:\n",
        "    def __init__(self):\n",
        "        init = Node('init')\n",
        "        self.head = init\n",
        "        self.tail = init\n",
        "\n",
        "        self.현재노드 = None\n",
        "        self.데이터수 = 0\n",
        "\n",
        "    def __len__(self):\n",
        "        return self.데이터수\n",
        "\n",
        "    def __str__(self):\n",
        "        return 'hello world'\n",
        "    \n",
        "    def append(self, data):\n",
        "        새로운노드 = Node(data)\n",
        "        self.tail.next = 새로운노드\n",
        "        self.tail = 새로운노드\n",
        "        self.데이터수 += 1"
      ],
      "metadata": {
        "id": "IpAF7OPXd5w7"
      },
      "execution_count": null,
      "outputs": []
    },
    {
      "cell_type": "code",
      "source": [
        "l = LinkedList()\n",
        "l.append(10)\n",
        "l.append(20)\n",
        "l.append(30)\n",
        "l.append(40)\n",
        "l.append(50)\n",
        "l.append(15)"
      ],
      "metadata": {
        "id": "lfMw-V5GelHM"
      },
      "execution_count": null,
      "outputs": []
    },
    {
      "cell_type": "code",
      "source": [
        "len(l)"
      ],
      "metadata": {
        "colab": {
          "base_uri": "https://localhost:8080/"
        },
        "id": "7KsnyycXenR9",
        "outputId": "7ab80cd6-1ae0-494a-c65d-cff2cf13a2eb"
      },
      "execution_count": null,
      "outputs": [
        {
          "output_type": "execute_result",
          "data": {
            "text/plain": [
              "6"
            ]
          },
          "metadata": {},
          "execution_count": 94
        }
      ]
    },
    {
      "cell_type": "code",
      "source": [
        "print(l)\n",
        "# [10, 20, 30, 40, 50, 15]\n",
        "# <10 -> 20 -> 30 -> 40 -> 50 -> 15>"
      ],
      "metadata": {
        "colab": {
          "base_uri": "https://localhost:8080/"
        },
        "id": "kOwRC9Q8esU5",
        "outputId": "5d0b5704-d0d5-4c3c-f4cc-5a03696e15ba"
      },
      "execution_count": null,
      "outputs": [
        {
          "output_type": "stream",
          "name": "stdout",
          "text": [
            "hello world\n"
          ]
        }
      ]
    },
    {
      "cell_type": "code",
      "source": [
        "# step 3.2 length 등 기능 구현 - __str__구현\n",
        "\n",
        "# step 2\n",
        "class Node:\n",
        "    def __init__(self, data):\n",
        "        self.data = data\n",
        "        self.next = None\n",
        "\n",
        "# head -> ['init', next]\n",
        "#               ↑ \n",
        "#              tail\n",
        "# head -> ['init', next] -> [90, next]\n",
        "#                               ↑ \n",
        "#                              tail\n",
        "\n",
        "class LinkedList:\n",
        "    def __init__(self):\n",
        "        init = Node('init')\n",
        "        self.head = init\n",
        "        self.tail = init\n",
        "\n",
        "        self.현재노드 = None\n",
        "        self.데이터수 = 0\n",
        "\n",
        "    def __len__(self):\n",
        "        return self.데이터수\n",
        "\n",
        "    def __str__(self):\n",
        "        현재노드 = self.head\n",
        "        현재노드 = 현재노드.next\n",
        "        s = ''\n",
        "\n",
        "        for i in range(self.데이터수):\n",
        "            s += f' {현재노드.data} ->'\n",
        "            현재노드 = 현재노드.next\n",
        "\n",
        "        return f'<{s[1:-3]}>'\n",
        "    \n",
        "    def append(self, data):\n",
        "        새로운노드 = Node(data)\n",
        "        self.tail.next = 새로운노드\n",
        "        self.tail = 새로운노드\n",
        "        self.데이터수 += 1"
      ],
      "metadata": {
        "id": "Nr8z3Qebfwdj"
      },
      "execution_count": null,
      "outputs": []
    },
    {
      "cell_type": "code",
      "source": [
        "l = LinkedList()\n",
        "l.append(10)\n",
        "l.append(20)\n",
        "l.append(30)\n",
        "l.append(40)\n",
        "l.append(50)\n",
        "l.append(15)"
      ],
      "metadata": {
        "id": "Ge2KA2WugnqO"
      },
      "execution_count": null,
      "outputs": []
    },
    {
      "cell_type": "code",
      "source": [
        "print(l)\n",
        "# [10, 20, 30, 40, 50, 15]\n",
        "# <10 -> 20 -> 30 -> 40 -> 50 -> 15>"
      ],
      "metadata": {
        "colab": {
          "base_uri": "https://localhost:8080/"
        },
        "id": "ltLc1rJggpO6",
        "outputId": "8567f33b-5101-4b69-f450-e6790822634e"
      },
      "execution_count": null,
      "outputs": [
        {
          "output_type": "stream",
          "name": "stdout",
          "text": [
            "<10 -> 20 -> 30 -> 40 -> 50 -> 15 >\n"
          ]
        }
      ]
    },
    {
      "cell_type": "code",
      "source": [
        "호준 = print\n",
        "호준('hello world')"
      ],
      "metadata": {
        "colab": {
          "base_uri": "https://localhost:8080/"
        },
        "id": "-aYnlTTth00j",
        "outputId": "a18c639d-ed0f-4858-93d7-182de948a232"
      },
      "execution_count": null,
      "outputs": [
        {
          "output_type": "stream",
          "name": "stdout",
          "text": [
            "hello world\n"
          ]
        }
      ]
    },
    {
      "cell_type": "code",
      "source": [
        "# step 3.3 length 등 기능 구현 - 나머지 기능 구현\n",
        "\n",
        "# step 2\n",
        "class Node:\n",
        "    def __init__(self, data):\n",
        "        self.data = data\n",
        "        self.next = None\n",
        "\n",
        "# head -> ['init', next]\n",
        "#               ↑ \n",
        "#              tail\n",
        "# head -> ['init', next] -> [90, next]\n",
        "#                               ↑ \n",
        "#                              tail\n",
        "\n",
        "class LinkedList:\n",
        "    def __init__(self):\n",
        "        init = Node('init')\n",
        "        self.head = init\n",
        "        self.tail = init\n",
        "\n",
        "        self.현재노드 = None\n",
        "        self.데이터수 = 0\n",
        "\n",
        "    def __len__(self):\n",
        "        return self.데이터수\n",
        "\n",
        "    def __str__(self):\n",
        "        현재노드 = self.head\n",
        "        현재노드 = 현재노드.next\n",
        "        s = ''\n",
        "\n",
        "        for i in range(self.데이터수):\n",
        "            s += f' {현재노드.data} ->'\n",
        "            현재노드 = 현재노드.next\n",
        "\n",
        "        return f'<{s[1:-3]}>'\n",
        "    \n",
        "    def append(self, data):\n",
        "        새로운노드 = Node(data)\n",
        "        self.tail.next = 새로운노드\n",
        "        self.tail = 새로운노드\n",
        "        self.데이터수 += 1\n",
        "\n",
        "    def pop(self):\n",
        "        마지막값 = self.tail.data\n",
        "        현재노드 = self.head\n",
        "\n",
        "        for i in range(self.데이터수):\n",
        "            if 현재노드.next is self.tail:\n",
        "                self.tail = 현재노드\n",
        "                break\n",
        "            현재노드 = 현재노드.next\n",
        "\n",
        "        self.데이터수 -= 1\n",
        "        return 마지막값"
      ],
      "metadata": {
        "id": "Z0X1er-ngq_c"
      },
      "execution_count": null,
      "outputs": []
    },
    {
      "cell_type": "markdown",
      "source": [
        "* 과제 1 : 이해가 안되시는 부분은 손으로 직접 써보세요.\n",
        "* 과제 2 : 값의 인덱스를 반환하는 find만 구현을 직접 해보세요. find말고 다른 기능들까지 구현하셔도 좋습니다. shift, unshift, get 등이요!"
      ],
      "metadata": {
        "id": "QpZm6AzWkpLB"
      }
    },
    {
      "cell_type": "code",
      "source": [
        "# 한성민님 과제 코드\n",
        "# 직접 풀어보신 분만 아래 코드를 확인해보세요!\n",
        "class Node:\n",
        "    def __init__(self, data):\n",
        "        self.data = data\n",
        "        self.next = None\n",
        "\n",
        "\n",
        "class SinglyLinkedList:\n",
        "    def __init__(self):\n",
        "        self.head = None\n",
        "        self.tail = None\n",
        "        self.length = 0\n",
        "\n",
        "    def push(self, data):\n",
        "        new_node = Node(data)\n",
        "        if not self.head:\n",
        "            self.head = new_node\n",
        "            self.tail = self.head\n",
        "        else:\n",
        "            self.tail.next = new_node\n",
        "            self.tail = new_node\n",
        "\n",
        "        self.length += 1\n",
        "        return self\n",
        "\n",
        "    def pop(self):\n",
        "        if not self.head:\n",
        "            return None\n",
        "\n",
        "        current = self.head\n",
        "\n",
        "        new_tail = current\n",
        "\n",
        "        while current.next:\n",
        "            new_tail = current\n",
        "            current = current.next\n",
        "\n",
        "        self.tail = new_tail\n",
        "        self.tail.next = None\n",
        "        self.length -= 1\n",
        "        if self.length == 0:\n",
        "            self.head = None\n",
        "            self.tail = None\n",
        "\n",
        "        return current\n",
        "\n",
        "\n",
        "    def shift(self):\n",
        "        if not self.head:\n",
        "            return None\n",
        "        current_head = self.head\n",
        "        self.head = current_head.next\n",
        "        self.length -= 1\n",
        "        if self.length == 0:\n",
        "            self.tail = None\n",
        "\n",
        "        return current_head\n",
        "\n",
        "    def unshift(self, data):\n",
        "        new_node = Node(data)\n",
        "        if not self.head:\n",
        "            self.head = new_node\n",
        "            self.tail = self.head\n",
        "\n",
        "        new_node.next = self.head\n",
        "        self.head = new_node\n",
        "        self.length += 1\n",
        "        return self\n",
        "\n",
        "    def get(self, index):\n",
        "        if index < 0 | index >= self.length:\n",
        "            return None\n",
        "        counter = 0\n",
        "        current = self.head\n",
        "        while counter != index:\n",
        "            current = current.next\n",
        "            counter += 1\n",
        "        return current\n",
        "\n",
        "    def set_data(self, index, data):\n",
        "        foundNode = self.get(index)\n",
        "        if foundNode:\n",
        "            foundNode.data = data\n",
        "            return True\n",
        "\n",
        "        return False\n",
        "\n",
        "    def insert(self, index, data):\n",
        "        if index < 0 | index > self.length:\n",
        "            return False\n",
        "        if index == self.length:\n",
        "            return bool(self.push(data))\n",
        "        if index == 0:\n",
        "            return bool(self.unshift(data))\n",
        "\n",
        "        new_node = Node(data)\n",
        "        prev = self.get(index - 1)\n",
        "        temp = prev.next\n",
        "        prev.next = new_node\n",
        "        new_node.next = temp\n",
        "        self.length += 1\n",
        "        return True\n",
        "\n",
        "    def remove(self, index):\n",
        "        if index < 0 | index >= self.length:\n",
        "            return None\n",
        "        if index == 0:\n",
        "            return self.shift()\n",
        "        if index == self.length - 1:\n",
        "            return self.pop()\n",
        "\n",
        "        previousNode = self.get(index - 1)\n",
        "        removed = previousNode.next\n",
        "        previousNode.next = removed.next\n",
        "        self.length -= 1\n",
        "        return removed\n",
        "\n",
        "    def reverse(self):\n",
        "        node = self.head\n",
        "        self.head = self.tail\n",
        "        self.tail = node\n",
        "        prev = None\n",
        "        for _ in range(self.length):\n",
        "            next = node.next\n",
        "            node.next = prev\n",
        "            prev = node\n",
        "            node = next\n",
        "\n",
        "        return self\n",
        "\n",
        "    def print_all(self):\n",
        "        arr = []\n",
        "        current = self.head\n",
        "        while current:\n",
        "            arr.append(current.data)\n",
        "            current = current.next\n",
        "        print(arr)\n",
        "\n",
        "\n",
        "arr = SinglyLinkedList()\n",
        "arr.push(100)\n",
        "arr.push(201)\n",
        "arr.push(250)\n",
        "arr.push(350)\n",
        "arr.push(999)\n",
        "arr.insert(1, 12313)\n",
        "arr.reverse()\n",
        "arr.print_all()\n",
        "\n",
        "# [999, 350, 250, 201, 12313, 100]"
      ],
      "metadata": {
        "id": "utTM8rwLnTHf",
        "outputId": "cc9641c4-aac2-43da-e7c1-4d1ff94fd628",
        "colab": {
          "base_uri": "https://localhost:8080/"
        }
      },
      "execution_count": null,
      "outputs": [
        {
          "output_type": "stream",
          "name": "stdout",
          "text": [
            "[999, 350, 250, 201, 12313, 100]\n"
          ]
        }
      ]
    },
    {
      "cell_type": "code",
      "source": [
        "# __str__ 에 대한 고찰\n",
        "\n",
        "class Node:\n",
        "    def __init__(self, data):\n",
        "        self.data = data\n",
        "        self.next = None\n",
        "\n",
        "class LinkedList:\n",
        "    def __init__(self):\n",
        "        init = Node('init')\n",
        "        self.head = init\n",
        "        self.tail = init\n",
        "\n",
        "        self.현재노드 = None\n",
        "        self.데이터수 = 0\n",
        "        self.출력 = ''\n",
        "\n",
        "    def __str__(self):\n",
        "        # 현재노드 = self.head\n",
        "        # 현재노드 = 현재노드.next\n",
        "        # s = ''\n",
        "\n",
        "        # for i in range(self.데이터수):\n",
        "        #     s += f' {현재노드.data} ->'\n",
        "        #     현재노드 = 현재노드.next\n",
        "\n",
        "        return self.출력"
      ],
      "metadata": {
        "id": "Xz50ESHoRIMq"
      },
      "execution_count": null,
      "outputs": []
    },
    {
      "cell_type": "code",
      "source": [
        "# 더블 링크드 리스트\n",
        "double_linked_list = {\n",
        "    'head': None\n",
        "}\n",
        "\n",
        "list1 = {'value': 12, 'next': None, 'pre': None}\n",
        "list2 = {'value': 99, 'next': None, 'pre': None}\n",
        "list3 = {'value': 37, 'next': None, 'pre': None}\n",
        "list4 = {'value': 2, 'next': None, 'pre': None}\n",
        "double_linked_list['head'] = list1\n",
        "list1['next'] = list2\n",
        "list2['next'] = list3\n",
        "list3['next'] = list4\n",
        "list1['pre'] = double_linked_list\n",
        "list2['pre'] = list1\n",
        "list3['pre'] = list2\n",
        "list4['pre'] = list3"
      ],
      "metadata": {
        "id": "SHnwLulCJQGE"
      },
      "execution_count": 91,
      "outputs": []
    },
    {
      "cell_type": "code",
      "source": [
        "double_linked_list['head']['next']['next']['value']\n",
        "double_linked_list['head']['next']['next']['pre']['value']"
      ],
      "metadata": {
        "colab": {
          "base_uri": "https://localhost:8080/"
        },
        "id": "CgeptAY6LeBq",
        "outputId": "b32a827f-3c54-42bc-a9fa-7f316bd9ef4b"
      },
      "execution_count": 90,
      "outputs": [
        {
          "output_type": "execute_result",
          "data": {
            "text/plain": [
              "99"
            ]
          },
          "metadata": {},
          "execution_count": 90
        }
      ]
    },
    {
      "cell_type": "code",
      "source": [
        "# step 1\n",
        "class Node:\n",
        "    def __init__(self, data):\n",
        "        self.data = data\n",
        "        self.next = None\n",
        "        self.pre = None\n",
        "\n",
        "list1 = Node(12)\n",
        "list2 = Node(99)\n",
        "list3 = Node(37)\n",
        "list4 = Node(2)\n",
        "\n",
        "list1.next = list2\n",
        "list2.next = list3\n",
        "list3.next = list4\n",
        "\n",
        "list2.pre = list1\n",
        "list3.pre = list2\n",
        "list4.pre = list3"
      ],
      "metadata": {
        "id": "wR-Xysb5MhEo"
      },
      "execution_count": 92,
      "outputs": []
    },
    {
      "cell_type": "code",
      "source": [
        "list1.next.next.data\n",
        "list1.next.next.pre.data"
      ],
      "metadata": {
        "colab": {
          "base_uri": "https://localhost:8080/"
        },
        "id": "6FJhjpcbP2-Q",
        "outputId": "b5019aa8-c4ee-41c0-c169-ace14a06d570"
      },
      "execution_count": 94,
      "outputs": [
        {
          "output_type": "execute_result",
          "data": {
            "text/plain": [
              "99"
            ]
          },
          "metadata": {},
          "execution_count": 94
        }
      ]
    },
    {
      "cell_type": "code",
      "source": [
        "# step 2\n",
        "class Node:\n",
        "    def __init__(self, data):\n",
        "        self.data = data\n",
        "        self.next = None\n",
        "        self.pre = None\n",
        "\n",
        "class DoubleLinkedList:\n",
        "    def __init__(self):\n",
        "        init = Node('init')\n",
        "        self.head = init\n",
        "        self.tail = init\n",
        "\n",
        "        self.현재노드 = None\n",
        "        self.데이터수 = 0\n",
        "    \n",
        "    def append(self, data):\n",
        "        new_node = Node(data)\n",
        "        self.tail.next = new_node\n",
        "        new_node.pre = self.tail # 코드 추가\n",
        "        self.tail = new_node\n",
        "        self.데이터수 += 1\n",
        "\n",
        "    # ... 중략 ..."
      ],
      "metadata": {
        "id": "093Aw92_QFV3"
      },
      "execution_count": null,
      "outputs": []
    },
    {
      "cell_type": "markdown",
      "source": [
        "## 1.4.3 트리와 그래프"
      ],
      "metadata": {
        "id": "lXLxDSRqQ5ON"
      }
    },
    {
      "cell_type": "markdown",
      "source": [
        "### 1.4.3.1 트리 구현\n",
        "* 트리의 기본 형태\n",
        "    * value\n",
        "    * child - left\n",
        "    * child - right"
      ],
      "metadata": {
        "id": "oel3uDHqTQQS"
      }
    },
    {
      "cell_type": "code",
      "source": [
        "'value': 5,\n",
        "        'left': {},\n",
        "        'right': {}"
      ],
      "metadata": {
        "id": "yOdYbY7wUKMc"
      },
      "execution_count": null,
      "outputs": []
    },
    {
      "cell_type": "code",
      "source": [
        "tree = {\n",
        "    'root': {\n",
        "        'value': 5,\n",
        "        'left': {\n",
        "            'value': 3,\n",
        "            'left': {\n",
        "                'value': 1,\n",
        "                'left': None,\n",
        "                'right': None\n",
        "            },\n",
        "            'right': {\n",
        "                'value': 4,\n",
        "                'left': None,\n",
        "                'right': None\n",
        "            }\n",
        "        },\n",
        "        'right': {\n",
        "            'value': 8,\n",
        "            'left': {\n",
        "                'value': 6,\n",
        "                'left': None,\n",
        "                'right': None\n",
        "            },\n",
        "            'right': {\n",
        "                'value': 9,\n",
        "                'left': None,\n",
        "                'right': None\n",
        "            }\n",
        "        }\n",
        "    }\n",
        "}"
      ],
      "metadata": {
        "id": "6kJ0DVH-Q3vI"
      },
      "execution_count": 95,
      "outputs": []
    },
    {
      "cell_type": "code",
      "source": [
        "tree\n",
        "tree['root']['value']\n",
        "tree['root']['right']['value']"
      ],
      "metadata": {
        "colab": {
          "base_uri": "https://localhost:8080/"
        },
        "id": "FosZ0UJoVquE",
        "outputId": "594be805-8711-4c7f-cffd-33c78286bed5"
      },
      "execution_count": 99,
      "outputs": [
        {
          "output_type": "execute_result",
          "data": {
            "text/plain": [
              "8"
            ]
          },
          "metadata": {},
          "execution_count": 99
        }
      ]
    },
    {
      "cell_type": "code",
      "source": [
        "tree = {\n",
        "    'root' : {\n",
        "        'value' : 55,\n",
        "        'left' : {\n",
        "            'value': 30,\n",
        "            'left': {\n",
        "                'value': 25,\n",
        "                'left': {\n",
        "                    'value': 21,\n",
        "                    'left': None,\n",
        "                    'right': None,\n",
        "                },\n",
        "                'right': None\n",
        "            },\n",
        "            'right': {\n",
        "                'value': 37,\n",
        "                'left': None,\n",
        "                'right': None\n",
        "            },\n",
        "        },\n",
        "        'right' : {\n",
        "            'value': 70,\n",
        "            'left': {\n",
        "                'value': 75,\n",
        "                'left': None,\n",
        "                'right': None\n",
        "            },\n",
        "            'right': {\n",
        "                'value': 77,\n",
        "                'left': None,\n",
        "                'right': {\n",
        "                    'value': 80,\n",
        "                    'left': None,\n",
        "                    'right': None,\n",
        "                }\n",
        "            },\n",
        "        },\n",
        "    }\n",
        "}"
      ],
      "metadata": {
        "id": "PS7P2JoRVur9"
      },
      "execution_count": 101,
      "outputs": []
    },
    {
      "cell_type": "code",
      "source": [
        "tree\n",
        "tree['root']['value']\n",
        "tree['root']['right']['value']\n",
        "tree['root']['left']['left']['value']"
      ],
      "metadata": {
        "colab": {
          "base_uri": "https://localhost:8080/"
        },
        "id": "_7QgvwgdYsgW",
        "outputId": "e482d12a-2e0e-4bfe-b83b-47b254c20963"
      },
      "execution_count": 102,
      "outputs": [
        {
          "output_type": "execute_result",
          "data": {
            "text/plain": [
              "25"
            ]
          },
          "metadata": {},
          "execution_count": 102
        }
      ]
    },
    {
      "cell_type": "markdown",
      "source": [
        "### 1.4.3.2 트리의 순회\n",
        "object나 array(기존 자료형)로 tree나 linked list를 구현할 수 있는데 왜 class로 구현할까요?\n",
        "\n",
        "* 더 lite한 모델을 만들기 위해\n",
        "* 확장성\n",
        "* OOP(Object-Oriented Programming, 객체 지향 프로그래밍)에 철학에 맞기 때문에"
      ],
      "metadata": {
        "id": "GUVgPpOnZS37"
      }
    },
    {
      "cell_type": "code",
      "source": [
        "root = {\n",
        "    'value': 55,\n",
        "    'left': None,\n",
        "    'right': None\n",
        "}\n",
        "\n",
        "node1 = {'value': 99, 'left': None, 'right': None}\n",
        "node2 = {'value': 53, 'left': None, 'right': None}\n",
        "node3 = {'value': 37, 'left': None, 'right': None}\n",
        "node4 = {'value': 54, 'left': None, 'right': None}\n",
        "\n",
        "root['left'] = node2\n",
        "root['right'] = node1\n",
        "node2['left'] = node3\n",
        "node2['right'] = node4"
      ],
      "metadata": {
        "id": "KjA-5doWZEPj"
      },
      "execution_count": 103,
      "outputs": []
    },
    {
      "cell_type": "code",
      "source": [
        "root['value']\n",
        "root['left']['value']\n",
        "root['right']['value']\n",
        "root['left']['left']['value']"
      ],
      "metadata": {
        "colab": {
          "base_uri": "https://localhost:8080/"
        },
        "id": "w7sU9cu9dwkz",
        "outputId": "3cb15b64-5bc2-4164-d9ab-9812445274b2"
      },
      "execution_count": 108,
      "outputs": [
        {
          "output_type": "execute_result",
          "data": {
            "text/plain": [
              "37"
            ]
          },
          "metadata": {},
          "execution_count": 108
        }
      ]
    },
    {
      "cell_type": "code",
      "source": [
        "# step 1\n",
        "\n",
        "class Node:\n",
        "    def __init__(self, data):\n",
        "        self.data = data\n",
        "        # self.child = [] 2진 트리가 아닌 경우 child를 사용할 수 있습니다.\n",
        "        self.left = None\n",
        "        self.right = None\n",
        "\n",
        "node1 = Node(55)\n",
        "node2 = Node(99)\n",
        "node3 = Node(53)\n",
        "node4 = Node(37)\n",
        "node5 = Node(54)\n",
        "\n",
        "node1.left = node3\n",
        "node1.right = node2\n",
        "node3.left = node4\n",
        "node3.right = node5"
      ],
      "metadata": {
        "id": "FLgiM36EeHEZ"
      },
      "execution_count": 109,
      "outputs": []
    },
    {
      "cell_type": "code",
      "source": [
        "node1.data\n",
        "node1.right.data\n",
        "node1.left.left.data"
      ],
      "metadata": {
        "colab": {
          "base_uri": "https://localhost:8080/"
        },
        "id": "Iqu5JST6flkA",
        "outputId": "7aaa1514-e0ad-4596-c081-8df4d388b2d9"
      },
      "execution_count": 112,
      "outputs": [
        {
          "output_type": "execute_result",
          "data": {
            "text/plain": [
              "37"
            ]
          },
          "metadata": {},
          "execution_count": 112
        }
      ]
    },
    {
      "cell_type": "code",
      "source": [
        "# step 2\n",
        "\n",
        "class Node:\n",
        "    def __init__(self, data):\n",
        "        self.data = data\n",
        "        self.left = None\n",
        "        self.right = None\n",
        "\n",
        "class Tree:\n",
        "    def __init__(self, data):\n",
        "        init = Node(data)\n",
        "        self.root = init\n",
        "        self.length = 0\n",
        "\n",
        "    def length(self):\n",
        "        return self.length\n",
        "\n",
        "    def insert(self, data):\n",
        "        new_node = Node(data)\n",
        "        curr_node = self.root\n",
        "\n",
        "        while(curr_node):\n",
        "            if data == curr_node.data:\n",
        "                # 값이 같으면 추가시켜주지 않습니다.\n",
        "                return\n",
        "            if data < curr_node.data:\n",
        "                # 들어온 데이터가 작은 경우 왼쪽에 붙어야 합니다.\n",
        "                # 해당 데이터 부분이 비어있으면 데이터를 넣고, 비어있지 않으면 계속 순회\n",
        "                if not curr_node.left:\n",
        "                    curr_node.left = new_node\n",
        "                    self.length += 1\n",
        "                    return\n",
        "                curr_node = curr_node.left\n",
        "            if data > curr_node.data:\n",
        "                # 들어온 데이터가 큰 경우 오른쪽에 붙어야 합니다.\n",
        "                # 해당 데이터 부분이 비어있으면 데이터를 넣고, 비어있지 않으면 계속 순회\n",
        "                if not curr_node.right:\n",
        "                    curr_node.right = new_node\n",
        "                    self.length += 1\n",
        "                    return\n",
        "                curr_node = curr_node.right\n",
        "    \n",
        "t = Tree(5)\n",
        "t.insert(3)\n",
        "t.insert(8)\n",
        "t.insert(1)\n",
        "t.insert(4)\n",
        "t.insert(6)\n",
        "t.insert(9)"
      ],
      "metadata": {
        "id": "avu95Aw3f35Q"
      },
      "execution_count": 114,
      "outputs": []
    },
    {
      "cell_type": "code",
      "source": [
        "t.root.data\n",
        "t.root.left.data\n",
        "t.root.left.right.data"
      ],
      "metadata": {
        "colab": {
          "base_uri": "https://localhost:8080/"
        },
        "id": "j2lGM7VAjfvC",
        "outputId": "fd01f3e1-27b6-45dd-bce2-dddafcd55c29"
      },
      "execution_count": 120,
      "outputs": [
        {
          "output_type": "execute_result",
          "data": {
            "text/plain": [
              "4"
            ]
          },
          "metadata": {},
          "execution_count": 120
        }
      ]
    },
    {
      "cell_type": "code",
      "source": [
        "# step 3 깊이 우선 탐색, 너비 우선 탐색 구현\n",
        "\n",
        "class Node:\n",
        "    def __init__(self, data):\n",
        "        self.data = data\n",
        "        self.left = None\n",
        "        self.right = None\n",
        "\n",
        "class Tree:\n",
        "    def __init__(self, data):\n",
        "        init = Node(data)\n",
        "        self.root = init\n",
        "        self.length = 0\n",
        "\n",
        "    def length(self):\n",
        "        return self.length\n",
        "\n",
        "    def insert(self, data):\n",
        "        new_node = Node(data)\n",
        "        curr_node = self.root\n",
        "\n",
        "        while(curr_node):\n",
        "            if data == curr_node.data:\n",
        "                # 값이 같으면 추가시켜주지 않습니다.\n",
        "                return\n",
        "            if data < curr_node.data:\n",
        "                # 들어온 데이터가 작은 경우 왼쪽에 붙어야 합니다.\n",
        "                # 해당 데이터 부분이 비어있으면 데이터를 넣고, 비어있지 않으면 계속 순회\n",
        "                if not curr_node.left:\n",
        "                    curr_node.left = new_node\n",
        "                    self.length += 1\n",
        "                    return\n",
        "                curr_node = curr_node.left\n",
        "            if data > curr_node.data:\n",
        "                # 들어온 데이터가 큰 경우 오른쪽에 붙어야 합니다.\n",
        "                # 해당 데이터 부분이 비어있으면 데이터를 넣고, 비어있지 않으면 계속 순회\n",
        "                if not curr_node.right:\n",
        "                    curr_node.right = new_node\n",
        "                    self.length += 1\n",
        "                    return\n",
        "                curr_node = curr_node.right\n",
        "\n",
        "    # 깊스너큐(깊이우선 탐색은 스택, 너비우선 탐색은 큐)\n",
        "    # 파선아실(파라미터-선언, 아규먼트-실행)\n",
        "    def DFS(self):\n",
        "        # 깊이우선탐색, DFS(Depth First Search)\n",
        "        # Stack 이용!\n",
        "        result = []\n",
        "        stack = [self.root]\n",
        "\n",
        "        while stack:\n",
        "            current = stack.pop()\n",
        "            if current.right:\n",
        "                stack.append(current.right)\n",
        "            if current.left:\n",
        "                stack.append(current.left)\n",
        "            result.append(current.data)\n",
        "        return result\n",
        "\n",
        "t = Tree(5)\n",
        "t.insert(3)\n",
        "t.insert(8)\n",
        "t.insert(1)\n",
        "t.insert(4)\n",
        "t.insert(6)\n",
        "t.insert(9)\n",
        "\n",
        "t.DFS()"
      ],
      "metadata": {
        "colab": {
          "base_uri": "https://localhost:8080/"
        },
        "id": "VOQVI_T3kAvW",
        "outputId": "269b5fdf-08f8-4e97-9d33-ec1eba6c7323"
      },
      "execution_count": 123,
      "outputs": [
        {
          "output_type": "execute_result",
          "data": {
            "text/plain": [
              "[5, 3, 1, 4, 8, 6, 9]"
            ]
          },
          "metadata": {},
          "execution_count": 123
        }
      ]
    },
    {
      "cell_type": "code",
      "source": [
        "# step 3 깊이 우선 탐색, 너비 우선 탐색 구현\n",
        "\n",
        "class Node:\n",
        "    def __init__(self, data):\n",
        "        self.data = data\n",
        "        self.left = None\n",
        "        self.right = None\n",
        "\n",
        "class Tree:\n",
        "    def __init__(self, data):\n",
        "        init = Node(data)\n",
        "        self.root = init\n",
        "        self.length = 0\n",
        "\n",
        "    def length(self):\n",
        "        return self.length\n",
        "\n",
        "    def insert(self, data):\n",
        "        new_node = Node(data)\n",
        "        curr_node = self.root\n",
        "\n",
        "        while(curr_node):\n",
        "            if data == curr_node.data:\n",
        "                # 값이 같으면 추가시켜주지 않습니다.\n",
        "                return\n",
        "            if data < curr_node.data:\n",
        "                # 들어온 데이터가 작은 경우 왼쪽에 붙어야 합니다.\n",
        "                # 해당 데이터 부분이 비어있으면 데이터를 넣고, 비어있지 않으면 계속 순회\n",
        "                if not curr_node.left:\n",
        "                    curr_node.left = new_node\n",
        "                    self.length += 1\n",
        "                    return\n",
        "                curr_node = curr_node.left\n",
        "            if data > curr_node.data:\n",
        "                # 들어온 데이터가 큰 경우 오른쪽에 붙어야 합니다.\n",
        "                # 해당 데이터 부분이 비어있으면 데이터를 넣고, 비어있지 않으면 계속 순회\n",
        "                if not curr_node.right:\n",
        "                    curr_node.right = new_node\n",
        "                    self.length += 1\n",
        "                    return\n",
        "                curr_node = curr_node.right\n",
        "\n",
        "    # 깊스너큐(깊이우선 탐색은 스택, 너비우선 탐색은 큐)\n",
        "    # 파선아실(파라미터-선언, 아규먼트-실행)\n",
        "    def DFS(self):\n",
        "        # 깊이우선탐색, DFS(Depth First Search)\n",
        "        # Stack 이용!\n",
        "        result = []\n",
        "        stack = [self.root]\n",
        "\n",
        "        while stack:\n",
        "            current = stack.pop()\n",
        "            if current.right:\n",
        "                stack.append(current.right)\n",
        "            if current.left:\n",
        "                stack.append(current.left)\n",
        "            result.append(current.data)\n",
        "        return result\n",
        "\n",
        "    def BFS(self):\n",
        "        # 너비우선탐색, BFS(Breadth First Search)\n",
        "        # Queue 이용!\n",
        "        result = []\n",
        "        queue = [self.root]\n",
        "\n",
        "        while queue:\n",
        "            current = queue.pop(0)\n",
        "            if current.left:\n",
        "                queue.append(current.left)\n",
        "            if current.right:\n",
        "                queue.append(current.right)\n",
        "            result.append(current.data)\n",
        "        return result\n",
        "\n",
        "t = Tree(5)\n",
        "t.insert(3)\n",
        "t.insert(8)\n",
        "t.insert(1)\n",
        "t.insert(4)\n",
        "t.insert(6)\n",
        "t.insert(9)\n",
        "\n",
        "t.DFS()\n",
        "t.BFS()"
      ],
      "metadata": {
        "colab": {
          "base_uri": "https://localhost:8080/"
        },
        "id": "wQGT9bzumVvx",
        "outputId": "1880378b-3b1b-4ad1-a853-c7455df0feb2"
      },
      "execution_count": 125,
      "outputs": [
        {
          "output_type": "execute_result",
          "data": {
            "text/plain": [
              "[5, 3, 8, 1, 4, 6, 9]"
            ]
          },
          "metadata": {},
          "execution_count": 125
        }
      ]
    },
    {
      "cell_type": "markdown",
      "source": [
        "## 1.5 재귀함수"
      ],
      "metadata": {
        "id": "nO1muRzzR-Z-"
      }
    },
    {
      "cell_type": "code",
      "source": [
        "# 회문은 글자의 앞 뒤가 같은 문자열\n",
        "# 큐와 스택을 이용한 회문여부 판별\n",
        "def palindrome(string):\n",
        "    queue = []\n",
        "    stack = []\n",
        "\n",
        "    for s in string:\n",
        "        if s.isalpha():\n",
        "            queue.append(s.lower())\n",
        "            stack.append(s.lower())\n",
        "\n",
        "    while queue:\n",
        "        if queue.pop(0) != stack.pop():\n",
        "            return False\n",
        "        \n",
        "    return True\n",
        "\n",
        "palindrome('hello world')\n",
        "palindrome('hello')\n",
        "palindrome('heleh')\n",
        "palindrome('오디오')"
      ],
      "metadata": {
        "colab": {
          "base_uri": "https://localhost:8080/"
        },
        "id": "ZPS0ixSRSDWx",
        "outputId": "76615c70-5063-427f-d5b9-7f8d85f9542f"
      },
      "execution_count": 6,
      "outputs": [
        {
          "output_type": "execute_result",
          "data": {
            "text/plain": [
              "True"
            ]
          },
          "metadata": {},
          "execution_count": 6
        }
      ]
    },
    {
      "cell_type": "code",
      "source": [
        "dir('hello world') # 메소드 전부 알고 있으셔야 합니다!"
      ],
      "metadata": {
        "id": "Y7XuS0LJTrIo"
      },
      "execution_count": null,
      "outputs": []
    },
    {
      "cell_type": "code",
      "source": [
        "# 재귀함수를 이용한 회문여부 판별\n",
        "def palindrome(string):\n",
        "    if len(string) < 2:\n",
        "        return True\n",
        "    if string[0] != string[-1]:\n",
        "        return False\n",
        "    return palindrome(string[1:-1])\n",
        "\n",
        "palindrome('hello world')\n",
        "palindrome('hello')\n",
        "palindrome('heleh')\n",
        "palindrome('오디오')"
      ],
      "metadata": {
        "colab": {
          "base_uri": "https://localhost:8080/"
        },
        "id": "UlmQuCi3U3KF",
        "outputId": "4607ea73-e4e6-4aac-c924-767561352fb0"
      },
      "execution_count": 7,
      "outputs": [
        {
          "output_type": "execute_result",
          "data": {
            "text/plain": [
              "True"
            ]
          },
          "metadata": {},
          "execution_count": 7
        }
      ]
    },
    {
      "cell_type": "markdown",
      "source": [
        "* dict 순서는 3.7 이상에서 보장"
      ],
      "metadata": {
        "id": "ZDLDV7U7wnQC"
      }
    },
    {
      "cell_type": "code",
      "source": [
        "{'one':100, 'two':10, 'three':52}"
      ],
      "metadata": {
        "colab": {
          "base_uri": "https://localhost:8080/"
        },
        "id": "hfj8HDmdwm51",
        "outputId": "98991d83-23f5-4741-d3e9-8f6a860486ef"
      },
      "execution_count": 58,
      "outputs": [
        {
          "output_type": "execute_result",
          "data": {
            "text/plain": [
              "{'one': 100, 'three': 52, 'two': 10}"
            ]
          },
          "metadata": {},
          "execution_count": 58
        }
      ]
    },
    {
      "cell_type": "code",
      "source": [
        "print({'one':100, 'two':10, 'three':52})"
      ],
      "metadata": {
        "colab": {
          "base_uri": "https://localhost:8080/"
        },
        "id": "R_L7PIDF-keI",
        "outputId": "af33d1de-8f79-4bab-e2ed-fc3328ebb427"
      },
      "execution_count": 59,
      "outputs": [
        {
          "output_type": "stream",
          "name": "stdout",
          "text": [
            "{'one': 100, 'two': 10, 'three': 52}\n"
          ]
        }
      ]
    },
    {
      "cell_type": "markdown",
      "source": [
        "* python에 3.5에서 추가된 type hint는 코드리뷰를 엄격하게 하는 회사에서 많이 사용합니다.(실무에서 많이 사용하는 추세입니다.)"
      ],
      "metadata": {
        "id": "BNxRbea1vxee"
      }
    },
    {
      "cell_type": "code",
      "source": [
        "import re\n",
        "\n",
        "# 재귀함수를 이용한 회문여부 판별\n",
        "def palindrome(string):\n",
        "    string = list(string)\n",
        "    while len(string) >= 2:\n",
        "        if string.pop(0) != string.pop():\n",
        "            return False\n",
        "    return True\n",
        "\n",
        "def remove_garbage_value(s:str) -> str:\n",
        "    s = s.lower()\n",
        "    s = re.sub('[0-9 ]', '', s)\n",
        "    return s\n",
        "\n",
        "palindrome(remove_garbage_value('hello world'))\n",
        "palindrome(remove_garbage_value('helleh'))\n",
        "palindrome(remove_garbage_value('hel123131313131231231231231239859696969leh'))\n",
        "palindrome(remove_garbage_value('helleh'))\n",
        "palindrome(remove_garbage_value('heleh'))"
      ],
      "metadata": {
        "colab": {
          "base_uri": "https://localhost:8080/"
        },
        "id": "sNp7x11dvfA3",
        "outputId": "caa8e82f-df51-4d0b-a837-9457c1ee2019"
      },
      "execution_count": 77,
      "outputs": [
        {
          "output_type": "execute_result",
          "data": {
            "text/plain": [
              "True"
            ]
          },
          "metadata": {},
          "execution_count": 77
        }
      ]
    },
    {
      "cell_type": "code",
      "source": [
        "import re\n",
        "\n",
        "def remove_garbage_value(f):\n",
        "    def wrapper(s):\n",
        "        s = s.lower()\n",
        "        s = re.sub('[0-9 ]', '', s)\n",
        "        return f(s)\n",
        "    return wrapper\n",
        "\n",
        "@remove_garbage_value\n",
        "def palindrome(string):\n",
        "    string = list(string)\n",
        "    while len(string) >= 2:\n",
        "        if string.pop(0) != string.pop():\n",
        "            return False\n",
        "    return True\n",
        "\n",
        "palindrome('hello world')\n",
        "palindrome('helleh')\n",
        "palindrome('hel123131313131231231231231239859696969leh')\n",
        "palindrome('helleh')\n",
        "palindrome('heleh')"
      ],
      "metadata": {
        "colab": {
          "base_uri": "https://localhost:8080/"
        },
        "id": "o9V8yxDKFpMY",
        "outputId": "a4eccc9e-d6f0-4fa0-e42f-864a5772e510"
      },
      "execution_count": 78,
      "outputs": [
        {
          "output_type": "execute_result",
          "data": {
            "text/plain": [
              "True"
            ]
          },
          "metadata": {},
          "execution_count": 78
        }
      ]
    },
    {
      "cell_type": "code",
      "source": [
        "# step1 : 반복문\n",
        "# step2 : 재귀함수\n",
        "# step3 : 어려운 방법으로 풀이(피보나치)"
      ],
      "metadata": {
        "id": "42iKKxntVdeQ"
      },
      "execution_count": null,
      "outputs": []
    },
    {
      "cell_type": "code",
      "source": [
        "# 팩토리얼 5!\n",
        "\n",
        "result = 1\n",
        "for i in range(1, 6): # 1부터 5까지\n",
        "    result *= i\n",
        "\n",
        "result"
      ],
      "metadata": {
        "colab": {
          "base_uri": "https://localhost:8080/"
        },
        "id": "dVD2eBeWYkjh",
        "outputId": "db2d3d10-83ac-42a7-9093-2da8f958c4a1"
      },
      "execution_count": 9,
      "outputs": [
        {
          "output_type": "execute_result",
          "data": {
            "text/plain": [
              "120"
            ]
          },
          "metadata": {},
          "execution_count": 9
        }
      ]
    },
    {
      "cell_type": "code",
      "source": [
        "def factorial(number):\n",
        "    result = 1\n",
        "    for i in range(1, number+1):\n",
        "        result *= i\n",
        "\n",
        "    return result\n",
        "\n",
        "factorial(5)"
      ],
      "metadata": {
        "colab": {
          "base_uri": "https://localhost:8080/"
        },
        "id": "zrpAFqrGZJye",
        "outputId": "da1b4b2a-964a-4523-e836-1ecc2c081340"
      },
      "execution_count": 10,
      "outputs": [
        {
          "output_type": "execute_result",
          "data": {
            "text/plain": [
              "120"
            ]
          },
          "metadata": {},
          "execution_count": 10
        }
      ]
    },
    {
      "cell_type": "code",
      "source": [
        "def factorial(number):\n",
        "    if number > 1:\n",
        "        return number * factorial(number - 1)\n",
        "    return 1\n",
        "\n",
        "factorial(5)\n",
        "\n",
        "# factorial(5)   ->   5   factorial(4)   ->   5 * 24\n",
        "# factorial(4)   ->   4   factorial(3)   ->   4 * 6\n",
        "# factorial(3)   ->   3   factorial(2)   ->   3 * 2\n",
        "# factorial(2)   ->   2   factorial(1)   ->   2 * 1\n",
        "# factorial(1)   ->   1"
      ],
      "metadata": {
        "colab": {
          "base_uri": "https://localhost:8080/"
        },
        "id": "ukBQQ7NlZk5e",
        "outputId": "a7260051-b7db-44e9-a30f-80a39e403c4f"
      },
      "execution_count": 11,
      "outputs": [
        {
          "output_type": "execute_result",
          "data": {
            "text/plain": [
              "120"
            ]
          },
          "metadata": {},
          "execution_count": 11
        }
      ]
    },
    {
      "cell_type": "code",
      "source": [
        "# 무한반복\n",
        "while True:\n",
        "    break\n",
        "\n",
        "l = [1]\n",
        "for x in l:\n",
        "    l.append(x + 1)\n",
        "    break"
      ],
      "metadata": {
        "id": "yka2lDjJa_3w"
      },
      "execution_count": 12,
      "outputs": []
    },
    {
      "cell_type": "code",
      "source": [
        "def console():\n",
        "    userInput = input('#')\n",
        "    if userInput == 'exit':\n",
        "        return None\n",
        "    console()\n",
        "\n",
        "console()"
      ],
      "metadata": {
        "colab": {
          "base_uri": "https://localhost:8080/"
        },
        "id": "rMxF8kGrbbqQ",
        "outputId": "864af3bd-ecac-4247-92f5-05c93aa3fb6f"
      },
      "execution_count": 14,
      "outputs": [
        {
          "name": "stdout",
          "output_type": "stream",
          "text": [
            "#hello\n",
            "#touch 001.py\n",
            "#exit\n"
          ]
        }
      ]
    },
    {
      "cell_type": "code",
      "source": [
        "# 문자열뒤집기(슬라이싱이 빠르고 편합니다.)\n",
        "s = 'hello world'\n",
        "s[::-1]"
      ],
      "metadata": {
        "colab": {
          "base_uri": "https://localhost:8080/",
          "height": 35
        },
        "id": "47vzAm6icKnu",
        "outputId": "a38b2bb5-8171-4676-d730-964a8f9fd489"
      },
      "execution_count": 15,
      "outputs": [
        {
          "output_type": "execute_result",
          "data": {
            "text/plain": [
              "'dlrow olleh'"
            ],
            "application/vnd.google.colaboratory.intrinsic+json": {
              "type": "string"
            }
          },
          "metadata": {},
          "execution_count": 15
        }
      ]
    },
    {
      "cell_type": "code",
      "source": [
        "# 반복문을 통해 문자열 뒤집기\n",
        "result = ''\n",
        "for i in 'hello world':\n",
        "    result = result + i\n",
        "\n",
        "result"
      ],
      "metadata": {
        "colab": {
          "base_uri": "https://localhost:8080/",
          "height": 35
        },
        "id": "EALgdP8AcUnI",
        "outputId": "3fb5958a-92cc-44e7-dcac-87433b21fcf6"
      },
      "execution_count": 16,
      "outputs": [
        {
          "output_type": "execute_result",
          "data": {
            "text/plain": [
              "'hello world'"
            ],
            "application/vnd.google.colaboratory.intrinsic+json": {
              "type": "string"
            }
          },
          "metadata": {},
          "execution_count": 16
        }
      ]
    },
    {
      "cell_type": "code",
      "source": [
        "result = ''\n",
        "for i in 'hello world':\n",
        "    result = i + result\n",
        "\n",
        "result"
      ],
      "metadata": {
        "colab": {
          "base_uri": "https://localhost:8080/",
          "height": 35
        },
        "id": "gLuJYx5ldcFw",
        "outputId": "060e2f83-8027-4c2c-97a2-c300461a8f84"
      },
      "execution_count": 17,
      "outputs": [
        {
          "output_type": "execute_result",
          "data": {
            "text/plain": [
              "'dlrow olleh'"
            ],
            "application/vnd.google.colaboratory.intrinsic+json": {
              "type": "string"
            }
          },
          "metadata": {},
          "execution_count": 17
        }
      ]
    },
    {
      "cell_type": "code",
      "source": [
        "result = 0\n",
        "for i in '1005552':\n",
        "    result += int(i)\n",
        "\n",
        "result"
      ],
      "metadata": {
        "colab": {
          "base_uri": "https://localhost:8080/"
        },
        "id": "xLRNlwRNdqR7",
        "outputId": "91d9a8d7-36f8-483d-89f6-ea7dfdd7fa06"
      },
      "execution_count": 18,
      "outputs": [
        {
          "output_type": "execute_result",
          "data": {
            "text/plain": [
              "18"
            ]
          },
          "metadata": {},
          "execution_count": 18
        }
      ]
    },
    {
      "cell_type": "code",
      "source": [
        "sum(list(map(int, list('1005552'))))"
      ],
      "metadata": {
        "colab": {
          "base_uri": "https://localhost:8080/"
        },
        "id": "yPJHGROgd13l",
        "outputId": "4d8aec49-4f08-4571-bc90-a99c809109c5"
      },
      "execution_count": 25,
      "outputs": [
        {
          "output_type": "execute_result",
          "data": {
            "text/plain": [
              "18"
            ]
          },
          "metadata": {},
          "execution_count": 25
        }
      ]
    },
    {
      "cell_type": "code",
      "source": [
        "sum(map(int, list('1005552')))"
      ],
      "metadata": {
        "colab": {
          "base_uri": "https://localhost:8080/"
        },
        "id": "066rTfaa-qYI",
        "outputId": "6fe4accb-6a6e-4622-c692-48a9caa6d5a3"
      },
      "execution_count": 60,
      "outputs": [
        {
          "output_type": "execute_result",
          "data": {
            "text/plain": [
              "18"
            ]
          },
          "metadata": {},
          "execution_count": 60
        }
      ]
    },
    {
      "cell_type": "code",
      "source": [
        "# 재귀로 문자열 뒤집기\n",
        "result = ''\n",
        "def reverseString(s):\n",
        "    global result\n",
        "    if s == '':\n",
        "        return None\n",
        "    else:\n",
        "        reverseString(s[1:])\n",
        "        result += s[0] #주의\n",
        "\n",
        "reverseString('hello')\n",
        "result\n",
        "\n",
        "# factorial('hello')   ->   result = result + s[0]   ->   'olleh'\n",
        "# factorial('ello')   ->   result = result + s[0]   ->   'olle'\n",
        "# factorial('llo')   ->   result = result + s[0]   ->   'oll'\n",
        "# factorial('lo')   ->   result = result + s[0]   ->   'ol'\n",
        "# factorial('o')   ->   result = result + s[0]   ->   'o'\n",
        "# factorial('')   ->   result = result + s[0]   ->   ''"
      ],
      "metadata": {
        "colab": {
          "base_uri": "https://localhost:8080/",
          "height": 35
        },
        "id": "vg12vVjHeWfj",
        "outputId": "1164728f-a40d-4c54-d487-225f5ce3463c"
      },
      "execution_count": 27,
      "outputs": [
        {
          "output_type": "execute_result",
          "data": {
            "text/plain": [
              "'dlrow olleh'"
            ],
            "application/vnd.google.colaboratory.intrinsic+json": {
              "type": "string"
            }
          },
          "metadata": {},
          "execution_count": 27
        }
      ]
    },
    {
      "cell_type": "code",
      "source": [
        "#성민님 풀이\n",
        "def reverse_string(s): # snake 표기법을 python에서 권고하고 있습니다.\n",
        "    if not s:\n",
        "        return s\n",
        "    return reverse_string(s[1:]) + s[0]"
      ],
      "metadata": {
        "id": "pyuIVvw5gbf6"
      },
      "execution_count": null,
      "outputs": []
    },
    {
      "cell_type": "code",
      "source": [
        "curr, next = 0, 1\n",
        "for _ in range(8): # 회사 python 컨벤션 따라 사용해주세요.(https://google.github.io/styleguide/pyguide.html)\n",
        "     curr, next = next, curr + next\n",
        "\n",
        "curr"
      ],
      "metadata": {
        "colab": {
          "base_uri": "https://localhost:8080/"
        },
        "id": "O8lkSFGngqHH",
        "outputId": "478386fa-b7ef-4055-8446-ab09cc7d0ef0"
      },
      "execution_count": 32,
      "outputs": [
        {
          "output_type": "execute_result",
          "data": {
            "text/plain": [
              "21"
            ]
          },
          "metadata": {},
          "execution_count": 32
        }
      ]
    },
    {
      "cell_type": "code",
      "source": [
        "def fib(num):\n",
        "    curr, next = 0, 1\n",
        "    for _ in range(num):\n",
        "        curr, next = next, curr + next\n",
        "\n",
        "    return curr\n",
        "\n",
        "fib(5)"
      ],
      "metadata": {
        "colab": {
          "base_uri": "https://localhost:8080/"
        },
        "id": "_lZ-TMJXi712",
        "outputId": "8fdcdca4-f67f-4691-d032-b192a0443f59"
      },
      "execution_count": 35,
      "outputs": [
        {
          "output_type": "execute_result",
          "data": {
            "text/plain": [
              "5"
            ]
          },
          "metadata": {},
          "execution_count": 35
        }
      ]
    },
    {
      "cell_type": "markdown",
      "source": [
        "![image.png](data:image/png;base64,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)"
      ],
      "metadata": {
        "id": "glxioolimgd3"
      }
    },
    {
      "cell_type": "code",
      "source": [
        "# 피보나치 재귀 풀이\n",
        "def fib(num):\n",
        "    if num == 0:\n",
        "        return 0\n",
        "    if num == 1 or num == 2:\n",
        "        return 1\n",
        "    else:\n",
        "        return fib(num-1) + fib(num-2)\n",
        "\n",
        "fib(30)"
      ],
      "metadata": {
        "colab": {
          "base_uri": "https://localhost:8080/"
        },
        "id": "W5YhTZrFjFzP",
        "outputId": "26cde2a3-acb3-4a1a-f4de-b8fbedc699bb"
      },
      "execution_count": 40,
      "outputs": [
        {
          "output_type": "execute_result",
          "data": {
            "text/plain": [
              "832040"
            ]
          },
          "metadata": {},
          "execution_count": 40
        }
      ]
    },
    {
      "cell_type": "code",
      "source": [
        "100 in {'one':100, 'two':200}\n",
        "'one' in {'one':100, 'two':200}"
      ],
      "metadata": {
        "colab": {
          "base_uri": "https://localhost:8080/"
        },
        "id": "ZC8glBdKnYjh",
        "outputId": "2f4788cf-2233-4ba5-bde2-77d205b6f476"
      },
      "execution_count": 42,
      "outputs": [
        {
          "output_type": "execute_result",
          "data": {
            "text/plain": [
              "True"
            ]
          },
          "metadata": {},
          "execution_count": 42
        }
      ]
    },
    {
      "cell_type": "code",
      "source": [
        "# 메모이제이션을 활용한 피보나치 재귀 풀이\n",
        "dic = {1:1, 2:1} # list도 많이 사용합니다.\n",
        "\n",
        "def fib_memo(n):\n",
        "    if n in dic:\n",
        "        return dic[n]\n",
        "\n",
        "    dic[n] = fib_memo(n-1) + fib_memo(n-2)\n",
        "    return dic[n]\n",
        "\n",
        "fib_memo(6)\n",
        "\n",
        "\n",
        "# f(6)      dict = {1:1, 2:1, 6:f(5) + f(4)}\n",
        "# f(4)      dict = {1:1, 2:1, 6:f(5) + f(4), 4:f(3)+1}\n",
        "# f(3)      dict = {1:1, 2:1, 6:f(5) + 3   , 4:3     , 3:2}\n",
        "# ..."
      ],
      "metadata": {
        "colab": {
          "base_uri": "https://localhost:8080/"
        },
        "id": "MdhH7XGAm01V",
        "outputId": "566eb9ec-67fb-4ef2-a39c-0db776cf4439"
      },
      "execution_count": 46,
      "outputs": [
        {
          "output_type": "execute_result",
          "data": {
            "text/plain": [
              "8"
            ]
          },
          "metadata": {},
          "execution_count": 46
        }
      ]
    },
    {
      "cell_type": "code",
      "source": [
        "from functools import lru_cache\n",
        "\n",
        "@lru_cache(maxsize=None)\n",
        "def fib(num):\n",
        "    if num == 0:\n",
        "        return 0\n",
        "    if num == 1 or num == 2:\n",
        "        return 1\n",
        "    else:\n",
        "        return fib(num-1) + fib(num-2)\n",
        "\n",
        "fib(50)"
      ],
      "metadata": {
        "colab": {
          "base_uri": "https://localhost:8080/"
        },
        "id": "6fN7nnflpR_C",
        "outputId": "3e3aaf38-c3ab-4bab-e30c-2f04941944cb"
      },
      "execution_count": 48,
      "outputs": [
        {
          "output_type": "execute_result",
          "data": {
            "text/plain": [
              "12586269025"
            ]
          },
          "metadata": {},
          "execution_count": 48
        }
      ]
    },
    {
      "cell_type": "code",
      "source": [
        "#데코레이터, 클로저(팩토리 함수, 지금 정리)"
      ],
      "metadata": {
        "id": "Hi8rgffXqZvh"
      },
      "execution_count": null,
      "outputs": []
    },
    {
      "cell_type": "code",
      "source": [
        "# 클로저\n",
        "def a(x):\n",
        "    def b(y):\n",
        "        return x ** y\n",
        "    return b\n",
        "\n",
        "\n",
        "test2 = a(2)\n",
        "test2(5) # 2의 승수\n",
        "\n",
        "test3 = a(3)\n",
        "test3(3) # 3의 승수"
      ],
      "metadata": {
        "colab": {
          "base_uri": "https://localhost:8080/"
        },
        "id": "44ZPMBfEqodN",
        "outputId": "766950dd-f6ba-483e-e7c2-d2daccacc459"
      },
      "execution_count": 53,
      "outputs": [
        {
          "output_type": "execute_result",
          "data": {
            "text/plain": [
              "27"
            ]
          },
          "metadata": {},
          "execution_count": 53
        }
      ]
    },
    {
      "cell_type": "code",
      "source": [
        "# 데코레이터\n",
        "def print_hello(func):\n",
        "    def new_func():\n",
        "        print(\"hello world\")\n",
        "        func()\n",
        "    return new_func\n",
        "\n",
        "def func1():\n",
        "    print(\"func1입니다.\")\n",
        "\n",
        "def func2():\n",
        "    print(\"func2입니다.\")\n",
        "\n",
        "def func3():\n",
        "    print(\"func3입니다.\")\n",
        "\n",
        "print_hello(func1)() # new_func()\n",
        "print_hello(func2)()\n",
        "print_hello(func3)()"
      ],
      "metadata": {
        "colab": {
          "base_uri": "https://localhost:8080/"
        },
        "id": "rBqjwk0Nr-_f",
        "outputId": "ef8e2fe5-805b-42b2-b2fa-7cf6d0ec7621"
      },
      "execution_count": 54,
      "outputs": [
        {
          "output_type": "stream",
          "name": "stdout",
          "text": [
            "hello world\n",
            "func1입니다.\n",
            "hello world\n",
            "func2입니다.\n",
            "hello world\n",
            "func3입니다.\n"
          ]
        }
      ]
    },
    {
      "cell_type": "code",
      "source": [
        "func1"
      ],
      "metadata": {
        "colab": {
          "base_uri": "https://localhost:8080/"
        },
        "id": "p0hUZNpkuoCC",
        "outputId": "fe4e6bee-e056-4326-986b-1367564bb24f"
      },
      "execution_count": 56,
      "outputs": [
        {
          "output_type": "execute_result",
          "data": {
            "text/plain": [
              "<function __main__.print_hello.<locals>.new_func>"
            ]
          },
          "metadata": {},
          "execution_count": 56
        }
      ]
    },
    {
      "cell_type": "code",
      "source": [
        "# 데코레이터\n",
        "def print_hello(func):\n",
        "    def new_func():\n",
        "        print(\"hello world\")\n",
        "        func()\n",
        "    return new_func\n",
        "\n",
        "@print_hello\n",
        "def func1():\n",
        "    print(\"func1입니다.\")\n",
        "\n",
        "@print_hello\n",
        "def func2():\n",
        "    print(\"func2입니다.\")\n",
        "\n",
        "@print_hello\n",
        "def func3():\n",
        "    print(\"func3입니다.\")\n",
        "\n",
        "func1() # new_func()\n",
        "func2()\n",
        "func3()"
      ],
      "metadata": {
        "colab": {
          "base_uri": "https://localhost:8080/"
        },
        "id": "tT4qH76euAVc",
        "outputId": "fcf879e1-cdcf-41a5-9a9a-435338826972"
      },
      "execution_count": 55,
      "outputs": [
        {
          "output_type": "stream",
          "name": "stdout",
          "text": [
            "hello world\n",
            "func1입니다.\n",
            "hello world\n",
            "func2입니다.\n",
            "hello world\n",
            "func3입니다.\n"
          ]
        }
      ]
    },
    {
      "cell_type": "markdown",
      "source": [
        "```python\n",
        "@로그인\n",
        "def 비밀게시판():\n",
        "    #글쓰기\n",
        "    return None\n",
        "\n",
        "@전처리\n",
        "def 시각화():\n",
        "    #시각화 기능\n",
        "    return None\n",
        "```"
      ],
      "metadata": {
        "id": "-Jz2fcivu_Ao"
      }
    },
    {
      "cell_type": "code",
      "source": [
        ""
      ],
      "metadata": {
        "id": "kcquutZ8t31I"
      },
      "execution_count": null,
      "outputs": []
    }
  ]
}